{
 "cells": [
  {
   "cell_type": "markdown",
   "id": "c09ec4ea",
   "metadata": {
    "execution": {
     "iopub.execute_input": "2022-03-30T10:39:14.027162Z",
     "iopub.status.busy": "2022-03-30T10:39:14.026889Z",
     "iopub.status.idle": "2022-03-30T10:39:14.031620Z",
     "shell.execute_reply": "2022-03-30T10:39:14.030739Z",
     "shell.execute_reply.started": "2022-03-30T10:39:14.027135Z"
    },
    "papermill": {
     "duration": 0.04022,
     "end_time": "2022-03-30T11:32:41.635037",
     "exception": false,
     "start_time": "2022-03-30T11:32:41.594817",
     "status": "completed"
    },
    "tags": []
   },
   "source": [
    "#  Equipment Losses: Data Analysis\n",
    "\n",
    "- Data info:\n",
    "    - it has tow data file-\n",
    "    - One for Machinary Equiment - have 10 columns and 34 rows\n",
    "    - Othe for personal losses- have 5 columns and 34 rows\n",
    "    "
   ]
  },
  {
   "cell_type": "code",
   "execution_count": 1,
   "id": "c16236d1",
   "metadata": {
    "execution": {
     "iopub.execute_input": "2022-03-30T11:32:41.721175Z",
     "iopub.status.busy": "2022-03-30T11:32:41.719854Z",
     "iopub.status.idle": "2022-03-30T11:32:43.013655Z",
     "shell.execute_reply": "2022-03-30T11:32:43.014057Z",
     "shell.execute_reply.started": "2022-03-30T11:31:16.866372Z"
    },
    "papermill": {
     "duration": 1.338342,
     "end_time": "2022-03-30T11:32:43.014332",
     "exception": false,
     "start_time": "2022-03-30T11:32:41.675990",
     "status": "completed"
    },
    "tags": []
   },
   "outputs": [],
   "source": [
    "import pandas as pd\n",
    "import numpy as np\n",
    "import seaborn as sns\n",
    "import matplotlib.pyplot as plt\n",
    "%matplotlib inline\n",
    "import warnings\n",
    "warnings.simplefilter(action='ignore', category=FutureWarning)"
   ]
  },
  {
   "cell_type": "code",
   "execution_count": 2,
   "id": "1f29e92f",
   "metadata": {
    "execution": {
     "iopub.execute_input": "2022-03-30T11:32:43.104726Z",
     "iopub.status.busy": "2022-03-30T11:32:43.103943Z",
     "iopub.status.idle": "2022-03-30T11:32:43.127475Z",
     "shell.execute_reply": "2022-03-30T11:32:43.127932Z",
     "shell.execute_reply.started": "2022-03-30T11:31:16.877539Z"
    },
    "papermill": {
     "duration": 0.071017,
     "end_time": "2022-03-30T11:32:43.128087",
     "exception": false,
     "start_time": "2022-03-30T11:32:43.057070",
     "status": "completed"
    },
    "tags": []
   },
   "outputs": [],
   "source": [
    "df = pd.read_csv('../input/2022-ukraine-russian-war/russia_losses_equipment.csv',parse_dates=['date'])"
   ]
  },
  {
   "cell_type": "code",
   "execution_count": 3,
   "id": "f89a2713",
   "metadata": {
    "execution": {
     "iopub.execute_input": "2022-03-30T11:32:43.211158Z",
     "iopub.status.busy": "2022-03-30T11:32:43.210432Z",
     "iopub.status.idle": "2022-03-30T11:32:43.237743Z",
     "shell.execute_reply": "2022-03-30T11:32:43.238157Z",
     "shell.execute_reply.started": "2022-03-30T11:31:16.902186Z"
    },
    "papermill": {
     "duration": 0.070054,
     "end_time": "2022-03-30T11:32:43.238317",
     "exception": false,
     "start_time": "2022-03-30T11:32:43.168263",
     "status": "completed"
    },
    "tags": []
   },
   "outputs": [
    {
     "data": {
      "text/html": [
       "<div>\n",
       "<style scoped>\n",
       "    .dataframe tbody tr th:only-of-type {\n",
       "        vertical-align: middle;\n",
       "    }\n",
       "\n",
       "    .dataframe tbody tr th {\n",
       "        vertical-align: top;\n",
       "    }\n",
       "\n",
       "    .dataframe thead th {\n",
       "        text-align: right;\n",
       "    }\n",
       "</style>\n",
       "<table border=\"1\" class=\"dataframe\">\n",
       "  <thead>\n",
       "    <tr style=\"text-align: right;\">\n",
       "      <th></th>\n",
       "      <th>date</th>\n",
       "      <th>day</th>\n",
       "      <th>aircraft</th>\n",
       "      <th>helicopter</th>\n",
       "      <th>tank</th>\n",
       "      <th>APC</th>\n",
       "      <th>field artillery</th>\n",
       "      <th>MRL</th>\n",
       "      <th>military auto</th>\n",
       "      <th>fuel tank</th>\n",
       "      <th>drone</th>\n",
       "      <th>naval ship</th>\n",
       "      <th>anti-aircraft warfare</th>\n",
       "      <th>special equipment</th>\n",
       "      <th>mobile SRBM system</th>\n",
       "    </tr>\n",
       "  </thead>\n",
       "  <tbody>\n",
       "    <tr>\n",
       "      <th>0</th>\n",
       "      <td>2022-02-25</td>\n",
       "      <td>2</td>\n",
       "      <td>10</td>\n",
       "      <td>7</td>\n",
       "      <td>80</td>\n",
       "      <td>516</td>\n",
       "      <td>49</td>\n",
       "      <td>4</td>\n",
       "      <td>100</td>\n",
       "      <td>60</td>\n",
       "      <td>0</td>\n",
       "      <td>2</td>\n",
       "      <td>0</td>\n",
       "      <td>NaN</td>\n",
       "      <td>NaN</td>\n",
       "    </tr>\n",
       "    <tr>\n",
       "      <th>1</th>\n",
       "      <td>2022-02-26</td>\n",
       "      <td>3</td>\n",
       "      <td>27</td>\n",
       "      <td>26</td>\n",
       "      <td>146</td>\n",
       "      <td>706</td>\n",
       "      <td>49</td>\n",
       "      <td>4</td>\n",
       "      <td>130</td>\n",
       "      <td>60</td>\n",
       "      <td>2</td>\n",
       "      <td>2</td>\n",
       "      <td>0</td>\n",
       "      <td>NaN</td>\n",
       "      <td>NaN</td>\n",
       "    </tr>\n",
       "    <tr>\n",
       "      <th>2</th>\n",
       "      <td>2022-02-27</td>\n",
       "      <td>4</td>\n",
       "      <td>27</td>\n",
       "      <td>26</td>\n",
       "      <td>150</td>\n",
       "      <td>706</td>\n",
       "      <td>50</td>\n",
       "      <td>4</td>\n",
       "      <td>130</td>\n",
       "      <td>60</td>\n",
       "      <td>2</td>\n",
       "      <td>2</td>\n",
       "      <td>0</td>\n",
       "      <td>NaN</td>\n",
       "      <td>NaN</td>\n",
       "    </tr>\n",
       "    <tr>\n",
       "      <th>3</th>\n",
       "      <td>2022-02-28</td>\n",
       "      <td>5</td>\n",
       "      <td>29</td>\n",
       "      <td>29</td>\n",
       "      <td>150</td>\n",
       "      <td>816</td>\n",
       "      <td>74</td>\n",
       "      <td>21</td>\n",
       "      <td>291</td>\n",
       "      <td>60</td>\n",
       "      <td>3</td>\n",
       "      <td>2</td>\n",
       "      <td>5</td>\n",
       "      <td>NaN</td>\n",
       "      <td>NaN</td>\n",
       "    </tr>\n",
       "    <tr>\n",
       "      <th>4</th>\n",
       "      <td>2022-03-01</td>\n",
       "      <td>6</td>\n",
       "      <td>29</td>\n",
       "      <td>29</td>\n",
       "      <td>198</td>\n",
       "      <td>846</td>\n",
       "      <td>77</td>\n",
       "      <td>24</td>\n",
       "      <td>305</td>\n",
       "      <td>60</td>\n",
       "      <td>3</td>\n",
       "      <td>2</td>\n",
       "      <td>7</td>\n",
       "      <td>NaN</td>\n",
       "      <td>NaN</td>\n",
       "    </tr>\n",
       "  </tbody>\n",
       "</table>\n",
       "</div>"
      ],
      "text/plain": [
       "        date  day  aircraft  helicopter  tank  APC  field artillery  MRL  \\\n",
       "0 2022-02-25    2        10           7    80  516               49    4   \n",
       "1 2022-02-26    3        27          26   146  706               49    4   \n",
       "2 2022-02-27    4        27          26   150  706               50    4   \n",
       "3 2022-02-28    5        29          29   150  816               74   21   \n",
       "4 2022-03-01    6        29          29   198  846               77   24   \n",
       "\n",
       "   military auto  fuel tank  drone  naval ship  anti-aircraft warfare  \\\n",
       "0            100         60      0           2                      0   \n",
       "1            130         60      2           2                      0   \n",
       "2            130         60      2           2                      0   \n",
       "3            291         60      3           2                      5   \n",
       "4            305         60      3           2                      7   \n",
       "\n",
       "   special equipment  mobile SRBM system  \n",
       "0                NaN                 NaN  \n",
       "1                NaN                 NaN  \n",
       "2                NaN                 NaN  \n",
       "3                NaN                 NaN  \n",
       "4                NaN                 NaN  "
      ]
     },
     "execution_count": 3,
     "metadata": {},
     "output_type": "execute_result"
    }
   ],
   "source": [
    "df.head()"
   ]
  },
  {
   "cell_type": "code",
   "execution_count": 4,
   "id": "2c9411ab",
   "metadata": {
    "execution": {
     "iopub.execute_input": "2022-03-30T11:32:43.325563Z",
     "iopub.status.busy": "2022-03-30T11:32:43.324433Z",
     "iopub.status.idle": "2022-03-30T11:32:43.328434Z",
     "shell.execute_reply": "2022-03-30T11:32:43.328908Z",
     "shell.execute_reply.started": "2022-03-30T11:31:16.922131Z"
    },
    "papermill": {
     "duration": 0.049857,
     "end_time": "2022-03-30T11:32:43.329090",
     "exception": false,
     "start_time": "2022-03-30T11:32:43.279233",
     "status": "completed"
    },
    "tags": []
   },
   "outputs": [
    {
     "data": {
      "text/plain": [
       "(34, 15)"
      ]
     },
     "execution_count": 4,
     "metadata": {},
     "output_type": "execute_result"
    }
   ],
   "source": [
    "df.shape"
   ]
  },
  {
   "cell_type": "code",
   "execution_count": 5,
   "id": "48becd64",
   "metadata": {
    "execution": {
     "iopub.execute_input": "2022-03-30T11:32:43.417213Z",
     "iopub.status.busy": "2022-03-30T11:32:43.416512Z",
     "iopub.status.idle": "2022-03-30T11:32:43.418958Z",
     "shell.execute_reply": "2022-03-30T11:32:43.419375Z",
     "shell.execute_reply.started": "2022-03-30T11:31:16.935734Z"
    },
    "papermill": {
     "duration": 0.047348,
     "end_time": "2022-03-30T11:32:43.419543",
     "exception": false,
     "start_time": "2022-03-30T11:32:43.372195",
     "status": "completed"
    },
    "tags": []
   },
   "outputs": [],
   "source": [
    "# df['month']=df['date'].dt.month_name()"
   ]
  },
  {
   "cell_type": "code",
   "execution_count": 6,
   "id": "97d72404",
   "metadata": {
    "execution": {
     "iopub.execute_input": "2022-03-30T11:32:43.513860Z",
     "iopub.status.busy": "2022-03-30T11:32:43.513050Z",
     "iopub.status.idle": "2022-03-30T11:32:43.536585Z",
     "shell.execute_reply": "2022-03-30T11:32:43.537041Z",
     "shell.execute_reply.started": "2022-03-30T11:31:16.948701Z"
    },
    "papermill": {
     "duration": 0.072801,
     "end_time": "2022-03-30T11:32:43.537218",
     "exception": false,
     "start_time": "2022-03-30T11:32:43.464417",
     "status": "completed"
    },
    "tags": []
   },
   "outputs": [
    {
     "name": "stdout",
     "output_type": "stream",
     "text": [
      "<class 'pandas.core.frame.DataFrame'>\n",
      "RangeIndex: 34 entries, 0 to 33\n",
      "Data columns (total 15 columns):\n",
      " #   Column                 Non-Null Count  Dtype         \n",
      "---  ------                 --------------  -----         \n",
      " 0   date                   34 non-null     datetime64[ns]\n",
      " 1   day                    34 non-null     int64         \n",
      " 2   aircraft               34 non-null     int64         \n",
      " 3   helicopter             34 non-null     int64         \n",
      " 4   tank                   34 non-null     int64         \n",
      " 5   APC                    34 non-null     int64         \n",
      " 6   field artillery        34 non-null     int64         \n",
      " 7   MRL                    34 non-null     int64         \n",
      " 8   military auto          34 non-null     int64         \n",
      " 9   fuel tank              34 non-null     int64         \n",
      " 10  drone                  34 non-null     int64         \n",
      " 11  naval ship             34 non-null     int64         \n",
      " 12  anti-aircraft warfare  34 non-null     int64         \n",
      " 13  special equipment      15 non-null     float64       \n",
      " 14  mobile SRBM system     5 non-null      float64       \n",
      "dtypes: datetime64[ns](1), float64(2), int64(12)\n",
      "memory usage: 4.1 KB\n"
     ]
    }
   ],
   "source": [
    "df.info()"
   ]
  },
  {
   "cell_type": "code",
   "execution_count": 7,
   "id": "649f5294",
   "metadata": {
    "execution": {
     "iopub.execute_input": "2022-03-30T11:32:43.632344Z",
     "iopub.status.busy": "2022-03-30T11:32:43.626351Z",
     "iopub.status.idle": "2022-03-30T11:32:43.634682Z",
     "shell.execute_reply": "2022-03-30T11:32:43.635101Z",
     "shell.execute_reply.started": "2022-03-30T11:31:16.973479Z"
    },
    "papermill": {
     "duration": 0.055296,
     "end_time": "2022-03-30T11:32:43.635457",
     "exception": false,
     "start_time": "2022-03-30T11:32:43.580161",
     "status": "completed"
    },
    "tags": []
   },
   "outputs": [
    {
     "data": {
      "text/plain": [
       "date                      0\n",
       "day                       0\n",
       "aircraft                  0\n",
       "helicopter                0\n",
       "tank                      0\n",
       "APC                       0\n",
       "field artillery           0\n",
       "MRL                       0\n",
       "military auto             0\n",
       "fuel tank                 0\n",
       "drone                     0\n",
       "naval ship                0\n",
       "anti-aircraft warfare     0\n",
       "special equipment        19\n",
       "mobile SRBM system       29\n",
       "dtype: int64"
      ]
     },
     "execution_count": 7,
     "metadata": {},
     "output_type": "execute_result"
    }
   ],
   "source": [
    "df.isnull().sum()"
   ]
  },
  {
   "cell_type": "code",
   "execution_count": 8,
   "id": "39be3ae1",
   "metadata": {
    "execution": {
     "iopub.execute_input": "2022-03-30T11:32:43.733678Z",
     "iopub.status.busy": "2022-03-30T11:32:43.731162Z",
     "iopub.status.idle": "2022-03-30T11:32:43.737963Z",
     "shell.execute_reply": "2022-03-30T11:32:43.737293Z",
     "shell.execute_reply.started": "2022-03-30T11:31:16.984274Z"
    },
    "papermill": {
     "duration": 0.054445,
     "end_time": "2022-03-30T11:32:43.738138",
     "exception": false,
     "start_time": "2022-03-30T11:32:43.683693",
     "status": "completed"
    },
    "tags": []
   },
   "outputs": [],
   "source": [
    "df.fillna(0,inplace=True)"
   ]
  },
  {
   "cell_type": "code",
   "execution_count": 9,
   "id": "1c2181ab",
   "metadata": {
    "execution": {
     "iopub.execute_input": "2022-03-30T11:32:43.881076Z",
     "iopub.status.busy": "2022-03-30T11:32:43.879372Z",
     "iopub.status.idle": "2022-03-30T11:32:43.892060Z",
     "shell.execute_reply": "2022-03-30T11:32:43.892508Z",
     "shell.execute_reply.started": "2022-03-30T11:31:17.002177Z"
    },
    "papermill": {
     "duration": 0.084404,
     "end_time": "2022-03-30T11:32:43.892686",
     "exception": false,
     "start_time": "2022-03-30T11:32:43.808282",
     "status": "completed"
    },
    "tags": []
   },
   "outputs": [
    {
     "data": {
      "text/plain": [
       "0"
      ]
     },
     "execution_count": 9,
     "metadata": {},
     "output_type": "execute_result"
    }
   ],
   "source": [
    "df.duplicated().sum()"
   ]
  },
  {
   "cell_type": "code",
   "execution_count": 10,
   "id": "d3cb12b3",
   "metadata": {
    "execution": {
     "iopub.execute_input": "2022-03-30T11:32:43.982415Z",
     "iopub.status.busy": "2022-03-30T11:32:43.981737Z",
     "iopub.status.idle": "2022-03-30T11:32:44.032871Z",
     "shell.execute_reply": "2022-03-30T11:32:44.033290Z",
     "shell.execute_reply.started": "2022-03-30T11:31:17.021434Z"
    },
    "papermill": {
     "duration": 0.098727,
     "end_time": "2022-03-30T11:32:44.033451",
     "exception": false,
     "start_time": "2022-03-30T11:32:43.934724",
     "status": "completed"
    },
    "tags": []
   },
   "outputs": [
    {
     "data": {
      "text/html": [
       "<div>\n",
       "<style scoped>\n",
       "    .dataframe tbody tr th:only-of-type {\n",
       "        vertical-align: middle;\n",
       "    }\n",
       "\n",
       "    .dataframe tbody tr th {\n",
       "        vertical-align: top;\n",
       "    }\n",
       "\n",
       "    .dataframe thead th {\n",
       "        text-align: right;\n",
       "    }\n",
       "</style>\n",
       "<table border=\"1\" class=\"dataframe\">\n",
       "  <thead>\n",
       "    <tr style=\"text-align: right;\">\n",
       "      <th></th>\n",
       "      <th>day</th>\n",
       "      <th>aircraft</th>\n",
       "      <th>helicopter</th>\n",
       "      <th>tank</th>\n",
       "      <th>APC</th>\n",
       "      <th>field artillery</th>\n",
       "      <th>MRL</th>\n",
       "      <th>military auto</th>\n",
       "      <th>fuel tank</th>\n",
       "      <th>drone</th>\n",
       "      <th>naval ship</th>\n",
       "      <th>anti-aircraft warfare</th>\n",
       "      <th>special equipment</th>\n",
       "      <th>mobile SRBM system</th>\n",
       "    </tr>\n",
       "  </thead>\n",
       "  <tbody>\n",
       "    <tr>\n",
       "      <th>count</th>\n",
       "      <td>34.000000</td>\n",
       "      <td>34.000000</td>\n",
       "      <td>34.000000</td>\n",
       "      <td>34.000000</td>\n",
       "      <td>34.000000</td>\n",
       "      <td>34.000000</td>\n",
       "      <td>34.000000</td>\n",
       "      <td>34.000000</td>\n",
       "      <td>34.000000</td>\n",
       "      <td>34.000000</td>\n",
       "      <td>34.000000</td>\n",
       "      <td>34.000000</td>\n",
       "      <td>34.000000</td>\n",
       "      <td>34.000000</td>\n",
       "    </tr>\n",
       "    <tr>\n",
       "      <th>mean</th>\n",
       "      <td>18.500000</td>\n",
       "      <td>71.470588</td>\n",
       "      <td>84.411765</td>\n",
       "      <td>379.705882</td>\n",
       "      <td>1238.000000</td>\n",
       "      <td>171.735294</td>\n",
       "      <td>60.588235</td>\n",
       "      <td>682.058824</td>\n",
       "      <td>63.264706</td>\n",
       "      <td>20.529412</td>\n",
       "      <td>3.411765</td>\n",
       "      <td>31.764706</td>\n",
       "      <td>6.882353</td>\n",
       "      <td>0.529412</td>\n",
       "    </tr>\n",
       "    <tr>\n",
       "      <th>std</th>\n",
       "      <td>9.958246</td>\n",
       "      <td>35.719645</td>\n",
       "      <td>39.626374</td>\n",
       "      <td>150.780300</td>\n",
       "      <td>342.728446</td>\n",
       "      <td>85.610219</td>\n",
       "      <td>26.174378</td>\n",
       "      <td>338.199954</td>\n",
       "      <td>5.577600</td>\n",
       "      <td>23.649249</td>\n",
       "      <td>1.653603</td>\n",
       "      <td>17.388709</td>\n",
       "      <td>8.347617</td>\n",
       "      <td>1.331103</td>\n",
       "    </tr>\n",
       "    <tr>\n",
       "      <th>min</th>\n",
       "      <td>2.000000</td>\n",
       "      <td>10.000000</td>\n",
       "      <td>7.000000</td>\n",
       "      <td>80.000000</td>\n",
       "      <td>516.000000</td>\n",
       "      <td>49.000000</td>\n",
       "      <td>4.000000</td>\n",
       "      <td>100.000000</td>\n",
       "      <td>60.000000</td>\n",
       "      <td>0.000000</td>\n",
       "      <td>2.000000</td>\n",
       "      <td>0.000000</td>\n",
       "      <td>0.000000</td>\n",
       "      <td>0.000000</td>\n",
       "    </tr>\n",
       "    <tr>\n",
       "      <th>25%</th>\n",
       "      <td>10.250000</td>\n",
       "      <td>40.250000</td>\n",
       "      <td>42.000000</td>\n",
       "      <td>273.000000</td>\n",
       "      <td>955.000000</td>\n",
       "      <td>106.000000</td>\n",
       "      <td>50.000000</td>\n",
       "      <td>418.500000</td>\n",
       "      <td>60.000000</td>\n",
       "      <td>3.250000</td>\n",
       "      <td>2.000000</td>\n",
       "      <td>19.500000</td>\n",
       "      <td>0.000000</td>\n",
       "      <td>0.000000</td>\n",
       "    </tr>\n",
       "    <tr>\n",
       "      <th>50%</th>\n",
       "      <td>18.500000</td>\n",
       "      <td>75.500000</td>\n",
       "      <td>88.000000</td>\n",
       "      <td>381.500000</td>\n",
       "      <td>1237.500000</td>\n",
       "      <td>145.000000</td>\n",
       "      <td>63.000000</td>\n",
       "      <td>608.500000</td>\n",
       "      <td>60.000000</td>\n",
       "      <td>7.500000</td>\n",
       "      <td>3.000000</td>\n",
       "      <td>34.000000</td>\n",
       "      <td>0.000000</td>\n",
       "      <td>0.000000</td>\n",
       "    </tr>\n",
       "    <tr>\n",
       "      <th>75%</th>\n",
       "      <td>26.750000</td>\n",
       "      <td>98.500000</td>\n",
       "      <td>122.500000</td>\n",
       "      <td>506.250000</td>\n",
       "      <td>1550.750000</td>\n",
       "      <td>249.000000</td>\n",
       "      <td>80.000000</td>\n",
       "      <td>992.250000</td>\n",
       "      <td>67.500000</td>\n",
       "      <td>32.250000</td>\n",
       "      <td>3.000000</td>\n",
       "      <td>45.000000</td>\n",
       "      <td>14.500000</td>\n",
       "      <td>0.000000</td>\n",
       "    </tr>\n",
       "    <tr>\n",
       "      <th>max</th>\n",
       "      <td>35.000000</td>\n",
       "      <td>131.000000</td>\n",
       "      <td>131.000000</td>\n",
       "      <td>605.000000</td>\n",
       "      <td>1723.000000</td>\n",
       "      <td>305.000000</td>\n",
       "      <td>96.000000</td>\n",
       "      <td>1184.000000</td>\n",
       "      <td>75.000000</td>\n",
       "      <td>81.000000</td>\n",
       "      <td>7.000000</td>\n",
       "      <td>54.000000</td>\n",
       "      <td>21.000000</td>\n",
       "      <td>4.000000</td>\n",
       "    </tr>\n",
       "  </tbody>\n",
       "</table>\n",
       "</div>"
      ],
      "text/plain": [
       "             day    aircraft  helicopter        tank          APC  \\\n",
       "count  34.000000   34.000000   34.000000   34.000000    34.000000   \n",
       "mean   18.500000   71.470588   84.411765  379.705882  1238.000000   \n",
       "std     9.958246   35.719645   39.626374  150.780300   342.728446   \n",
       "min     2.000000   10.000000    7.000000   80.000000   516.000000   \n",
       "25%    10.250000   40.250000   42.000000  273.000000   955.000000   \n",
       "50%    18.500000   75.500000   88.000000  381.500000  1237.500000   \n",
       "75%    26.750000   98.500000  122.500000  506.250000  1550.750000   \n",
       "max    35.000000  131.000000  131.000000  605.000000  1723.000000   \n",
       "\n",
       "       field artillery        MRL  military auto  fuel tank      drone  \\\n",
       "count        34.000000  34.000000      34.000000  34.000000  34.000000   \n",
       "mean        171.735294  60.588235     682.058824  63.264706  20.529412   \n",
       "std          85.610219  26.174378     338.199954   5.577600  23.649249   \n",
       "min          49.000000   4.000000     100.000000  60.000000   0.000000   \n",
       "25%         106.000000  50.000000     418.500000  60.000000   3.250000   \n",
       "50%         145.000000  63.000000     608.500000  60.000000   7.500000   \n",
       "75%         249.000000  80.000000     992.250000  67.500000  32.250000   \n",
       "max         305.000000  96.000000    1184.000000  75.000000  81.000000   \n",
       "\n",
       "       naval ship  anti-aircraft warfare  special equipment  \\\n",
       "count   34.000000              34.000000          34.000000   \n",
       "mean     3.411765              31.764706           6.882353   \n",
       "std      1.653603              17.388709           8.347617   \n",
       "min      2.000000               0.000000           0.000000   \n",
       "25%      2.000000              19.500000           0.000000   \n",
       "50%      3.000000              34.000000           0.000000   \n",
       "75%      3.000000              45.000000          14.500000   \n",
       "max      7.000000              54.000000          21.000000   \n",
       "\n",
       "       mobile SRBM system  \n",
       "count           34.000000  \n",
       "mean             0.529412  \n",
       "std              1.331103  \n",
       "min              0.000000  \n",
       "25%              0.000000  \n",
       "50%              0.000000  \n",
       "75%              0.000000  \n",
       "max              4.000000  "
      ]
     },
     "execution_count": 10,
     "metadata": {},
     "output_type": "execute_result"
    }
   ],
   "source": [
    "df.describe()"
   ]
  },
  {
   "cell_type": "code",
   "execution_count": 11,
   "id": "e0dcbdec",
   "metadata": {
    "execution": {
     "iopub.execute_input": "2022-03-30T11:32:44.132716Z",
     "iopub.status.busy": "2022-03-30T11:32:44.131981Z",
     "iopub.status.idle": "2022-03-30T11:32:44.158490Z",
     "shell.execute_reply": "2022-03-30T11:32:44.158991Z",
     "shell.execute_reply.started": "2022-03-30T11:31:17.073124Z"
    },
    "papermill": {
     "duration": 0.078603,
     "end_time": "2022-03-30T11:32:44.159174",
     "exception": false,
     "start_time": "2022-03-30T11:32:44.080571",
     "status": "completed"
    },
    "tags": []
   },
   "outputs": [
    {
     "data": {
      "text/html": [
       "<div>\n",
       "<style scoped>\n",
       "    .dataframe tbody tr th:only-of-type {\n",
       "        vertical-align: middle;\n",
       "    }\n",
       "\n",
       "    .dataframe tbody tr th {\n",
       "        vertical-align: top;\n",
       "    }\n",
       "\n",
       "    .dataframe thead th {\n",
       "        text-align: right;\n",
       "    }\n",
       "</style>\n",
       "<table border=\"1\" class=\"dataframe\">\n",
       "  <thead>\n",
       "    <tr style=\"text-align: right;\">\n",
       "      <th></th>\n",
       "      <th>day</th>\n",
       "      <th>aircraft</th>\n",
       "      <th>helicopter</th>\n",
       "      <th>tank</th>\n",
       "      <th>APC</th>\n",
       "      <th>field artillery</th>\n",
       "      <th>MRL</th>\n",
       "      <th>military auto</th>\n",
       "      <th>fuel tank</th>\n",
       "      <th>drone</th>\n",
       "      <th>naval ship</th>\n",
       "      <th>anti-aircraft warfare</th>\n",
       "      <th>special equipment</th>\n",
       "      <th>mobile SRBM system</th>\n",
       "    </tr>\n",
       "  </thead>\n",
       "  <tbody>\n",
       "    <tr>\n",
       "      <th>day</th>\n",
       "      <td>1.000000</td>\n",
       "      <td>0.992055</td>\n",
       "      <td>0.969582</td>\n",
       "      <td>0.995848</td>\n",
       "      <td>0.991946</td>\n",
       "      <td>0.985003</td>\n",
       "      <td>0.957858</td>\n",
       "      <td>0.990957</td>\n",
       "      <td>0.774446</td>\n",
       "      <td>0.870984</td>\n",
       "      <td>0.833624</td>\n",
       "      <td>0.978420</td>\n",
       "      <td>0.906966</td>\n",
       "      <td>0.605811</td>\n",
       "    </tr>\n",
       "    <tr>\n",
       "      <th>aircraft</th>\n",
       "      <td>0.992055</td>\n",
       "      <td>1.000000</td>\n",
       "      <td>0.960263</td>\n",
       "      <td>0.986275</td>\n",
       "      <td>0.986025</td>\n",
       "      <td>0.979639</td>\n",
       "      <td>0.930236</td>\n",
       "      <td>0.984153</td>\n",
       "      <td>0.768378</td>\n",
       "      <td>0.868133</td>\n",
       "      <td>0.829277</td>\n",
       "      <td>0.962133</td>\n",
       "      <td>0.916679</td>\n",
       "      <td>0.608991</td>\n",
       "    </tr>\n",
       "    <tr>\n",
       "      <th>helicopter</th>\n",
       "      <td>0.969582</td>\n",
       "      <td>0.960263</td>\n",
       "      <td>1.000000</td>\n",
       "      <td>0.975068</td>\n",
       "      <td>0.977572</td>\n",
       "      <td>0.935898</td>\n",
       "      <td>0.940525</td>\n",
       "      <td>0.959639</td>\n",
       "      <td>0.642105</td>\n",
       "      <td>0.751731</td>\n",
       "      <td>0.728940</td>\n",
       "      <td>0.984678</td>\n",
       "      <td>0.828115</td>\n",
       "      <td>0.454193</td>\n",
       "    </tr>\n",
       "    <tr>\n",
       "      <th>tank</th>\n",
       "      <td>0.995848</td>\n",
       "      <td>0.986275</td>\n",
       "      <td>0.975068</td>\n",
       "      <td>1.000000</td>\n",
       "      <td>0.995383</td>\n",
       "      <td>0.976978</td>\n",
       "      <td>0.971158</td>\n",
       "      <td>0.989301</td>\n",
       "      <td>0.745859</td>\n",
       "      <td>0.842823</td>\n",
       "      <td>0.811398</td>\n",
       "      <td>0.985932</td>\n",
       "      <td>0.886319</td>\n",
       "      <td>0.573027</td>\n",
       "    </tr>\n",
       "    <tr>\n",
       "      <th>APC</th>\n",
       "      <td>0.991946</td>\n",
       "      <td>0.986025</td>\n",
       "      <td>0.977572</td>\n",
       "      <td>0.995383</td>\n",
       "      <td>1.000000</td>\n",
       "      <td>0.975592</td>\n",
       "      <td>0.963980</td>\n",
       "      <td>0.992514</td>\n",
       "      <td>0.723413</td>\n",
       "      <td>0.824619</td>\n",
       "      <td>0.780438</td>\n",
       "      <td>0.983200</td>\n",
       "      <td>0.888532</td>\n",
       "      <td>0.542019</td>\n",
       "    </tr>\n",
       "    <tr>\n",
       "      <th>field artillery</th>\n",
       "      <td>0.985003</td>\n",
       "      <td>0.979639</td>\n",
       "      <td>0.935898</td>\n",
       "      <td>0.976978</td>\n",
       "      <td>0.975592</td>\n",
       "      <td>1.000000</td>\n",
       "      <td>0.931059</td>\n",
       "      <td>0.990988</td>\n",
       "      <td>0.828202</td>\n",
       "      <td>0.905996</td>\n",
       "      <td>0.839040</td>\n",
       "      <td>0.944741</td>\n",
       "      <td>0.956443</td>\n",
       "      <td>0.614475</td>\n",
       "    </tr>\n",
       "    <tr>\n",
       "      <th>MRL</th>\n",
       "      <td>0.957858</td>\n",
       "      <td>0.930236</td>\n",
       "      <td>0.940525</td>\n",
       "      <td>0.971158</td>\n",
       "      <td>0.963980</td>\n",
       "      <td>0.931059</td>\n",
       "      <td>1.000000</td>\n",
       "      <td>0.957186</td>\n",
       "      <td>0.675368</td>\n",
       "      <td>0.774186</td>\n",
       "      <td>0.762276</td>\n",
       "      <td>0.976772</td>\n",
       "      <td>0.803761</td>\n",
       "      <td>0.531780</td>\n",
       "    </tr>\n",
       "    <tr>\n",
       "      <th>military auto</th>\n",
       "      <td>0.990957</td>\n",
       "      <td>0.984153</td>\n",
       "      <td>0.959639</td>\n",
       "      <td>0.989301</td>\n",
       "      <td>0.992514</td>\n",
       "      <td>0.990988</td>\n",
       "      <td>0.957186</td>\n",
       "      <td>1.000000</td>\n",
       "      <td>0.762007</td>\n",
       "      <td>0.857699</td>\n",
       "      <td>0.805907</td>\n",
       "      <td>0.971186</td>\n",
       "      <td>0.927685</td>\n",
       "      <td>0.579496</td>\n",
       "    </tr>\n",
       "    <tr>\n",
       "      <th>fuel tank</th>\n",
       "      <td>0.774446</td>\n",
       "      <td>0.768378</td>\n",
       "      <td>0.642105</td>\n",
       "      <td>0.745859</td>\n",
       "      <td>0.723413</td>\n",
       "      <td>0.828202</td>\n",
       "      <td>0.675368</td>\n",
       "      <td>0.762007</td>\n",
       "      <td>1.000000</td>\n",
       "      <td>0.960104</td>\n",
       "      <td>0.881492</td>\n",
       "      <td>0.655855</td>\n",
       "      <td>0.862405</td>\n",
       "      <td>0.747887</td>\n",
       "    </tr>\n",
       "    <tr>\n",
       "      <th>drone</th>\n",
       "      <td>0.870984</td>\n",
       "      <td>0.868133</td>\n",
       "      <td>0.751731</td>\n",
       "      <td>0.842823</td>\n",
       "      <td>0.824619</td>\n",
       "      <td>0.905996</td>\n",
       "      <td>0.774186</td>\n",
       "      <td>0.857699</td>\n",
       "      <td>0.960104</td>\n",
       "      <td>1.000000</td>\n",
       "      <td>0.933418</td>\n",
       "      <td>0.766381</td>\n",
       "      <td>0.925004</td>\n",
       "      <td>0.807132</td>\n",
       "    </tr>\n",
       "    <tr>\n",
       "      <th>naval ship</th>\n",
       "      <td>0.833624</td>\n",
       "      <td>0.829277</td>\n",
       "      <td>0.728940</td>\n",
       "      <td>0.811398</td>\n",
       "      <td>0.780438</td>\n",
       "      <td>0.839040</td>\n",
       "      <td>0.762276</td>\n",
       "      <td>0.805907</td>\n",
       "      <td>0.881492</td>\n",
       "      <td>0.933418</td>\n",
       "      <td>1.000000</td>\n",
       "      <td>0.755935</td>\n",
       "      <td>0.840022</td>\n",
       "      <td>0.889194</td>\n",
       "    </tr>\n",
       "    <tr>\n",
       "      <th>anti-aircraft warfare</th>\n",
       "      <td>0.978420</td>\n",
       "      <td>0.962133</td>\n",
       "      <td>0.984678</td>\n",
       "      <td>0.985932</td>\n",
       "      <td>0.983200</td>\n",
       "      <td>0.944741</td>\n",
       "      <td>0.976772</td>\n",
       "      <td>0.971186</td>\n",
       "      <td>0.655855</td>\n",
       "      <td>0.766381</td>\n",
       "      <td>0.755935</td>\n",
       "      <td>1.000000</td>\n",
       "      <td>0.829642</td>\n",
       "      <td>0.505660</td>\n",
       "    </tr>\n",
       "    <tr>\n",
       "      <th>special equipment</th>\n",
       "      <td>0.906966</td>\n",
       "      <td>0.916679</td>\n",
       "      <td>0.828115</td>\n",
       "      <td>0.886319</td>\n",
       "      <td>0.888532</td>\n",
       "      <td>0.956443</td>\n",
       "      <td>0.803761</td>\n",
       "      <td>0.927685</td>\n",
       "      <td>0.862405</td>\n",
       "      <td>0.925004</td>\n",
       "      <td>0.840022</td>\n",
       "      <td>0.829642</td>\n",
       "      <td>1.000000</td>\n",
       "      <td>0.682113</td>\n",
       "    </tr>\n",
       "    <tr>\n",
       "      <th>mobile SRBM system</th>\n",
       "      <td>0.605811</td>\n",
       "      <td>0.608991</td>\n",
       "      <td>0.454193</td>\n",
       "      <td>0.573027</td>\n",
       "      <td>0.542019</td>\n",
       "      <td>0.614475</td>\n",
       "      <td>0.531780</td>\n",
       "      <td>0.579496</td>\n",
       "      <td>0.747887</td>\n",
       "      <td>0.807132</td>\n",
       "      <td>0.889194</td>\n",
       "      <td>0.505660</td>\n",
       "      <td>0.682113</td>\n",
       "      <td>1.000000</td>\n",
       "    </tr>\n",
       "  </tbody>\n",
       "</table>\n",
       "</div>"
      ],
      "text/plain": [
       "                            day  aircraft  helicopter      tank       APC  \\\n",
       "day                    1.000000  0.992055    0.969582  0.995848  0.991946   \n",
       "aircraft               0.992055  1.000000    0.960263  0.986275  0.986025   \n",
       "helicopter             0.969582  0.960263    1.000000  0.975068  0.977572   \n",
       "tank                   0.995848  0.986275    0.975068  1.000000  0.995383   \n",
       "APC                    0.991946  0.986025    0.977572  0.995383  1.000000   \n",
       "field artillery        0.985003  0.979639    0.935898  0.976978  0.975592   \n",
       "MRL                    0.957858  0.930236    0.940525  0.971158  0.963980   \n",
       "military auto          0.990957  0.984153    0.959639  0.989301  0.992514   \n",
       "fuel tank              0.774446  0.768378    0.642105  0.745859  0.723413   \n",
       "drone                  0.870984  0.868133    0.751731  0.842823  0.824619   \n",
       "naval ship             0.833624  0.829277    0.728940  0.811398  0.780438   \n",
       "anti-aircraft warfare  0.978420  0.962133    0.984678  0.985932  0.983200   \n",
       "special equipment      0.906966  0.916679    0.828115  0.886319  0.888532   \n",
       "mobile SRBM system     0.605811  0.608991    0.454193  0.573027  0.542019   \n",
       "\n",
       "                       field artillery       MRL  military auto  fuel tank  \\\n",
       "day                           0.985003  0.957858       0.990957   0.774446   \n",
       "aircraft                      0.979639  0.930236       0.984153   0.768378   \n",
       "helicopter                    0.935898  0.940525       0.959639   0.642105   \n",
       "tank                          0.976978  0.971158       0.989301   0.745859   \n",
       "APC                           0.975592  0.963980       0.992514   0.723413   \n",
       "field artillery               1.000000  0.931059       0.990988   0.828202   \n",
       "MRL                           0.931059  1.000000       0.957186   0.675368   \n",
       "military auto                 0.990988  0.957186       1.000000   0.762007   \n",
       "fuel tank                     0.828202  0.675368       0.762007   1.000000   \n",
       "drone                         0.905996  0.774186       0.857699   0.960104   \n",
       "naval ship                    0.839040  0.762276       0.805907   0.881492   \n",
       "anti-aircraft warfare         0.944741  0.976772       0.971186   0.655855   \n",
       "special equipment             0.956443  0.803761       0.927685   0.862405   \n",
       "mobile SRBM system            0.614475  0.531780       0.579496   0.747887   \n",
       "\n",
       "                          drone  naval ship  anti-aircraft warfare  \\\n",
       "day                    0.870984    0.833624               0.978420   \n",
       "aircraft               0.868133    0.829277               0.962133   \n",
       "helicopter             0.751731    0.728940               0.984678   \n",
       "tank                   0.842823    0.811398               0.985932   \n",
       "APC                    0.824619    0.780438               0.983200   \n",
       "field artillery        0.905996    0.839040               0.944741   \n",
       "MRL                    0.774186    0.762276               0.976772   \n",
       "military auto          0.857699    0.805907               0.971186   \n",
       "fuel tank              0.960104    0.881492               0.655855   \n",
       "drone                  1.000000    0.933418               0.766381   \n",
       "naval ship             0.933418    1.000000               0.755935   \n",
       "anti-aircraft warfare  0.766381    0.755935               1.000000   \n",
       "special equipment      0.925004    0.840022               0.829642   \n",
       "mobile SRBM system     0.807132    0.889194               0.505660   \n",
       "\n",
       "                       special equipment  mobile SRBM system  \n",
       "day                             0.906966            0.605811  \n",
       "aircraft                        0.916679            0.608991  \n",
       "helicopter                      0.828115            0.454193  \n",
       "tank                            0.886319            0.573027  \n",
       "APC                             0.888532            0.542019  \n",
       "field artillery                 0.956443            0.614475  \n",
       "MRL                             0.803761            0.531780  \n",
       "military auto                   0.927685            0.579496  \n",
       "fuel tank                       0.862405            0.747887  \n",
       "drone                           0.925004            0.807132  \n",
       "naval ship                      0.840022            0.889194  \n",
       "anti-aircraft warfare           0.829642            0.505660  \n",
       "special equipment               1.000000            0.682113  \n",
       "mobile SRBM system              0.682113            1.000000  "
      ]
     },
     "execution_count": 11,
     "metadata": {},
     "output_type": "execute_result"
    }
   ],
   "source": [
    "df.corr()"
   ]
  },
  {
   "cell_type": "code",
   "execution_count": 12,
   "id": "728cac1c",
   "metadata": {
    "execution": {
     "iopub.execute_input": "2022-03-30T11:32:44.260255Z",
     "iopub.status.busy": "2022-03-30T11:32:44.259505Z",
     "iopub.status.idle": "2022-03-30T11:32:44.261237Z",
     "shell.execute_reply": "2022-03-30T11:32:44.261780Z",
     "shell.execute_reply.started": "2022-03-30T11:31:17.100168Z"
    },
    "papermill": {
     "duration": 0.054811,
     "end_time": "2022-03-30T11:32:44.261943",
     "exception": false,
     "start_time": "2022-03-30T11:32:44.207132",
     "status": "completed"
    },
    "tags": []
   },
   "outputs": [],
   "source": [
    "col = [ 'aircraft', 'helicopter', 'tank', 'APC',\n",
    "       'field artillery', 'MRL', 'military auto', 'fuel tank', 'drone',\n",
    "       'naval ship', 'anti-aircraft warfare', 'special equipment',\n",
    "       'mobile SRBM system']"
   ]
  },
  {
   "cell_type": "code",
   "execution_count": 13,
   "id": "50432815",
   "metadata": {
    "execution": {
     "iopub.execute_input": "2022-03-30T11:32:44.364553Z",
     "iopub.status.busy": "2022-03-30T11:32:44.363442Z",
     "iopub.status.idle": "2022-03-30T11:32:44.914843Z",
     "shell.execute_reply": "2022-03-30T11:32:44.915266Z",
     "shell.execute_reply.started": "2022-03-30T11:31:17.106081Z"
    },
    "papermill": {
     "duration": 0.604958,
     "end_time": "2022-03-30T11:32:44.915474",
     "exception": false,
     "start_time": "2022-03-30T11:32:44.310516",
     "status": "completed"
    },
    "tags": []
   },
   "outputs": [
    {
     "data": {
      "image/png": "[encoded data removed]",
      "text/plain": [
       "<Figure size 1080x360 with 1 Axes>"
      ]
     },
     "metadata": {
      "needs_background": "light"
     },
     "output_type": "display_data"
    }
   ],
   "source": [
    "\n",
    "plt.figure(figsize=(15,5))\n",
    "for i in col:\n",
    "    sns.distplot(df[i])"
   ]
  },
  {
   "cell_type": "code",
   "execution_count": 14,
   "id": "c5ea8f65",
   "metadata": {
    "execution": {
     "iopub.execute_input": "2022-03-30T11:32:45.018224Z",
     "iopub.status.busy": "2022-03-30T11:32:45.017666Z",
     "iopub.status.idle": "2022-03-30T11:32:48.224817Z",
     "shell.execute_reply": "2022-03-30T11:32:48.225221Z",
     "shell.execute_reply.started": "2022-03-30T11:31:17.575164Z"
    },
    "papermill": {
     "duration": 3.262108,
     "end_time": "2022-03-30T11:32:48.225368",
     "exception": false,
     "start_time": "2022-03-30T11:32:44.963260",
     "status": "completed"
    },
    "tags": []
   },
   "outputs": [
    {
     "name": "stderr",
     "output_type": "stream",
     "text": [
      "/opt/conda/lib/python3.7/site-packages/geopandas/_compat.py:115: UserWarning: The Shapely GEOS version (3.9.1-CAPI-1.14.2) is incompatible with the GEOS version PyGEOS was compiled with (3.10.1-CAPI-1.16.0). Conversions between both will be slow.\n",
      "  shapely_geos_version, geos_capi_version_string\n"
     ]
    },
    {
     "data": {
      "text/html": [
       "        <script type=\"text/javascript\">\n",
       "        window.PlotlyConfig = {MathJaxConfig: 'local'};\n",
       "        if (window.MathJax) {MathJax.Hub.Config({SVG: {font: \"STIX-Web\"}});}\n",
       "        if (typeof require !== 'undefined') {\n",
       "        require.undef(\"plotly\");\n",
       "        requirejs.config({\n",
       "            paths: {\n",
       "                'plotly': ['https://cdn.plot.ly/plotly-2.9.0.min']\n",
       "            }\n",
       "        });\n",
       "        require(['plotly'], function(Plotly) {\n",
       "            window._Plotly = Plotly;\n",
       "        });\n",
       "        }\n",
       "        </script>\n",
       "        "
      ]
     },
     "metadata": {},
     "output_type": "display_data"
    },
    {
     "data": {
      "text/html": [
       "<div>                            <div id=\"de003d64-03d6-4303-aa3e-40bcd574d645\" class=\"plotly-graph-div\" style=\"height:525px; width:100%;\"></div>            <script type=\"text/javascript\">                require([\"plotly\"], function(Plotly) {                    window.PLOTLYENV=window.PLOTLYENV || {};                                    if (document.getElementById(\"de003d64-03d6-4303-aa3e-40bcd574d645\")) {                    Plotly.newPlot(                        \"de003d64-03d6-4303-aa3e-40bcd574d645\",                        [{\"autobinx\":false,\"histnorm\":\"probability density\",\"legendgroup\":\"aircraft\",\"marker\":{\"color\":\"rgb(31, 119, 180)\"},\"name\":\"aircraft\",\"opacity\":0.7,\"x\":[10,27,27,29,29,30,30,33,39,44,46,48,49,49,57,58,74,77,81,84,86,93,95,96,97,99,101,108,115,117,121,123,127,131],\"xaxis\":\"x\",\"xbins\":{\"end\":131.0,\"size\":0.1,\"start\":10.0},\"yaxis\":\"y\",\"type\":\"histogram\"},{\"autobinx\":false,\"histnorm\":\"probability density\",\"legendgroup\":\"helicopter\",\"marker\":{\"color\":\"rgb(255, 127, 14)\"},\"name\":\"helicopter\",\"opacity\":0.7,\"x\":[7,26,26,29,29,31,31,37,40,48,68,80,81,81,83,83,86,90,95,108,108,112,115,118,121,123,124,124,125,127,127,127,129,131],\"xaxis\":\"x\",\"xbins\":{\"end\":131.0,\"size\":0.25,\"start\":7.0},\"yaxis\":\"y\",\"type\":\"histogram\"},{\"autobinx\":false,\"histnorm\":\"probability density\",\"legendgroup\":\"tank\",\"marker\":{\"color\":\"rgb(44, 160, 44)\"},\"name\":\"tank\",\"opacity\":0.7,\"x\":[80,146,150,150,198,211,217,251,269,285,290,303,317,335,353,362,374,389,404,430,444,450,466,476,498,509,517,530,561,575,582,586,597,605],\"xaxis\":\"x\",\"xbins\":{\"end\":605.0,\"size\":0.5,\"start\":80.0},\"yaxis\":\"y\",\"type\":\"histogram\"},{\"autobinx\":false,\"histnorm\":\"probability density\",\"legendgroup\":\"APC\",\"marker\":{\"color\":\"rgb(214, 39, 40)\"},\"name\":\"APC\",\"opacity\":0.7,\"x\":[516,706,706,816,846,862,900,939,945,985,999,1036,1070,1105,1165,1205,1226,1249,1279,1375,1435,1448,1470,1487,1535,1556,1578,1597,1625,1640,1664,1694,1710,1723],\"xaxis\":\"x\",\"xbins\":{\"end\":1723.0,\"size\":1,\"start\":516.0},\"yaxis\":\"y\",\"type\":\"histogram\"},{\"autobinx\":false,\"histnorm\":\"probability density\",\"legendgroup\":\"field artillery\",\"marker\":{\"color\":\"rgb(148, 103, 189)\"},\"name\":\"field artillery\",\"opacity\":0.7,\"x\":[49,49,50,74,77,85,90,105,105,109,117,120,120,123,125,135,140,150,150,190,201,205,213,230,240,252,267,280,291,293,294,302,303,305],\"xaxis\":\"x\",\"xbins\":{\"end\":305.0,\"size\":0.1,\"start\":49.0},\"yaxis\":\"y\",\"type\":\"histogram\"},{\"autobinx\":false,\"histnorm\":\"probability density\",\"legendgroup\":\"MRL\",\"marker\":{\"color\":\"rgb(140, 86, 75)\"},\"name\":\"MRL\",\"opacity\":0.7,\"x\":[4,4,4,21,24,40,42,50,50,50,50,56,56,56,58,62,62,64,64,70,72,72,72,74,80,80,80,82,90,91,93,95,96,96],\"xaxis\":\"x\",\"xbins\":{\"end\":96.0,\"size\":0.25,\"start\":4.0},\"yaxis\":\"y\",\"type\":\"histogram\"},{\"autobinx\":false,\"histnorm\":\"probability density\",\"legendgroup\":\"military auto\",\"marker\":{\"color\":\"rgb(227, 119, 194)\"},\"name\":\"military auto\",\"opacity\":0.7,\"x\":[100,130,130,291,305,355,374,404,409,447,454,474,482,526,558,585,600,617,640,819,864,879,914,947,969,1000,1008,1033,1089,1131,1144,1150,1178,1184],\"xaxis\":\"x\",\"xbins\":{\"end\":1184.0,\"size\":0.5,\"start\":100.0},\"yaxis\":\"y\",\"type\":\"histogram\"},{\"autobinx\":false,\"histnorm\":\"probability density\",\"legendgroup\":\"fuel tank\",\"marker\":{\"color\":\"rgb(127, 127, 127)\"},\"name\":\"fuel tank\",\"opacity\":0.7,\"x\":[60,60,60,60,60,60,60,60,60,60,60,60,60,60,60,60,60,60,60,60,60,60,60,60,60,70,70,72,72,73,73,73,73,75],\"xaxis\":\"x\",\"xbins\":{\"end\":75.0,\"size\":1,\"start\":60.0},\"yaxis\":\"y\",\"type\":\"histogram\"},{\"autobinx\":false,\"histnorm\":\"probability density\",\"legendgroup\":\"drone\",\"marker\":{\"color\":\"rgb(188, 189, 34)\"},\"name\":\"drone\",\"opacity\":0.7,\"x\":[0,2,2,3,3,3,3,3,3,4,7,7,7,7,7,7,7,8,9,11,11,12,17,21,24,35,42,50,53,56,56,66,71,81],\"xaxis\":\"x\",\"xbins\":{\"end\":81.0,\"size\":0.1,\"start\":0.0},\"yaxis\":\"y\",\"type\":\"histogram\"},{\"autobinx\":false,\"histnorm\":\"probability density\",\"legendgroup\":\"naval ship\",\"marker\":{\"color\":\"rgb(23, 190, 207)\"},\"name\":\"naval ship\",\"opacity\":0.7,\"x\":[2,2,2,2,2,2,2,2,2,2,3,3,3,3,3,3,3,3,3,3,3,3,3,3,3,3,4,4,5,7,7,7,7,7],\"xaxis\":\"x\",\"xbins\":{\"end\":7.0,\"size\":0.25,\"start\":2.0},\"yaxis\":\"y\",\"type\":\"histogram\"},{\"autobinx\":false,\"histnorm\":\"probability density\",\"legendgroup\":\"anti-aircraft warfare\",\"marker\":{\"color\":\"rgb(31, 119, 180)\"},\"name\":\"anti-aircraft warfare\",\"opacity\":0.7,\"x\":[0,0,0,5,7,9,11,18,19,21,23,27,28,29,31,33,34,34,36,43,43,43,44,44,45,45,47,47,49,51,52,54,54,54],\"xaxis\":\"x\",\"xbins\":{\"end\":54.0,\"size\":0.5,\"start\":0.0},\"yaxis\":\"y\",\"type\":\"histogram\"},{\"autobinx\":false,\"histnorm\":\"probability density\",\"legendgroup\":\"special equipment\",\"marker\":{\"color\":\"rgb(255, 127, 14)\"},\"name\":\"special equipment\",\"opacity\":0.7,\"x\":[0.0,0.0,0.0,0.0,0.0,0.0,0.0,0.0,0.0,0.0,0.0,0.0,0.0,0.0,0.0,0.0,0.0,0.0,0.0,10.0,10.0,11.0,11.0,12.0,13.0,15.0,15.0,16.0,18.0,19.0,21.0,21.0,21.0,21.0],\"xaxis\":\"x\",\"xbins\":{\"end\":21.0,\"size\":1,\"start\":0.0},\"yaxis\":\"y\",\"type\":\"histogram\"},{\"autobinx\":false,\"histnorm\":\"probability density\",\"legendgroup\":\"mobile SRBM system\",\"marker\":{\"color\":\"rgb(44, 160, 44)\"},\"name\":\"mobile SRBM system\",\"opacity\":0.7,\"x\":[0.0,0.0,0.0,0.0,0.0,0.0,0.0,0.0,0.0,0.0,0.0,0.0,0.0,0.0,0.0,0.0,0.0,0.0,0.0,0.0,0.0,0.0,0.0,0.0,0.0,0.0,0.0,0.0,0.0,2.0,4.0,4.0,4.0,4.0],\"xaxis\":\"x\",\"xbins\":{\"end\":4.0,\"size\":0.1,\"start\":0.0},\"yaxis\":\"y\",\"type\":\"histogram\"},{\"legendgroup\":\"aircraft\",\"marker\":{\"color\":\"rgb(31, 119, 180)\"},\"mode\":\"lines\",\"name\":\"aircraft\",\"showlegend\":false,\"x\":[10.0,10.242,10.484,10.725999999999999,10.968,11.21,11.452,11.693999999999999,11.936,12.178,12.42,12.661999999999999,12.904,13.146,13.388,13.629999999999999,13.872,14.114,14.356,14.597999999999999,14.84,15.082,15.324,15.565999999999999,15.808,16.05,16.292,16.534,16.776,17.018,17.259999999999998,17.502,17.744,17.986,18.228,18.47,18.712,18.954,19.195999999999998,19.438000000000002,19.68,19.922,20.164,20.406,20.648,20.89,21.131999999999998,21.374000000000002,21.616,21.858,22.1,22.342,22.584,22.826,23.067999999999998,23.310000000000002,23.552,23.794,24.036,24.278,24.52,24.762,25.003999999999998,25.246000000000002,25.488,25.73,25.972,26.214,26.456,26.698,26.94,27.182,27.424,27.666,27.908,28.15,28.392,28.634,28.876,29.118,29.36,29.602,29.844,30.086,30.328,30.57,30.812,31.054,31.296,31.538,31.78,32.022,32.263999999999996,32.506,32.748000000000005,32.989999999999995,33.232,33.474000000000004,33.716,33.958,34.2,34.442,34.684,34.926,35.168,35.41,35.652,35.894,36.135999999999996,36.378,36.620000000000005,36.861999999999995,37.104,37.346000000000004,37.588,37.83,38.072,38.314,38.556,38.798,39.04,39.282,39.524,39.766,40.007999999999996,40.25,40.492000000000004,40.734,40.976,41.218,41.46,41.702,41.944,42.186,42.428,42.67,42.912,43.154,43.396,43.638,43.88,44.122,44.364,44.606,44.848,45.09,45.332,45.574,45.816,46.058,46.3,46.542,46.784,47.026,47.268,47.51,47.752,47.994,48.236,48.478,48.72,48.962,49.204,49.446,49.688,49.93,50.172,50.414,50.656,50.898,51.14,51.382,51.624,51.866,52.108,52.35,52.592,52.834,53.076,53.318,53.56,53.802,54.044,54.286,54.528,54.77,55.012,55.254,55.496,55.738,55.98,56.222,56.464,56.706,56.948,57.19,57.432,57.674,57.916,58.158,58.4,58.642,58.884,59.126,59.368,59.61,59.852,60.094,60.336,60.578,60.82,61.062,61.304,61.546,61.788,62.03,62.272,62.514,62.756,62.998,63.24,63.482,63.724,63.966,64.208,64.45,64.69200000000001,64.934,65.176,65.418,65.66,65.902,66.144,66.386,66.628,66.87,67.112,67.354,67.596,67.838,68.08,68.322,68.564,68.806,69.048,69.28999999999999,69.532,69.774,70.01599999999999,70.25800000000001,70.5,70.74199999999999,70.98400000000001,71.226,71.468,71.71000000000001,71.952,72.194,72.436,72.678,72.92,73.162,73.404,73.646,73.888,74.13,74.372,74.614,74.856,75.098,75.34,75.582,75.824,76.066,76.308,76.55,76.792,77.034,77.276,77.518,77.76,78.002,78.244,78.486,78.728,78.97,79.212,79.454,79.696,79.938,80.18,80.422,80.664,80.906,81.148,81.39,81.632,81.874,82.116,82.358,82.6,82.842,83.084,83.326,83.568,83.81,84.052,84.294,84.536,84.778,85.02,85.262,85.504,85.746,85.988,86.23,86.472,86.714,86.956,87.198,87.44,87.682,87.924,88.166,88.408,88.65,88.892,89.134,89.376,89.618,89.86,90.102,90.344,90.586,90.828,91.07,91.312,91.554,91.796,92.038,92.28,92.522,92.764,93.006,93.248,93.49,93.732,93.974,94.216,94.458,94.7,94.942,95.184,95.426,95.668,95.91,96.152,96.394,96.636,96.878,97.12,97.362,97.604,97.846,98.088,98.33,98.572,98.814,99.056,99.298,99.54,99.782,100.024,100.266,100.508,100.75,100.992,101.234,101.476,101.718,101.96,102.202,102.444,102.686,102.928,103.17,103.412,103.654,103.896,104.138,104.38,104.622,104.864,105.106,105.348,105.59,105.832,106.074,106.316,106.558,106.8,107.042,107.284,107.526,107.768,108.01,108.252,108.494,108.736,108.978,109.22,109.462,109.704,109.946,110.188,110.43,110.672,110.914,111.156,111.398,111.64,111.882,112.124,112.366,112.608,112.85,113.092,113.334,113.576,113.818,114.06,114.302,114.544,114.786,115.028,115.27,115.512,115.754,115.996,116.238,116.48,116.722,116.964,117.206,117.448,117.69,117.932,118.174,118.416,118.658,118.9,119.142,119.384,119.626,119.868,120.11,120.352,120.594,120.836,121.078,121.32,121.562,121.804,122.046,122.288,122.53,122.772,123.014,123.256,123.498,123.74,123.982,124.224,124.466,124.708,124.95,125.192,125.434,125.676,125.918,126.16,126.402,126.644,126.886,127.128,127.37,127.612,127.854,128.096,128.338,128.57999999999998,128.822,129.064,129.30599999999998,129.548,129.79000000000002,130.03199999999998,130.274,130.51600000000002,130.75799999999998],\"xaxis\":\"x\",\"y\":[0.0038074704579850924,0.003861419206564322,0.003915652643795318,0.003970161303896736,0.004024935493332572,0.004079965293270071,0.004135240562236668,0.004190750938976171,0.0042464858455042035,0.004302434490362594,0.004358585872072355,0.004414928782784482,0.00447145181212767,0.00452814335125188,0.00458499159706626,0.0046419845566699315,0.004699110051973739,0.0047563557245109645,0.0048137090404346446,0.004871157295699073,0.004928687621422649,0.004986286989429237,0.0050439422179646915,0.005101639977585341,0.005159366797214661,0.005217109070364415,0.005274853061516168,0.005332584912659004,0.00539029064997896,0.005447956190695596,0.005505567350040847,0.005563109848375244,0.005620569318436211,0.005677931312713232,0.005735181310944276,0.005792304727727872,0.005849286920245026,0.005906113196085013,0.005962768821168902,0.006019239027764728,0.006075509022587809,0.006131563994979896,0.00618738912516051,0.006242969592543863,0.0062982905841146,0.006353337302855601,0.006408094976220845,0.006462548864646547,0.006516684270093419,0.006570486544613141,0.006623941098931864,0.006677033411043724,0.006729749034807247,0.006782073608537445,0.006833992863586589,0.006885492632906499,0.006936558859585241,0.006987177605351251,0.0070373350590377534,0.00708701754500061,0.0071362115314825775,0.007184903638917195,0.007233080648165436,0.007280729508678488,0.007327837346579948,0.007374391472660974,0.007420379390281886,0.007465788803173963,0.007510607623135151,0.0075548239776136,0.007598426217173105,0.007641402922834538,0.007683742913287632,0.007725435251967504,0.007766469253990526,0.007806834492944303,0.007846520807526583,0.00788551830802825,0.007923817382655485,0.00796140870368663,0.007998283233459157,0.00803443223018259,0.008069847253573178,0.008104520170306459,0.008138443159283954,0.008171608716710407,0.008204009660978161,0.008235639137355552,0.008266490622476188,0.008296557928626349,0.008325835207827757,0.008354316955713405,0.008381998015193912,0.008408873579912471,0.008434939197486366,0.008460190772533282,0.008484624569480884,0.008508237215158112,0.00853102570116713,0.008552987386034678,0.00857411999714199,0.008594421632432554,0.008613890761897001,0.008632526228834885,0.008650327250892846,0.008667293420879234,0.008683424707355024,0.008698721455001352,0.00871318438476384,0.008726814593774244,0.008739613555049939,0.00875158311697191,0.00876272550254221,0.008773043308421722,0.008782539503749246,0.008791217428743253,0.008799080793087503,0.008806133674101869,0.008812380514700043,0.008817826121135545,0.008822475660537902,0.008826334658240646,0.008829408994903172,0.008831704903428321,0.008833228965677793,0.008833988108987554,0.008833989602485463,0.008833241053213377,0.00883175040205618,0.008829525919480127,0.008826576201083123,0.008822910162959385,0.008818537036881305,0.008813466365301118,0.008807707996175244,0.008801272077614133,0.008794169052360487,0.008786409652098943,0.008778004891600114,0.008768966062702234,0.008759304728133398,0.008749032715177825,0.008738162109189134,0.008726705246954295,0.008714674709911316,0.008702083317224378,0.008688944118719783,0.008675270387686304,0.008661075613543564,0.00864637349438217,0.008631177929379293,0.008615503011093505,0.008599363017642758,0.008582772404769477,0.008565745797796651,0.008548297983479055,0.00853044390175375,0.008512198637393945,0.008493577411570584,0.008474595573325925,0.008455268590963448,0.008435612043358668,0.008415641611195254,0.008395373068131115,0.008374822271899106,0.008354005155347032,0.00833293771742185,0.008311636014102824,0.008290116149288656,0.008268394265643526,0.008246486535407231,0.008224409151174424,0.008202178316648278,0.008179810237373795,0.008157321111456103,0.008134727120269213,0.00811204441916056,0.008089289128157089,0.008066477322678197,0.008043625024261416,0.008020748191306356,0.007997862709842849,0.007974984384328856,0.007952128928484202,0.007929311956165908,0.007906548972291065,0.007883855363813192,0.00786124639075819,0.007838737177325732,0.007816342703062253,0.00779407779411158,0.0077719571145492515,0.007749995157806645,0.007728206238190947,0.007706604482507135,0.007685203821787914,0.00766401798313784,0.007643060481697525,0.007622344612734016,0.007601883443863336,0.007581689807411101,0.007561776292917129,0.007542155239789926,0.007522838730116794,0.007503838581635305,0.0074851663408718565,0.007466833276452767,0.007448850372593535,0.007431228322771588,0.007413977523587839,0.007397108068822252,0.007380629743688493,0.007364552019292644,0.007348884047300792,0.007333634654820176,0.007318812339498523,0.00730442526484589,0.007290481255783314,0.007276987794422379,0.0072639520160795576,0.007251380705529147,0.007239280293498338,0.007227656853407754,0.007216516098360743,0.007205863378384307,0.007195703677924544,0.007186041613599093,0.007176881432209013,0.0071682270090121895,0.00716008184626022,0.00715244907200042,0.007145331439144449,0.007138731324804757,0.007132650729899826,0.007127091279028939,0.007122054220616988,0.007117540427329536,0.007113550396758114,0.007110084252375549,0.007107141744760714,0.007104722253091997,0.007102824786908438,0.007101447988137222,0.007100590133385999,0.007100249136498224,0.0071004225513694634,0.007101107575022303,0.007102301050937349,0.007103999472637427,0.007106198987521931,0.007108895400947977,0.007112084180554786,0.007115760460827428,0.007119919047895952,0.00712455442456546,0.007129660755572691,0.007135231893064293,0.007141261382291753,0.0071477424675178486,0.007154668098129068,0.007162030934948438,0.007169823356742856,0.007178037466918877,0.0071866651004007034,0.007195697830683951,0.00720512697705857,0.007214943611994091,0.007225138568680314,0.007235702448716235,0.007246625629940036,0.007257898274392637,0.00726951033640733,0.0072814515708178006,0.007293711541276741,0.007306279628677167,0.0073191450396684265,0.007332296815258848,0.007345723839496759,0.007359414848221762,0.00737335843787786,0.00738754307438007,0.007401957102026168,0.007416588752445083,0.007431426153573462,0.007446457338651942,0.00746167025523261,0.0074770527741891985,0.007492592698721475,0.007508277773345448,0.007524095692860896,0.00754003411128791,0.0075560806507640535,0.0075722229103939165,0.007588448475042878,0.007604744924066913,0.0076210998399705,0.007637500816984616,0.007653935469557084,0.007670391440747531,0.00768685641051942,0.007703318103921674,0.0077197642991526745,0.007736182835499435,0.007752561621145038,0.007768888640837463,0.007785151963413251,0.00780133974916952,0.007817440257078109,0.007833441851835795,0.007849333010744742,0.007865102330417578,0.007880738533301684,0.007896230474017529,0.007911567145506086,0.007926737684980683,0.00794173137967878,0.00795653767240948,0.00797114616689287,0.007985546632887428,0.007999729011102115,0.008013683417890018,0.008027400149720594,0.008040869687427957,0.008054082700232869,0.008067030049536371,0.008079702792483276,0.008092092185294095,0.008104189686364128,0.008115986959128886,0.008127475874695143,0.008138648514237385,0.008149497171159535,0.008160014353022237,0.008170192783236245,0.00818002540252272,0.008189505370141573,0.008198626064889194,0.00820738108586733,0.008215764253024992,0.008223769607475654,0.008231391411592242,0.008238624148882717,0.008245462523649227,0.008251901460434205,0.008257936103256905,0.00826356181464423,0.008268774174459871,0.008273568978536068,0.00827794223711249,0.00828189017308705,0.008285409220083523,0.008288496020341223,0.008291147422432133,0.008293360478810992,0.008295132443204187,0.00829646076784339,0.008297343100549973,0.008297777281676634,0.008297761340912535,0.008297293493958604,0.008296372139079657,0.00829499585354027,0.008293163389931206,0.008290873672393593,0.008288125792747868,0.008284919006534814,0.008281252728975898,0.008277126530860318,0.00827254013436612,0.008267493408822841,0.008261986366423151,0.00825601915789091,0.008249592068113211,0.008242705511743774,0.008235360028785216,0.008227556280157564,0.008219295043260428,0.00821057720753608,0.00820140377004079,0.008191775831031468,0.008181694589574818,0.008171161339185905,0.008160177463503048,0.008148744432005754,0.008136863795782382,0.008124537183353953,0.008111766296560439,0.008098552906515748,0.008084898849637322,0.008070806023756242,0.00805627638431339,0.008041311940647139,0.008025914752377772,0.008010086925893622,0.007993830610943765,0.007977147997341701,0.007960041311784492,0.007942512814791282,0.007924564797765116,0.00790619958018156,0.007887419506907484,0.007868226945652972,0.00784862428455921,0.007828613929924788,0.007808198304072649,0.00778737984335964,0.007766160996330301,0.007744544222016268,0.007722531988382396,0.007700126770920371,0.007677331051390339,0.007654147316710795,0.007630578057996626,0.007606625769745032,0.00758229294916862,0.007557582095674826,0.007532495710490428,0.00750703629642973,0.0074812063578046425,0.0074550084004746985,0.007428444932034668,0.007401518462137362,0.007374231502948731,0.00734658656973229,0.007318586181559662,0.0072902328621436046,0.007261529140789945,0.007232477553464407,0.007203080643970195,0.007173340965231978,0.007143261080681769,0.007112843565741913,0.007082091009400355,0.0070510060158730445,0.00701959120634835,0.006987849220808029,0.006955782719919341,0.006923394386992629,0.006890686929998682,0.006857663083640004,0.0068243256114701376,0.006790677308055,0.00675672100117017,0.0067224595540280605,0.00668789586752878,0.006653032882528472,0.006617873582119053,0.006582420993912968,0.006546678192326883,0.006510648300858088,0.006474334494347444,0.006437740001222771,0.0064008681057165905,0.006363722150052248,0.0063263055365924475,0.006288621729944389,0.006250674259015753,0.006212466719015872,0.006174002773396573,0.006135286155727317,0.006096320671499344,0.006057110199853708,0.0060176586952282955,0.005977970188918944,0.005938048790550117,0.005897898689450654,0.005857524155930374,0.005816929542453423,0.005776119284704558,0.005735097902544714,0.005693870000852424,0.005652440270247844,0.005610813487696483,0.005568994516989789,0.00552698830910016,0.0054847999024080435,0.005442434422799124,0.005399897083629773,0.005357193185559254,0.005314328116247377,0.005271307349916541,0.005228136446777375,0.005184821052317482,0.005141366896452915,0.005097779792542421,0.005054065636264642,0.005010230404358701,0.004966280153228915,0.004922221017414591,0.00487805920792608,0.0048338010104485,0.004789452783414845,0.004745020955950333,0.004700512025690118,0.004655932556472715,0.00461128917591172,0.004566588572848527,0.004521837494689023,0.004477042744627541,0.004432211178761258],\"yaxis\":\"y\",\"type\":\"scatter\"},{\"legendgroup\":\"helicopter\",\"marker\":{\"color\":\"rgb(255, 127, 14)\"},\"mode\":\"lines\",\"name\":\"helicopter\",\"showlegend\":false,\"x\":[7.0,7.248,7.496,7.744,7.992,8.24,8.488,8.736,8.984,9.232,9.48,9.728,9.975999999999999,10.224,10.472,10.72,10.968,11.216000000000001,11.464,11.712,11.96,12.208,12.456,12.704,12.952,13.2,13.448,13.696,13.943999999999999,14.192,14.440000000000001,14.687999999999999,14.936,15.184,15.432,15.68,15.928,16.176000000000002,16.424,16.672,16.92,17.168,17.416,17.664,17.912,18.16,18.408,18.656,18.904,19.152,19.4,19.648,19.896,20.144,20.392,20.64,20.887999999999998,21.136,21.384,21.631999999999998,21.880000000000003,22.128,22.375999999999998,22.624000000000002,22.872,23.12,23.368,23.616,23.864,24.112,24.36,24.608,24.856,25.104,25.352,25.6,25.848,26.096,26.344,26.592,26.84,27.088,27.336,27.584,27.832,28.08,28.328,28.576,28.824,29.072,29.32,29.568,29.816,30.064,30.312,30.56,30.808,31.056,31.304,31.552,31.8,32.048,32.296,32.544,32.792,33.04,33.288,33.536,33.784,34.032,34.28,34.528,34.775999999999996,35.024,35.272,35.519999999999996,35.768,36.016,36.263999999999996,36.512,36.760000000000005,37.007999999999996,37.256,37.504000000000005,37.751999999999995,38.0,38.248000000000005,38.495999999999995,38.744,38.992000000000004,39.24,39.488,39.736,39.984,40.232,40.48,40.728,40.976,41.224,41.472,41.72,41.968,42.216,42.464,42.712,42.96,43.208,43.456,43.704,43.952,44.2,44.448,44.696,44.944,45.192,45.44,45.688,45.936,46.184,46.432,46.68,46.928,47.176,47.424,47.672,47.92,48.168,48.416,48.664,48.912,49.16,49.408,49.656,49.904,50.152,50.4,50.648,50.896,51.144,51.392,51.64,51.888,52.136,52.384,52.632,52.88,53.128,53.376,53.624,53.872,54.12,54.368,54.616,54.864,55.112,55.36,55.608,55.856,56.104,56.352,56.6,56.848,57.096,57.344,57.592,57.84,58.088,58.336,58.584,58.832,59.08,59.328,59.576,59.824,60.072,60.32,60.568,60.816,61.064,61.312,61.56,61.808,62.056,62.304,62.552,62.8,63.048,63.296,63.544,63.792,64.03999999999999,64.288,64.536,64.78399999999999,65.032,65.28,65.52799999999999,65.77600000000001,66.024,66.27199999999999,66.52000000000001,66.768,67.01599999999999,67.26400000000001,67.512,67.75999999999999,68.00800000000001,68.256,68.50399999999999,68.75200000000001,69.0,69.24799999999999,69.49600000000001,69.744,69.99199999999999,70.24000000000001,70.488,70.73599999999999,70.98400000000001,71.232,71.48,71.728,71.976,72.224,72.472,72.72,72.968,73.216,73.464,73.712,73.96,74.208,74.456,74.704,74.952,75.2,75.448,75.696,75.944,76.192,76.44,76.688,76.936,77.184,77.432,77.68,77.928,78.176,78.424,78.672,78.92,79.168,79.416,79.664,79.912,80.16,80.408,80.656,80.904,81.152,81.4,81.648,81.896,82.144,82.392,82.64,82.888,83.136,83.384,83.632,83.88,84.128,84.376,84.624,84.872,85.12,85.368,85.616,85.864,86.112,86.36,86.608,86.856,87.104,87.352,87.6,87.848,88.096,88.344,88.592,88.84,89.088,89.336,89.584,89.832,90.08,90.328,90.576,90.824,91.072,91.32,91.568,91.816,92.064,92.312,92.56,92.808,93.056,93.304,93.552,93.8,94.048,94.296,94.544,94.792,95.04,95.288,95.536,95.784,96.032,96.28,96.528,96.776,97.024,97.272,97.52,97.768,98.016,98.264,98.512,98.76,99.008,99.256,99.504,99.752,100.0,100.248,100.496,100.744,100.992,101.24,101.488,101.736,101.984,102.232,102.48,102.728,102.976,103.224,103.472,103.72,103.968,104.216,104.464,104.712,104.96,105.208,105.456,105.704,105.952,106.2,106.448,106.696,106.944,107.192,107.44,107.688,107.936,108.184,108.432,108.68,108.928,109.176,109.424,109.672,109.92,110.168,110.416,110.664,110.912,111.16,111.408,111.656,111.904,112.152,112.4,112.648,112.896,113.144,113.392,113.64,113.888,114.136,114.384,114.632,114.88,115.128,115.376,115.624,115.872,116.12,116.368,116.616,116.864,117.112,117.36,117.608,117.856,118.104,118.352,118.6,118.848,119.096,119.344,119.592,119.84,120.088,120.336,120.584,120.832,121.08,121.328,121.576,121.824,122.072,122.32,122.568,122.816,123.064,123.312,123.56,123.808,124.056,124.304,124.552,124.8,125.048,125.296,125.544,125.792,126.04,126.288,126.536,126.784,127.032,127.28,127.528,127.776,128.024,128.272,128.51999999999998,128.768,129.01600000000002,129.264,129.512,129.76,130.00799999999998,130.256,130.50400000000002,130.752],\"xaxis\":\"x\",\"y\":[0.002954680559092304,0.0029905587726519385,0.0030265301635487287,0.0030625872144641195,0.003098722278296024,0.0031349275806494986,0.0031711952224656704,0.0032075171827891085,0.0032438853216736545,0.003280291383226576,0.0033167269987907956,0.003353183690264728,0.0033896528735591963,0.003426125862190638,0.0034625938710097426,0.0034990480200644486,0.003535479338596094,0.0035718787691673363,0.003608237171920298,0.0036445453289632385,0.003680793948883899,0.0037169736713874306,0.003753075072056794,0.0037890886672331562,0.0038250049190138736,0.0038608142403652674,0.003896507000347396,0.003932073529447764,0.0039675041250208385,0.004002789056829968,0.004037918572688262,0.00407288290419474,0.004107672272561971,0.004142276894531193,0.004176686988370908,0.00421089277995455,0.0042448845089129664,0.004278652434857095,0.004312186843666204,0.004345478053836881,0.004378516422887797,0.0044112923538153015,0.004443796301594551,0.004476018779720941,0.004507950366786469,0.004539581713085474,0.004570903547244184,0.004601906682868358,0.004632582025203274,0.004662920577800157,0.004692913449183128,0.004722551859510678,0.004751827147225564,0.004780730775687005,0.0048092543397790285,0.004837389572488684,0.00486512835144793,0.004892462705432842,0.004919384820813847,0.004945887047950713,0.00497196190752584,0.004997602096809617,0.005022800495851445,0.005047550173590174,0.005071844393877566,0.005095676621408589,0.005119040527552283,0.005141929996077002,0.005164339128763893,0.00518626225090254,0.005207693916662748,0.005228628914336566,0.005249062271444597,0.005268989259700936,0.005288405399830973,0.005307306466236548,0.005325688491502934,0.005343547770742377,0.005360880865768877,0.005377684609099218,0.005393956107775215,0.005409692747002403,0.005424892193600481,0.005439552399261068,0.005453671603608341,0.005467248337058426,0.005480281423473582,0.005492769982607291,0.005504713432336605,0.005516111490678432,0.005526964177586338,0.005537271816524959,0.005547035035819071,0.0055562547697747535,0.005564932259570178,0.005573069053913835,0.005580667009468169,0.0055877282910369325,0.00559425537151461,0.005600251031596692,0.005605718359249662,0.005610660748939875,0.005615081900620681,0.005618985818477448,0.005622376809430335,0.005625259481394903,0.005627638741300885,0.005629519792869787,0.005630908134151977,0.00563180955482451,0.0056322301332508325,0.005632176233303992,0.0056316545009551374,0.00563067186062924,0.0056292355113304335,0.005627352922539305,0.005625031829884966,0.005622280230594844,0.005619106378725289,0.005615518780176545,0.005611526187495554,0.005607137594470583,0.005602362230521639,0.005597209554890971,0.005591689250638181,0.005585811218444568,0.005579585570231636,0.0055730226225988175,0.005566132890085724,0.00555892707826428,0.005551416076666517,0.005543610951553707,0.005535522938532894,0.005527163435026881,0.005518543992604094,0.005509676309174601,0.005500572221059008,0.005491243694936937,0.005481702819681845,0.005471961798089295,0.005462032938505714,0.005451928646364809,0.005441661415639057,0.005431243820213544,0.00542068850518978,0.005410008178126957,0.005399215600228374,0.005388323577480702,0.005377344951753886,0.005366292591869509,0.005355179384645474,0.005344018225924895,0.005332822011597178,0.005321603628619202,0.0053103759460445535,0.00529915180606882,0.005287944015098876,0.005276765334854116,0.005265628473507589,0.005254546076874896,0.005243530719658758,0.005232594896757067,0.0052217510146421765,0.005211011382819201,0.0052003882053708915,0.005189893572596775,0.005179539452753939,0.0051693376839069705,0.005159299965894287,0.005149437852418108,0.005139762743265196,0.005130285876665264,0.005121018321794002,0.005111970971427412,0.005103154534754022,0.005094579530351465,0.00508625627933374,0.005078194898675206,0.005070405294717408,0.005062897156864441,0.00505567995147257,0.0050487629159395005,0.0050421550529986285,0.0050358651252232645,0.005029901649745828,0.005024272893196593,0.005018986866866509,0.00501405132209835,0.005009473745910258,0.0050052613568554805,0.005001421101121903,0.004997959648874812,0.004994883390845957,0.0049921984351718835,0.004989910604484148,0.00498802543325391,0.0049865481653930555,0.004985483752113756,0.004984836850048219,0.0049846118196300426,0.004984812723738286,0.00498544332660533,0.004986507092989031,0.004988007187609709,0.004989946474852065,0.004992327518731892,0.004995152583127296,0.004998423632273661,0.005002142331521636,0.0050063100483567925,0.005010927853679723,0.00501599652334475,0.005021516539955404,0.005027488094914432,0.005033911090725865,0.005040785143546499,0.005048109585983746,0.005055883470136676,0.0050641055708767965,0.005072774389364829,0.005081888156799495,0.005091444838394221,0.005101442137577161,0.005111877500410042,0.005122748120220752,0.00513405094244469,0.005145782669669445,0.005157939766877227,0.005170518466879325,0.005183514775936576,0.0051969244795596016,0.005210743148482507,0.0052249661448034316,0.0052395886282851165,0.005254605562808693,0.00527001172297341,0.005285801700835153,0.005301969912776223,0.005318510606498836,0.005335417868134587,0.005352685629462016,0.0053703076752242285,0.005388277650538544,0.005406589068389825,0.005425235317199218,0.005444209668459844,0.005463505284430929,0.00548311522588174,0.0055030324598766694,0.005523249867592788,0.005543760252160915,0.0055645563465216395,0.005585630821287129,0.005606976292600099,0.005628585329980884,0.005650450464153787,0.005672564194843741,0.005694918998534504,0.005717507336179414,0.005740321660855962,0.005763354425355406,0.005786598089698651,0.005810045128569802,0.005833688038658802,0.005857519345904603,0.005881531612630597,0.0059057174445638835,0.005930069497730295,0.005954580485217106,0.005979243183795495,0.006004050440395022,0.006028995178422502,0.006054070403917832,0.006079269211539483,0.0061045847903726325,0.006130010429552936,0.006155539523699364,0.0061811655781495375,0.0062068822139913615,0.006232683172884858,0.006258562321668493,0.006284513656744327,0.006310531308236838,0.006336609543920209,0.006362742772909466,0.006388925549110838,0.0064151525744272206,0.006441418701714759,0.006467718937486908,0.006494048444362687,0.006520402543256032,0.0065467767153035705,0.006573166603528385,0.0065995680142377266,0.006625976918152807,0.006652389451269418,0.0066788019154480445,0.006705210778732925,0.006731612675399465,0.006758004405729988,0.006784382935518066,0.00681074539530198,0.006837089079328303,0.0068634114442468076,0.006889710107538413,0.006915982845678036,0.006942227592034724,0.006968442434511687,0.00699462561292924,0.007020775516153938,0.007046890678977627,0.007072969778750355,0.00709901163177149,0.007125015189443712,0.007150979534194774,0.007176903875172453,0.00720278754371813,0.007228629988625034,0.00725443077118728,0.007280189560046219,0.00730590612584089,0.007331580335669615,0.007357212147370086,0.007382801603625554,0.007408348825904914,0.007433854008244876,0.007459317410882435,0.007484739353746355,0.0075101202098162645,0.007535460398358523,0.0075607603780479225,0.007586020639984617,0.007611241700615886,0.007636424094572336,0.007661568367428461,0.007686675068397578,0.00771174474297116,0.007736777925512907,0.007761775131817866,0.007786736851646956,0.007811663541247517,0.007836555615870357,0.007861413442293935,0.007886237331366334,0.007911027530575727,0.007935784216659927,0.007960507488265767,0.00798519735866896,0.008009853748565022,0.008034476478941824,0.008059065264044336,0.008083619704441944,0.008108139280208706,0.008132623344226764,0.008157071115623101,0.008181481673349523,0.008205853949915848,0.008230186725285858,0.008254478620945648,0.008278728094153621,0.008302933432381348,0.008327092747954097,0.008351203972899917,0.008375264854015551,0.008399272948157586,0.00842322561776662,0.008447120026632355,0.008470953135906824,0.00849472170037303,0.008518422264975747,0.008542051161621033,0.008565604506250577,0.008589078196196868,0.008612467907824552,0.008635769094463291,0.00865897698463685,0.008682086580592894,0.008705092657137611,0.008727989760778812,0.008750772209180888,0.008773434090934496,0.008795969265643638,0.00881837136433209,0.008840633790171123,0.00886274971952971,0.008884712103348224,0.0089065136688361,0.008928146921493609,0.008949604147457385,0.00897087741616903,0.008991958583365621,0.00901283929439054,0.009033510987822757,0.009053964899422066,0.009074192066387519,0.00909418333192592,0.009113929350126667,0.009133420591138999,0.009152647346647216,0.00917159973563911,0.009190267710462335,0.009208641063163247,0.009226709432102222,0.009244462308839092,0.00926188904528214,0.009278978861093521,0.009295720851343782,0.009312103994407772,0.009328117160093885,0.00934374911799834,0.009358988546075753,0.009373824039417122,0.009388244119225933,0.009402237241982898,0.00941579180878956,0.009428896174880685,0.009441538659295267,0.00945370755469553,0.009465391137323368,0.009476577677083224,0.00948725544774037,0.0094974127372233,0.009507037858018904,0.009516119157648783,0.009524645029215096,0.009532603922004085,0.009539984352135503,0.009546774913245857,0.009552964287193497,0.009558541254773475,0.009563494706430038,0.009567813652954586,0.009571487236157028,0.009574504739498337,0.009576855598672206,0.00957852941212378,0.00957951595149342,0.00957980517197357,0.009579387222566913,0.009578252456234027,0.009576391439918928,0.00957379496444107,0.009570454054242356,0.00956635997697804,0.009561504252940523,0.009555878664305182,0.009549475264187658,0.009542286385502198,0.009534304649610867,0.009525522974753722,0.009515934584250306,0.009505533014463016,0.009494312122513246,0.009482266093741505,0.009469389448902906,0.009455677051089897,0.00944112411237427,0.009425726200160944,0.009409479243246218,0.009392379537573714,0.009374423751681411,0.00935560893183368,0.009335932506832489,0.009315392292502403,0.009293986495844382,0.00927171371885368,0.009248572961997697,0.009224563627349887,0.00919968552137635,0.009173938857371998,0.00914732425754382,0.009119842754738877,0.009091495793815414,0.009062285232655566,0.009032213342818824,0.009001282809835606,0.008969496733140946,0.00893685862564842,0.008903372412965176,0.008869042432249053,0.008833873430709377,0.008797870563753321,0.008761039392780149,0.008723385882626092,0.008684916398662918,0.008645637703553716,0.008605556953669756,0.008564681695172662,0.008523019859766522,0.008480579760124887,0.008437370084997982,0.008393399894005785,0.008348678612123017,0.00830321602386226,0.00825702226716194,0.00821010782698605,0.008162483528642923,0.008114160530830469,0.008065150318415775,0.008015464694957055],\"yaxis\":\"y\",\"type\":\"scatter\"},{\"legendgroup\":\"tank\",\"marker\":{\"color\":\"rgb(44, 160, 44)\"},\"mode\":\"lines\",\"name\":\"tank\",\"showlegend\":false,\"x\":[80.0,81.05,82.1,83.15,84.2,85.25,86.3,87.35,88.4,89.45,90.5,91.55,92.6,93.65,94.7,95.75,96.8,97.85,98.9,99.95,101.0,102.05,103.1,104.15,105.2,106.25,107.3,108.35,109.4,110.45,111.5,112.55,113.6,114.65,115.7,116.75,117.8,118.85,119.9,120.95,122.0,123.05,124.1,125.15,126.2,127.25,128.3,129.35,130.4,131.45,132.5,133.55,134.6,135.65,136.7,137.75,138.8,139.85,140.9,141.95,143.0,144.05,145.1,146.15,147.2,148.25,149.3,150.35,151.4,152.45,153.5,154.55,155.6,156.65,157.7,158.75,159.8,160.85,161.9,162.95,164.0,165.05,166.1,167.15,168.2,169.25,170.3,171.35,172.4,173.45,174.5,175.55,176.6,177.65,178.7,179.75,180.8,181.85,182.9,183.95,185.0,186.05,187.1,188.15,189.2,190.25,191.3,192.35,193.4,194.45,195.5,196.55,197.6,198.65,199.7,200.75,201.8,202.85,203.9,204.95,206.0,207.05,208.1,209.15,210.2,211.25,212.3,213.35,214.4,215.45,216.5,217.55,218.6,219.65,220.7,221.75,222.8,223.85,224.9,225.95,227.0,228.05,229.1,230.15,231.2,232.25,233.3,234.35,235.4,236.45,237.5,238.55,239.6,240.65,241.7,242.75,243.8,244.85,245.9,246.95,248.0,249.05,250.1,251.15,252.2,253.25,254.3,255.35,256.4,257.45,258.5,259.55,260.6,261.65,262.7,263.75,264.8,265.85,266.9,267.95,269.0,270.05,271.1,272.15,273.2,274.25,275.3,276.35,277.4,278.45,279.5,280.55,281.6,282.65,283.7,284.75,285.8,286.85,287.9,288.95,290.0,291.05,292.1,293.15,294.2,295.25,296.3,297.35,298.4,299.45,300.5,301.55,302.6,303.65,304.7,305.75,306.8,307.85,308.9,309.95,311.0,312.05,313.1,314.15,315.2,316.25,317.3,318.35,319.4,320.45,321.5,322.55,323.6,324.65,325.7,326.75,327.8,328.85,329.9,330.95,332.0,333.05,334.1,335.15,336.2,337.25,338.3,339.35,340.4,341.45,342.5,343.55,344.6,345.65,346.7,347.75,348.8,349.85,350.9,351.95,353.0,354.05,355.1,356.15,357.2,358.25,359.3,360.35,361.4,362.45,363.5,364.55,365.6,366.65,367.7,368.75,369.8,370.85,371.9,372.95,374.0,375.05,376.1,377.15,378.2,379.25,380.3,381.35,382.4,383.45,384.5,385.55,386.6,387.65,388.7,389.75,390.8,391.85,392.9,393.95,395.0,396.05,397.1,398.15,399.2,400.25,401.3,402.35,403.4,404.45,405.5,406.55,407.6,408.65,409.7,410.75,411.8,412.85,413.9,414.95,416.0,417.05,418.1,419.15,420.2,421.25,422.3,423.35,424.4,425.45,426.5,427.55,428.6,429.65,430.7,431.75,432.8,433.85,434.9,435.95,437.0,438.05,439.1,440.15,441.2,442.25,443.3,444.35,445.4,446.45,447.5,448.55,449.6,450.65,451.7,452.75,453.8,454.85,455.9,456.95,458.0,459.05,460.1,461.15,462.2,463.25,464.3,465.35,466.4,467.45,468.5,469.55,470.6,471.65,472.7,473.75,474.8,475.85,476.9,477.95,479.0,480.05,481.1,482.15,483.2,484.25,485.3,486.35,487.4,488.45,489.5,490.55,491.6,492.65,493.7,494.75,495.8,496.85,497.9,498.95,500.0,501.05,502.1,503.15,504.2,505.25,506.3,507.35,508.4,509.45,510.5,511.55,512.6,513.65,514.7,515.75,516.8,517.85,518.9,519.95,521.0,522.05,523.1,524.15,525.2,526.25,527.3,528.35,529.4,530.45,531.5,532.55,533.6,534.65,535.7,536.75,537.8,538.85,539.9,540.95,542.0,543.05,544.1,545.15,546.2,547.25,548.3,549.35,550.4,551.45,552.5,553.55,554.6,555.65,556.7,557.75,558.8,559.85,560.9,561.95,563.0,564.05,565.1,566.15,567.2,568.25,569.3,570.35,571.4,572.45,573.5,574.55,575.6,576.65,577.7,578.75,579.8,580.85,581.9,582.95,584.0,585.05,586.1,587.15,588.2,589.25,590.3,591.35,592.4,593.45,594.5,595.55,596.6,597.65,598.7,599.75,600.8,601.85,602.9,603.95],\"xaxis\":\"x\",\"y\":[0.000601751843669331,0.0006093794699461331,0.0006170386503878273,0.0006247284341130367,0.0006324478608641876,0.0006401959615119496,0.0006479717585690433,0.000655774266713013,0.0006636024933175285,0.0006714554389917844,0.0006793320981275274,0.0006872314594532508,0.0006951525065950525,0.000703094218643663,0.0007110555707271201,0.0007190355345885594,0.0007270330791685725,0.0007350471711915757,0.0007430767757556233,0.0007511208569250678,0.000759178378325493,0.0007672483037402999,0.0007753295977083409,0.0007834212261219761,0.000791522156824921,0.0007996313602092514,0.0008077478098109182,0.0008158704829031172,0.0008239983610868739,0.0008321304308781691,0.0008402656842909511,0.0008484031194153763,0.0008565417409906003,0.0008646805609714704,0.000872818599088447,0.0008809548834000929,0.0008890884508374829,0.0008972183477398614,0.000905343630380916,0.0009134633654850207,0.0009215766307328038,0.0009296825152554278,0.0009377801201169542,0.0009458685587841887,0.000953946957583415,0.0009620144561434286,0.0009700702078243073,0.0009781133801313588,0.0009861431551137121,0.0009941587297470256,0.001002159316299817,0.0010101441426829112,0.0010181124527815673,0.0010260635067698169,0.0010339965814066016,0.0010419109703133055,0.0010498059842323068,0.001057680951266196,0.0010655352170973282,0.0010733681451874121,0.0010811791169568535,0.001088967531943615,0.0010967328079413475,0.0011044743811166376,0.0011121917061051637,0.001119884256086666,0.0011275515228385891,0.0011351930167683578,0.0011428082669242092,0.0011503968209845966,0.00115795824522616,0.0011654921244703318,0.0011729980620086432,0.0011804756795068558,0.001187924616888058,0.0011953445321949009,0.0012027351014311865,0.0012100960183830415,0.0012174269944199554,0.001224727758275974,0.0012319980558113887,0.001239237649755292,0.0012464463194293604,0.001253623860453336,0.0012607700844326124,0.0012678848186284315,0.0012749679056111905,0.001282019202897392,0.0012890385825708075,0.001296025930888421,0.001302981147871792,0.001309904146884444,0.0013167948541959642,0.0013236532085334624,0.0013304791606211235,0.0013372726727085462,0.0013440337180886243,0.0013507622806057168,0.0013574583541548833,0.00136412194217298,0.001370753057122395,0.0013773517199682647,0.0013839179596499798,0.0013904518125478164,0.0013969533219455469,0.0014034225374898615,0.001409859514647482,0.0014162643141608041,0.0014226370015029484,0.0014289776463330772,0.0014352863219528425,0.0014415631047648336,0.0014478080737338741,0.0014540213098520377,0.001460202895608222,0.0014663529144631313,0.0014724714503304892,0.0014785585870653283,0.0014846144079601435,0.00149063899524973,0.0014966324296254744,0.0015025947897598804,0.0015085261518420815,0.001514426589125064,0.0015202961714853335,0.0015261349649956977,0.001531943031511866,0.0015377204282734824,0.0015434672075202531,0.0015491834161237357,0.0015548690952353914,0.001560524279951426,0.0015661489989949652,0.0015717432744160155,0.0015773071213097207,0.0015828405475532912,0.0015883435535620483,0.001593816132064928,0.0015992582678997815,0.0016046699378287769,0.0016100511103741672,0.0016154017456746646,0.0016207217953626005,0.001626011202462073,0.0016312699013081653,0.0016364978174873651,0.0016416948677992385,0.0016468609602393583,0.001651995994003508,0.0016570998595130957,0.0016621724384617022,0.0016672136038826388,0.0016722232202373813,0.0016772011435246758,0.001682147221410108,0.0016870612933758764,0.0016919431908904927,0.0016967927375980732,0.0017016097495268965,0.0017063940353168122,0.0017111453964651225,0.0017158636275904655,0.0017205485167142481,0.001725199845559113,0.0017298173898639235,0.0017344009197147166,0.0017389501998910184,0.0017434649902269563,0.0017479450459865075,0.0017523901182522588,0.0017567999543269834,0.0017611742981473752,0.0017655128907091942,0.0017698154705031277,0.0017740817739606083,0.0017783115359088285,0.0017825044900341889,0.0017866603693533906,0.0017907789066913707,0.0017948598351652811,0.001798902888673701,0.0018029078023902453,0.0018068743132607528,0.0018108021605032307,0.0018146910861096925,0.0018185408353490863,0.0018223511572704482,0.0018261218052054598,0.0018298525372695711,0.0018335431168608612,0.0018371933131558031,0.0018408029016011244,0.0018443716644009436,0.001847899390998377,0.0018513858785508426,0.001854830932398242,0.0018582343665232961,0.0018615960040032373,0.001864915677452146,0.0018681932294531938,0.001871428512980084,0.0018746213918070063,0.0018777717409064238,0.001880879446834058,0.0018839444081004176,0.0018869665355282879,0.0018899457525955704,0.0018928819957629334,0.0018957752147857174,0.0018986253730095862,0.0019014324476494464,0.0019041964300511589,0.0019069173259356168,0.00190959515562478,0.0019122299542492912,0.0019148217719373133,0.0019173706739842775,0.0019198767410032395,0.0019223400690555894,0.0019247607697618716,0.0019271389703925186,0.001929474813938326,0.0019317684591605134,0.0019340200806202718,0.0019362298686877095,0.0019383980295301418,0.001940524785079697,0.0019426103729802608,0.001944655046513784,0.0019466590745060197,0.0019486227412117987,0.0019505463461799474,0.0019524302040980282,0.0019542746446170587,0.0019560800121564423,0.001957846665689324,0.001959574978508665,0.0019612653379742924,0.001962918145241276,0.0019645338149699375,0.0019661127750178913,0.001967655466114479,0.001969162341518027,0.0019706338666563576,0.0019720705187509973,0.0019734727864255835,0.0019748411692989353,0.001976176177563331,0.0019774783315485017,0.001978748161271911,0.0019799862059758605,0.0019811930136520383,0.0019823691405540605,0.0019835151506986475,0.0019846316153560484,0.001985719112530315,0.001986778226430118,0.0019878095469306953,0.001988813669027641,0.001989791192283152,0.0019907427202654464,0.001991668859981987,0.001992570221307209,0.001993447416405425,0.0019943010591495854,0.0019951317645365793,0.001995940148099746,0.0019967268253192824,0.0019974924110312217,0.001998237518835642,0.0019989627605047785,0.0019996687453917032,0.002000356079840206,0.002001025366596534,0.0020016772042236296,0.002002312186518464,0.002002930901933109,0.0020035339330001355,0.0020041218557629234,0.0020046952392114613,0.0020052546447242013,0.0020058006255165113,0.002006333726096242,0.002006854481726941,0.0020073634178992042,0.0020078610498106193,0.002008347881854807,0.00200882440711994,0.002009291106897216,0.002009748450199651,0.0020101968932915736,0.0020106368792292034,0.0020110688374126162,0.002011493183149437,0.0020119103172305513,0.002012320625518086,0.002012724478545939,0.0020131222311330654,0.0020135142220097236,0.0020139007734568722,0.002014282190958874,0.002014658762869648,0.0020150307600923694,0.002015398435772826,0.0020157620250065033,0.0020161217445594324,0.0020164777926028415,0.0020168303484616114,0.0020171795723765294,0.0020175256052802964,0.0020178685685872466,0.0020182085639967023,0.0020185456733098654,0.002018879958260153,0.0020192114603568463,0.002019540200741894,0.002019866180059745,0.0020201893783400155,0.002020509754892795,0.0020208272482164303,0.0020211417759175322,0.002021453234643009,0.002021761500023885,0.0020220664266306556,0.002022367847939942,0.0020226655763121645,0.0020229594029799935,0.002023249098047285,0.0020235344104982426,0.0020238150682165153,0.002024090778013954,0.002024361225668749,0.0020246260759726655,0.0020248849727870803,0.0020251375391075748,0.0020253833771367662,0.002025622068365146,0.002025853173659628,0.0020260762333595673,0.0020262907673799816,0.002026496275321756,0.002026692236588552,0.002026878110510256,0.002027053336472697,0.002027217334053476,0.0020273695031636898,0.002027509224195392,0.0020276358581746297,0.0020277487469198994,0.0020278472132059114,0.0020279305609325377,0.002027998075298856,0.0020280490229822095,0.002028082652322225,0.002028098193509747,0.0020280948587806822,0.002028071842614719,0.0020280283219389823,0.0020279634563366215,0.002027876388260422,0.0020277662432514948,0.0020276321301631495,0.0020274731413900708,0.002027288353102928,0.0020270768254885742,0.0020268376029960195,0.002026569714588351,0.002026272174000834,0.002025943980005407,0.00202558411668182,0.002025191553695684,0.0020247652465837022,0.00202430413704638,0.0020238071532485157,0.0020232732101278014,0.0020227012097118486,0.0020220900414440004,0.0020214385825182684,0.002020745698223761,0.0020200102422989683,0.0020192310572962834,0.0020184069749571345,0.0020175368165981115,0.00201661939350847,0.0020156535073594006,0.0020146379506254496,0.0020135715070184615,0.0020124529519344324,0.002011281052913642,0.002010054570114419,0.0020087722568009185,0.002007432859845218,0.002006035120244105,0.002004577773650844,0.002003059550922235,0.0020014791786812556,0.0019998353798955358,0.0019981268744719244,0.0019963523798673644,0.0019945106117162715,0.001992600284474599,0.001990620112080724,0.0019885688086332762,0.0019864450890860036,0.0019842476699597146,0.0019819752700713355,0.001979626611280063,0.0019772004192505632,0.0019746954242331454,0.0019721103618607697,0.001969443973962746,0.001966695009394917,0.0019638622248860814,0.0019609443859003772,0.001957940267515305,0.0019548486553150157,0.0019516683462984566,0.0019483981498019177,0.0019450368884354825,0.0019415833990328343,0.001938036533613836,0.0019343951603592417,0.0019306581645968704,0.001926824449798519,0.0019228929385868335,0.0019188625737513567,0.0019147323192728668,0.0019105011613551384,0.0019061681094631703,0.001901732197366906,0.0018971924841894375,0.0018925480554586188,0.0018877980241610048,0.0018829415317969866,0.0018779777494359415,0.0018729058787702157,0.001867725153166695,0.0018624348387147067,0.0018570342352689632,0.0018515226774862253,0.0018458995358543516,0.001840164217712362,0.0018343161682601425,0.001828354871556378,0.0018222798515033058,0.001816090672816856,0.001809786941980739,0.0018033683081830302,0.0017968344642338044,0.0017901851474623484,0.0017834201405925192,0.0017765392725947642,0.0017695424195133809,0.0017624295052675633,0.0017552005024247968,0.0017478554329452107,0.0017403943688954614,0.001732817433130786,0.0017251247999438646,0.0017173166956791501,0.0017093933993113748,0.0017013552429869536,0.0016932026125270423,0.0016849359478910576,0.0016765557435994745,0.001668062549114805,0.0016594569691796546,0.001650739664110838,0.0016419113500485735,0.0016329727991598062,0.0016239248397948074,0.0016147683565962067,0.001605504290559704,0.0015961336390457603,0.0015866574557416072,0.0015770768505730245,0.0015673929895653445,0.001557607094653261,0.001547720443439055,0.0015377343688989177,0.0015276502590371676,0.0015174695564881538,0.0015071937580657955,0.0014968244142607153,0.001486363128685019,0.0014758115574648846,0.0014651714085811242,0.0014544444411580433,0.0014436324647009336,0.001432737338282623,0.0014217609696796324,0.001410705314458471,0.0013995723750127786,0.001388364199552024,0.001377082881042544,0.0013657305561018684,0.0013543094038471985,0.001342821644699123,0.0013312695391416312,0.0013196553864395716],\"yaxis\":\"y\",\"type\":\"scatter\"},{\"legendgroup\":\"APC\",\"marker\":{\"color\":\"rgb(214, 39, 40)\"},\"mode\":\"lines\",\"name\":\"APC\",\"showlegend\":false,\"x\":[516.0,518.414,520.828,523.242,525.656,528.07,530.484,532.898,535.312,537.726,540.14,542.554,544.968,547.382,549.796,552.21,554.624,557.038,559.452,561.866,564.28,566.694,569.108,571.522,573.936,576.35,578.764,581.178,583.592,586.006,588.42,590.8340000000001,593.248,595.662,598.076,600.49,602.904,605.318,607.732,610.146,612.56,614.974,617.388,619.802,622.216,624.63,627.044,629.458,631.872,634.2860000000001,636.7,639.114,641.528,643.942,646.356,648.77,651.184,653.598,656.012,658.4259999999999,660.84,663.254,665.668,668.082,670.496,672.91,675.3240000000001,677.738,680.152,682.566,684.98,687.394,689.808,692.222,694.636,697.05,699.4639999999999,701.8779999999999,704.292,706.706,709.12,711.534,713.948,716.362,718.7760000000001,721.19,723.604,726.018,728.432,730.846,733.26,735.674,738.088,740.502,742.9159999999999,745.33,747.744,750.158,752.572,754.986,757.4,759.814,762.2280000000001,764.642,767.056,769.47,771.884,774.298,776.712,779.126,781.54,783.954,786.3679999999999,788.7819999999999,791.196,793.61,796.024,798.438,800.852,803.2660000000001,805.6800000000001,808.094,810.508,812.922,815.336,817.75,820.164,822.578,824.992,827.406,829.8199999999999,832.2339999999999,834.648,837.062,839.476,841.89,844.304,846.7180000000001,849.1320000000001,851.546,853.96,856.374,858.788,861.202,863.616,866.03,868.444,870.858,873.2719999999999,875.6859999999999,878.1,880.514,882.928,885.342,887.756,890.1700000000001,892.5840000000001,894.998,897.412,899.826,902.24,904.654,907.068,909.482,911.896,914.31,916.7239999999999,919.1379999999999,921.552,923.966,926.38,928.794,931.2080000000001,933.6220000000001,936.0360000000001,938.45,940.864,943.278,945.692,948.106,950.52,952.934,955.348,957.762,960.1759999999999,962.5899999999999,965.004,967.418,969.832,972.246,974.6600000000001,977.0740000000001,979.488,981.902,984.316,986.73,989.144,991.558,993.972,996.386,998.8,1001.2139999999999,1003.6279999999999,1006.0419999999999,1008.456,1010.87,1013.284,1015.698,1018.1120000000001,1020.5260000000001,1022.94,1025.354,1027.768,1030.182,1032.596,1035.01,1037.424,1039.838,1042.252,1044.6660000000002,1047.08,1049.4940000000001,1051.908,1054.3220000000001,1056.7359999999999,1059.15,1061.5639999999999,1063.978,1066.392,1068.806,1071.22,1073.634,1076.048,1078.462,1080.876,1083.29,1085.704,1088.118,1090.5320000000002,1092.946,1095.3600000000001,1097.774,1100.188,1102.6019999999999,1105.016,1107.4299999999998,1109.844,1112.258,1114.672,1117.086,1119.5,1121.914,1124.328,1126.742,1129.156,1131.5700000000002,1133.984,1136.3980000000001,1138.812,1141.226,1143.6399999999999,1146.054,1148.4679999999998,1150.882,1153.296,1155.71,1158.124,1160.538,1162.952,1165.366,1167.78,1170.194,1172.608,1175.022,1177.4360000000001,1179.85,1182.2640000000001,1184.6779999999999,1187.092,1189.5059999999999,1191.92,1194.3339999999998,1196.748,1199.162,1201.576,1203.99,1206.404,1208.818,1211.232,1213.646,1216.06,1218.4740000000002,1220.888,1223.3020000000001,1225.716,1228.13,1230.5439999999999,1232.958,1235.3719999999998,1237.786,1240.2,1242.614,1245.028,1247.442,1249.856,1252.27,1254.684,1257.098,1259.512,1261.926,1264.3400000000001,1266.754,1269.1680000000001,1271.5819999999999,1273.996,1276.4099999999999,1278.824,1281.238,1283.652,1286.066,1288.48,1290.894,1293.308,1295.722,1298.136,1300.55,1302.964,1305.3780000000002,1307.792,1310.2060000000001,1312.62,1315.034,1317.4479999999999,1319.862,1322.2759999999998,1324.69,1327.104,1329.518,1331.932,1334.346,1336.76,1339.174,1341.588,1344.002,1346.4160000000002,1348.83,1351.2440000000001,1353.658,1356.0720000000001,1358.4859999999999,1360.9,1363.3139999999999,1365.728,1368.142,1370.556,1372.97,1375.384,1377.798,1380.212,1382.626,1385.04,1387.454,1389.868,1392.2820000000002,1394.696,1397.1100000000001,1399.524,1401.938,1404.3519999999999,1406.766,1409.1799999999998,1411.594,1414.008,1416.422,1418.836,1421.25,1423.664,1426.078,1428.492,1430.906,1433.3200000000002,1435.734,1438.1480000000001,1440.562,1442.976,1445.3899999999999,1447.804,1450.2179999999998,1452.632,1455.046,1457.46,1459.874,1462.288,1464.702,1467.116,1469.53,1471.944,1474.358,1476.772,1479.1860000000001,1481.6,1484.0140000000001,1486.4279999999999,1488.842,1491.2559999999999,1493.67,1496.0839999999998,1498.498,1500.912,1503.326,1505.74,1508.154,1510.568,1512.982,1515.396,1517.81,1520.2240000000002,1522.638,1525.0520000000001,1527.466,1529.88,1532.2939999999999,1534.708,1537.1219999999998,1539.536,1541.95,1544.364,1546.778,1549.192,1551.606,1554.02,1556.434,1558.848,1561.262,1563.676,1566.09,1568.504,1570.918,1573.332,1575.746,1578.16,1580.574,1582.988,1585.402,1587.816,1590.23,1592.644,1595.058,1597.472,1599.886,1602.3,1604.714,1607.128,1609.542,1611.956,1614.37,1616.784,1619.198,1621.612,1624.026,1626.44,1628.854,1631.268,1633.682,1636.096,1638.51,1640.924,1643.338,1645.752,1648.166,1650.58,1652.994,1655.408,1657.822,1660.236,1662.65,1665.064,1667.478,1669.892,1672.306,1674.72,1677.134,1679.548,1681.962,1684.376,1686.79,1689.204,1691.618,1694.032,1696.446,1698.86,1701.274,1703.688,1706.102,1708.516,1710.93,1713.344,1715.758,1718.172,1720.586],\"xaxis\":\"x\",\"y\":[0.00019153800444205544,0.00019417798453501755,0.0001968424681797202,0.00019953156037247365,0.00020224536335320016,0.0002049839764040667,0.00020774749564396463,0.00021053601381901206,0.0002133496200892623,0.0002161883998118126,0.0002190524343205144,0.00022194180070249012,0.0002248565715716767,0.0002277968148396175,0.00023076259348373253,0.00023375396531330505,0.0002367709827334285,0.00023981369250716453,0.00024288213551616693,0.0002459763465200356,0.00024909635391466675,0.00025224217948987214,0.0002554138381865477,0.0002586113378536683,0.00026183467900540086,0.0002650838545786238,0.0002683588496911442,0.0002716596414009172,0.0002749861984665567,0.0002783384811094518,0.00028171644077778515,0.00028512001991276326,0.0002885491517173673,0.00029200375992793264,0.0002954837585888657,0.00029898905183081334,0.00030251953365258865,0.0003060750877071674,0.0003096555870920649,0.0003132608941443986,0.0003168908602409441,0.00032054532560349245,0.0003242241191098056,0.0003279270581104788,0.0003316539482519969,0.00033540458330628774,0.0003391787450070571,0.00034297620289319437,0.00034679671415953085,0.0003506400235152269,0.0003545058630500599,0.00035839395210888276,0.00036230399717451073,0.0003662356917592937,0.00037018871630562167,0.00037416273809560535,0.000378157411170168,0.0003821723762577761,0.0003862072607130225,0.00039026167846528686,0.00039433522997766316,0.0003984275022163565,0.0004025380686307364,0.0004066664891442164,0.0004108123101561376,0.00041497506455480285,0.00041915427174181734,0.0004233494376678711,0.0004275600548800874,0.00043178560258105923,0.00043602554669967103,0.0004402793399738096,0.0004445464220450377,0.0004488262195653093,0.0004531181463157792,0.00045742160333776203,0.0004617359790758662,0.0004660606495333354,0.00047039497843960414,0.0004747383174300606,0.0004790900062380134,0.0004834493728988212,0.0004878157339661564,0.0004921883947403391,0.0004965666495086841,0.0005009497817977683,0.0005053370646375457,0.0005097277608371753,0.0005141211232724655,0.0005185163951847943,0.0005229128104913482,0.0005273095941065385,0.0005317059622744046,0.0005361011229118265,0.0005404942759623426,0.0005448846137603635,0.00054927132140555,0.0005536535771471207,0.0005580305527778366,0.0005624014140373917,0.0005667653210249421,0.000571121428620478,0.0005754688869147357,0.000579806841647341,0.000584134434652851,0.0005884508043143669,0.0005927550860243619,0.0005970464126523672,0.0006013239150191508,0.0006055867223770012,0.0006098339628957338,0.0006140647641540192,0.0006182782536356179,0.0006224735592301172,0.0006266498097377326,0.0006308061353777443,0.0006349416683001348,0.0006390555430999672,0.000643146897334057,0.0006472148720394823,0.0006512586122534507,0.0006552772675340729,0.0006592699924815442,0.0006632359472592817,0.0006671742981145059,0.0006710842178978098,0.0006749648865812033,0.0006788154917741683,0.0006826352292372114,0.0006864233033924453,0.0006901789278306979,0.0006939013258146638,0.0006975897307776142,0.000701243386817178,0.0007048615491837188,0.000708443484762826,0.0007119884725514451,0.0007154958041271923,0.0007189647841103759,0.0007223947306182806,0.0007257849757112637,0.000729134865830218,0.000732443762224982,0.0007357110413732579,0.0007389360953896393,0.00074211833242434,0.0007452571770512294,0.0007483520706448018,0.0007514024717457052,0.0007544078564144795,0.0007573677185731609,0.000760281570334424,0.0007631489423179492,0.0007659693839537212,0.000768742463771967,0.0007714677696794791,0.0007741449092220603,0.000776773509832868,0.0007793532190664349,0.0007818837048181706,0.0007843646555291632,0.0007867957803761149,0.0007891768094462728,0.0007915074938972257,0.0007937876061014626,0.0007960169397756063,0.0007981953100942475,0.000800322553788344,0.0008023985292281408,0.0008044231164906146,0.0008063962174114418,0.0008083177556215285,0.0008101876765681436,0.0008120059475207295,0.0008137725575614738,0.0008154875175607468,0.0008171508601375369,0.0008187626396050178,0.0008203229319014165,0.0008218318345063595,0.00082328946634289,0.0008246959676653786,0.0008260514999335522,0.000827356245672886,0.0008286104083216302,0.0008298142120647401,0.0008309679016550057,0.00083207174222169,0.0008331260190669892,0.0008341310374506535,0.0008350871223631078,0.0008359946182874326,0.0008368538889505673,0.0008376653170641144,0.0008384293040551291,0.0008391462697872859,0.0008398166522728256,0.0008404409073756877,0.0008410195085062409,0.0008415529463080319,0.0008420417283369711,0.0008424863787333807,0.0008428874378873342,0.0008432454620977127,0.0008435610232254086,0.0008438347083411031,0.0008440671193680467,0.0008442588727202647,0.0008444105989366108,0.0008445229423110854,0.0008445965605198319,0.0008446321242452143,0.0008446303167973841,0.0008445918337337195,0.0008445173824765312,0.0008444076819293975,0.0008442634620925166,0.0008440854636774021,0.0008438744377212945,0.0008436311452016024,0.0008433563566507025,0.000843050851771401,0.0008427154190533551,0.0008423508553907272,0.0008419579657013426,0.0008415375625475953,0.0008410904657593414,0.0008406175020589909,0.0008401195046890056,0.0008395973130419868,0.0008390517722935176,0.0008384837330379164,0.0008378940509270321,0.0008372835863121974,0.0008366532038894431,0.0008360037723480496,0.0008353361640225074,0.0008346512545479242,0.0008339499225189197,0.0008332330491520123,0.0008325015179514956,0.0008317562143787906,0.0008309980255252238,0.0008302278397881957,0.0008294465465506552,0.0008286550358638074,0.0008278541981329531,0.0008270449238063496,0.0008262281030669641,0.0008254046255269867,0.0008245753799249488,0.0008237412538252853,0.0008229031333201718,0.0008220619027334443,0.0008212184443264234,0.0008203736380054275,0.0008195283610307749,0.0008186834877270614,0.0008178398891944839,0.0008169984330209885,0.0008161599829950163,0.0008153253988186049,0.0008144955358206158,0.0008136712446698477,0.0008128533710878006,0.0008120427555608508,0.0008112402330516019,0.0008104466327091813,0.0008096627775782506,0.0008088894843065069,0.0008081275628504538,0.0008073778161792308,0.0008066410399762964,0.0008059180223387648,0.0008052095434742127,0.0008045163753947727,0.0008038392816083545,0.0008031790168068288,0.0008025363265510418,0.0008019119469525239,0.0008013066043517802,0.0008007210149930669,0.00080015588469556,0.0007996119085208614,0.0007990897704367767,0.000798590142977343,0.000798113686899087,0.0007976610508335115,0.0007972328709358404,0.0007968297705300564,0.0007964523597502955,0.0007961012351786784,0.0007957769794796796,0.0007954801610311529,0.0007952113335521623,0.0007949710357277719,0.0007947597908309832,0.0007945781063420263,0.0007944264735652237,0.0007943053672436748,0.0007942152451720281,0.0007941565478076279,0.000794129697880337,0.0007941351000013659,0.0007941731402714493,0.0007942441858887399,0.0007943485847567946,0.0007944866650930582,0.0007946587350382634,0.0007948650822671747,0.0007951059736011352,0.0007953816546228796,0.0007956923492940904,0.0007960382595761995,0.0007964195650549386,0.0007968364225691581,0.000797288965844454,0.0007977773051321353,0.0007983015268540955,0.0007988616932541375,0.000799457842056335,0.0008000899861309926,0.0008007581131687969,0.0008014621853637382,0.0008022021391053979,0.0008029778846811888,0.0008037893059891491,0.0008046362602618787,0.0008055185778022162,0.0008064360617312433,0.000807388487749214,0.0008083756039099866,0.0008093971304095398,0.00081045275938915,0.0008115421547537945,0.0008126649520063386,0.0008138207580980536,0.0008150091512960063,0.000816229681067848,0.0008174818679845117,0.0008187652036413226,0.0008200791505980047,0.0008214231423380551,0.0008227965832479401,0.0008241988486165454,0.0008256292846553036,0.0008270872085393945,0.0008285719084703958,0.0008300826437607434,0.0008316186449403394,0.0008331791138856179,0.0008347632239713597,0.0008363701202455292,0.0008379989196273662,0.0008396487111289598,0.0008413185561004929,0.0008430074884993252,0.0008447145151830532,0.0008464386162266641,0.000848178745263869,0.0008499338298526725,0.0008517027718652132,0.0008534844479018787,0.0008552777097296633,0.0008570813847447267,0.0008588942764590633,0.0008607151650111732,0.0008625428077005989,0.0008643759395461563,0.0008662132738676697,0.0008680535028909759,0.0008698952983759579,0.000871737312267311,0.0008735781773677497,0.0008754165080332998,0.0008772509008903267,0.0008790799355738955,0.0008809021754870536,0.0008827161685805841,0.0008845204481527581,0.0008863135336685952,0.0008880939315980999,0.0008898601362729356,0.0008916106307609572,0.0008933438877580139,0.0008950583704963954,0.0008967525336692908,0.000898424824370589,0.0009000736830493425,0.0009016975444781835,0.0009032948387349798,0.0009048639921969739,0.0009064034285466518,0.0009079115697885626,0.0009093868372762895,0.0009108276527487597,0.0009122324393750738,0.0009135996228070017,0.0009149276322383004,0.0009162149014699812,0.0009174598699806431,0.000918660984000995,0.0009198166975916473,0.0009209254737232831,0.0009219857853582752,0.0009229961165328345,0.000923954963438752,0.0009248608355038,0.0009257122564698502,0.0009265077654677654,0.0009272459180881122,0.0009279252874467496,0.0009285444652443425,0.0009291020628188456,0.0009295967121900144,0.0009300270670949919,0.0009303918040140272,0.0009306896231853881,0.0009309192496085306,0.0009310794340345944,0.0009311689539433039,0.0009311866145053586,0.0009311312495294066,0.0009310017223927039,0.0009307969269545725,0.0009305157884517841,0.0009301572643750054,0.0009297203453254552,0.0009292040558509377,0.0009286074552604348,0.0009279296384164475,0.0009271697365043042,0.0009263269177776621,0.0009254003882794507,0.0009243893925375277,0.0009232932142343325,0.0009221111768498448,0.0009208426442771852,0.0009194870214102031,0.000918043754702434,0.000916512332696823,0.0009148922865256422,0.0009131831903800537,0.0009113846619487889,0.0009094963628254579,0.0009075179988840103,0.0009054493206219131,0.0009032901234706338,0.0009010402480730418,0.0008986995805273808,0.0008962680525974878,0.0008937456418889653,0.0008911323719910536,0.000888428312583968,0.0008856335795115087,0.0008827483348187831,0.0008797727867549045,0.0008767071897405794,0.0008735518443005094,0.0008703070969605897,0.0008669733401099049,0.0008635510118275591,0.0008600405956744195,0.0008564426204498791,0.0008527576599137824,0.0008489863324736929,0.0008451293008377147,0.0008411872716331152,0.0008371609949910316,0.0008330512640975761,0.0008288589147116951,0.0008245848246501588,0.0008202299132401083,0.0008157951407396069,0.0008112815077266813,0.0008066900544573746,0.0008020218601933541,0.0007972780424996644,0.0007924597565132309,0.0007875681941827658,0.0007826045834807434,0.0007775701875881564,0.0007724663040527789,0.0007672942639217009,0.0007620554308489231,0.0007567512001788242,0.0007513829980063424,0.0007459522802147375,0.0007404605314918217,0.0007349092643255688,0.0007293000179800425,0.0007236343574525909,0.0007179138724132866,0.0007121401761276045,0.0007063149043633477,0.0007004397142828501,0.0006945162833214964,0.0006885463080536182,0.0006825315030468316,0.0006764735997059052],\"yaxis\":\"y\",\"type\":\"scatter\"},{\"legendgroup\":\"field artillery\",\"marker\":{\"color\":\"rgb(148, 103, 189)\"},\"mode\":\"lines\",\"name\":\"field artillery\",\"showlegend\":false,\"x\":[49.0,49.512,50.024,50.536,51.048,51.56,52.072,52.584,53.096000000000004,53.608,54.12,54.632,55.144,55.656,56.168,56.68,57.192,57.704,58.216,58.728,59.24,59.752,60.263999999999996,60.775999999999996,61.288,61.8,62.312,62.824,63.336,63.848,64.36,64.872,65.384,65.896,66.408,66.92,67.432,67.944,68.456,68.968,69.48,69.992,70.504,71.01599999999999,71.52799999999999,72.03999999999999,72.55199999999999,73.064,73.576,74.088,74.6,75.112,75.624,76.136,76.648,77.16,77.672,78.184,78.696,79.208,79.72,80.232,80.744,81.256,81.768,82.28,82.792,83.304,83.816,84.328,84.84,85.352,85.864,86.376,86.888,87.4,87.912,88.424,88.936,89.44800000000001,89.96000000000001,90.47200000000001,90.98400000000001,91.49600000000001,92.00800000000001,92.52000000000001,93.032,93.544,94.056,94.568,95.08,95.592,96.104,96.616,97.128,97.64,98.152,98.664,99.176,99.688,100.2,100.712,101.22399999999999,101.73599999999999,102.24799999999999,102.75999999999999,103.27199999999999,103.78399999999999,104.29599999999999,104.80799999999999,105.32,105.832,106.344,106.856,107.368,107.88,108.392,108.904,109.416,109.928,110.44,110.952,111.464,111.976,112.488,113.0,113.512,114.024,114.536,115.048,115.56,116.072,116.584,117.096,117.608,118.12,118.632,119.144,119.656,120.168,120.68,121.192,121.704,122.216,122.728,123.24,123.752,124.264,124.776,125.288,125.8,126.312,126.824,127.336,127.848,128.36,128.872,129.38400000000001,129.89600000000002,130.40800000000002,130.92000000000002,131.43200000000002,131.94400000000002,132.45600000000002,132.96800000000002,133.48000000000002,133.99200000000002,134.50400000000002,135.01600000000002,135.52800000000002,136.04000000000002,136.55200000000002,137.064,137.576,138.088,138.6,139.112,139.624,140.136,140.648,141.16,141.672,142.184,142.696,143.208,143.72,144.232,144.744,145.256,145.768,146.28,146.792,147.304,147.816,148.328,148.84,149.352,149.864,150.376,150.888,151.4,151.912,152.424,152.936,153.44799999999998,153.95999999999998,154.47199999999998,154.98399999999998,155.49599999999998,156.00799999999998,156.51999999999998,157.03199999999998,157.54399999999998,158.05599999999998,158.56799999999998,159.07999999999998,159.59199999999998,160.10399999999998,160.61599999999999,161.128,161.64,162.152,162.664,163.176,163.688,164.2,164.712,165.224,165.736,166.248,166.76,167.272,167.784,168.296,168.808,169.32,169.832,170.344,170.856,171.368,171.88,172.392,172.904,173.416,173.928,174.44,174.952,175.464,175.976,176.488,177.0,177.512,178.024,178.536,179.048,179.56,180.072,180.584,181.096,181.608,182.12,182.632,183.144,183.656,184.168,184.68,185.192,185.704,186.216,186.728,187.24,187.752,188.264,188.776,189.288,189.8,190.312,190.824,191.336,191.848,192.36,192.872,193.384,193.896,194.408,194.92,195.432,195.944,196.456,196.968,197.48,197.992,198.504,199.016,199.528,200.04,200.552,201.064,201.576,202.088,202.6,203.112,203.624,204.136,204.648,205.16,205.672,206.184,206.696,207.208,207.72,208.232,208.744,209.256,209.768,210.28,210.792,211.304,211.816,212.328,212.84,213.352,213.864,214.376,214.888,215.4,215.912,216.424,216.936,217.448,217.96,218.472,218.984,219.496,220.008,220.52,221.032,221.544,222.056,222.568,223.08,223.592,224.104,224.616,225.128,225.64,226.152,226.664,227.176,227.688,228.2,228.712,229.224,229.736,230.248,230.76,231.272,231.784,232.296,232.808,233.32,233.832,234.344,234.856,235.368,235.88,236.392,236.904,237.416,237.928,238.44,238.952,239.464,239.976,240.488,241.0,241.512,242.024,242.536,243.048,243.56,244.072,244.584,245.096,245.608,246.12,246.632,247.144,247.656,248.168,248.68,249.192,249.704,250.216,250.728,251.24,251.752,252.264,252.776,253.288,253.8,254.312,254.824,255.336,255.848,256.36,256.872,257.384,257.89599999999996,258.408,258.91999999999996,259.432,259.94399999999996,260.456,260.96799999999996,261.48,261.99199999999996,262.504,263.01599999999996,263.528,264.03999999999996,264.552,265.06399999999996,265.576,266.08799999999997,266.6,267.11199999999997,267.624,268.13599999999997,268.648,269.15999999999997,269.672,270.18399999999997,270.696,271.20799999999997,271.72,272.23199999999997,272.744,273.256,273.76800000000003,274.28,274.79200000000003,275.304,275.81600000000003,276.328,276.84000000000003,277.352,277.86400000000003,278.376,278.88800000000003,279.4,279.91200000000003,280.424,280.93600000000004,281.448,281.96000000000004,282.472,282.98400000000004,283.496,284.00800000000004,284.52,285.03200000000004,285.544,286.05600000000004,286.568,287.08000000000004,287.592,288.10400000000004,288.616,289.128,289.64,290.152,290.664,291.176,291.688,292.2,292.712,293.224,293.736,294.248,294.76,295.272,295.784,296.296,296.808,297.32,297.832,298.344,298.856,299.368,299.88,300.392,300.904,301.416,301.928,302.44,302.952,303.464,303.976,304.488],\"xaxis\":\"x\",\"y\":[0.002410464521217663,0.0024327748745441007,0.0024550972040406228,0.002477428601670466,0.0024997661357702675,0.002522106851347164,0.0025444477703821106,0.0025667858921398093,0.002589118193485706,0.002611441629210485,0.002633753132362555,0.0026560496145889615,0.0026783279664852493,0.002700585057954724,0.0027228177385776467,0.0027450228379908475,0.002767197166278284,0.002789337514373042,0.0028114406544713162,0.002833503340458904,0.0028555223083507,0.0028774942767437594,0.00289941594728443,0.002921284005150092,0.002943095119546007,0.002964845944217812,0.0029865331179801777,0.003008153265262092,0.0030297029966693213,0.003051178909564499,0.003072577588665346,0.003093895606661458,0.0031151295248501563,0.003136275893791785,0.003157331253984951,0.0031782921365620487,0.0031991550640054806,0.0032199165508849797,0.003240573104616323,0.0032611212262418188,0.0032815574112328443,0.003301878150314722,0.0033220799303141997,0.003342159235029759,0.00336211254612496,0.003381936344044991,0.0034016271089565816,0.0034211813217113894,0.0034405954648329285,0.0034598660235271366,0.003478989486716544,0.0034979623480980715,0.0035167811072243783,0.0035354422706087157,0.003553942352853104,0.0035722778777997253,0.0035904453797053156,0.0036084414044383114,0.003626262510698507,0.00364390527125885,0.0036613662742291113,0.003678642124340952,0.003695729444253982,0.0037126248758823635,0.003729325081741416,0.003745826746313659,0.003762126577433711,0.0037782213076914253,0.0037941076958525398,0.0038097825282961497,0.003825242620468245,0.003840484818350504,0.0038555059999434965,0.003870303076763437,0.0038848729953515496,0.0038992127387951028,0.003913319328259098,0.003927189824527633,0.00394082132955379,0.00395421098801702,0.0039673559888868575,0.003980253566991776,0.0039929010045920196,0.004005295632955139,0.004017434833932989,0.004029316041538887,0.004040936743523607,0.004052294482948863,0.004063386859756908,0.004074211532334849,0.004084766219072258,0.004095048699910643,0.00410505681788332,0.0041147884806441905,0.004124241661983968,0.0041334144033323104,0.004142304815244356,0.004150911078870151,0.00415923144740539,0.004167264247521973,0.004175007880776779,0.004182460824997156,0.004189621635641556,0.00419648894713372,0.004203061474168968,0.004209338012990929,0.004215317442637286,0.004220998726152919,0.004226380911769015,0.004231463134046579,0.004236244614982889,0.004240724665079456,0.0042449026843699705,0.004248778163406883,0.004252350684205186,0.004255619921142027,0.004258585641810792,0.0042612477078283655,0.0042636060755942866,0.0042656607970005195,0.004267412020090644,0.004268859989667314,0.004270005047846787,0.004270847634559499,0.004271388287995581,0.00427162764499434,0.004271566441376743,0.004271205512219961,0.004270545792073175,0.004269588315113774,0.00426833421524323,0.004266784726121912,0.004264941181142261,0.004262805013339631,0.0042603777552403955,0.0042576610386467284,0.0042546565943577435,0.0042513662518266025,0.00424779193875329,0.004243935680612899,0.004239799600119184,0.004235385916623383,0.0042306969454481945,0.004225735097157026,0.004220502876758562,0.0042150028828468675,0.004209237806677253,0.004203210431178176,0.004196923629899641,0.004190380365898465,0.004183583690560909,0.004176536742363365,0.004169242745571602,0.0041617050088793885,0.004153926923987221,0.004145911964122022,0.0041376636824986945,0.004129185710724542,0.004120481757147577,0.004111555605149783,0.00410241111138656,0.004093052203973524,0.004083482880621953,0.004073707206724243,0.004063729313390754,0.0040535533954394656,0.004043183709340044,0.0040326245711137685,0.00402188035419102,0.00401095548722791,0.003999854451883855,0.0039885817805617365,0.003977142054112555,0.003965539899506328,0.003953779987471166,0.0039418670301024075,0.003929805778443806,0.003917601020042708,0.00390525757648126,0.0038927803008857063,0.003880174075415815,0.003867443808736556,0.00385459443347412,0.0038416309036584696,0.0038285581921544873,0.00381538128808398,0.0038021051942406623,0.003788734924500317,0.003775275501228348,0.003761731952686898,0.0037481093104437474,0.0037344126067851936,0.003720646872135093,0.0037068171324822702,0.003692928406818462,0.0036789857045889823,0.0036649940231582253,0.0036509583452921978,0.00363688363666015,0.0036227748433574195,0.0036086368894515846,0.003594474674553914,0.0035802930714181934,0.0035660969235688763,0.003551891042960506,0.0035376802076703484,0.003523469159626088,0.0035092626023704447,0.0034950651988644634,0.0034808815693312843,0.0034667162891420275,0.0034525738867454995,0.0034384588416432765,0.003424375582411745,0.003410328484772571,0.003396321869713042,0.0033823600016576597,0.0033684470866923023,0.003354587270842197,0.0033407846384049377,0.003327043210339624,0.0033133669427132324,0.0032997597252051986,0.003286225379671148,0.0032727676587666257,0.003259390244631645,0.0032460967476367615,0.0032328907051913207,0.0032197755806144847,0.0032067547620695256,0.0031938315615618385,0.0031810092140010294,0.003168290876327385,0.003155679626702926,0.0031431784637672034,0.0031307903059579183,0.0031185179908963436,0.0031063642748374947,0.003094331832184904,0.0030824232550697764,0.003070641052994248,0.0030589876525383784,0.003047465397130463,0.0030360765468801644,0.0030248232784738883,0.003013707685131794,0.0030027317766257145,0.002991897479357247,0.00298120663649518,0.0029706610081713515,0.0029602622717340137,0.0029500120220576844,0.002939911771908406,0.0029299629523633,0.002920166913283252,0.002910524923837452,0.002901038173078558,0.002891707770567114,0.0028825347470438655,0.0028735200551485347,0.002864664570183594,0.0028559690909215263,0.0028474343404540285,0.0028390609670815694,0.0028308495452416915,0.0028228005764743946,0.0028149144904229284,0.002807191645868294,0.002799632331795693,0.0027922367684912208,0.002785005108666961,0.002777937438612755,0.0027710337793727933,0.002764294087945226,0.002757718258502962,0.002751306123633809,0.00274505745559813,0.0027389719676021444,0.0027330493150850487,0.0027272890970181044,0.0027216908572138647,0.0027162540856436775,0.0027109782197616886,0.0027058626458335037,0.0027009067002677256,0.0026961096709485844,0.0026914707985679132,0.002686989277954719,0.0026826642594006502,0.0026784948499796652,0.0026744801148602536,0.002670619078608565,0.0026669107264808882,0.002663354005703872,0.002659947826741014,0.002656691064543893,0.0026535825597867354,0.002650621120082896,0.0026478055211818946,0.0026451345081457155,0.002642606796503089,0.0026402210733805533,0.0026379759986091254,0.0026358702058054697,0.0026339023034265244,0.002632070875796546,0.0026303744841056735,0.0026288116673790552,0.0026273809434157794,0.0026260808096967843,0.002624909744261036,0.0026238662065493435,0.0026229486382151977,0.0026221554639021057,0.0026214850919869547,0.002620935915288993,0.0026205063117440888,0.002620194645043973,0.002619999265240264,0.0026199185093131044,0.0026199507017043186,0.002620094154815077,0.002620347169468071,0.0026207080353343273,0.0026211750313247938,0.002621746425946925,0.0026224204776265476,0.002623195434995351,0.0026240695371443955,0.0026250410138440963,0.0026261080857312093,0.0026272689644633797,0.0026285218528418986,0.002629864944903337,0.0026312964259808023,0.0026328144727356074,0.0026344172531601938,0.0026361029265531905,0.0026378696434675632,0.0026397155456328245,0.0026416387658523346,0.0026436374278767773,0.0026457096462549116,0.0026478535261627604,0.0026500671632124183,0.0026523486432417213,0.002654696042086016,0.0026571074253333394,0.0026595808480643205,0.0026621143545781626,0.002664705978106066,0.0026673537405135024,0.002670055651992752,0.002672809710747152,0.002675613902668495,0.0026784662010090553,0.002681364566049732,0.0026843069447657817,0.0026872912704916448,0.0026903154625863876,0.002693377426101228,0.0026964750514506895,0.0026996062140888584,0.002702768774192265,0.002705960576350859,0.0027091794492685936,0.002712423205475055,0.0027156896410496264,0.002718976535359611,0.0027222816508137406,0.0027256027326324943,0.002728937508636567,0.0027322836890548863,0.002735638966353485,0.0027390010150865275,0.0027423674917707763,0.0027457360347847115,0.002749104264293526,0.002752469782201135,0.00275583017213035,0.0027591829994322798,0.00276252581122601,0.0027658561364695524,0.0027691714860630097,0.0027724693529848714,0.002775747212462278,0.0027790025221760624,0.0027822327225013248,0.0027854352367842204,0.0027886074716556223,0.0027917468173822286,0.002794850648255652,0.00279791632301996,0.0028009411853380786,0.002803922564297414,0.0028068577749549716,0.00280974411892223,0.002812578884989903,0.002815359349792728,0.002818082778514307,0.002820746425631984,0.002823347535701677,0.0028258833441825244,0.002828351078301122,0.0028307479579550883,0.002833071196655626,0.0028353180025086594,0.0028374855792341093,0.002839571127222758,0.002841571844630142,0.002843484928506785,0.002845307575964114,0.0028470369853752305,0.0028486703576097567,0.0028502048973018325,0.0028516378141503497,0.002852966324250382,0.002854187651454802,0.0028552990287649314,0.002856297699749085,0.002857180919987782,0.002857945958544379,0.0028585900994597775,0.002859110643269883,0.0028595049085443853,0.002859770233445428,0.002859903977304665,0.0028599035222171883,0.0028597662746507493,0.0028594896670686818,0.002859071159564881,0.0028585082415091825,0.0028577984332014347,0.0028569392875325513,0.002855928391650782,0.002854763368631449,0.002853441879148344,0.0028519616231449793,0.0028503203415038703,0.0028485158177120134,0.0028465458795207082,0.0028444084005978644,0.002842101302170938,0.0028396225546586194,0.0028369701792894217,0.002834142249705287,0.0028311368935483613,0.0028279522940290766,0.002824586691473704,0.002821038384849518,0.002817305733265792,0.0028133871574487807,0.0028092811411889354,0.0028049862327585557,0.002800501046298185,0.0027958242631699725,0.002790954633276379,0.0027858909763425212,0.0027806321831605656,0.0027751772167945595,0.00276952511374417,0.002763674985065794,0.0027576260174496056,0.002751377474251069,0.002744928696475579,0.0027382791037148554,0.0027314281950338486,0.0027243755498068665,0.0027171208285018023,0.0027096637734112805,0.0027020042093296847,0.002694142044175031,0.0026860772695547347,0.002677809961274379,0.0026693402797886337,0.00266066847059357,0.002651794864559631,0.0026427198782046366,0.0026334440139062234,0.002623967860053211,0.002614292091135435,0.002604417467771671,0.0025943448366753242,0.0025840751305576497,0.002573609367968308,0.0025629486530731552,0.002552094175369217,0.002541047209336884,0.002529809114029412,0.002518381332599889,0.0025067653917659216,0.002494962901212308,0.002482975552932101,0.0024708051205064633,0.0024584534583238465,0.002445922500739034,0.0024332142611727062,0.002420330831152204,0.002407274379294272,0.0023940471502305787],\"yaxis\":\"y\",\"type\":\"scatter\"},{\"legendgroup\":\"MRL\",\"marker\":{\"color\":\"rgb(140, 86, 75)\"},\"mode\":\"lines\",\"name\":\"MRL\",\"showlegend\":false,\"x\":[4.0,4.184,4.368,4.552,4.736,4.92,5.104,5.288,5.4719999999999995,5.656,5.84,6.024,6.208,6.3919999999999995,6.5760000000000005,6.76,6.944,7.128,7.311999999999999,7.496,7.68,7.864,8.048,8.232,8.416,8.6,8.783999999999999,8.968,9.152000000000001,9.336,9.52,9.704,9.888,10.072,10.256,10.440000000000001,10.623999999999999,10.808,10.992,11.176,11.36,11.544,11.728,11.911999999999999,12.096,12.28,12.464,12.648,12.832,13.016,13.2,13.384,13.568,13.752,13.936,14.12,14.304,14.488,14.672,14.856,15.04,15.224,15.408,15.592,15.776,15.96,16.144,16.328,16.512,16.695999999999998,16.880000000000003,17.064,17.247999999999998,17.432000000000002,17.616,17.8,17.984,18.168,18.352,18.536,18.72,18.904,19.088,19.272,19.456,19.64,19.823999999999998,20.008,20.192,20.376,20.56,20.744,20.928,21.112,21.296,21.48,21.664,21.848,22.032,22.216,22.4,22.584,22.768,22.952,23.136,23.32,23.504,23.688,23.872,24.056,24.24,24.424,24.608,24.792,24.976,25.16,25.344,25.528,25.712,25.896,26.08,26.264,26.448,26.632,26.816,27.0,27.184,27.368,27.552,27.736,27.92,28.104,28.288,28.472,28.656,28.84,29.024,29.208,29.392,29.576,29.76,29.944,30.128,30.312,30.496,30.68,30.864,31.048,31.232,31.416,31.6,31.784,31.968,32.152,32.336,32.519999999999996,32.704,32.888000000000005,33.072,33.256,33.44,33.623999999999995,33.808,33.992000000000004,34.176,34.36,34.544,34.728,34.912,35.096000000000004,35.28,35.464,35.647999999999996,35.832,36.016,36.2,36.384,36.568,36.752,36.936,37.12,37.304,37.488,37.672,37.856,38.04,38.224,38.408,38.592,38.776,38.96,39.144,39.328,39.512,39.696,39.88,40.064,40.248,40.432,40.616,40.8,40.984,41.168,41.352,41.536,41.72,41.904,42.088,42.272,42.456,42.64,42.824,43.008,43.192,43.376,43.56,43.744,43.928,44.112,44.296,44.48,44.664,44.848,45.032,45.216,45.4,45.584,45.768,45.952,46.136,46.32,46.504,46.688,46.872,47.056,47.24,47.424,47.608,47.792,47.976,48.16,48.344,48.528,48.712,48.896,49.08,49.264,49.448,49.632,49.816,50.0,50.184,50.368,50.552,50.736,50.92,51.104,51.288,51.472,51.656,51.84,52.024,52.208,52.392,52.576,52.76,52.944,53.128,53.312,53.496,53.68,53.864,54.048,54.232,54.416,54.6,54.784,54.968,55.152,55.336,55.52,55.704,55.888,56.072,56.256,56.44,56.624,56.808,56.992,57.176,57.36,57.544,57.728,57.912,58.096,58.28,58.464,58.648,58.832,59.016,59.2,59.384,59.568,59.752,59.936,60.12,60.304,60.488,60.672,60.856,61.04,61.224,61.408,61.592,61.776,61.96,62.144,62.328,62.512,62.696,62.88,63.064,63.248,63.432,63.616,63.8,63.984,64.168,64.352,64.536,64.72,64.904,65.088,65.27199999999999,65.456,65.64,65.824,66.00800000000001,66.19200000000001,66.376,66.56,66.744,66.928,67.112,67.29599999999999,67.47999999999999,67.664,67.848,68.032,68.216,68.4,68.584,68.768,68.952,69.136,69.32,69.504,69.688,69.872,70.056,70.24,70.424,70.608,70.792,70.976,71.16,71.344,71.528,71.712,71.896,72.08,72.264,72.448,72.632,72.816,73.0,73.184,73.368,73.552,73.736,73.92,74.104,74.288,74.472,74.656,74.84,75.024,75.208,75.392,75.576,75.76,75.944,76.128,76.312,76.496,76.68,76.864,77.048,77.232,77.416,77.6,77.784,77.968,78.152,78.336,78.52,78.704,78.888,79.072,79.256,79.44,79.624,79.808,79.992,80.176,80.36,80.544,80.728,80.912,81.096,81.28,81.464,81.648,81.832,82.016,82.2,82.384,82.568,82.752,82.936,83.12,83.304,83.488,83.672,83.856,84.04,84.224,84.408,84.592,84.776,84.96,85.144,85.328,85.512,85.696,85.88,86.064,86.248,86.432,86.616,86.8,86.984,87.168,87.352,87.536,87.72,87.904,88.088,88.272,88.456,88.64,88.824,89.008,89.192,89.376,89.56,89.744,89.928,90.112,90.296,90.48,90.664,90.848,91.032,91.216,91.4,91.584,91.768,91.952,92.136,92.32,92.504,92.688,92.872,93.056,93.24,93.424,93.608,93.792,93.976,94.16,94.344,94.528,94.712,94.896,95.08,95.264,95.448,95.632,95.816],\"xaxis\":\"x\",\"y\":[0.0034176710969712246,0.0034323300898616974,0.0034466344591679377,0.0034605841288153525,0.003474179283276398,0.0034874203674383477,0.0035003080862560333,0.0035128434041928227,0.003525027544453345,0.003536861988011818,0.003548348472440102,0.0035594889905398892,0.003570285788783701,0.0035807413655695856,0.0035908584692947005,0.003600640096253143,0.0036100894883636233,0.0036192101307327344,0.003628005749059849,0.003636480306889669,0.0036446380027187735,0.0036524832669625525,0.003660020758789029,0.0036672553628261818,0.0036741921857494945,0.003680836552756467,0.003687194003934914,0.0036932702905318714,0.0036990713711299895,0.0037046034077382584,0.0037098727618038777,0.0037148859901520773,0.0037196498408606365,0.0037241712490757735,0.0037284573327759545,0.0037325153884901763,0.003736352886977031,0.003739977468870809,0.0037433969403007504,0.0037466192684893467,0.003749652577335494,0.0037525051429880274,0.0037551853894150417,0.0037577018839741747,0.003760063332988758,0.003762278577334598,0.0037643565880418396,0.0037663064619161434,0.003768137417183128,0.0037698587891598244,0.003771480025956527,0.003773010684212224,0.0037744604248664696,0.0037758390089702846,0.0037771562935383853,0.0037784222274447553,0.0037796468473632328,0.0037808402737545734,0.0037820127069010706,0.0037831744229896175,0.0037843357702436534,0.0037855071651043456,0.003786699088460888,0.003787922081929624,0.0037891867441814113,0.003790503727316331,0.003791883733284619,0.003793337510352452,0.0037948758496109073,0.0037965095815262447,0.0037982495725294376,0.003800106721642529,0.0038020919571393804,0.003804216233238016,0.0038064905268216506,0.003808925834185316,0.003811533167804841,0.0038143235531247297,0.0038173080253614796,0.003820497626318609,0.003823903401209673,0.0038275363954854056,0.0038314076516610665,0.0038355282061400013,0.00383990908602936,0.00384456130594398,0.003849495864794278,0.003854723742554133,0.003860255897004714,0.003866103260450178,0.0038722767364013366,0.003878787196223345,0.00388564547574361,0.00389286237181616,0.003900448638838923,0.0039084149852203235,0.0039167720697919585,0.003925530498164044,0.003934700819020685,0.003944293520352056,0.0039543190256208826,0.003964787689860692,0.003975709795703688,0.003987095549336182,0.003998955076379755,0.004011298417696778,0.00402413552511883,0.00403747625709712,0.00405133037427421,0.004065707534976468,0.004080617290627162,0.004096069081080363,0.00411207222987597,0.004128635939416651,0.0041457692860677586,0.004163481215181488,0.004181780536046975,0.004200675916768287,0.004220175879072555,0.004240288793050852,0.00426102287183472,0.004282386166211507,0.004304386559182054,0.004327031760464508,0.004350329300948391,0.004374286527103322,0.004398910595347017,0.0044242084663775995,0.004450186899475427,0.004476852446779909,0.004504211447547071,0.0045322700223939414,0.004561034067535857,0.004590509249023314,0.004620700996984866,0.004651614499883142,0.004683254698790886,0.004715626281694393,0.004748733677831683,0.004782581052073062,0.004817172299351696,0.004852511039152111,0.004888600610064489,0.004925444064412914,0.004963044162965551,0.005001403369735059,0.0050405238468774075,0.005080407449697386,0.005121055721769129,0.005162469890179831,0.0052046508609051075,0.005247599214324034,0.005291315200882214,0.005335798736910955,0.005381049400610587,0.005427066428205902,0.005473848710281526,0.005521394788305028,0.005569702851345218,0.005618770732993158,0.005668595908493094,0.005719175492090313,0.005770506234602922,0.005822584521223994,0.005875406369560696,0.005928967427916435,0.005983262973821951,0.006038287912821054,0.006094036777516329,0.006150503726879881,0.006207682545833931,0.006265566645105633,0.006324149061360376,0.006383422457617226,0.006443379123950081,0.0065040109784775995,0.0065653095686446575,0.006627266072797717,0.006689871302056163,0.0067531157024811874,0.0068169893575435086,0.006881481990890875,0.006946582969415643,0.0070122813066227675,0.007078565666297687,0.007145424366473548,0.0072128453836965605,0.0072808163575881005,0.0073493245957015445,0.007418357078671622,0.0074879004656535995,0.007557941100049144,0.0076284650155154276,0.007699457942253704,0.007770905313572913,0.007842792272723892,0.007915103679999062,0.007987824120092331,0.00806093790971335,0.008134429105450256,0.00820828151187426,0.008282478689879465,0.008357003965250817,0.008431840437452718,0.008506970988630652,0.008582378292817824,0.008658044825338418,0.008733952872399062,0.0088100845408595,0.008886421768173544,0.008962946332490791,0.009039639862909767,0.009116483849872577,0.009193459655691115,0.00927054852519481,0.009347731596489417,0.009424989911816468,0.009502304428502816,0.00957965602998941,0.0096570255369285,0.00973439371833838,0.00981174130280456,0.009889048989716239,0.00996629746052706,0.010043467390028905,0.01012053945762737,0.010197494358608101,0.010274312815382365,0.010350975588700979,0.01042746348882545,0.010503757386645144,0.01057983822472961,0.010655687028305204,0.010731284916145053,0.010806613111361935,0.010881652952093354,0.01095638590206853,0.011030793561047027,0.011104857675119057,0.011178560146857548,0.011251883045312402,0.01132480861583742,0.011397319289740747,0.01146939769374994,0.011541026659282931,0.011612189231516277,0.011682868678242888,0.011753048498510997,0.011822712431037039,0.011891844462385046,0.011960428834905598,0.012028450054427807,0.012095892897697852,0.012162742419558227,0.012228983959862025,0.012294603150116979,0.012359585919854288,0.012423918502717823,0.012487587442269337,0.012550579597505877,0.012612882148086079,0.012674482599262071,0.012735368786514432,0.012795528879887708,0.01285495138802471,0.012913625161897844,0.01297153939823639,0.01302868364264885,0.013085047792439896,0.013140622099121832,0.013195397170620895,0.013249363973179017,0.013302513832952008,0.01335483843730556,0.013406329835810882,0.013456980440941698,0.013506783028475463,0.013555730737601052,0.013603817070736325,0.013651035893058668,0.013697381431752377,0.01374284827497661,0.013787431370558387,0.013831126024415077,0.013873927898710984,0.013915833009753428,0.013956837725633277,0.01399693876361569,0.01403613318728668,0.014074418403461538,0.014111792158861243,0.014148252536563256,0.014183797952233103,0.014218427150143592,0.014252139198988392,0.014284933487496985,0.014316809719858013,0.014347767910958391,0.014377808381445326,0.014406931752618639,0.01443513894116101,0.014462431153713479,0.014488809881303813,0.014514276893635434,0.01453883423324437,0.014562484209532012,0.014585229392681113,0.01460707260746281,0.014628016926942131,0.014648065666089565,0.014667222375306169,0.0146854908338696,0.014702875043308498,0.014719379220712397,0.014735007791984441,0.014749765385043839,0.014763656822985178,0.014776687117201284,0.014788861460476498,0.014800185220056803,0.01481066393070335,0.014820303287735629,0.014829109140070375,0.014837087483262342,0.0148442444525525,0.014850586315929587,0.014856119467210263,0.01486085041914325,0.014864785796542544,0.01486793232945471,0.01487029684636484,0.014871886267445901,0.014872707597855752,0.014872767921086084,0.01487207439236721,0.014870634232132592,0.014868454719546741,0.0148655431860999,0.014861907009272826,0.014857553606274816,0.014852490427857723,0.014846724952209081,0.014840264678926515,0.014833117123076184,0.014825289809337464,0.014816790266235901,0.014807626020466596,0.014797804591309763,0.014787333485140185,0.014776220190032273,0.014764472170462093,0.014752096862107822,0.014739101666749792,0.014725493947271451,0.014711281022762217,0.014696470163723238,0.014681068587377027,0.014665083453081797,0.014648521857851371,0.014631390831981285,0.014613697334782003,0.014595448250419696,0.014576650383865452,0.014557310456953297,0.014537435104547945,0.014517030870822569,0.014496104205647469,0.014474661461090004,0.014452708888026683,0.01443025263286773,0.014407298734395104,0.014383853120714458,0.014359921606321787,0.014335509889285622,0.014310623548545435,0.01428526804132718,0.014259448700676868,0.014233170733112994,0.014206439216398985,0.014179259097436512,0.014151635190280922,0.014123572174279795,0.014095074592335955,0.014066146849296052,0.014036793210466117,0.014007017800255388,0.013976824600949808,0.013946217451616612,0.013915200047141606,0.013883775937400453,0.01385194852656569,0.01381972107255097,0.013787096686594183,0.013754078332980976,0.013720668828910461,0.0136868708445046,0.01365268690296293,0.013618119380864335,0.013583170508617352,0.013547842371060633,0.013512136908215117,0.013476055916189405,0.013439601048239753,0.01340277381598604,0.013365575590785134,0.013328007605262721,0.013290070955004849,0.013251766600410195,0.01321309536870391,0.013174057956113917,0.013134654930210281,0.013094886732408221,0.01305475368063503,0.013014255972161264,0.012973393686596101,0.012932166789046753,0.01289057513344168,0.012848618466016938,0.01280629642896501,0.012763608564245126,0.012720554317553832,0.01267713304245446,0.012633344004663828,0.012589186386494141,0.012544659291448091,0.012499761748964628,0.012454492719312685,0.012408851098629969,0.012362835724103549,0.012316445379288696,0.012269678799562214,0.012222534677706143,0.012175011669617538,0.012127108400139553,0.012078823469009061,0.01203015545691542,0.011981102931664999,0.01193166445444564,0.011881838586184976,0.011831623893996317,0.011781018957705452,0.011730022376451554,0.011678632775354983,0.011626848812244713,0.011574669184437678,0.01152209263556221,0.011469117962417551,0.011415744021861022,0.011361969737714509,0.011307794107681438,0.01125321621026543,0.011198235211681614,0.011142850372751407,0.011087061055771367,0.011030866731346716,0.010974266985180003,0.010917261524805124,0.010859850186257097,0.010802032940667715,0.010743809900777234,0.010685181327352208,0.010626147635499707,0.010566709400867872,0.010506867365723087,0.010446622444893933,0.01038597573157224,0.010324928502961416,0.010263482225762805,0.010201638561490364,0.010139399371604576,0.010076766722456358,0.010013742890032094,0.009950330364491038,0.009886531854486555,0.009822350291262888,0.009757788832519465,0.00969285086603496,0.009627540013043577,0.009561860131356459,0.009495815318221381,0.00942940991291409,0.009362648499055283,0.009295535906647334,0.009228077213825354,0.009160277748317623,0.009092143088610748,0.009023679064815299,0.008954891759228307,0.008885787506589101,0.008816372894025789,0.008746654760689851,0.008676640197076974,0.008606336544032568,0.008535751391441086,0.008464892576598472,0.00839376818226788,0.008322386534418986,0.00825075619965199,0.00817888598230759,0.008106784921265067],\"yaxis\":\"y\",\"type\":\"scatter\"},{\"legendgroup\":\"military auto\",\"marker\":{\"color\":\"rgb(227, 119, 194)\"},\"mode\":\"lines\",\"name\":\"military auto\",\"showlegend\":false,\"x\":[100.0,102.168,104.336,106.504,108.672,110.84,113.008,115.176,117.344,119.512,121.68,123.848,126.01599999999999,128.184,130.352,132.52,134.688,136.856,139.024,141.192,143.36,145.528,147.696,149.864,152.03199999999998,154.2,156.368,158.536,160.704,162.872,165.04000000000002,167.208,169.376,171.54399999999998,173.712,175.88,178.048,180.216,182.38400000000001,184.55200000000002,186.72,188.888,191.05599999999998,193.224,195.392,197.56,199.728,201.89600000000002,204.064,206.232,208.4,210.56799999999998,212.736,214.904,217.072,219.24,221.40800000000002,223.576,225.744,227.912,230.08,232.248,234.416,236.584,238.752,240.92,243.088,245.256,247.424,249.592,251.76,253.928,256.096,258.264,260.432,262.6,264.76800000000003,266.93600000000004,269.10400000000004,271.272,273.44,275.608,277.776,279.94399999999996,282.11199999999997,284.28,286.448,288.616,290.784,292.952,295.12,297.288,299.456,301.624,303.79200000000003,305.96000000000004,308.128,310.296,312.464,314.632,316.8,318.96799999999996,321.13599999999997,323.304,325.472,327.64,329.808,331.976,334.144,336.312,338.48,340.648,342.81600000000003,344.98400000000004,347.152,349.32,351.488,353.656,355.824,357.992,360.16,362.328,364.496,366.664,368.832,371.0,373.168,375.336,377.504,379.672,381.84,384.008,386.176,388.344,390.512,392.68,394.848,397.016,399.184,401.352,403.52,405.688,407.856,410.024,412.192,414.36,416.528,418.696,420.864,423.032,425.2,427.368,429.536,431.704,433.872,436.04,438.208,440.376,442.544,444.712,446.88,449.048,451.216,453.384,455.552,457.72,459.888,462.056,464.224,466.392,468.56,470.728,472.896,475.064,477.232,479.4,481.568,483.736,485.904,488.072,490.24,492.408,494.576,496.744,498.912,501.08,503.248,505.416,507.584,509.752,511.92,514.088,516.256,518.424,520.592,522.76,524.928,527.096,529.264,531.432,533.6,535.768,537.9359999999999,540.104,542.2719999999999,544.44,546.608,548.7760000000001,550.944,553.1120000000001,555.28,557.448,559.616,561.784,563.952,566.12,568.288,570.456,572.624,574.7919999999999,576.96,579.1279999999999,581.296,583.4639999999999,585.6320000000001,587.8,589.9680000000001,592.136,594.304,596.472,598.64,600.808,602.976,605.144,607.312,609.48,611.648,613.816,615.984,618.152,620.32,622.488,624.656,626.824,628.992,631.16,633.328,635.496,637.664,639.832,642.0,644.168,646.336,648.504,650.672,652.84,655.008,657.176,659.344,661.512,663.68,665.848,668.016,670.184,672.352,674.52,676.688,678.856,681.024,683.192,685.36,687.528,689.696,691.864,694.032,696.2,698.368,700.536,702.704,704.872,707.04,709.208,711.376,713.544,715.712,717.88,720.048,722.216,724.384,726.552,728.72,730.888,733.056,735.224,737.392,739.56,741.728,743.896,746.064,748.232,750.4,752.568,754.736,756.904,759.072,761.24,763.408,765.576,767.744,769.912,772.08,774.248,776.416,778.584,780.752,782.92,785.088,787.256,789.424,791.592,793.76,795.928,798.096,800.264,802.432,804.6,806.768,808.936,811.104,813.272,815.44,817.608,819.776,821.944,824.112,826.28,828.448,830.616,832.784,834.952,837.12,839.288,841.456,843.624,845.792,847.96,850.128,852.296,854.464,856.632,858.8,860.968,863.136,865.304,867.472,869.64,871.808,873.976,876.144,878.312,880.48,882.648,884.816,886.984,889.152,891.32,893.488,895.656,897.824,899.992,902.16,904.328,906.496,908.664,910.832,913.0,915.168,917.336,919.504,921.672,923.84,926.008,928.176,930.344,932.512,934.68,936.848,939.016,941.184,943.352,945.52,947.688,949.856,952.024,954.192,956.36,958.528,960.696,962.864,965.032,967.2,969.368,971.536,973.704,975.872,978.04,980.208,982.376,984.544,986.712,988.88,991.048,993.216,995.384,997.552,999.72,1001.888,1004.056,1006.224,1008.392,1010.56,1012.728,1014.896,1017.064,1019.232,1021.4,1023.568,1025.7359999999999,1027.904,1030.0720000000001,1032.24,1034.408,1036.576,1038.7440000000001,1040.912,1043.08,1045.248,1047.4160000000002,1049.5839999999998,1051.752,1053.92,1056.088,1058.2559999999999,1060.424,1062.592,1064.76,1066.9279999999999,1069.096,1071.2640000000001,1073.432,1075.6,1077.768,1079.9360000000001,1082.104,1084.272,1086.44,1088.608,1090.7759999999998,1092.944,1095.112,1097.28,1099.4479999999999,1101.616,1103.784,1105.952,1108.12,1110.288,1112.4560000000001,1114.624,1116.792,1118.96,1121.1280000000002,1123.296,1125.464,1127.632,1129.8,1131.968,1134.136,1136.304,1138.472,1140.64,1142.808,1144.976,1147.144,1149.312,1151.48,1153.648,1155.816,1157.984,1160.152,1162.32,1164.488,1166.656,1168.824,1170.992,1173.16,1175.328,1177.496,1179.664,1181.832],\"xaxis\":\"x\",\"y\":[0.0003779996725140703,0.0003818443777050227,0.00038570450196521907,0.00038957999254384776,0.0003934707971144785,0.00039737686355436827,0.0004012981397149213,0.0004052345731835384,0.00040918611103708797,0.00041315269958726075,0.0004171342841180761,0.0004211308086158343,0.00042514221549181123,0.0004291684452980184,0.0004332094364363589,0.00043726512486152763,0.00044133544377801466,0.0004454203233315879,0.00044951969029563945,0.00045363346775279933,0.00045776157477222146,0.00046190392608297105,0.0004660604317439428,0.0004702309968107546,0.00047441552100007035,0.0004786138983518149,0.0004828260168897517,0.0004870517582808996,0.0004912909974942803,0.0004955436024594818,0.0004998094337255414,0.0005040883441206494,0.0005083801784131808,0.0005126847729745654,0.0005170019554445156,0.0005213315443991193,0.0005256733490223271,0.0005300271687813382,0.000534392793106419,0.0005387700010756616,0.0005431585611051984,0.000547558230645395,0.0005519687558835227,0.0005563898714534215,0.0005608213001526573,0.0005652627526676707,0.0005697139273074018,0.0005741745097458819,0.0005786441727742719,0.0005831225760628022,0.0005876093659330901,0.0005921041751412714,0.0005966066226723965,0.0006011163135465108,0.0006056328386368433,0.0006101557745005055,0.0006146846832220909,0.0006192191122705601,0.0006237585943697714,0.000628302647383005,0.0006328507742118254,0.0006374024627095928,0.0006419571856099304,0.0006465144004704385,0.0006510735496319172,0.000655634060193363,0.0006601953440029616,0.0006647567976653055,0.0006693178025650272,0.0006738777249070354,0.0006784359157735077,0.0006829917111977894,0.0006875444322553183,0.0006920933851716755,0.0006966378614478504,0.0007011771380027832,0.0007057104773332228,0.0007102371276909292,0.0007147563232772252,0.0007192672844548709,0.0007237692179772366,0.0007282613172347053,0.0007327427625182376,0.0007372127212999949,0.0007416703485309083,0.0007461147869550532,0.0007505451674406765,0.0007549606093277002,0.0007593602207915035,0.0007637430992227814,0.0007681083316232258,0.0007724549950168097,0.0007767821568763765,0.0007810888755652682,0.0007853742007936823,0.00078963717408944,0.0007938768292828243,0.0007980921930051459,0.000802282285200656,0.0008064461196514356,0.0008105827045148542,0.0008146910428731897,0.000818770133294987,0.0008228189704077078,0.0008268365454812298,0.0008308218470217264,0.0008347738613754503,0.0008386915733419405,0.0008425739667961486,0.0008464200253189854,0.0008502287328357659,0.0008539990742620294,0.0008577300361562075,0.0008614206073785862,0.0008650697797560307,0.0008686765487519104,0.0008722399141406608,0.0008757588806864277,0.0008792324588252175,0.0008826596653499816,0.0008860395240980574,0.0008893710666403901,0.0008926533329719463,0.0008958853722027457,0.0008990662432489151,0.0009021950155231888,0.0009052707696242681,0.0009082925980244486,0.0009112596057549419,0.000914170911088305,0.0009170256462173956,0.0009198229579302818,0.00092256200828053,0.0009252419752522954,0.0009278620534196655,0.0009304214545996717,0.0009329194084984369,0.0009353551633498945,0.0009377279865465336,0.0009400371652616439,0.0009422820070625169,0.0009444618405140872,0.0009465760157724921,0.0009486239051680508,0.0009506049037771487,0.0009525184299825516,0.0009543639260216546,0.0009561408585222026,0.0009578487190250151,0.0009594870244932611,0.0009610553178078452,0.0009625531682484715,0.0009639801719599631,0.0009653359524034291,0.0009666201607918763,0.0009678324765098866,0.0009689726075169734,0.0009700402907342647,0.0009710352924141553,0.0009719574084925875,0.0009728064649236427,0.0009735823179961215,0.0009742848546318128,0.000974913992665173,0.0009754696811041259,0.0009759519003717364,0.0009763606625285013,0.0009766960114750238,0.0009769580231348577,0.0009771468056173022,0.000977262499359967,0.00097730527725092,0.0009772753447302527,0.0009771729398709204,0.0009769983334387046,0.0009767518289311903,0.0009764337625956417,0.000976044503425682,0.0009755844531366948,0.0009750540461198915,0.0009744537493749788,0.0009737840624214001,0.0009730455171881273,0.0009722386778819839,0.0009713641408345252,0.000970422534327474,0.0009694145183967683,0.0009683407846152515,0.0009672020558540887,0.0009659990860229692,0.0009647326597892028,0.0009634035922758096,0.0009620127287387269,0.0009605609442232758,0.0009590491432000268,0.0009574782591802405,0.0009558492543110591,0.0009541631189506395,0.0009524208712234416,0.0009506235565558909,0.0009487722471926506,0.0009468680416937583,0.0009449120644128858,0.0009429054649570044,0.000940849417627748,0.000938745120844773,0.0009365937965514469,0.0009343966896031827,0.0009321550671387808,0.0009298702179351232,0.0009275434517456074,0.0009251760986226876,0.0009227695082249419,0.0009203250491090582,0.0009178441080071692,0.0009153280890899793,0.0009127784132161136,0.0009101965171681684,0.0009075838528759174,0.0009049418866271644,0.000902272098266739,0.0008995759803841291,0.0008968550374902758,0.0008941107851840505,0.0008913447493089516,0.0008885584651005667,0.0008857534763253504,0.0008829313344112924,0.0008800935975710317,0.000877241829918017,0.0008743776005762858,0.0008715024827844711,0.0008686180529946297,0.0008657258899665134,0.0008628275738578895,0.0008599246853115421,0.0008570188045395795,0.0008541115104056802,0.0008512043795059207,0.0008482989852488215,0.0008453968969352621,0.0008424996788389125,0.0008396088892878338,0.0008367260797478987,0.0008338527939086956,0.0008309905667725584,0.0008281409237473961,0.0008253053797439629,0.0008224854382782384,0.000819682590579559,0.000816898314705165,0.0008141340746618072,0.0008113913195350602,0.0008086714826269878,0.0008059759806027968,0.0008033062126471174,0.0008006635596305328,0.0007980493832869847,0.0007954650254026689,0.0007929118070170264,0.0007903910276364332,0.0007879039644611816,0.000785451871626326,0.0007830359794569749,0.0007806574937385876,0.0007783175950028222,0.0007760174378294793,0.0007737581501650616,0.0007715408326584712,0.0007693665580143345,0.0007672363703644489,0.0007651512846578203,0.0007631122860697443,0.0007611203294303798,0.0007591763386732305,0.0007572812063039495,0.0007554357928898548,0.0007536409265705326,0.0007518974025898754,0.0007502059828499069,0.0007485673954866958,0.0007469823344686697,0.0007454514592176057,0.0007439753942525525,0.0007425547288569336,0.0007411900167690409,0.0007398817758961241,0.0007386304880522526,0.0007374365987201019,0.0007363005168368058,0.0007352226146039844,0.000734203227322041,0.0007332426532487972,0.0007323411534825165,0.0007314989518693397,0.0007307162349351418,0.0007299931518417862,0.0007293298143677437,0.0007287262969130111,0.0007281826365282483,0.000727698832968027,0.0007272748487680723,0.000726910609346338,0.0007266060031277621,0.0007263608816924999,0.0007261750599474336,0.0007260483163207279,0.0007259803929791751,0.0007259709960680704,0.00072601979597332,0.000726126427605478,0.0007262904907053882,0.000726511550171082,0.0007267891364055727,0.0007271227456851728,0.0007275118405479283,0.0007279558502017706,0.0007284541709519519,0.0007290061666473249,0.0007296111691450125,0.0007302684787929973,0.0007309773649301477,0.0007317370664031893,0.0007325467921001105,0.0007334057214994914,0.0007343130052352212,0.0007352677656760746,0.0007362690975195938,0.0007373160683997284,0.0007384077195076682,0.0007395430662252986,0.0007407210987707095,0.0007419407828551726,0.0007432010603510094,0.0007445008499697528,0.0007458390479500215,0.0007472145287545073,0.0007486261457754822,0.0007500727320482332,0.0007515531009718231,0.0007530660470365883,0.0007546103465577779,0.0007561847584147416,0.000757788024795082,0.0007594188719431798,0.0007610760109125194,0.000762758138321231,0.0007644639371102863,0.0007661920773037759,0.000767941216770719,0.0007697100019878471,0.0007714970688028272,0.0007733010431973847,0.0007751205420498049,0.0007769541738962967,0.0007788005396907143,0.000780658233562139,0.0007825258435698446,0.0007844019524551656,0.0007862851383898131,0.0007881739757201915,0.0007900670357072746,0.0007919628872616214,0.0007938600976731262,0.0007957572333350948,0.0007976528604622801,0.0007995455458024917,0.000801433857341438,0.0008033163650004537,0.0008051916413267841,0.000807058262176123,0.0008089148073870962,0.0008107598614474165,0.0008125920141514366,0.000814409861248848,0.000816212005084285,0.0008179970552276141,0.0008197636290946897,0.000821510352558388,0.0008232358605497317,0.0008249387976489397,0.0008266178186662471,0.0008282715892123525,0.0008298987862583688,0.0008314980986851579,0.0008330682278219521,0.00083460788797417,0.0008361158069403489,0.000837590726518131,0.0008390314029992482,0.0008404366076534606,0.0008418051272014188,0.0008431357642764263,0.0008444273378750937,0.0008456786837968743,0.0008468886550724966,0.000848056122381302,0.0008491799744575135,0.0008502591184854669,0.0008512924804838399,0.0008522790056789255,0.0008532176588670016,0.000854107424765851,0.0008549473083554952,0.000855736335208211,0.0008564735518078944,0.0008571580258588564,0.0008577888465841213,0.0008583651250133109,0.0008588859942602033,0.0008593506097900425,0.0008597581496766971,0.000860107814849748,0.0008603988293315998,0.0008606304404647013,0.0008608019191289704,0.0008609125599495032,0.0008609616814946653,0.0008609486264646466,0.0008608727618705623,0.0008607334792041914,0.0008605301945984256,0.0008602623489785105,0.000859929408204157,0.0008595308632025904,0.0008590662300926098,0.000858535050299722,0.0008579368906624147,0.0008572713435296223,0.0008565380268494413,0.0008557365842491461,0.0008548666851065455,0.0008539280246127286,0.00085292032382623,0.000851843329718648,0.0008506968152117466,0.0008494805792060587,0.0008481944466010139,0.0008468382683066028,0.0008454119212465828,0.0008439153083532419,0.0008423483585537079,0.0008407110267478089,0.0008390032937774741,0.0008372251663876659,0.0008353766771788259,0.0008334578845508181,0.0008314688726383501,0.000829409751237844,0.0008272806557257323,0.00082508174696815,0.0008228132112219884,0.0008204752600272831,0.0008180681300908922,0.0008155920831614357,0.0008130474058954576,0.0008104344097147724,0.0008077534306549534,0.000805004829204935,0.0008021889901376844,0.0007993063223319073,0.0007963572585847535,0.0007933422554154925,0.0007902617928601205,0.0007871163742568791,0.0007839065260226488,0.0007806327974202073,0.0007772957603163238,0.0007738960089306767,0.0007704341595755888,0.0007669108503865662,0.0007633267410436491,0.0007596825124835717,0.0007559788666027455,0.0007522165259510831,0.0007483962334166898,0.0007445187519014394,0.000740584863987496,0.0007365953715947979,0.0007325510956295863,0.0007284528756240132,0.0007243015693669204,0.0007200980525258502,0.0007158432182603885,0.000711537976826926,0.0007071832551749476,0.0007027799965349693,0.0006983291599982327,0.0006938317200883112,0.0006892886663247494,0.0006847010027789123,0.0006800697476221864,0.0006753959326667262,0.0006706806028989107,0.0006659248160057259,0.0006611296418942524,0.0006562961622044964,0.0006514254698157683,0.0006465186683468596,0.0006415768716502462],\"yaxis\":\"y\",\"type\":\"scatter\"},{\"legendgroup\":\"fuel tank\",\"marker\":{\"color\":\"rgb(127, 127, 127)\"},\"mode\":\"lines\",\"name\":\"fuel tank\",\"showlegend\":false,\"x\":[60.0,60.03,60.06,60.09,60.12,60.15,60.18,60.21,60.24,60.27,60.3,60.33,60.36,60.39,60.42,60.45,60.48,60.51,60.54,60.57,60.6,60.63,60.66,60.69,60.72,60.75,60.78,60.81,60.84,60.87,60.9,60.93,60.96,60.99,61.02,61.05,61.08,61.11,61.14,61.17,61.2,61.23,61.26,61.29,61.32,61.35,61.38,61.41,61.44,61.47,61.5,61.53,61.56,61.59,61.62,61.65,61.68,61.71,61.74,61.77,61.8,61.83,61.86,61.89,61.92,61.95,61.98,62.01,62.04,62.07,62.1,62.13,62.16,62.19,62.22,62.25,62.28,62.31,62.34,62.37,62.4,62.43,62.46,62.49,62.52,62.55,62.58,62.61,62.64,62.67,62.7,62.73,62.76,62.79,62.82,62.85,62.88,62.91,62.94,62.97,63.0,63.03,63.06,63.09,63.12,63.15,63.18,63.21,63.24,63.27,63.3,63.33,63.36,63.39,63.42,63.45,63.48,63.51,63.54,63.57,63.6,63.63,63.66,63.69,63.72,63.75,63.78,63.81,63.84,63.87,63.9,63.93,63.96,63.99,64.02,64.05,64.08,64.11,64.14,64.17,64.2,64.23,64.26,64.29,64.32,64.35,64.38,64.41,64.44,64.47,64.5,64.53,64.56,64.59,64.62,64.65,64.68,64.71,64.74,64.77,64.8,64.83,64.86,64.89,64.92,64.95,64.98,65.01,65.04,65.07,65.1,65.13,65.16,65.19,65.22,65.25,65.28,65.31,65.34,65.37,65.4,65.43,65.46,65.49,65.52,65.55,65.58,65.61,65.64,65.67,65.7,65.73,65.76,65.79,65.82,65.85,65.88,65.91,65.94,65.97,66.0,66.03,66.06,66.09,66.12,66.15,66.18,66.21,66.24,66.27,66.3,66.33,66.36,66.39,66.42,66.45,66.48,66.51,66.54,66.57,66.6,66.63,66.66,66.69,66.72,66.75,66.78,66.81,66.84,66.87,66.9,66.93,66.96,66.99,67.02,67.05,67.08,67.11,67.14,67.17,67.2,67.23,67.26,67.29,67.32,67.35,67.38,67.41,67.44,67.47,67.5,67.53,67.56,67.59,67.62,67.65,67.68,67.71,67.74,67.77,67.8,67.83,67.86,67.89,67.92,67.95,67.98,68.01,68.03999999999999,68.07,68.1,68.13,68.16,68.19,68.22,68.25,68.28,68.31,68.34,68.37,68.4,68.43,68.46000000000001,68.49,68.52,68.55,68.58,68.61,68.64,68.67,68.7,68.73,68.76,68.78999999999999,68.82,68.85,68.88,68.91,68.94,68.97,69.0,69.03,69.06,69.09,69.12,69.15,69.18,69.21000000000001,69.24,69.27,69.3,69.33,69.36,69.39,69.42,69.45,69.48,69.51,69.53999999999999,69.57,69.6,69.63,69.66,69.69,69.72,69.75,69.78,69.81,69.84,69.87,69.9,69.93,69.96000000000001,69.99,70.02,70.05,70.08,70.11,70.14,70.17,70.2,70.23,70.26,70.28999999999999,70.32,70.35,70.38,70.41,70.44,70.47,70.5,70.53,70.56,70.59,70.62,70.65,70.68,70.71000000000001,70.74,70.77,70.8,70.83,70.86,70.89,70.92,70.95,70.98,71.01,71.03999999999999,71.07,71.1,71.13,71.16,71.19,71.22,71.25,71.28,71.31,71.34,71.37,71.4,71.43,71.46000000000001,71.49,71.52,71.55,71.58,71.61,71.64,71.67,71.7,71.73,71.76,71.78999999999999,71.82,71.85,71.88,71.91,71.94,71.97,72.0,72.03,72.06,72.09,72.12,72.15,72.18,72.21000000000001,72.24,72.27,72.3,72.33,72.36,72.39,72.42,72.45,72.48,72.51,72.53999999999999,72.57,72.6,72.63,72.66,72.69,72.72,72.75,72.78,72.81,72.84,72.87,72.9,72.93,72.96000000000001,72.99,73.02,73.05,73.08,73.11,73.14,73.17,73.2,73.23,73.26,73.28999999999999,73.32,73.35,73.38,73.41,73.44,73.47,73.5,73.53,73.56,73.59,73.62,73.65,73.68,73.71000000000001,73.74,73.77,73.8,73.83,73.86,73.89,73.92,73.95,73.98,74.01,74.03999999999999,74.07,74.1,74.13,74.16,74.19,74.22,74.25,74.28,74.31,74.34,74.37,74.4,74.43,74.46000000000001,74.49,74.52,74.55,74.58,74.61,74.64,74.67,74.7,74.73,74.76,74.78999999999999,74.82,74.85,74.88,74.91,74.94,74.97],\"xaxis\":\"x\",\"y\":[0.10648075136869647,0.10647495735779336,0.10645656269392575,0.10642557478720018,0.10638200555236056,0.10632587140266908,0.10625719324114363,0.10617599644916376,0.10608231087245244,0.10597617080444512,0.10585761496706234,0.10572668648890192,0.10558343288086824,0.10542790600925923,0.10526016206633595,0.10508026153839645,0.10488826917138357,0.10468425393405327,0.10446828897873585,0.1042404515997224,0.10400082318931034,0.10374948919154602,0.10348653905370146,0.10321206617552557,0.1029261678563138,0.10262894523983519,0.10232050325716786,0.10200095056748515,0.10167039949684328,0.10132896597502021,0.10097676947045531,0.10061393292334612,0.10024058267695263,0.09985684840716698,0.09946286305040415,0.09905876272987242,0.09864468668028077,0.09822077717104678,0.09778717942806092,0.09734404155407411,0.09689151444776875,0.0964297517215776,0.09595890961831384,0.09547914692667972,0.09499062489571747,0.09449350714826817,0.09398795959350842,0.09347415033862874,0.09295224959972133,0.09242242961194838,0.0918848645390546,0.0913397303822938,0.09078720488883985,0.09022746745974516,0.08966069905752158,0.08908708211340467,0.08850680043437485,0.08792003911000092,0.08732698441917193,0.08672782373678702,0.08612274544046827,0.08551193881736177,0.08489559397109642,0.0842739017289584,0.08364705354935356,0.08301524142961535,0.08237865781422253,0.08173749550349091,0.08109194756279817,0.0804422072323997,0.07978846783790107,0.07913092270143661,0.07846976505362019,0.07780518794631551,0.07713738416628747,0.07646654614978468,0.07579286589810466,0.07511653489419659,0.07443774402034609,0.07375668347699507,0.07307354270273979,0.0723885102955549,0.07170177393528736,0.07101352030746065,0.07032393502843205,0.06963320257194326,0.06894150619709807,0.06824902787781041,0.0675559482337495,0.06686244646282001,0.06616870027520919,0.06547488582902607,0.06478117766756633,0.06408774865822592,0.06339476993308785,0.06270241083120846,0.06201083884261948,0.06132021955407192,0.060630716596532866,0.0599424915944564,0.0592557041168431,0.05857051163009579,0.057887069452690856,0.05720553071166733,0.05652604630094541,0.0558487648414809,0.05517383264325888,0.05450139366912843,0.05383158950048434,0.053164559304788986,0.05250043980494017,0.0518393652504741,0.0511814673906045,0.05052687544909014,0.04987571610091889,0.04922811345080664,0.04858418901349274,0.04794406169582565,0.04730784778062301,0.04667566091229006,0.04604761208418428,0.045423809627705244,0.04480435920309256,0.04418936379191324,0.04357892369121615,0.042973136509332606,0.042372097163298955,0.04177589787787759,0.04118462818615304,0.04059837493167298,0.04001722227211147,0.03944125168442446,0.03887054197146733,0.03830516927004932,0.03774520706038903,0.03719072617694415,0.03664179482058295,0.0360984785720616,0.03556084040678053,0.03502894071077971,0.03450283729794421,0.03398258542838202,0.03346823782793957,0.032959844708822184,0.03245745379127956,0.031961110326323,0.03147085711943867,0.03098673455525714,0.030508780623144202,0.030037030943677875,0.029571518795970038,0.029112275145800684,0.028659328674522262,0.02821270580870235,0.027772430750461954,0.027338525508477592,0.02691100992960558,0.02648990173109439,0.026075216533346927,0.025666967893198583,0.02526516733767005,0.02486982439816417,0.024480946645067288,0.0240985397227209,0.02372260738472988,0.023353151529569263,0.022990172236459456,0.022633667801471656,0.022283634773834316,0.021940067992403757,0.0216029606222697,0.021272304191461772,0.020948088627727023,0.020630302295345838,0.02031893203195869,0.02001396318537102,0.019715379650310665,0.019423163905106063,0.019137297048260567,0.018857758834893927,0.01858452771302501,0.018317580859671445,0.01805689421673897,0.017802442526678196,0.017554199367885177,0.017312137189821653,0.017076227347834195,0.016846440137651436,0.016622744829537132,0.016405109702081682,0.01619350207561081,0.015987888345195475,0.01578823401324365,0.015594503721659063,0.01540666128354978,0.015224669714471846,0.01504849126319485,0.014878087441974237,0.014713419056318287,0.014554446234238488,0.014401128454971029,0.014253424577159357,0.014111292866488767,0.01397469102276265,0.013843576206413867,0.01371790506444224,0.013597633755772744,0.013482717976027223,0.013373112981705338,0.013268773613769234,0.013169654320628955,0.013075709180524137,0.01298689192330086,0.012903155951580364,0.012824454361319486,0.012750739961761388,0.01268196529477684,0.012618082653597023,0.012559044100938227,0.012504801486521156,0.012455306463986238,0.012410510507208731,0.012370364926016446,0.012334820881314172,0.012303829399619486,0.012277341387014702,0.012255307642520427,0.012237678870896863,0.012224405694878792,0.012215438666851512,0.012210728279974607,0.012210224978761317,0.0122138791691215,0.012221641227876598,0.012233461511755262,0.012249290365878773,0.012269078131745761,0.012292775154725722,0.012320331791071589,0.012351698414461525,0.012386825422080429,0.012425663240252198,0.012468162329633513,0.012514273189980682,0.012563946364500663,0.012617132443798453,0.012673782069431955,0.012733845937087056,0.012797274799384487,0.012864019468331126,0.012934030817427746,0.013007259783446202,0.013083657367888055,0.013163174638137765,0.01324576272832309,0.013331372839895033,0.013419956241940966,0.013511464271242776,0.013605848332094071,0.013703059895887914,0.013803050500489172,0.013905771749403592,0.014011175310756813,0.014119212916095424,0.014229836359023758,0.014342997493687908,0.014458648233120677,0.014576740547458831,0.01469722646204589,0.014820058055432553,0.014945187457286239,0.015072566846222712,0.015202148447571404,0.015333884531085683,0.015467727408610677,0.015603629431718962,0.015741542989326507,0.01588142050529947,0.016023214436062496,0.01616687726822027,0.01631236151620168,0.016459619719938312,0.016608604442586064,0.01675926826830105,0.01691156380007921,0.01706544365766847,0.017220860475563694,0.01737776690109351,0.017536115592606802,0.017695859217769082,0.017856950451975512,0.018019341976889924,0.018182986479117376,0.01834783664901711,0.018513845179664975,0.018680964765970337,0.0188491481039559,0.019018347890206764,0.01918851682149407,0.019359607594580535,0.019531572906213022,0.019704365453307202,0.019877937933330814,0.020052243044888788,0.020227233488516613,0.020402861967684708,0.020579081190019135,0.020755843868742036,0.020933102724334615,0.021110810486427684,0.021288919895920362,0.021467383707331558,0.02164615469138605,0.021825185637836485,0.02200442935852427,0.02218383869068034,0.02236336650046664,0.022542965686760404,0.02272258918518049,0.02290218997235791,0.02308172107044841,0.02326113555188963,0.023440386544399856,0.023619427236219816,0.023798210881594666,0.023976690806496715,0.024154820414585585,0.024332553193405913,0.024509842720818544,0.024686642671664753,0.02486290682465991,0.025038589069513548,0.025213643414273998,0.025388023992892552,0.025561685073005748,0.025734581063929167,0.02590666652486188,0.026077896173294434,0.026248224893618107,0.02641760774592872,0.026585999975022055,0.026753357019573765,0.026919634521500105,0.027084788335492327,0.02724877453872076,0.027411549440700147,0.027573069593312863,0.02773329180098107,0.027892173130983314,0.028049670923906995,0.028205742804231604,0.028360346691033975,0.028513440808809458,0.02866498369840146,0.028814934228030838,0.02896325160441921,0.029109895383996318,0.029254825484185502,0.029398002194757283,0.02953938618924493,0.029678938536411178,0.029816620711760503,0.029952394609085962,0.030086222552043802,0.03021806730574586,0.030347892088362104,0.030475660582723454,0.03060133694791683,0.030724885830863143,0.0308462723778692,0.03096546224614422,0.03108242161527301,0.031197117198635143,0.031309516254762366,0.031419586598624566,0.031527296612834876,0.0316326152587657,0.03173551208756562,0.03183595725106893,0.03193392151258794,0.03202937625758017,0.032122293504180076,0.03221264591358768,0.03230040680030469,0.03238555014220924,0.03246805059046072,0.03254788347922637,0.03262502483522047,0.03269945138704845,0.032771140574347137,0.03284007055671284,0.03290622022240989,0.03296956919685071,0.03303009785084064,0.03308778730857904,0.03314261945540938,0.03319457694531136,0.03324364320812741,0.03328980245651653,0.03333303969262918,0.03337334071449564,0.03341069212212251,0.03344508132328992,0.03347649653904427,0.0335049268088802,0.03353036199560615,0.03355279278988826,0.03357221071446724,0.03358860812804337,0.03360197822882465,0.03361231505773391,0.03361961350127035,0.03362386929402166,0.033625079020822846,0.033623240118558315,0.03361835087760401,0.033610410442906434,0.03359941881469608,0.03358537684883262,0.033568286256779774,0.03354814960520787,0.03352497031522264,0.033498752661218545,0.03346950176935604,0.033437223615661475,0.03340192502374953,0.033363613662167724,0.033322298041363066,0.033277987510271355,0.033230692252529434,0.03318042328231175,0.033127192439791814,0.03307101238623076,0.03301189659869399,0.032949859364398544,0.032884915774693144,0.032817081718673806,0.03274637387643736,0.032672809711976794,0.032596407465720935,0.03251718614672299,0.03243516552450125,0.03235036612053639,0.03226280919943009,0.03217251675972887,0.03207951152441939,0.031983816931099085,0.031885457121828345,0.03178445693266994,0.031680841882921126,0.03157463816404499,0.03146587262830738,0.03135457277712557,0.031240766749136166,0.03112448330798831,0.031005751829870448,0.030884602290776976,0.03076106525352299,0.03063517185451498,0.030506953790284383,0.03037644330379356,0.030243673170521297,0.03010867668433626,0.029971487643167764,0.029832140334481547,0.029690669520569726,0.02954711042366423,0.02940149871088171,0.029253870479010347,0.029104262239146247,0.028952710901190337,0.02879925375821395,0.0286439284707028,0.02848677305068905,0.028327825845781366,0.028167125523101355,0.02800471105313774,0.027840621693526135,0.027674896972765838,0.027507576673881963,0.02733870081804323,0.02716830964814554,0.02699644361236983,0.026823143347725543,0.02664844966358725,0.026472403525236485,0.02629504603741639,0.0261164184279095,0.025936562031147938,0.025755518271866066,0.02557332864880347,0.025390034718469408,0.025205678078975835,0.025020300353950167,0.024833943176534354,0.024646648173481944,0.024458456949358824,0.02426941107085891,0.024079552051241057,0.023888921334897548],\"yaxis\":\"y\",\"type\":\"scatter\"},{\"legendgroup\":\"drone\",\"marker\":{\"color\":\"rgb(188, 189, 34)\"},\"mode\":\"lines\",\"name\":\"drone\",\"showlegend\":false,\"x\":[0.0,0.162,0.324,0.486,0.648,0.81,0.972,1.134,1.296,1.458,1.62,1.782,1.944,2.106,2.268,2.43,2.592,2.754,2.916,3.078,3.24,3.402,3.564,3.726,3.888,4.05,4.212,4.374,4.536,4.698,4.86,5.022,5.184,5.346,5.508,5.67,5.832,5.994,6.156,6.318,6.48,6.642,6.804,6.966,7.128,7.29,7.452,7.614,7.776,7.938,8.1,8.262,8.424,8.586,8.748,8.91,9.072,9.234,9.396,9.558,9.72,9.882,10.044,10.206,10.368,10.53,10.692,10.854,11.016,11.178,11.34,11.502,11.664,11.826,11.988,12.15,12.312,12.474,12.636,12.798,12.96,13.122,13.284,13.446,13.608,13.77,13.932,14.094,14.256,14.418,14.58,14.742,14.904,15.066,15.228,15.39,15.552,15.714,15.876,16.038,16.2,16.362,16.524,16.686,16.848,17.01,17.172,17.334,17.496,17.658,17.82,17.982,18.144,18.306,18.468,18.63,18.792,18.954,19.116,19.278,19.44,19.602,19.764,19.926,20.088,20.25,20.412,20.574,20.736,20.898,21.06,21.222,21.384,21.546,21.708,21.87,22.032,22.194,22.356,22.518,22.68,22.842,23.004,23.166,23.328,23.49,23.652,23.814,23.976,24.138,24.3,24.462,24.624,24.786,24.948,25.11,25.272,25.434,25.596,25.758,25.92,26.082,26.244,26.406,26.568,26.73,26.892,27.054,27.216,27.378,27.54,27.702,27.864,28.026,28.188,28.35,28.512,28.674,28.836,28.998,29.16,29.322,29.484,29.646,29.808,29.97,30.132,30.294,30.456,30.618,30.78,30.942,31.104,31.266,31.428,31.59,31.752,31.914,32.076,32.238,32.4,32.562,32.724,32.886,33.048,33.21,33.372,33.534,33.696,33.858,34.02,34.182,34.344,34.506,34.668,34.83,34.992,35.154,35.316,35.478,35.64,35.802,35.964,36.126,36.288,36.45,36.612,36.774,36.936,37.098,37.26,37.422,37.584,37.746,37.908,38.07,38.232,38.394,38.556,38.718,38.88,39.042,39.204,39.366,39.528,39.69,39.852,40.014,40.176,40.338,40.5,40.662,40.824,40.986,41.148,41.31,41.472,41.634,41.796,41.958,42.12,42.282,42.444,42.606,42.768,42.93,43.092,43.254,43.416,43.578,43.74,43.902,44.064,44.226,44.388,44.55,44.712,44.874,45.036,45.198,45.36,45.522,45.684,45.846,46.008,46.17,46.332,46.494,46.656,46.818,46.98,47.142,47.304,47.466,47.628,47.79,47.952,48.114,48.276,48.438,48.6,48.762,48.924,49.086,49.248,49.41,49.572,49.734,49.896,50.058,50.22,50.382,50.544,50.706,50.868,51.03,51.192,51.354,51.516,51.678,51.84,52.002,52.164,52.326,52.488,52.65,52.812,52.974,53.136,53.298,53.46,53.622,53.784,53.946,54.108,54.27,54.432,54.594,54.756,54.918,55.08,55.242,55.404,55.566,55.728,55.89,56.052,56.214,56.376,56.538,56.7,56.862,57.024,57.186,57.348,57.51,57.672,57.834,57.996,58.158,58.32,58.482,58.644,58.806,58.968,59.13,59.292,59.454,59.616,59.778,59.94,60.102,60.264,60.426,60.588,60.75,60.912,61.074,61.236,61.398,61.56,61.722,61.884,62.046,62.208,62.37,62.532,62.694,62.856,63.018,63.18,63.342,63.504,63.666,63.828,63.99,64.152,64.314,64.476,64.638,64.8,64.962,65.124,65.286,65.448,65.61,65.772,65.934,66.096,66.258,66.42,66.582,66.744,66.906,67.068,67.23,67.392,67.554,67.716,67.878,68.04,68.202,68.364,68.526,68.688,68.85,69.012,69.174,69.336,69.498,69.66,69.822,69.984,70.146,70.308,70.47,70.632,70.794,70.956,71.118,71.28,71.442,71.604,71.766,71.928,72.09,72.252,72.414,72.576,72.738,72.9,73.062,73.224,73.386,73.548,73.71,73.872,74.034,74.196,74.358,74.52,74.682,74.844,75.006,75.168,75.33,75.492,75.654,75.816,75.978,76.14,76.302,76.464,76.626,76.788,76.95,77.112,77.274,77.436,77.598,77.76,77.922,78.084,78.246,78.408,78.57,78.732,78.894,79.056,79.218,79.38,79.542,79.704,79.866,80.028,80.19,80.352,80.514,80.676,80.838],\"xaxis\":\"x\",\"y\":[0.019743459265845448,0.019877865062156348,0.020009814009630193,0.02013924909365565,0.02026611433575471,0.020390354837796672,0.020511916825460177,0.020630747690894277,0.020746796034529422,0.020860011705991395,0.020970345844070815,0.02107775091570299,0.021182180753913177,0.021283590594683967,0.021381937112702455,0.021477178455946266,0.02156927427906878,0.021658185775545357,0.021743875708543855,0.021826308440484145,0.02190544996125292,0.021981267915041982,0.022053731625779255,0.022122812121124248,0.0221884821550009,0.022250716228642758,0.02230949061012706,0.02236478335237673,0.022416574309610422,0.02246484515222323,0.022509579380082488,0.022550762334224997,0.022588381206943963,0.022622425050256478,0.02265288478274317,0.022679753194755268,0.02270302495198513,0.0227226965973989,0.02273876655153167,0.022751235111148203,0.022760104446273233,0.022765378595598518,0.022767063460275083,0.022765166796101105,0.022759698204118432,0.022750669119631976,0.022738092799668534,0.022721984308893262,0.022702360504004357,0.022679240016627338,0.02265264323473335,0.022622592282606505,0.0225891109993878,0.0225522249162243,0.022511961232054074,0.022468348788058805,0.022421418040817844,0.022371201034198228,0.02231773137001726,0.02226104417751521,0.022201176081676918,0.02213816517044249,0.022072050960848237,0.022002874364140185,0.021930677649903207,0.02185550440925044,0.021777399517117425,0.021696409093707247,0.021612580465133157,0.021525962123305716,0.021436603685112295,0.021344555850937447,0.02124987036257236,0.02115259996056288,0.021052798341045207,0.0209505201121188,0.020845820749806218,0.02073875655364972,0.020629384601993945,0.020517762707004866,0.020403949369473963,0.020288003733457252,0.02016998554079796,0.020049955085581415,0.019927973168570496,0.01980410105166915,0.019678400412461335,0.019550933298871632,0.019421762083993644,0.019290949421131246,0.019158558199096856,0.01902465149781042,0.0188892925442416,0.018752544668736937,0.01861447126177242,0.018475135731171304,0.01833460145982565,0.018192931763958878,0.018050189851965784,0.017906438783864876,0.017761741431396964,0.01761616043880242,0.01746975818430851,0.01732259674235663,0.01717473784659791,0.01702624285368461,0.016877172707882963,0.0167275879065319,0.01657754846637065,0.01642711389075673,0.016276343137794604,0.016125294589393265,0.015974026021270495,0.01582259457391911,0.015671056724549676,0.015519468260022503,0.015367884250780398,0.015216359025791935,0.015064946148513995,0.014913698393880563,0.014762667726323503,0.014611905278829662,0.0144614613330372,0.014311385300372816,0.0141617257042301,0.014012530163187943,0.01386384537526675,0.01371571710321889,0.013568190160848531,0.013421308400354909,0.01327511470069188,0.01312965095693552,0.01298495807065028,0.012841075941243377,0.012698043458295836,0.01255589849485787,0.012414677901695056,0.012274417502471045,0.012135152089851614,0.011996915422514055,0.011859740223044988,0.01172365817670915,0.011588699931070803,0.011454895096448824,0.011322272247185888,0.01119085892371164,0.011060681635379118,0.010931765864053176,0.01080413606842934,0.010677815689061006,0.010552827154072433,0.010429191885534914,0.010306930306482904,0.010186061848546897,0.010066604960179464,0.009948577115450743,0.009831994823389617,0.009716873637846558,0.009603228167854269,0.009491072088462024,0.00938041815201981,0.009271278199888287,0.009163663174550779,0.009057583132103501,0.008953047255100596,0.008850063865730458,0.008748640439300256,0.008648783618005782,0.008550499224963867,0.008453792278485122,0.00835866700656497,0.008265126861571256,0.00817317453510724,0.008082811973028955,0.007994040390596596,0.007906860287739818,0.007821271464417408,0.007737273036052183,0.0076548634490226225,0.007574040496193004,0.007494801332464555,0.007417142490330568,0.007341059895418935,0.007266548882006257,0.007193604208488074,0.007122220072790454,0.007052390127708727,0.006984107496159787,0.00691736478633481,0.0068521541067400596,0.0067884670811139206,0.00672629486320889,0.006665628151427911,0.006606457203305006,0.006548771849820786,0.006492561509544008,0.006437815202590855,0.006384521564394394,0.006332668859277076,0.0062822449938197515,0.006233237530021367,0.0061856336982439005,0.006139420409937779,0.0060945842701434876,0.006051111589765698,0.006008988397616646,0.005968200452226175,0.005928733253416186,0.005890572053637855,0.005853701869070417,0.005818107490480765,0.005783773493843573,0.005750684250722135,0.005718823938410439,0.005688176549837526,0.0056587259032354585,0.005630455651572719,0.005603349291755093,0.005577390173596567,0.005552561508562998,0.005528846378291698,0.005506227742890325,0.005484688449018784,0.005464211237758084,0.005444778752270387,0.005426373545254617,0.005408978086202359,0.005392574768458809,0.005377145916093888,0.0053626737905886086,0.005349140597342102,0.005336528492004726,0.005324819586642871,0.005313995955741056,0.0053040396420471515,0.005294932662266505,0.005286657012610823,0.005279194674207726,0.005272527618376897,0.005266637811778717,0.00526150722144133,0.005257117819671979,0.005253451588858494,0.005250490526166698,0.005248216648139451,0.00524661199520301,0.0052456586360862,0.0052453386721578845,0.005245634241688096,0.005246527524037931,0.005248000743783423,0.005250036174778179,0.005252616144159646,0.005255723036303561,0.005259339296731029,0.00526344743597245,0.005268030033392402,0.005273069740979252,0.005278549287103247,0.0052844514802464475,0.005290759212707772,0.005297455464286159,0.005304523305944601,0.005311945903457647,0.005319706521044649,0.0053277885249908945,0.005336175387258417,0.005344850689088139,0.0053537981245947025,0.005363001504355135,0.0053724447589922125,0.005382111942753213,0.005391987237084452,0.005402054954201767,0.0054122995406569365,0.00542270558089969,0.005433257800834859,0.005443941071373835,0.005454740411979486,0.0054656409942032405,0.005476628145213038,0.005487687351310472,0.00549880426143541,0.0055099646906560185,0.00552115462364208,0.00553236021811921,0.00554356780830147,0.005554763908299644,0.005565935215502397,0.0055770686139272364,0.005588151177538225,0.0055991701735271125,0.00561011306555455,0.005620967516947879,0.005631721393851876,0.005642362768328819,0.005652879921404063,0.005663261346053311,0.005673495750127698,0.005683572059212714,0.005693479419417016,0.005703207200087112,0.005712744996443878,0.005722082632136903,0.005731210161712615,0.005740117872992208,0.005748796289355348,0.005757236171925761,0.005765428521654769,0.005773364581298965,0.0057810358372882295,0.005788434021480438,0.005795551112799228,0.005802379338751322,0.005808911176820057,0.005815139355731782,0.005821056856592032,0.00582665691388842,0.005831933016357416,0.00583687890771226,0.005841488587229481,0.00584575631019161,0.005849676588183874,0.005853244189242848,0.005856454137855193,0.005859301714804844,0.0058617824568671685,0.005863892156348875,0.005865626860472569,0.005866982870605176,0.005867956741329587,0.005868545279359098,0.00586874554229453,0.005868554837224001,0.005867970719165658,0.005866990989353854,0.005865613693369496,0.005863837119115497,0.005861659794638535,0.0058590804857984865,0.005856098193787203,0.005852712152498435,0.005848921825751033,0.005844726904367661,0.005840127303111563,0.005835123157484106,0.005829714820386003,0.005823902858645371,0.00581768804941595,0.005811071376448999,0.005804054026242604,0.005796637384072272,0.005788823029906896,0.005780612734214343,0.005772008453661052,0.005763012326710209,0.005753626669123208,0.00574385396936926,0.0057336968839480995,0.005723158232630908,0.005712240993624679,0.005700948298665328,0.0056892834280449795,0.005677249805578931,0.005664850993517879,0.005652090687411056,0.005638972710926005,0.005625501010630725,0.005611679650744014,0.005597512807859827,0.005583004765651495,0.005568159909561686,0.00555298272148393,0.00553747777444161,0.0055216497272702145,0.005505503319308663,0.005489043365105493,0.005472274749145593,0.005455202420603189,0.005437831388126641,0.005420166714660599,0.005402213512310953,0.0053839769372579374,0.005365462184722621,0.005346674483991942,0.00532761909350732,0.00530830129602174,0.005288726393830081,0.005268899704077362,0.00524882655414935,0.005228512277149925,0.005207962207469373,0.005187181676447631,0.0051661760081363715,0.00514495051516359,0.005123510494704261,0.005101861224560328,0.0050800079593532645,0.005057955926832112,0.005035710324299799,0.0050132763151603255,0.0049906590255891755,0.004967863541329205,0.004944894904613921,0.004921758111220023,0.004898458107650716,0.004874999788451287,0.004851387993658006,0.0048276275063814595,0.004803723050525019,0.004779679288639059,0.004755500819911337,0.004731192178293645,0.004706757830764838,0.004682202175729939,0.004657529541554986,0.004632744185237029,0.004607850291208521,0.004582851970275146,0.004557753258685969,0.004532558117334629,0.004507270431090084,0.004481894008255282,0.00445643258015202,0.004430889800829942,0.0044052692468977,0.0043795744174739285,0.004353808734255741,0.004327975541702163,0.004302078107329885,0.004276119622118597,0.00425010320102294,0.004224031883588182,0.004197908634666401,0.0041717363452300985,0.004145517833279833,0.004119255844842585,0.004092953055057344,0.0040666120693443955,0.004040235424654729,0.0040138255907958805,0.003987384971830505,0.003960915907543922,0.0039344206749768375,0.003907901490019385,0.003881360509062617,0.0038547998307036065,0.0038282214975001775,0.0038016274977714184,0.0037750197674400127,0.0037484001919124914,0.0037217706079935003,0.003695132805830153,0.0036684885308826544,0.00364183948591726,0.0036151873330178413,0.0035885336956121647,0.003561880160509247,0.0035352282799439817,0.003508579573625461,0.0034819355307853517,0.0034552976122227946,0.0034286672523423756,0.0034020458611817034,0.003375434826425333,0.003348835515401703,0.0033222492770599342,0.0032956774439234036,0.003269121334017049,0.0032425822527654873,0.0032160614948591212,0.0031895603460854764,0.0031630800851231485,0.0031366219852957695,0.0031101873162836277,0.003083777345790498,0.0030573933411635534,0.0030310365709641353,0.003004708306487445,0.00297840982322917,0.002952142402297301,0.002925907331767446,0.002899705907980007,0.0028735394367778583,0.002847409234683065,0.0028213166300115108,0.002795262963924219,0.002769249591414443,0.0027432778822295595,0.0027173492217270386,0.0026914650116637868,0.0026656266709183256,0.0026398356361453557,0.0026140933623623537,0.0025884013234680247,0.0025627610126924315,0.002537173942978821,0.00251164164729727,0.0024861656788902698,0.0024607476114506493],\"yaxis\":\"y\",\"type\":\"scatter\"},{\"legendgroup\":\"naval ship\",\"marker\":{\"color\":\"rgb(23, 190, 207)\"},\"mode\":\"lines\",\"name\":\"naval ship\",\"showlegend\":false,\"x\":[2.0,2.01,2.02,2.03,2.04,2.05,2.06,2.07,2.08,2.09,2.1,2.11,2.12,2.13,2.14,2.15,2.16,2.17,2.18,2.19,2.2,2.21,2.22,2.23,2.24,2.25,2.26,2.27,2.2800000000000002,2.29,2.3,2.31,2.32,2.33,2.34,2.35,2.36,2.37,2.38,2.39,2.4,2.41,2.42,2.43,2.44,2.45,2.46,2.4699999999999998,2.48,2.49,2.5,2.51,2.52,2.5300000000000002,2.54,2.55,2.56,2.57,2.58,2.59,2.6,2.61,2.62,2.63,2.64,2.65,2.66,2.67,2.68,2.69,2.7,2.71,2.7199999999999998,2.73,2.74,2.75,2.76,2.77,2.7800000000000002,2.79,2.8,2.81,2.82,2.83,2.84,2.85,2.86,2.87,2.88,2.89,2.9,2.91,2.92,2.93,2.94,2.95,2.96,2.9699999999999998,2.98,2.99,3.0,3.01,3.02,3.0300000000000002,3.04,3.05,3.06,3.0700000000000003,3.08,3.09,3.1,3.1100000000000003,3.12,3.13,3.1399999999999997,3.15,3.16,3.17,3.1799999999999997,3.19,3.2,3.21,3.2199999999999998,3.23,3.24,3.25,3.26,3.27,3.2800000000000002,3.29,3.3,3.31,3.3200000000000003,3.33,3.34,3.35,3.3600000000000003,3.37,3.38,3.3899999999999997,3.4,3.41,3.42,3.4299999999999997,3.44,3.45,3.46,3.4699999999999998,3.48,3.49,3.5,3.51,3.52,3.5300000000000002,3.54,3.55,3.56,3.5700000000000003,3.58,3.59,3.6,3.6100000000000003,3.62,3.63,3.6399999999999997,3.65,3.66,3.67,3.6799999999999997,3.69,3.7,3.71,3.7199999999999998,3.73,3.74,3.75,3.76,3.77,3.7800000000000002,3.79,3.8,3.81,3.8200000000000003,3.83,3.84,3.85,3.8600000000000003,3.87,3.88,3.8899999999999997,3.9,3.91,3.92,3.9299999999999997,3.94,3.95,3.96,3.9699999999999998,3.98,3.99,4.0,4.01,4.02,4.029999999999999,4.04,4.05,4.0600000000000005,4.07,4.08,4.09,4.1,4.109999999999999,4.12,4.13,4.140000000000001,4.15,4.16,4.17,4.18,4.1899999999999995,4.2,4.21,4.220000000000001,4.23,4.24,4.25,4.26,4.27,4.279999999999999,4.29,4.3,4.3100000000000005,4.32,4.33,4.34,4.35,4.359999999999999,4.37,4.38,4.390000000000001,4.4,4.41,4.42,4.43,4.4399999999999995,4.45,4.46,4.470000000000001,4.48,4.49,4.5,4.51,4.52,4.529999999999999,4.54,4.55,4.5600000000000005,4.57,4.58,4.59,4.6,4.609999999999999,4.62,4.63,4.640000000000001,4.65,4.66,4.67,4.68,4.6899999999999995,4.7,4.71,4.720000000000001,4.73,4.74,4.75,4.76,4.77,4.779999999999999,4.79,4.8,4.8100000000000005,4.82,4.83,4.84,4.85,4.859999999999999,4.87,4.88,4.890000000000001,4.9,4.91,4.92,4.93,4.9399999999999995,4.95,4.96,4.970000000000001,4.98,4.99,5.0,5.01,5.02,5.029999999999999,5.04,5.05,5.0600000000000005,5.07,5.08,5.09,5.1,5.109999999999999,5.12,5.13,5.140000000000001,5.15,5.16,5.17,5.18,5.1899999999999995,5.2,5.21,5.220000000000001,5.23,5.24,5.25,5.26,5.27,5.279999999999999,5.29,5.3,5.3100000000000005,5.32,5.33,5.34,5.35,5.359999999999999,5.37,5.38,5.390000000000001,5.4,5.41,5.42,5.43,5.4399999999999995,5.45,5.46,5.470000000000001,5.48,5.49,5.5,5.51,5.52,5.529999999999999,5.54,5.55,5.5600000000000005,5.57,5.58,5.59,5.6,5.609999999999999,5.62,5.63,5.640000000000001,5.65,5.66,5.67,5.68,5.6899999999999995,5.7,5.71,5.720000000000001,5.73,5.74,5.75,5.76,5.77,5.779999999999999,5.79,5.8,5.8100000000000005,5.82,5.83,5.84,5.85,5.859999999999999,5.87,5.88,5.890000000000001,5.9,5.91,5.92,5.93,5.9399999999999995,5.95,5.96,5.970000000000001,5.98,5.99,6.0,6.01,6.02,6.03,6.04,6.05,6.06,6.07,6.08,6.09,6.1,6.11,6.12,6.13,6.14,6.15,6.16,6.17,6.18,6.19,6.2,6.21,6.22,6.23,6.24,6.25,6.26,6.27,6.28,6.29,6.3,6.31,6.32,6.33,6.34,6.35,6.36,6.37,6.38,6.39,6.4,6.41,6.42,6.43,6.44,6.45,6.46,6.47,6.48,6.49,6.5,6.51,6.52,6.53,6.54,6.55,6.56,6.57,6.58,6.59,6.6,6.61,6.62,6.63,6.64,6.65,6.66,6.67,6.68,6.69,6.7,6.71,6.72,6.73,6.74,6.75,6.76,6.77,6.78,6.79,6.8,6.81,6.82,6.83,6.84,6.85,6.86,6.87,6.88,6.89,6.9,6.91,6.92,6.93,6.94,6.95,6.96,6.97,6.98,6.99],\"xaxis\":\"x\",\"y\":[0.25373169668649825,0.25539738365663406,0.25705042169770204,0.2586904660692245,0.2603171728554842,0.2619301990419415,0.2635292025923102,0.2651138425263268,0.26668377899826395,0.26823867337622537,0.2697781883222675,0.2713019878733869,0.2728097375234115,0.2743011043058361,0.2757757568776366,0.2772333656040984,0.27867360264469293,0.28009614204002603,0.2815006597998964,0.2828868339924846,0.284254344834693,0.28560287478366436,0.28693210862949015,0.28824173358912697,0.28953143940153475,0.2908009184240356,0.29204986572991126,0.2932779792072307,0.2944849596589088,0.29567051090399254,0.29683433988016183,0.2979761567474314,0.29909567499303813,0.3001926115374916,0.3012666868417621,0.3023176250155724,0.30334515392676764,0.3043490053117143,0.305328914886694,0.30628462246024085,0.307215872046371,0.30812241197865103,0.3090039950250414,0.3098603785034537,0.3106913243979514,0.3114965994755216,0.31227597540334073,0.31302922886645157,0.3137561416857672,0.31445650093631483,0.3151300990656194,0.31577673401213774,0.31639620932363743,0.3169883342754151,0.31755292398825236,0.31808979954598865,0.31859878811260617,0.3190797230486992,0.3195324440272183,0.3199567971483554,0.3203526350534516,0.32071981703779495,0.3210582091621794,0.32136768436309304,0.3216481225614002,0.32189941076938017,0.32212144319598873,0.3223141213502025,0.32247735414230316,0.32261105798296774,0.3227151568800194,0.32278958253270046,0.322834274423325,0.32284917990617046,0.32283425429347223,0.32278946093837246,0.32271477131469845,0.32261016509341656,0.32247563021564163,0.322311162962058,0.32211676801862105,0.32189245853841514,0.3216382561995336,0.3213541912588588,0.321040302601623,0.3206966377866247,0.32032325308699355,0.3199202135263848,0.3194875929105003,0.3190254738538306,0.3185339478015175,0.31801311504624474,0.3174630847400661,0.31688397490108217,0.3162759124148918,0.31563903303073515,0.314973481352269,0.3142794108228997,0.3135569837056238,0.31280637105731934,0.3120277526974452,0.31122131717110213,0.310387261706433,0.3095257921663202,0.3086371229943731,0.3077214771551811,0.30677908606883103,0.3058101895396852,0.3048150356794263,0.3037938808243801,0.30274698944713996,0.3016746340625156,0.30057709512783964,0.29945466093767525,0.29830762751296663,0.297136298484692,0.295940984972075,0.29472200545542426,0.29347968564367566,0.2922143583367153,0.2909263632825738,0.28961604702958416,0.28828376277360074,0.2869298702003913,0.2855547353233097,0.2841587303163694,0.28274223334284126,0.2813056283795078,0.27984930503670713,0.27837365837430716,0.27687908871375844,0.275366001446373,0.27383480683799216,0.2722859198301906,0.2707197598381988,0.26913675054569464,0.2675373196966543,0.2659218988844241,0.26429092333820375,0.2626448317071189,0.26098406584207184,0.25930907057555813,0.2576202934996414,0.2559181847422788,0.254203196742195,0.25247578402250215,0.2507364029632602,0.24898551157318513,0.24722356926069913,0.24545103660453113,0.2436683751240623,0.24187604704962515,0.24007451509295577,0.23826424221800074,0.23644569141227945,0.2346193254590032,0.23278560671014928,0.23094499686068795,0.22909795672415703,0.2272449460097788,0.22538642310131193,0.22352284483782453,0.2216546662965793,0.21978234057821056,0.21790631859437593,0.21602704885805935,0.21414497727670026,0.21226054694831648,0.2103741979607902,0.20848636719447505,0.20659748812828718,0.20470799064942874,0.2028183008668942,0.20092884092890304,0.1990400288444005,0.1971522783087525,0.19526599853377302,0.19338159408219796,0.19149946470673063,0.1896200051937649,0.18774360521189615,0.18587064916531876,0.1840015160522059,0.1821365793281598,0.1802762067748148,0.17842076037367144,0.17657059618523116,0.17472606423349524,0.1728875083958887,0.17105526629866044,0.1692296692178035,0.16741104198553902,0.16559970290239517,0.16379596365490862,0.1620001292389711,0.16021249788883646,0.15843336101179514,0.15666300312852305,0.15490170181909887,0.15314972767468396,0.15140734425484723,0.1496748080505193,0.14795236845254625,0.14624026772581408,0.14453874098890646,0.1428480161992532,0.14116831414372338,0.1394998484346099,0.1378428255109486,0.1361974446451078,0.1345638979545854,0.1329423704189383,0.13133303990176765,0.12973607717768407,0.12815164596416226,0.1265799029582024,0.12502099787770057,0.12347507350743565,0.12194226574957212,0.12042270367857365,0.11891650960042492,0.11742379911604867,0.11594468118880702,0.11447925821597327,0.11302762610405356,0.11158987434784147,0.1101660861130814,0.10875633832261636,0.10736070174589538,0.10597924109170977,0.10461201510403267,0.10325907666082582,0.10192047287568635,0.10059624520219655,0.09928642954084338,0.09799105634837435,0.09671015074945168,0.0954437326504693,0.09419181685539779,0.09295441318351767,0.09173152658890853,0.09052315728155291,0.08932930084992217,0.08814994838490767,0.08698508660496025,0.08583469798230653,0.08469876087010589,0.08357724963041471,0.08247013476282956,0.08137738303367412,0.08029895760560393,0.07923481816749897,0.07818492106451885,0.07714921942819396,0.076127663306431,0.07512019979331082,0.07412677315855783,0.07314732497656551,0.07218179425485963,0.07123011756188824,0.07029222915402505,0.06936806110167863,0.06845754341439864,0.06756060416487737,0.06667716961174143,0.0658071643210374,0.06495051128631116,0.06410713204718912,0.06327694680636863,0.062459874544927664,0.06165583313586905,0.060864739455814505,0.060086509494767196,0.05932105846386649,0.05856830090105771,0.057828150774605895,0.05710052158438309,0.05638532646086306,0.055682478261759566,0.05499188966624684,0.05431347326670525,0.05364714165793548,0.05299280752379112,0.052350383721178506,0.05171978336137844,0.0511009198886464,0.05049370715605006,0.04989805949850683,0.04931389180298687,0.048741119575848674,0.04817965900727951,0.04762942703281303,0.047090341391901845,0.04656232068352339,0.04604528441880191,0.045539153070631194,0.04504384812028572,0.044559292101010166,0.04408540863858114,0.043622122488836,0.043169359572167325,0.042727047004984475,0.042295113128144796,0.04187348753236127,0.041462101080594935,0.04106088592744329,0.04066977553553771,0.04028870468896676,0.039917609503742735,0.03955642743533293,0.03920509728327861,0.03886355919292629,0.03853175465430024,0.03820962649814475,0.03789711888916932,0.03759417731653025,0.037300748581585365,0.037016780782960036,0.03674222329896551,0.03647702676741132,0.03622114306285698,0.03597452527134888,0.03573712766269109,0.03550890566029999,0.03528981580869504,0.035079815738679285,0.03487886413026537,0.03468692067340422,0.034503946026575284,0.03432990177329923,0.03416475037663484,0.03400845513172413,0.033860980116450834,0.03372229014027876,0.03359235069133833,0.033471127881830535,0.03335858839181934,0.03325469941148419,0.03315942858190627,0.03307274393446267,0.032994613828904285,0.032925006890193856,0.032863891944182086,0.03281123795220024,0.032767013944649065,0.03273118895366435,0.032703731944940494,0.032684611748793946,0.03267379699054973,0.03267125602033389,0.032676956842356226,0.03269086704376791,0.03271295372317872,0.032743183418919644,0.032781522037136336,0.0328279347797998,0.032882386072720475,0.032944839493652074,0.03301525770057206,0.03309360236022505,0.03317983407701583,0.03327391232233861,0.033375795364428466,0.03348544019882129,0.03360280247950801,0.03372783645086798,0.033860494880467204,0.03400072899280496,0.03414848840409304,0.034303721058150716,0.03446637316349738,0.0346363891317247,0.034813711517228944,0.034998280958382665,0.035190036120224776,0.03538891363874625,0.03559484806684753,0.03580777182204303,0.036027615135985784,0.03625430600588479,0.036487770147885554,0.03672793095248297,0.03697470944203368,0.03722802423043398,0.03748779148502687,0.037753924890800115,0.03802633561693568,0.03830493228576817,0.03858962094420843,0.0388803050376859,0.03917688538666103,0.03947926016575748,0.039787324885560194,0.040100972377124275,0.04042009277923635,0.040744573528467574,0.04107429935205521,0.04140915226364692,0.041749011561938436,0.042093753832234036,0.04244325295095462,0.042797380093116795,0.043156003742802554,0.043518989706636486,0.04388620113028432,0.044257498517984016,0.04463273975511644,0.04501178013382111,0.04539447238165731,0.0457806666933107,0.04617021076533831,0.04656294983394564,0.046958726715783425,0.0473573818517502,0.0477587533537822,0.048162677054609894,0.04856898656045664,0.048977513306652024,0.04938808661612866,0.0498005337607689,0.05021468002556291,0.050630348775539666,0.051047361525424675,0.05146553801197919,0.0518846962689702,0.05230465270471815,0.0527252221821661,0.05314621810141099,0.053567452484634945,0.05398873606337112,0.05440987836803654,0.054830687819660155,0.055250971823733466,0.05567053686610614,0.056089188610849244,0.056506732000002544,0.05692297135512339,0.05733771048054989,0.05775075276828993,0.05816190130444468,0.05857095897707371,0.05897772858540612,0.05938201295030085,0.05978361502585672,0.06018233801207169,0.060577985468448184,0.060970361428441734,0.061359270514645785,0.06174451805460708,0.062125910197163174,0.06250325402919292,0.06287635769266992,0.06324503050190786,0.06360908306088638,0.06396832738054463,0.06432257699593068,0.06467164708309246,0.06501535457559812,0.06535351828057145,0.06568595899412978,0.06601249961611054,0.06633296526397378,0.06664718338576862,0.06695498387205093,0.06725619916664186,0.06755066437611643,0.06783821737791287,0.0681186989269545,0.06839195276067704,0.06865782570235575,0.06891616776262774,0.06916683223910772,0.0694096758139953,0.06964455864957554,0.0698713444815152,0.0700899007098602,0.07030009848764113,0.0705018128069967,0.07069492258272682,0.07087931073319025,0.07105486425846363,0.07122147431568229,0.071379036291485,0.07152744987148923,0.071666619106725,0.07179645247695965,0.0719168629508484,0.07202776804284933,0.07212908986684431,0.07222075518641141,0.0723026954616971,0.07237484689284082,0.07243715045990774,0.07248955195928923,0.07253200203653437,0.07256445621557958,0.0725868749243472,0.07259922351668786,0.07260147229064506,0.07259359650302448],\"yaxis\":\"y\",\"type\":\"scatter\"},{\"legendgroup\":\"anti-aircraft warfare\",\"marker\":{\"color\":\"rgb(31, 119, 180)\"},\"mode\":\"lines\",\"name\":\"anti-aircraft warfare\",\"showlegend\":false,\"x\":[0.0,0.108,0.216,0.324,0.432,0.54,0.648,0.756,0.864,0.972,1.08,1.188,1.296,1.404,1.512,1.62,1.728,1.836,1.944,2.052,2.16,2.268,2.376,2.484,2.592,2.7,2.808,2.916,3.024,3.132,3.24,3.348,3.456,3.564,3.672,3.78,3.888,3.996,4.104,4.212,4.32,4.428,4.536,4.644,4.752,4.86,4.968,5.076,5.184,5.292,5.4,5.508,5.616,5.724,5.832,5.94,6.048,6.156,6.264,6.372,6.48,6.588,6.696,6.804,6.912,7.02,7.128,7.236,7.344,7.452,7.56,7.668,7.776,7.884,7.992,8.1,8.208,8.316,8.424,8.532,8.64,8.748,8.856,8.964,9.072,9.18,9.288,9.396,9.504,9.612,9.72,9.828,9.936,10.044,10.152,10.26,10.368,10.476,10.584,10.692,10.8,10.908,11.016,11.124,11.232,11.34,11.448,11.556,11.664,11.772,11.88,11.988,12.096,12.204,12.312,12.42,12.528,12.636,12.744,12.852,12.96,13.068,13.176,13.284,13.392,13.5,13.608,13.716,13.824,13.932,14.04,14.148,14.256,14.364,14.472,14.58,14.688,14.796,14.904,15.012,15.12,15.228,15.336,15.444,15.552,15.66,15.768,15.876,15.984,16.092,16.2,16.308,16.416,16.524,16.632,16.74,16.848,16.956,17.064,17.172,17.28,17.388,17.496,17.604,17.712,17.82,17.928,18.036,18.144,18.252,18.36,18.468,18.576,18.684,18.792,18.9,19.008,19.116,19.224,19.332,19.44,19.548,19.656,19.764,19.872,19.98,20.088,20.196,20.304,20.412,20.52,20.628,20.736,20.844,20.952,21.06,21.168,21.276,21.384,21.492,21.6,21.708,21.816,21.924,22.032,22.14,22.248,22.356,22.464,22.572,22.68,22.788,22.896,23.004,23.112,23.22,23.328,23.436,23.544,23.652,23.76,23.868,23.976,24.084,24.192,24.3,24.408,24.516,24.624,24.732,24.84,24.948,25.056,25.164,25.272,25.38,25.488,25.596,25.704,25.812,25.92,26.028,26.136,26.244,26.352,26.46,26.568,26.676,26.784,26.892,27.0,27.108,27.216,27.324,27.432,27.54,27.648,27.756,27.864,27.972,28.08,28.188,28.296,28.404,28.512,28.62,28.728,28.836,28.944,29.052,29.16,29.268,29.376,29.484,29.592,29.7,29.808,29.916,30.024,30.132,30.24,30.348,30.456,30.564,30.672,30.78,30.888,30.996,31.104,31.212,31.32,31.428,31.536,31.644,31.752,31.86,31.968,32.076,32.184,32.292,32.4,32.508,32.616,32.724,32.832,32.94,33.048,33.156,33.264,33.372,33.48,33.588,33.696,33.804,33.912,34.02,34.128,34.236,34.344,34.452,34.56,34.668,34.776,34.884,34.992,35.1,35.208,35.316,35.424,35.532,35.64,35.748,35.856,35.964,36.072,36.18,36.288,36.396,36.504,36.612,36.72,36.828,36.936,37.044,37.152,37.26,37.368,37.476,37.584,37.692,37.8,37.908,38.016,38.124,38.232,38.34,38.448,38.556,38.664,38.772,38.88,38.988,39.096,39.204,39.312,39.42,39.528,39.636,39.744,39.852,39.96,40.068,40.176,40.284,40.392,40.5,40.608,40.716,40.824,40.932,41.04,41.148,41.256,41.364,41.472,41.58,41.688,41.796,41.904,42.012,42.12,42.228,42.336,42.444,42.552,42.66,42.768,42.876,42.984,43.092,43.2,43.308,43.416,43.524,43.632,43.74,43.848,43.956,44.064,44.172,44.28,44.388,44.496,44.604,44.712,44.82,44.928,45.036,45.144,45.252,45.36,45.468,45.576,45.684,45.792,45.9,46.008,46.116,46.224,46.332,46.44,46.548,46.656,46.764,46.872,46.98,47.088,47.196,47.304,47.412,47.52,47.628,47.736,47.844,47.952,48.06,48.168,48.276,48.384,48.492,48.6,48.708,48.816,48.924,49.032,49.14,49.248,49.356,49.464,49.572,49.68,49.788,49.896,50.004,50.112,50.22,50.328,50.436,50.544,50.652,50.76,50.868,50.976,51.084,51.192,51.3,51.408,51.516,51.624,51.732,51.84,51.948,52.056,52.164,52.272,52.38,52.488,52.596,52.704,52.812,52.92,53.028,53.136,53.244,53.352,53.46,53.568,53.676,53.784,53.892],\"xaxis\":\"x\",\"y\":[0.008024153815059014,0.008074226902974515,0.008123831119267108,0.00817295944823052,0.00822160513161756,0.008269761672981088,0.008317422841839905,0.008364582677665903,0.008411235493689054,0.008457375880516892,0.008502998709565442,0.008548099136298518,0.0085926726032726,0.008636714842984701,0.008680221880520795,0.00872319003600232,0.008765615926828894,0.008807496469715207,0.00884882888252028,0.00888961068586762,0.00892983970455481,0.008969514068751487,0.009008632214984432,0.009047192886909278,0.009085195135867901,0.009122638321231235,0.009159522110527223,0.009195846479353743,0.009231611711076736,0.009266818396313794,0.009301467432203715,0.00933556002146264,0.009369097671227778,0.00940208219168961,0.00943451569451391,0.009466400591054962,0.009497739590361572,0.00952853569697762,0.009558792208539139,0.009588512713170008,0.009617701086678618,0.009646361489557803,0.009674498363790954,0.009702116429466747,0.009729220681205736,0.00975581638440176,0.009781909071281486,0.009807504536785385,0.009832608834273945,0.0098572282710625,0.009881369403788762,0.009905039033616923,0.009928244201282417,0.00995099218198168,0.00997329048011103,0.00999514682385944,0.010016569159659568,0.010037565646501753,0.010058144650115897,0.010078314737025982,0.010098084668482301,0.010117463394276452,0.010136460046444244,0.010155083932861764,0.01017334453073988,0.010191251480022697,0.010208814576695195,0.010226043766005739,0.010242949135608932,0.01025954090863439,0.010275829436687206,0.010291825192785565,0.01030753876424147,0.010322980845490166,0.010338162230874045,0.01035309380738677,0.010367786547383562,0.010382251501263226,0.01039649979012779,0.010410542598425622,0.010424391166583655,0.010438056783634526,0.010451550779844384,0.010464884519347056,0.010478069392790184,0.010491116809999063,0.010504038192663668,0.010516844967054547,0.010529548556772841,0.010542160375540193,0.010554691820033598,0.010567154262770691,0.010579559045050715,0.010591917469956155,0.010604240795420357,0.010616540227366016,0.010628826912919437,0.010641111933705373,0.010653406299227303,0.01066572094033762,0.010678066702802448,0.01069045434096524,0.010702894511513813,0.010715397767354744,0.010727974551599408,0.010740635191665565,0.010753389893498302,0.010766248735914197,0.010779221665072251,0.01079231848907499,0.010805548872703342,0.010818922332288162,0.010832448230721934,0.01084613577261313,0.010859993999586572,0.010874031785731991,0.010888257833203843,0.010902680667974228,0.010917308635741758,0.010932149897998173,0.010947212428254744,0.010962504008430417,0.010978032225403389,0.010993804467727622,0.011009827922515788,0.011026109572489987,0.011042656193201293,0.011059474350419212,0.011076570397691896,0.011093950474077872,0.011111620502049923,0.011129586185571411,0.01114785300834571,0.011166426232238479,0.01118531089587331,0.011204511813400292,0.011224033573437616,0.011243880538185522,0.011264056842712505,0.011284566394412993,0.011305412872635751,0.011326599728482328,0.011348130184774527,0.01137000723618977,0.011392233649563325,0.011414811964355964,0.01143774449328571,0.011461033323122182,0.011484680315641848,0.011508687108742522,0.011533055117715262,0.011557785536671767,0.011582879340125155,0.01160833728472218,0.011634159911124497,0.01166034754603682,0.011686900304379478,0.011713818091602976,0.01174110060614204,0.011768747342006319,0.011796757591505343,0.011825130448104642,0.011853864809410435,0.011882959380279712,0.011912412676052975,0.011942223025906305,0.011972388576319897,0.012002907294659625,0.01203377697286858,0.012064995231265209,0.012096559522444624,0.012128467135279812,0.012160715199019166,0.012193300687476814,0.012226220423312364,0.012259471082396129,0.012293049198256535,0.012326951166605747,0.01236117324993996,0.012395711582210424,0.012430562173561466,0.012465720915131748,0.012501183583914634,0.012536945847674053,0.01257300326991158,0.012609351314881053,0.012645985352646518,0.01268290066417952,0.01272009244649169,0.01275755581779851,0.01279528582271014,0.012833277437445202,0.012871525575063247,0.012910025090711921,0.012948770786884379,0.012987757418682891,0.013026979699084403,0.013066432304203669,0.013106109878549783,0.013146007040271811,0.013186118386389192,0.013226438498002618,0.013266961945481073,0.013307683293620717,0.013348597106771163,0.01338969795392506,0.013430980413766315,0.013472439079672872,0.013514068564669529,0.013555863506326576,0.013597818571599755,0.01363992846160736,0.01368218791634002,0.013724591719298948,0.013767134702058237,0.013809811748746974,0.013852617800446885,0.013895547859501213,0.013938596993730618,0.013981760340551857,0.01402503311099513,0.01406841059361574,0.014111888158296244,0.014155461259934617,0.014199125442014826,0.0142428763400554,0.014286709684932248,0.014330621306071862,0.014374607134510867,0.014418663205818251,0.014462785662876572,0.014506970758518346,0.0145512148580142,0.014595514441409019,0.014639866105702995,0.014684266566873917,0.014728712661737545,0.014773201349643036,0.014817729714000126,0.01486229496363527,0.014906894433973819,0.014951525588045534,0.014996186017310762,0.015040873442304866,0.015085585713098395,0.015130320809571048,0.01517507684149694,0.015219852048439621,0.01526464479945484,0.015309453592599404,0.015354277054244856,0.015399113938194393,0.015443963124602118,0.015488823618693581,0.015533694549286766,0.015578575167113081,0.015623464842937806,0.015668363065479942,0.015713269439131247,0.015758183681474976,0.01580310562060436,0.015848035192241792,0.01589297243665933,0.01593791749540164,0.015982870607812793,0.016027832107368124,0.016072802417813264,0.01611778204911206,0.016162771593205564,0.016207771719584912,0.016252783170680143,0.016297806757068555,0.016342843352505264,0.016387893888779682,0.016432959350401274,0.016478040769118955,0.016523139218277624,0.016568255807016888,0.016613391674316063,0.01665854798289067,0.016703725912945402,0.016748926655788778,0.01679415140731542,0.01683940136136137,0.016884677702938753,0.01692998160135599,0.016975314203229997,0.017020676625397163,0.017066069947730002,0.017111495205866627,0.017156953383860352,0.01720244540675697,0.017247972133107522,0.01729353434742435,0.01733913275258854,0.017384767962217107,0.01743044049299826,0.017476150757003366,0.01752189905398428,0.01756768556366498,0.017613510338036466,0.017659373293663946,0.01770527420401559,0.017751212691822282,0.01779718822147745,0.017843200091486752,0.017889247426977027,0.017935329172274042,0.017981444083558725,0.018027590721611683,0.01807376744465533,0.018119972401303676,0.018166203523629226,0.018212458520356727,0.018258734870193347,0.01830502981530498,0.0183513403549479,0.018397663239265612,0.018443994963259994,0.01849033176094596,0.018536669599699032,0.018583004174804633,0.01862933090421811,0.018675644923544146,0.018721941081244187,0.018768213934080374,0.018814457742803926,0.018860666468096317,0.018906833766770735,0.018952952988241723,0.018999017171269995,0.019045019040989705,0.01909095100622502,0.01913680515710233,0.019182573262964717,0.019228246770594152,0.019273816802747666,0.019319274157012362,0.01936460930498445,0.01940981239177715,0.01945487323586163,0.019499781329244965,0.019544525837988866,0.01958909560307244,0.019633479141601767,0.01967766464836887,0.019721639997762417,0.019765392746031354,0.01980891013390361,0.019852179089559965,0.019895186231964342,0.019937917874550175,0.019980360029262855,0.020022498410957417,0.02006431844215045,0.02010580525812467,0.02014694371238425,0.02018771838245853,0.020228113576051428,0.020268113337533235,0.020307701454771416,0.020346861466296183,0.02038557666879673,0.020423830124943056,0.020461604671528345,0.02049888292792636,0.020535647304857733,0.020571880013458884,0.020607563074646906,0.02064267832877321,0.020677207445558572,0.020711131934301758,0.020744433154353543,0.02077709232584774,0.020809090540680447,0.020840408773728246,0.020871027894296092,0.02090092867778531,0.020930091817571356,0.02095849793708146,0.020986127602061415,0.02101296133302093,0.021038979617846412,0.021064162924570137,0.021088491714284237,0.021111946454188128,0.021134507630757426,0.02115615576302247,0.02117687141594452,0.021196635213877144,0.021215427854100796,0.021233230120417793,0.021250022896795603,0.021265787181045357,0.021280504098523334,0.021294154915842564,0.021306721054581784,0.02131818410497909,0.021328525839597465,0.021337728226949574,0.02134577344506906,0.02135264389501561,0.021358322214301534,0.021362791290226786,0.02136603427311073,0.021368034589407652,0.02136877595469429,0.021368242386517092,0.021366418217087423,0.021363288105812794,0.02135883705165269,0.021353050405287566,0.021345913881089643,0.021337413568884786,0.021327535945494414,0.021316267886047187,0.021303596675049802,0.021289510017207205,0.02127399604798232,0.021257043343885618,0.021238640932485592,0.02121877830213098,0.021197445411376175,0.021174632698101596,0.02115033108832082,0.02112453200466697,0.021097227374550886,0.021068409637984207,0.02103807175506044,0.021006207213088,0.020972810033369038,0.02093787477761844,0.02090139655401795,0.020863371022900142,0.020823794402058216,0.020782663471677024,0.020739975578881766,0.02069572864190086,0.02064992115384011,0.02060255218606523,0.020553621391190685,0.02050312900567288,0.02045107585200604,0.02039746334051975,0.020342293470777394,0.020285568832574815,0.020227292606539573,0.02016746856433054,0.020106101068439165,0.020043195071592725,0.019978756115761612,0.01991279033077191,0.019845304432525468,0.019776305720830046,0.019705802076842006,0.0196338019601249,0.019560314405327083,0.0194853490184823,0.019408915972937122,0.019331026004909647,0.019251690408684026,0.019170921031445805,0.019088730267763192,0.01900513105371981,0.018920136860704612,0.018833761688864994,0.01874602006022934,0.0186569270115055,0.01856649808656195,0.01847474932859844,0.018381697272013654,0.018287358933976768,0.018191751805710945,0.018094893843496183,0.017996803459399763,0.017897499511742142,0.017797001295306775,0.017695328531302255,0.017592501357085254,0.017488540315653216,0.01738346634491532,0.017277300766751078,0.01717006527586522,0.017061781928448403,0.016952473130652783,0.016842161626891887,0.01673087048797416,0.016618623099079733,0.016505443147589813,0.016391354610778515,0.01627638174337641,0.01616054906501583,0.01604388134756721,0.015926403602376512,0.015808141067413007,0.015689119194337558,0.015569363635500624,0.015448900230879891,0.015327754994967115,0.015205954103613615],\"yaxis\":\"y\",\"type\":\"scatter\"},{\"legendgroup\":\"special equipment\",\"marker\":{\"color\":\"rgb(255, 127, 14)\"},\"mode\":\"lines\",\"name\":\"special equipment\",\"showlegend\":false,\"x\":[0.0,0.042,0.084,0.126,0.168,0.21,0.252,0.294,0.336,0.378,0.42,0.462,0.504,0.546,0.588,0.63,0.672,0.714,0.756,0.798,0.84,0.882,0.924,0.966,1.008,1.05,1.092,1.134,1.176,1.218,1.26,1.302,1.344,1.386,1.428,1.47,1.512,1.554,1.596,1.638,1.68,1.722,1.764,1.806,1.848,1.89,1.932,1.974,2.016,2.058,2.1,2.142,2.184,2.226,2.268,2.31,2.352,2.394,2.436,2.478,2.52,2.562,2.604,2.646,2.688,2.73,2.772,2.814,2.856,2.898,2.94,2.982,3.024,3.066,3.108,3.15,3.192,3.234,3.276,3.318,3.36,3.402,3.444,3.486,3.528,3.57,3.612,3.654,3.696,3.738,3.78,3.822,3.864,3.906,3.948,3.99,4.032,4.074,4.116,4.158,4.2,4.242,4.284,4.326,4.368,4.41,4.452,4.494,4.536,4.578,4.62,4.662,4.704,4.746,4.788,4.83,4.872,4.914,4.956,4.998,5.04,5.082,5.124,5.166,5.208,5.25,5.292,5.334,5.376,5.418,5.46,5.502,5.544,5.586,5.628,5.67,5.712,5.754,5.796,5.838,5.88,5.922,5.964,6.006,6.048,6.09,6.132,6.174,6.216,6.258,6.3,6.342,6.384,6.426,6.468,6.51,6.552,6.594,6.636,6.678,6.72,6.762,6.804,6.846,6.888,6.93,6.972,7.014,7.056,7.098,7.14,7.182,7.224,7.266,7.308,7.35,7.392,7.434,7.476,7.518,7.56,7.602,7.644,7.686,7.728,7.77,7.812,7.854,7.896,7.938,7.98,8.022,8.064,8.106,8.148,8.19,8.232,8.274,8.316,8.358,8.4,8.442,8.484,8.526,8.568,8.61,8.652,8.694,8.736,8.778,8.82,8.862,8.904,8.946,8.988,9.03,9.072,9.114,9.156,9.198,9.24,9.282,9.324,9.366,9.408,9.45,9.492,9.534,9.576,9.618,9.66,9.702,9.744,9.786,9.828,9.87,9.912,9.954,9.996,10.038,10.08,10.122,10.164,10.206,10.248,10.29,10.332,10.374,10.416,10.458,10.5,10.542,10.584,10.626,10.668,10.71,10.752,10.794,10.836,10.878,10.92,10.962,11.004,11.046,11.088,11.13,11.172,11.214,11.256,11.298,11.34,11.382,11.424,11.466,11.508,11.55,11.592,11.634,11.676,11.718,11.76,11.802,11.844,11.886,11.928,11.97,12.012,12.054,12.096,12.138,12.18,12.222,12.264,12.306,12.348,12.39,12.432,12.474,12.516,12.558,12.6,12.642,12.684,12.726,12.768,12.81,12.852,12.894,12.936,12.978,13.02,13.062,13.104,13.146,13.188,13.23,13.272,13.314,13.356,13.398,13.44,13.482,13.524,13.566,13.608,13.65,13.692,13.734,13.776,13.818,13.86,13.902,13.944,13.986,14.028,14.07,14.112,14.154,14.196,14.238,14.28,14.322,14.364,14.406,14.448,14.49,14.532,14.574,14.616,14.658,14.7,14.742,14.784,14.826,14.868,14.91,14.952,14.994,15.036,15.078,15.12,15.162,15.204,15.246,15.288,15.33,15.372,15.414,15.456,15.498,15.54,15.582,15.624,15.666,15.708,15.75,15.792,15.834,15.876,15.918,15.96,16.002,16.044,16.086,16.128,16.17,16.212,16.254,16.296,16.338,16.38,16.422,16.464,16.506,16.548,16.59,16.632,16.674,16.716,16.758,16.8,16.842,16.884,16.926,16.968,17.01,17.052,17.094,17.136,17.178,17.22,17.262,17.304,17.346,17.388,17.43,17.472,17.514,17.556,17.598,17.64,17.682,17.724,17.766,17.808,17.85,17.892,17.934,17.976,18.018,18.06,18.102,18.144,18.186,18.228,18.27,18.312,18.354,18.396,18.438,18.48,18.522,18.564,18.606,18.648,18.69,18.732,18.774,18.816,18.858,18.9,18.942,18.984,19.026,19.068,19.11,19.152,19.194,19.236,19.278,19.32,19.362,19.404,19.446,19.488,19.53,19.572,19.614,19.656,19.698,19.74,19.782,19.824,19.866,19.908,19.95,19.992,20.034,20.076,20.118,20.16,20.202,20.244,20.286,20.328,20.37,20.412,20.454,20.496,20.538,20.58,20.622,20.664,20.706,20.748,20.79,20.832,20.874,20.916,20.958],\"xaxis\":\"x\",\"y\":[0.05459849661343026,0.05460989824303879,0.05461601553306718,0.05461685683855037,0.05461243231442582,0.05460275391256226,0.054587835377843716,0.054567692243309714,0.0545423418243554,0.05451180321199271,0.0544760972651782,0.05443524660221048,0.054389275591203344,0.05433821033963927,0.054282078683010195,0.05422091017255301,0.05415473606208579,0.054083589293954966,0.054007504484100556,0.0539265179062502,0.053840667475251326,0.05374999272955224,0.05365453481284356,0.05355433645487207,0.05344944195143841,0.05333989714359281,0.05322574939604144,0.05310704757477816,0.052983842023955154,0.0528561845420089,0.052724128357055984,0.05258772810157503,0.05244703978639169,0.05230212077398319,0.0521530297511201,0.051999826700862756,0.05184257287393151,0.05168133075946824,0.05151616405520905,0.05134713763708733,0.0511743175282864,0.05099777086776258,0.05081756587825861,0.05063377183382782,0.050446459026890954,0.05025569873484565,0.050061563186250733,0.04986412552660706,0.04966345978375641,0.049459640832920745,0.0492527443614039,0.04904284683297826,0.048830025451978995,0.04861435812712834,0.04839592343511234,0.0481748005839342,0.04795106937606504,0.047724810171417,0.047496103850160426,0.04726503177540845,0.0470316757557921,0.04679611800794855,0.046558441118945595,0.04631872800866522,0.04607706189216862,0.04583352624206598,0.04558820475091287,0.045341181293656004,0.04509253989015059,0.04484236466777136,0.044590739824139025,0.044337749589984085,0.04408347819216922,0.04382800981689214,0.04357142857308872,0.04331381845605899,0.04305526331133427,0.04279584679880811,0.042535652357148644,0.04227476316851367,0.042013262123587004,0.041751231786954945,0.041488754362841856,0.041225911661223025,0.040962785064332354,0.04069945549358271,0.04043600337691597,0.04017250861659931,0.039909050557484206,0.03964570795574385,0.039382558948104454,0.039119681021585646,0.038857150983764244,0.03859504493357521,0.03833343823266456,0.03807240547730593,0.03781202047089438,0.037552356197029804,0.03729348479320065,0.03703547752508058,0.036778404761447524,0.03652233594973638,0.036267339592234375,0.03601348322292882,0.03576083338501596,0.03550945560907859,0.03525941439194116,0.03501077317620857,0.03476359433049601,0.03451793913035611,0.034273867739908294,0.03403143919417641,0.03379071138213911,0.03355174103049649,0.033314583688157574,0.03307929371145111,0.03284592425006275,0.032614527233700515,0.032385153359490285,0.03215785208010251,0.03193267159261077,0.03170965882808258,0.031488859441901856,0.03127031780482246,0.03105407699475169,0.0308401787892619,0.03062866365882826,0.03041957076078984,0.030212937934031407,0.030008801694381974,0.029807197230726754,0.0296081584018277,0.029411717733848416,0.029217906418577914,0.029026754312348014,0.028838289935638108,0.028652540473361708,0.02846953177582706,0.02828928836036606,0.028111833413622958,0.027937188794495905,0.02776537503772314,0.02759641135810509,0.02743031565535419,0.027267104519563202,0.027106793237282666,0.0269493957981981,0.026794924902397068,0.02664339196821583,0.026494807140655465,0.02634917930035673,0.026206516073122677,0.026066823839978347,0.025930107747755886,0.02579637172019363,0.02566561846953769,0.025537849508634154,0.025413065163499535,0.025291264586357727,0.025172445769130802,0.025056605557371235,0.024943739664623054,0.024833842687198956,0.02472690811936076,0.024622928368889983,0.024521894773035846,0.024423797614826995,0.024328626139734615,0.024236368572672723,0.024147012135322925,0.024060543063770146,0.023976946626435774,0.02389620714229507,0.02381830799936516,0.023743231673450275,0.023670959747130807,0.023601472928982736,0.02353475107301402,0.02347077319830458,0.02340951750883643,0.02335096141350086,0.023295081546269164,0.023241853786514072,0.023191253279468284,0.02314325445680758,0.023097831057345065,0.023054956147824136,0.023014602143796983,0.022976740830576204,0.02294134338424685,0.022908380392726566,0.022877821876861413,0.022849637311545084,0.022823795646849727,0.02280026532915624,0.02277901432227217,0.022760010128525937,0.022743219809825563,0.02272861000867085,0.02271614696910759,0.022705796557613234,0.022697524283902717,0.022691295321644354,0.022687074529074935,0.02268482646950401,0.022684515431697198,0.02268610545012876,0.022689560325093703,0.022694843642669858,0.02270191879452086,0.022710748997530904,0.022721297313262185,0.022733526667226986,0.022747399867965187,0.022762879625919705,0.02277992857210141,0.02279850927653604,0.02281858426648532,0.022840116044435116,0.022863067105843526,0.022887399956641925,0.022913077130482396,0.022940061205725053,0.022968314822159178,0.022997800697452046,0.02302848164331975,0.0230603205814147,0.02309328055892409,0.023127324763874756,0.023162416540139234,0.023198519402138674,0.023235597049238034,0.023273613379829486,0.02331253250510031,0.0233523187624812,0.023392936728771855,0.023434351232940565,0.023476527368594527,0.02351943050611841,0.023563026304478492,0.023607280722689927,0.023652160030945113,0.023697630821401264,0.023743660018625316,0.023790214889695002,0.023837263053954408,0.023884772492423312,0.023932711556859297,0.023981048978471895,0.024029753876288504,0.024078795765171714,0.024128144563487993,0.02417777060042807,0.024227644622978946,0.024277737802548587,0.024328021741243596,0.02437846847780112,0.024429050493175758,0.024479740715783075,0.024530512526400906,0.024581339762730317,0.024632196723617855,0.02468305817294112,0.024733899343159914,0.024784695938535065,0.02483542413801766,0.024886060597810972,0.024936582453608313,0.024986967322509372,0.025037193304618215,0.02508723898432636,0.02513708343128405,0.025186706201063454,0.02523608733551724,0.02528520736283651,0.025334047297311858,0.025382588638801586,0.02543081337191141,0.025478703964889743,0.025526243368242947,0.025573415013075248,0.025620202809157805,0.025666591142731555,0.025712564874048865,0.025758109334658788,0.025803210324440877,0.02584785410839285,0.02589202741317718,0.02593571742343179,0.025978911777850475,0.0260215985650382,0.026063766319147055,0.026105404015298147,0.026146501064795484,0.026187047310136987,0.02622703301982904,0.026266448883009913,0.0263052860038882,0.026343535896002062,0.02638119047630536,0.026418242059086564,0.026454683349726674,0.026490507438302044,0.02652570779303834,0.02656027825362177,0.026594213024373772,0.02662750666729531,0.026660154094987048,0.026692150563451582,0.02672349166478394,0.02675417331975679,0.026784191770306314,0.026813543571925284,0.02684222558596932,0.026870234971882886,0.026897569179350978,0.026924225940382934,0.026950203261334432,0.026975499414873913,0.027000112931899807,0.027024042593414274,0.027047287422360004,0.02706984667542598,0.02709171983482822,0.027112906600071585,0.027133406879698792,0.027153220783032127,0.027172348611914296,0.02719079085245383,0.027208548166781067,0.027225621384820466,0.027242011496084687,0.027257719641496383,0.027272747105243102,0.027287095306670728,0.02730076579222112,0.02731376022741898,0.027326080388913657,0.027337728156580622,0.02734870550568823,0.027359014499134394,0.02736865727975846,0.027377636062733027,0.027385953128040482,0.027393610813039104,0.027400611505123195,0.027406957634481893,0.02741265166696097,0.027417696097032172,0.027422093440874033,0.027425846229568486,0.027428957002417348,0.02743142830038242,0.027433262659653176,0.02743446260534563,0.02743503064533615,0.027434969264233403,0.0274342809174922,0.027432968025672078,0.02743103296884418,0.02742847808114904,0.027425305645508526,0.02742151788849443,0.02741711697535657,0.027412105005212968,0.027406484006404202,0.027400255932014606,0.027393422655562213,0.027385985966859677,0.027377947568047768,0.02736930906980368,0.027360071987725283,0.027350237738893248,0.027339807638612212,0.02732878289733237,0.02731716461775241,0.027304953792105076,0.027292151299625946,0.02727875790420641,0.02726477425223116,0.027250200870600906,0.02723503816494057,0.027219286417993052,0.027202945788198825,0.027186016308461097,0.027168497885096617,0.027150390296971402,0.027131693194821366,0.02711240610075698,0.02709252840795126,0.027072059380510466,0.027050998153526257,0.027029343733308366,0.0270070949977966,0.026984250697150665,0.02696080945451654,0.026936769766967652,0.02691213000661913,0.026886888421913516,0.026861043139075697,0.026834592163735176,0.02680753338271345,0.02677986456597409,0.026751583368733425,0.026722687333728807,0.026693173893642324,0.02666304037367696,0.026632283994282316,0.02660090187402717,0.026568891032615678,0.026536248394044004,0.02650297078989438,0.026469054962763,0.02643449756981856,0.026399295186487735,0.026363444310264106,0.02632694136463686,0.026289782703135478,0.0262519646134865,0.02621348332187862,0.026174334997331964,0.02613451575616759,0.026094021666573017,0.026052848753259684,0.02601099300220804,0.02596845036549592,0.025925216766205968,0.025881288103407535,0.025836660257208804,0.0257913290938744,0.02574529047100421,0.025698540242768516,0.025651074265195188,0.02560288840150395,0.02555397852748334,0.025504340536905434,0.025453970346973713,0.025402863903799422,0.025351017187901555,0.0252984262197257,0.02524508706517705,0.025190995841162897,0.02513614872113953,0.025080541940659194,0.025024171802912026,0.024967034684258333,0.024909127039746605,0.024850445408612344,0.024790986419753223,0.024730746797175716,0.024669723365408777,0.02460791305487984,0.024545312907248554,0.024481920080693914,0.024417731855150063,0.024352745637486482,0.024286958966628268,0.024220369518611975,0.024152975111572803,0.02408477371065915,0.02401576343286997,0.023945942551811317,0.023875309502367614,0.023803862885284157,0.023731601471656576,0.023658524207323797,0.023584630217160677,0.023509918809266513,0.023434389479046396,0.023358041913181346,0.023280875993484412,0.023202891800639114,0.023124089617817378,0.023044469934173632,0.022964033448212334,0.022882781071025936,0.022800713929400657,0.022717833368787417,0.022634140956135248,0.02254963848258508,0.022464327966021342,0.02237821165347933,0.022291292023406323,0.022203571787774275,0.022115053894042683,0.022025741526969463,0.021935638110268673,0.021844747308113276,0.02175307302648199,0.02166061941434865,0.02156739086471332,0.021473392015474074,0.021378627750138567,0.021283103198374877,0.02118682373640095,0.02108979498721224,0.020992022820647167,0.020893513353290486,0.020794272948214135,0.020694308214555986],\"yaxis\":\"y\",\"type\":\"scatter\"},{\"legendgroup\":\"mobile SRBM system\",\"marker\":{\"color\":\"rgb(44, 160, 44)\"},\"mode\":\"lines\",\"name\":\"mobile SRBM system\",\"showlegend\":false,\"x\":[0.0,0.008,0.016,0.024,0.032,0.04,0.048,0.056,0.064,0.072,0.08,0.088,0.096,0.104,0.112,0.12,0.128,0.136,0.144,0.152,0.16,0.168,0.176,0.184,0.192,0.2,0.208,0.216,0.224,0.232,0.24,0.248,0.256,0.264,0.272,0.28,0.288,0.296,0.304,0.312,0.32,0.328,0.336,0.344,0.352,0.36,0.368,0.376,0.384,0.392,0.4,0.408,0.416,0.424,0.432,0.44,0.448,0.456,0.464,0.472,0.48,0.488,0.496,0.504,0.512,0.52,0.528,0.536,0.544,0.552,0.56,0.568,0.576,0.584,0.592,0.6,0.608,0.616,0.624,0.632,0.64,0.648,0.656,0.664,0.672,0.68,0.688,0.696,0.704,0.712,0.72,0.728,0.736,0.744,0.752,0.76,0.768,0.776,0.784,0.792,0.8,0.808,0.816,0.824,0.832,0.84,0.848,0.856,0.864,0.872,0.88,0.888,0.896,0.904,0.912,0.92,0.928,0.936,0.944,0.952,0.96,0.968,0.976,0.984,0.992,1.0,1.008,1.016,1.024,1.032,1.04,1.048,1.056,1.064,1.072,1.08,1.088,1.096,1.104,1.112,1.12,1.128,1.136,1.144,1.152,1.16,1.168,1.176,1.184,1.192,1.2,1.208,1.216,1.224,1.232,1.24,1.248,1.256,1.264,1.272,1.28,1.288,1.296,1.304,1.312,1.32,1.328,1.336,1.344,1.352,1.36,1.368,1.376,1.384,1.392,1.4,1.408,1.416,1.424,1.432,1.44,1.448,1.456,1.464,1.472,1.48,1.488,1.496,1.504,1.512,1.52,1.528,1.536,1.544,1.552,1.56,1.568,1.576,1.584,1.592,1.6,1.608,1.616,1.624,1.632,1.64,1.648,1.656,1.664,1.672,1.68,1.688,1.696,1.704,1.712,1.72,1.728,1.736,1.744,1.752,1.76,1.768,1.776,1.784,1.792,1.8,1.808,1.816,1.824,1.832,1.84,1.848,1.856,1.864,1.872,1.88,1.888,1.896,1.904,1.912,1.92,1.928,1.936,1.944,1.952,1.96,1.968,1.976,1.984,1.992,2.0,2.008,2.016,2.024,2.032,2.04,2.048,2.056,2.064,2.072,2.08,2.088,2.096,2.104,2.112,2.12,2.128,2.136,2.144,2.152,2.16,2.168,2.176,2.184,2.192,2.2,2.208,2.216,2.224,2.232,2.24,2.248,2.256,2.264,2.272,2.28,2.288,2.296,2.304,2.312,2.32,2.328,2.336,2.344,2.352,2.36,2.368,2.376,2.384,2.392,2.4,2.408,2.416,2.424,2.432,2.44,2.448,2.456,2.464,2.472,2.48,2.488,2.496,2.504,2.512,2.52,2.528,2.536,2.544,2.552,2.56,2.568,2.576,2.584,2.592,2.6,2.608,2.616,2.624,2.632,2.64,2.648,2.656,2.664,2.672,2.68,2.688,2.696,2.704,2.712,2.72,2.728,2.736,2.744,2.752,2.76,2.768,2.776,2.784,2.792,2.8,2.808,2.816,2.824,2.832,2.84,2.848,2.856,2.864,2.872,2.88,2.888,2.896,2.904,2.912,2.92,2.928,2.936,2.944,2.952,2.96,2.968,2.976,2.984,2.992,3.0,3.008,3.016,3.024,3.032,3.04,3.048,3.056,3.064,3.072,3.08,3.088,3.096,3.104,3.112,3.12,3.128,3.136,3.144,3.152,3.16,3.168,3.176,3.184,3.192,3.2,3.208,3.216,3.224,3.232,3.24,3.248,3.256,3.264,3.272,3.28,3.288,3.296,3.304,3.312,3.32,3.328,3.336,3.344,3.352,3.36,3.368,3.376,3.384,3.392,3.4,3.408,3.416,3.424,3.432,3.44,3.448,3.456,3.464,3.472,3.48,3.488,3.496,3.504,3.512,3.52,3.528,3.536,3.544,3.552,3.56,3.568,3.576,3.584,3.592,3.6,3.608,3.616,3.624,3.632,3.64,3.648,3.656,3.664,3.672,3.68,3.688,3.696,3.704,3.712,3.72,3.728,3.736,3.744,3.752,3.76,3.768,3.776,3.784,3.792,3.8,3.808,3.816,3.824,3.832,3.84,3.848,3.856,3.864,3.872,3.88,3.888,3.896,3.904,3.912,3.92,3.928,3.936,3.944,3.952,3.96,3.968,3.976,3.984,3.992],\"xaxis\":\"x\",\"y\":[0.5176781391942112,0.5176464138853083,0.5175383222677782,0.5173539215301785,0.5170933029551478,0.5167565918575425,0.5163439474974651,0.5158555629682562,0.5152916650595775,0.5146525140957201,0.5139384037492962,0.5131496608305174,0.5122866450522631,0.5113497487711829,0.5103393967050989,0.5092560456269878,0.5081001840358695,0.5068723318049181,0.5055730398071602,0.5042028895191563,0.5027624926030321,0.5012524904673157,0.49967355380700557,0.4980263821233392,0.4963117032237417,0.4945302727024579,0.4926828734023919,0.4907703148586842,0.4887934327245861,0.486753088180199,0.4846501673246676,0.48248558055242513,0.48026026191410437,0.4779751684627478,0.4756312795859434,0.4732295963245604,0.47077114067871423,0.4682569549016735,0.4656881007823462,0.4630656589170698,0.4603907279713827,0.4576644239324841,0.45488787935308966,0.4520622425874016,0.44918867701990145,0.4462683602876935,0.4433024834971109,0.4402922504353233,0.43723887677765066,0.4341435892913249,0.431007625036404,0.4278322305645743,0.42461866111654695,0.4213681798187644,0.41808205688012934,0.4147615687894526,0.41140799751432283,0.4080226297020837,0.4046067558836052,0.40116166968051825,0.39768866701658157,0.39418904533383414,0.39066410281417513,0.3871151376070093,0.3835434470635808,0.37995032697858994,0.37633707083971507,0.37270496908559214,0.3690553083728464,0.3653893708527104,0.36170843345778114,0.3580137671994278,0.3543066364763647,0.35058829839487604,0.3468600021011669,0.3431229881262948,0.3393784877441237,0.33562772234271554,0.33187190280956597,0.3281122289310695,0.32434988880656923,0.32058605827734943,0.3168219003708916,0.3130585647606981,0.3092971872419809,0.30553888922347505,0.3017847772356324,0.2980359424554185,0.2942934602479315,0.2905583897250243,0.2868317733211053,0.28311463638626916,0.2794079867968859,0.275712814583765,0.2720300915779829,0.2683607710744536,0.2647057875132905,0.26106605617900314,0.25744247291754185,0.25383591387119153,0.2502472352312997,0.24667727300879644,0.2431268428224594,0.239596739704852,0.23608773792584647,0.2326005908336294,0.2291360307130715,0.2256947686613275,0.22227749448051493,0.21888487658730646,0.21551756193926044,0.2121761759776952,0.20886132258689766,0.2055735840694522,0.20231352113745824,0.1990816729193852,0.19587855698232134,0.19270466936933967,0.18956048465171085,0.18644645599567486,0.18336301524347193,0.18031057300833236,0.17728951878310753,0.1743002210622229,0.1713430274766203,0.16841826494135884,0.1655262398155244,0.1626672380741074,0.15984152549148628,0.1570493478361651,0.15429093107639713,0.15156648159632916,0.14887618642229644,0.14622021345889255,0.14359871173444055,0.14101181165548682,0.13845962526993674,0.1359422465384546,0.13345975161374413,0.13101219912733014,0.12859963048346182,0.12622207015975298,0.12387952601418703,0.12157198959810411,0.11929943647479857,0.1170618265433518,0.11485910436733139,0.11269119950799053,0.11055802686160117,0.10845948700056458,0.10639546651794127,0.10436583837505026,0.10237046225179,0.10040918489934114,0.0984818404949122,0.09658825099820058,0.09472822650924141,0.09290156562732535,0.09110805581067442,0.08934747373656787,0.08761958566161777,0.08592414778190327,0.08426090659267575,0.08262959924735637,0.08102995391555468,0.07946169013984292,0.07792451919103047,0.07641814442168722,0.07494226161767623,0.07349655934745938,0.07208071930895174,0.07069441667370494,0.06933732042820977,0.0680090937121147,0.06670939415316614,0.0654378741986829,0.06419418144338698,0.06297795895341854,0.061788845586372126,0.060626476307199556,0.05949048249983089,0.058380492274374016,0.057296130769760964,0.05623702045171606,0.05520278140592829,0.05419303162631972,0.053207387298306076,0.05224546307695515,0.051306872359955395,0.05039122755531287,0.049498140343703256,0.048627221935411385,0.04777808332179787,0.04695033552123833,0.04614358981948749,0.04535745800442759,0.0445915525951639,0.04384548706543975,0.04311887606134579,0.042411335613306456,0.04172248334233036,0.04105193866051775,0.040399322965822174,0.03976425983107013,0.03914637518724553,0.03854529750105144,0.03796065794676617,0.03739209057241437,0.036839232460278676,0.0363017238817812,0.03577920844676744,0.03527133324723013,0.0347777489955124,0.03429811015703447,0.03383207507759034,0.033379306105264316,0.03293946970701972,0.03251223658001557,0.032097281757708734,0.03169428471080187,0.031302929443099925,0.03092290458233918,0.030553903466056402,0.030195624222565276,0.02984776984711133,0.029510048273275923,0.02918217243970321,0.02886386035222358,0.02855483514144968,0.028254825115920826,0.027963563810873796,0.02768079003271772,0.027406247899292163,0.02713968687598767,0.026880861807808795,0.02662953294745976,0.026385465979533392,0.02614843204088381,0.025918207737263818,0.02569457515630784,0.025477321876940833,0.025266240975293758,0.02506113102720608,0.024861796107394883,0.024668045785370456,0.0244796951181772,0.024296564640038553,0.024118480348983954,0.02394527369053493,0.02377678153852739,0.023612846173145588,0.023453315256243255,0.023298041804025917,0.023146884157168177,0.022999705948437962,0.02285637606789994,0.02271676862576815,0.02258076291297796,0.022448243359545473,0.02231909949078224,0.02219322588143164,0.022070522107792305,0.02195089269789272,0.021834247079780513,0.021720499527987977,0.02160956910823515,0.02150137962042993,0.02139585954002392,0.021292941957781364,0.021192564518017747,0.02109466935536268,0.020999203030101773,0.02090611646214976,0.02081536486370689,0.02072690767064924,0.020640708472702322,0.020556734942446496,0.020474958763201396,0.020395355555835742,0.020317904804547593,0.020242589781659343,0.020169397471470417,0.020098318493210008,0.020029347023130722,0.01996248071578364,0.01989772062451378,0.019835071121214503,0.01977453981537816,0.019716137472479696,0.0196598779317289,0.019605778023226283,0.019553857484556663,0.019504138876854024,0.019456647500370253,0.01941141130957959,0.01936846082785048,0.0193278290617151,0.01928955141476694,0.01925366560121576,0.019220211559129032,0.019189231363388123,0.019160769138387337,0.01913487097050323,0.019111584820361346,0.01909096043492698,0.019073049259446466,0.019057904349264736,0.01904558028154523,0.01903613306691722,0.01902962006107617,0.019026099876361762,0.019025632293338753,0.01902827817240522,0.019034099365452785,0.019043158627603453,0.019055519529047382,0.019071246367006203,0.019090404077846138,0.019113058149365602,0.019139274533281708,0.019169119557940307,0.019202659841274422,0.019239962204035753,0.019281093583324544,0.01932612094644279,0.019375111205096374,0.01942813112997176,0.019485247265713112,0.01954652584632604,0.019612032711034413,0.019681833220617066,0.01975599217425139,0.019834573726891284,0.019917641307207277,0.020005257536116833,0.020097484145933434,0.020194381900163358,0.020296010513979265,0.020402428575400495,0.020513693467209965,0.02062986128963822,0.020750986783845612,0.020877123256233854,0.02100832250361854,0.021144634739295107,0.02128610852003048,0.021432790674013352,0.021584726229796753,0.02174195834626621,0.021904528243667912,0.022072475135731236,0.022245836162920446,0.0224246463268507,0.02260893842590398,0.02279874299208047,0.02299408822912171,0.023194999951941582,0.023401501527401912,0.023613613816469203,0.02383135511778959,0.02405474111271908,0.024283784811846128,0.024518496503044045,0.02475888370109043,0.025004951098891025,0.02525670052034528,0.025514130874890996,0.025777238113765123,0.026046015188017746,0.026320452008316172,0.026600535406575653,0.026886249099453106,0.02717757365373983,0.027474486453688884,0.02777696167031222,0.028084970232682527,0.028398479801273732,0.028717454743373935,0.02904185611060384,0.029371641618572752,0.029706765628703946,0.030047179132260023,0.03039282973659815,0.030743661653684376,0.031099615690894655,0.03146062924413007,0.03182663629327164,0.03219756739999995,0.03257334970800274,0.03295390694559305,0.03333915943075881,0.03372902407866335,0.03412341441161523,0.03452224057152387,0.03492540933485616,0.035332824130107826,0.035744385057800886,0.03615998891301817,0.03657952921048239,0.037002896212187296,0.037429976957584946,0.037860655296332396,0.03829481192359849,0.03873232441792967,0.03917306728167181,0.03961691198394267,0.04006372700614777,0.040513377890030136,0.04096572728824236,0.041420635017426634,0.041877958113787424,0.0423375508911374,0.04279926500139677,0.043262949497522164,0.04372845089884033,0.0441956132587584,0.04466427823482088,0.04513428516108064,0.04560547112274908,0.04607767103308828,0.046550717712505026,0.04702444196980505,0.04749867268556278,0.04797323689755957,0.04844795988824153,0.048922665274144954,0.04939717509723568,0.04987130991810602,0.05034488891097075,0.05081772996040136,0.05128964975973552,0.05176046391109665,0.05222998702695618,0.052698032833169026,0.05316441427341094,0.05362894361494393,0.05409143255563468,0.0545516923321483,0.05500953382923841,0.05546476769005251,0.055917204427370096,0.056366654535689203,0.05681292860407549,0.057255837429686623,0.05769519213188327,0.05813080426683662,0.05856248594254129,0.05899004993414094,0.05941330979947364,0.059832079994742,0.06024617599021326,0.06065541438585312,0.061059613026796376,0.06145859111855766,0.06185216934188384,0.06224016996715061,0.06262241696820446,0.06299873613555192,0.0633689551887971,0.06373290388822972,0.06409041414546456,0.06444132013303512,0.06478545839284362,0.06512266794337004,0.0654527903855445,0.06577567000718657,0.06609115388591741,0.06639909199045052,0.06669933728016855,0.06699174580289469,0.06727617679076842,0.06755249275413691,0.06782055957337478,0.06808024658854657,0.06833142668682847,0.06857397638760657,0.06880777592517257,0.06903270932893807,0.06924866450109232,0.06945553329162935,0.06965321157067363,0.06984159929803518,0.07002060058992826,0.07019012378278958,0.07035008149413532,0.07050039068039876,0.07064097269169313,0.07077175332344755,0.07089266286486606,0.07100363614416416,0.07110461257053914,0.07119553617283424,0.07127635563485998,0.07134702432733897,0.07140750033644426,0.07145774648890398,0.07149773037364934,0.07152742435998592,0.07154680561227116,0.07155585610108603],\"yaxis\":\"y\",\"type\":\"scatter\"},{\"legendgroup\":\"aircraft\",\"marker\":{\"color\":\"rgb(31, 119, 180)\",\"symbol\":\"line-ns-open\"},\"mode\":\"markers\",\"name\":\"aircraft\",\"showlegend\":false,\"x\":[10,27,27,29,29,30,30,33,39,44,46,48,49,49,57,58,74,77,81,84,86,93,95,96,97,99,101,108,115,117,121,123,127,131],\"xaxis\":\"x\",\"y\":[\"aircraft\",\"aircraft\",\"aircraft\",\"aircraft\",\"aircraft\",\"aircraft\",\"aircraft\",\"aircraft\",\"aircraft\",\"aircraft\",\"aircraft\",\"aircraft\",\"aircraft\",\"aircraft\",\"aircraft\",\"aircraft\",\"aircraft\",\"aircraft\",\"aircraft\",\"aircraft\",\"aircraft\",\"aircraft\",\"aircraft\",\"aircraft\",\"aircraft\",\"aircraft\",\"aircraft\",\"aircraft\",\"aircraft\",\"aircraft\",\"aircraft\",\"aircraft\",\"aircraft\",\"aircraft\"],\"yaxis\":\"y2\",\"type\":\"scatter\"},{\"legendgroup\":\"helicopter\",\"marker\":{\"color\":\"rgb(255, 127, 14)\",\"symbol\":\"line-ns-open\"},\"mode\":\"markers\",\"name\":\"helicopter\",\"showlegend\":false,\"x\":[7,26,26,29,29,31,31,37,40,48,68,80,81,81,83,83,86,90,95,108,108,112,115,118,121,123,124,124,125,127,127,127,129,131],\"xaxis\":\"x\",\"y\":[\"helicopter\",\"helicopter\",\"helicopter\",\"helicopter\",\"helicopter\",\"helicopter\",\"helicopter\",\"helicopter\",\"helicopter\",\"helicopter\",\"helicopter\",\"helicopter\",\"helicopter\",\"helicopter\",\"helicopter\",\"helicopter\",\"helicopter\",\"helicopter\",\"helicopter\",\"helicopter\",\"helicopter\",\"helicopter\",\"helicopter\",\"helicopter\",\"helicopter\",\"helicopter\",\"helicopter\",\"helicopter\",\"helicopter\",\"helicopter\",\"helicopter\",\"helicopter\",\"helicopter\",\"helicopter\"],\"yaxis\":\"y2\",\"type\":\"scatter\"},{\"legendgroup\":\"tank\",\"marker\":{\"color\":\"rgb(44, 160, 44)\",\"symbol\":\"line-ns-open\"},\"mode\":\"markers\",\"name\":\"tank\",\"showlegend\":false,\"x\":[80,146,150,150,198,211,217,251,269,285,290,303,317,335,353,362,374,389,404,430,444,450,466,476,498,509,517,530,561,575,582,586,597,605],\"xaxis\":\"x\",\"y\":[\"tank\",\"tank\",\"tank\",\"tank\",\"tank\",\"tank\",\"tank\",\"tank\",\"tank\",\"tank\",\"tank\",\"tank\",\"tank\",\"tank\",\"tank\",\"tank\",\"tank\",\"tank\",\"tank\",\"tank\",\"tank\",\"tank\",\"tank\",\"tank\",\"tank\",\"tank\",\"tank\",\"tank\",\"tank\",\"tank\",\"tank\",\"tank\",\"tank\",\"tank\"],\"yaxis\":\"y2\",\"type\":\"scatter\"},{\"legendgroup\":\"APC\",\"marker\":{\"color\":\"rgb(214, 39, 40)\",\"symbol\":\"line-ns-open\"},\"mode\":\"markers\",\"name\":\"APC\",\"showlegend\":false,\"x\":[516,706,706,816,846,862,900,939,945,985,999,1036,1070,1105,1165,1205,1226,1249,1279,1375,1435,1448,1470,1487,1535,1556,1578,1597,1625,1640,1664,1694,1710,1723],\"xaxis\":\"x\",\"y\":[\"APC\",\"APC\",\"APC\",\"APC\",\"APC\",\"APC\",\"APC\",\"APC\",\"APC\",\"APC\",\"APC\",\"APC\",\"APC\",\"APC\",\"APC\",\"APC\",\"APC\",\"APC\",\"APC\",\"APC\",\"APC\",\"APC\",\"APC\",\"APC\",\"APC\",\"APC\",\"APC\",\"APC\",\"APC\",\"APC\",\"APC\",\"APC\",\"APC\",\"APC\"],\"yaxis\":\"y2\",\"type\":\"scatter\"},{\"legendgroup\":\"field artillery\",\"marker\":{\"color\":\"rgb(148, 103, 189)\",\"symbol\":\"line-ns-open\"},\"mode\":\"markers\",\"name\":\"field artillery\",\"showlegend\":false,\"x\":[49,49,50,74,77,85,90,105,105,109,117,120,120,123,125,135,140,150,150,190,201,205,213,230,240,252,267,280,291,293,294,302,303,305],\"xaxis\":\"x\",\"y\":[\"field artillery\",\"field artillery\",\"field artillery\",\"field artillery\",\"field artillery\",\"field artillery\",\"field artillery\",\"field artillery\",\"field artillery\",\"field artillery\",\"field artillery\",\"field artillery\",\"field artillery\",\"field artillery\",\"field artillery\",\"field artillery\",\"field artillery\",\"field artillery\",\"field artillery\",\"field artillery\",\"field artillery\",\"field artillery\",\"field artillery\",\"field artillery\",\"field artillery\",\"field artillery\",\"field artillery\",\"field artillery\",\"field artillery\",\"field artillery\",\"field artillery\",\"field artillery\",\"field artillery\",\"field artillery\"],\"yaxis\":\"y2\",\"type\":\"scatter\"},{\"legendgroup\":\"MRL\",\"marker\":{\"color\":\"rgb(140, 86, 75)\",\"symbol\":\"line-ns-open\"},\"mode\":\"markers\",\"name\":\"MRL\",\"showlegend\":false,\"x\":[4,4,4,21,24,40,42,50,50,50,50,56,56,56,58,62,62,64,64,70,72,72,72,74,80,80,80,82,90,91,93,95,96,96],\"xaxis\":\"x\",\"y\":[\"MRL\",\"MRL\",\"MRL\",\"MRL\",\"MRL\",\"MRL\",\"MRL\",\"MRL\",\"MRL\",\"MRL\",\"MRL\",\"MRL\",\"MRL\",\"MRL\",\"MRL\",\"MRL\",\"MRL\",\"MRL\",\"MRL\",\"MRL\",\"MRL\",\"MRL\",\"MRL\",\"MRL\",\"MRL\",\"MRL\",\"MRL\",\"MRL\",\"MRL\",\"MRL\",\"MRL\",\"MRL\",\"MRL\",\"MRL\"],\"yaxis\":\"y2\",\"type\":\"scatter\"},{\"legendgroup\":\"military auto\",\"marker\":{\"color\":\"rgb(227, 119, 194)\",\"symbol\":\"line-ns-open\"},\"mode\":\"markers\",\"name\":\"military auto\",\"showlegend\":false,\"x\":[100,130,130,291,305,355,374,404,409,447,454,474,482,526,558,585,600,617,640,819,864,879,914,947,969,1000,1008,1033,1089,1131,1144,1150,1178,1184],\"xaxis\":\"x\",\"y\":[\"military auto\",\"military auto\",\"military auto\",\"military auto\",\"military auto\",\"military auto\",\"military auto\",\"military auto\",\"military auto\",\"military auto\",\"military auto\",\"military auto\",\"military auto\",\"military auto\",\"military auto\",\"military auto\",\"military auto\",\"military auto\",\"military auto\",\"military auto\",\"military auto\",\"military auto\",\"military auto\",\"military auto\",\"military auto\",\"military auto\",\"military auto\",\"military auto\",\"military auto\",\"military auto\",\"military auto\",\"military auto\",\"military auto\",\"military auto\"],\"yaxis\":\"y2\",\"type\":\"scatter\"},{\"legendgroup\":\"fuel tank\",\"marker\":{\"color\":\"rgb(127, 127, 127)\",\"symbol\":\"line-ns-open\"},\"mode\":\"markers\",\"name\":\"fuel tank\",\"showlegend\":false,\"x\":[60,60,60,60,60,60,60,60,60,60,60,60,60,60,60,60,60,60,60,60,60,60,60,60,60,70,70,72,72,73,73,73,73,75],\"xaxis\":\"x\",\"y\":[\"fuel tank\",\"fuel tank\",\"fuel tank\",\"fuel tank\",\"fuel tank\",\"fuel tank\",\"fuel tank\",\"fuel tank\",\"fuel tank\",\"fuel tank\",\"fuel tank\",\"fuel tank\",\"fuel tank\",\"fuel tank\",\"fuel tank\",\"fuel tank\",\"fuel tank\",\"fuel tank\",\"fuel tank\",\"fuel tank\",\"fuel tank\",\"fuel tank\",\"fuel tank\",\"fuel tank\",\"fuel tank\",\"fuel tank\",\"fuel tank\",\"fuel tank\",\"fuel tank\",\"fuel tank\",\"fuel tank\",\"fuel tank\",\"fuel tank\",\"fuel tank\"],\"yaxis\":\"y2\",\"type\":\"scatter\"},{\"legendgroup\":\"drone\",\"marker\":{\"color\":\"rgb(188, 189, 34)\",\"symbol\":\"line-ns-open\"},\"mode\":\"markers\",\"name\":\"drone\",\"showlegend\":false,\"x\":[0,2,2,3,3,3,3,3,3,4,7,7,7,7,7,7,7,8,9,11,11,12,17,21,24,35,42,50,53,56,56,66,71,81],\"xaxis\":\"x\",\"y\":[\"drone\",\"drone\",\"drone\",\"drone\",\"drone\",\"drone\",\"drone\",\"drone\",\"drone\",\"drone\",\"drone\",\"drone\",\"drone\",\"drone\",\"drone\",\"drone\",\"drone\",\"drone\",\"drone\",\"drone\",\"drone\",\"drone\",\"drone\",\"drone\",\"drone\",\"drone\",\"drone\",\"drone\",\"drone\",\"drone\",\"drone\",\"drone\",\"drone\",\"drone\"],\"yaxis\":\"y2\",\"type\":\"scatter\"},{\"legendgroup\":\"naval ship\",\"marker\":{\"color\":\"rgb(23, 190, 207)\",\"symbol\":\"line-ns-open\"},\"mode\":\"markers\",\"name\":\"naval ship\",\"showlegend\":false,\"x\":[2,2,2,2,2,2,2,2,2,2,3,3,3,3,3,3,3,3,3,3,3,3,3,3,3,3,4,4,5,7,7,7,7,7],\"xaxis\":\"x\",\"y\":[\"naval ship\",\"naval ship\",\"naval ship\",\"naval ship\",\"naval ship\",\"naval ship\",\"naval ship\",\"naval ship\",\"naval ship\",\"naval ship\",\"naval ship\",\"naval ship\",\"naval ship\",\"naval ship\",\"naval ship\",\"naval ship\",\"naval ship\",\"naval ship\",\"naval ship\",\"naval ship\",\"naval ship\",\"naval ship\",\"naval ship\",\"naval ship\",\"naval ship\",\"naval ship\",\"naval ship\",\"naval ship\",\"naval ship\",\"naval ship\",\"naval ship\",\"naval ship\",\"naval ship\",\"naval ship\"],\"yaxis\":\"y2\",\"type\":\"scatter\"},{\"legendgroup\":\"anti-aircraft warfare\",\"marker\":{\"color\":\"rgb(31, 119, 180)\",\"symbol\":\"line-ns-open\"},\"mode\":\"markers\",\"name\":\"anti-aircraft warfare\",\"showlegend\":false,\"x\":[0,0,0,5,7,9,11,18,19,21,23,27,28,29,31,33,34,34,36,43,43,43,44,44,45,45,47,47,49,51,52,54,54,54],\"xaxis\":\"x\",\"y\":[\"anti-aircraft warfare\",\"anti-aircraft warfare\",\"anti-aircraft warfare\",\"anti-aircraft warfare\",\"anti-aircraft warfare\",\"anti-aircraft warfare\",\"anti-aircraft warfare\",\"anti-aircraft warfare\",\"anti-aircraft warfare\",\"anti-aircraft warfare\",\"anti-aircraft warfare\",\"anti-aircraft warfare\",\"anti-aircraft warfare\",\"anti-aircraft warfare\",\"anti-aircraft warfare\",\"anti-aircraft warfare\",\"anti-aircraft warfare\",\"anti-aircraft warfare\",\"anti-aircraft warfare\",\"anti-aircraft warfare\",\"anti-aircraft warfare\",\"anti-aircraft warfare\",\"anti-aircraft warfare\",\"anti-aircraft warfare\",\"anti-aircraft warfare\",\"anti-aircraft warfare\",\"anti-aircraft warfare\",\"anti-aircraft warfare\",\"anti-aircraft warfare\",\"anti-aircraft warfare\",\"anti-aircraft warfare\",\"anti-aircraft warfare\",\"anti-aircraft warfare\",\"anti-aircraft warfare\"],\"yaxis\":\"y2\",\"type\":\"scatter\"},{\"legendgroup\":\"special equipment\",\"marker\":{\"color\":\"rgb(255, 127, 14)\",\"symbol\":\"line-ns-open\"},\"mode\":\"markers\",\"name\":\"special equipment\",\"showlegend\":false,\"x\":[0.0,0.0,0.0,0.0,0.0,0.0,0.0,0.0,0.0,0.0,0.0,0.0,0.0,0.0,0.0,0.0,0.0,0.0,0.0,10.0,10.0,11.0,11.0,12.0,13.0,15.0,15.0,16.0,18.0,19.0,21.0,21.0,21.0,21.0],\"xaxis\":\"x\",\"y\":[\"special equipment\",\"special equipment\",\"special equipment\",\"special equipment\",\"special equipment\",\"special equipment\",\"special equipment\",\"special equipment\",\"special equipment\",\"special equipment\",\"special equipment\",\"special equipment\",\"special equipment\",\"special equipment\",\"special equipment\",\"special equipment\",\"special equipment\",\"special equipment\",\"special equipment\",\"special equipment\",\"special equipment\",\"special equipment\",\"special equipment\",\"special equipment\",\"special equipment\",\"special equipment\",\"special equipment\",\"special equipment\",\"special equipment\",\"special equipment\",\"special equipment\",\"special equipment\",\"special equipment\",\"special equipment\"],\"yaxis\":\"y2\",\"type\":\"scatter\"},{\"legendgroup\":\"mobile SRBM system\",\"marker\":{\"color\":\"rgb(44, 160, 44)\",\"symbol\":\"line-ns-open\"},\"mode\":\"markers\",\"name\":\"mobile SRBM system\",\"showlegend\":false,\"x\":[0.0,0.0,0.0,0.0,0.0,0.0,0.0,0.0,0.0,0.0,0.0,0.0,0.0,0.0,0.0,0.0,0.0,0.0,0.0,0.0,0.0,0.0,0.0,0.0,0.0,0.0,0.0,0.0,0.0,2.0,4.0,4.0,4.0,4.0],\"xaxis\":\"x\",\"y\":[\"mobile SRBM system\",\"mobile SRBM system\",\"mobile SRBM system\",\"mobile SRBM system\",\"mobile SRBM system\",\"mobile SRBM system\",\"mobile SRBM system\",\"mobile SRBM system\",\"mobile SRBM system\",\"mobile SRBM system\",\"mobile SRBM system\",\"mobile SRBM system\",\"mobile SRBM system\",\"mobile SRBM system\",\"mobile SRBM system\",\"mobile SRBM system\",\"mobile SRBM system\",\"mobile SRBM system\",\"mobile SRBM system\",\"mobile SRBM system\",\"mobile SRBM system\",\"mobile SRBM system\",\"mobile SRBM system\",\"mobile SRBM system\",\"mobile SRBM system\",\"mobile SRBM system\",\"mobile SRBM system\",\"mobile SRBM system\",\"mobile SRBM system\",\"mobile SRBM system\",\"mobile SRBM system\",\"mobile SRBM system\",\"mobile SRBM system\",\"mobile SRBM system\"],\"yaxis\":\"y2\",\"type\":\"scatter\"}],                        {\"barmode\":\"overlay\",\"hovermode\":\"closest\",\"legend\":{\"traceorder\":\"reversed\"},\"xaxis\":{\"anchor\":\"y2\",\"domain\":[0.0,1.0],\"zeroline\":false},\"yaxis\":{\"anchor\":\"free\",\"domain\":[0.35,1],\"position\":0.0},\"yaxis2\":{\"anchor\":\"x\",\"domain\":[0,0.25],\"dtick\":1,\"showticklabels\":false},\"template\":{\"data\":{\"bar\":[{\"error_x\":{\"color\":\"#2a3f5f\"},\"error_y\":{\"color\":\"#2a3f5f\"},\"marker\":{\"line\":{\"color\":\"#E5ECF6\",\"width\":0.5},\"pattern\":{\"fillmode\":\"overlay\",\"size\":10,\"solidity\":0.2}},\"type\":\"bar\"}],\"barpolar\":[{\"marker\":{\"line\":{\"color\":\"#E5ECF6\",\"width\":0.5},\"pattern\":{\"fillmode\":\"overlay\",\"size\":10,\"solidity\":0.2}},\"type\":\"barpolar\"}],\"carpet\":[{\"aaxis\":{\"endlinecolor\":\"#2a3f5f\",\"gridcolor\":\"white\",\"linecolor\":\"white\",\"minorgridcolor\":\"white\",\"startlinecolor\":\"#2a3f5f\"},\"baxis\":{\"endlinecolor\":\"#2a3f5f\",\"gridcolor\":\"white\",\"linecolor\":\"white\",\"minorgridcolor\":\"white\",\"startlinecolor\":\"#2a3f5f\"},\"type\":\"carpet\"}],\"choropleth\":[{\"colorbar\":{\"outlinewidth\":0,\"ticks\":\"\"},\"type\":\"choropleth\"}],\"contour\":[{\"colorbar\":{\"outlinewidth\":0,\"ticks\":\"\"},\"colorscale\":[[0.0,\"#0d0887\"],[0.1111111111111111,\"#46039f\"],[0.2222222222222222,\"#7201a8\"],[0.3333333333333333,\"#9c179e\"],[0.4444444444444444,\"#bd3786\"],[0.5555555555555556,\"#d8576b\"],[0.6666666666666666,\"#ed7953\"],[0.7777777777777778,\"#fb9f3a\"],[0.8888888888888888,\"#fdca26\"],[1.0,\"#f0f921\"]],\"type\":\"contour\"}],\"contourcarpet\":[{\"colorbar\":{\"outlinewidth\":0,\"ticks\":\"\"},\"type\":\"contourcarpet\"}],\"heatmap\":[{\"colorbar\":{\"outlinewidth\":0,\"ticks\":\"\"},\"colorscale\":[[0.0,\"#0d0887\"],[0.1111111111111111,\"#46039f\"],[0.2222222222222222,\"#7201a8\"],[0.3333333333333333,\"#9c179e\"],[0.4444444444444444,\"#bd3786\"],[0.5555555555555556,\"#d8576b\"],[0.6666666666666666,\"#ed7953\"],[0.7777777777777778,\"#fb9f3a\"],[0.8888888888888888,\"#fdca26\"],[1.0,\"#f0f921\"]],\"type\":\"heatmap\"}],\"heatmapgl\":[{\"colorbar\":{\"outlinewidth\":0,\"ticks\":\"\"},\"colorscale\":[[0.0,\"#0d0887\"],[0.1111111111111111,\"#46039f\"],[0.2222222222222222,\"#7201a8\"],[0.3333333333333333,\"#9c179e\"],[0.4444444444444444,\"#bd3786\"],[0.5555555555555556,\"#d8576b\"],[0.6666666666666666,\"#ed7953\"],[0.7777777777777778,\"#fb9f3a\"],[0.8888888888888888,\"#fdca26\"],[1.0,\"#f0f921\"]],\"type\":\"heatmapgl\"}],\"histogram\":[{\"marker\":{\"pattern\":{\"fillmode\":\"overlay\",\"size\":10,\"solidity\":0.2}},\"type\":\"histogram\"}],\"histogram2d\":[{\"colorbar\":{\"outlinewidth\":0,\"ticks\":\"\"},\"colorscale\":[[0.0,\"#0d0887\"],[0.1111111111111111,\"#46039f\"],[0.2222222222222222,\"#7201a8\"],[0.3333333333333333,\"#9c179e\"],[0.4444444444444444,\"#bd3786\"],[0.5555555555555556,\"#d8576b\"],[0.6666666666666666,\"#ed7953\"],[0.7777777777777778,\"#fb9f3a\"],[0.8888888888888888,\"#fdca26\"],[1.0,\"#f0f921\"]],\"type\":\"histogram2d\"}],\"histogram2dcontour\":[{\"colorbar\":{\"outlinewidth\":0,\"ticks\":\"\"},\"colorscale\":[[0.0,\"#0d0887\"],[0.1111111111111111,\"#46039f\"],[0.2222222222222222,\"#7201a8\"],[0.3333333333333333,\"#9c179e\"],[0.4444444444444444,\"#bd3786\"],[0.5555555555555556,\"#d8576b\"],[0.6666666666666666,\"#ed7953\"],[0.7777777777777778,\"#fb9f3a\"],[0.8888888888888888,\"#fdca26\"],[1.0,\"#f0f921\"]],\"type\":\"histogram2dcontour\"}],\"mesh3d\":[{\"colorbar\":{\"outlinewidth\":0,\"ticks\":\"\"},\"type\":\"mesh3d\"}],\"parcoords\":[{\"line\":{\"colorbar\":{\"outlinewidth\":0,\"ticks\":\"\"}},\"type\":\"parcoords\"}],\"pie\":[{\"automargin\":true,\"type\":\"pie\"}],\"scatter\":[{\"marker\":{\"colorbar\":{\"outlinewidth\":0,\"ticks\":\"\"}},\"type\":\"scatter\"}],\"scatter3d\":[{\"line\":{\"colorbar\":{\"outlinewidth\":0,\"ticks\":\"\"}},\"marker\":{\"colorbar\":{\"outlinewidth\":0,\"ticks\":\"\"}},\"type\":\"scatter3d\"}],\"scattercarpet\":[{\"marker\":{\"colorbar\":{\"outlinewidth\":0,\"ticks\":\"\"}},\"type\":\"scattercarpet\"}],\"scattergeo\":[{\"marker\":{\"colorbar\":{\"outlinewidth\":0,\"ticks\":\"\"}},\"type\":\"scattergeo\"}],\"scattergl\":[{\"marker\":{\"colorbar\":{\"outlinewidth\":0,\"ticks\":\"\"}},\"type\":\"scattergl\"}],\"scattermapbox\":[{\"marker\":{\"colorbar\":{\"outlinewidth\":0,\"ticks\":\"\"}},\"type\":\"scattermapbox\"}],\"scatterpolar\":[{\"marker\":{\"colorbar\":{\"outlinewidth\":0,\"ticks\":\"\"}},\"type\":\"scatterpolar\"}],\"scatterpolargl\":[{\"marker\":{\"colorbar\":{\"outlinewidth\":0,\"ticks\":\"\"}},\"type\":\"scatterpolargl\"}],\"scatterternary\":[{\"marker\":{\"colorbar\":{\"outlinewidth\":0,\"ticks\":\"\"}},\"type\":\"scatterternary\"}],\"surface\":[{\"colorbar\":{\"outlinewidth\":0,\"ticks\":\"\"},\"colorscale\":[[0.0,\"#0d0887\"],[0.1111111111111111,\"#46039f\"],[0.2222222222222222,\"#7201a8\"],[0.3333333333333333,\"#9c179e\"],[0.4444444444444444,\"#bd3786\"],[0.5555555555555556,\"#d8576b\"],[0.6666666666666666,\"#ed7953\"],[0.7777777777777778,\"#fb9f3a\"],[0.8888888888888888,\"#fdca26\"],[1.0,\"#f0f921\"]],\"type\":\"surface\"}],\"table\":[{\"cells\":{\"fill\":{\"color\":\"#EBF0F8\"},\"line\":{\"color\":\"white\"}},\"header\":{\"fill\":{\"color\":\"#C8D4E3\"},\"line\":{\"color\":\"white\"}},\"type\":\"table\"}]},\"layout\":{\"annotationdefaults\":{\"arrowcolor\":\"#2a3f5f\",\"arrowhead\":0,\"arrowwidth\":1},\"autotypenumbers\":\"strict\",\"coloraxis\":{\"colorbar\":{\"outlinewidth\":0,\"ticks\":\"\"}},\"colorscale\":{\"diverging\":[[0,\"#8e0152\"],[0.1,\"#c51b7d\"],[0.2,\"#de77ae\"],[0.3,\"#f1b6da\"],[0.4,\"#fde0ef\"],[0.5,\"#f7f7f7\"],[0.6,\"#e6f5d0\"],[0.7,\"#b8e186\"],[0.8,\"#7fbc41\"],[0.9,\"#4d9221\"],[1,\"#276419\"]],\"sequential\":[[0.0,\"#0d0887\"],[0.1111111111111111,\"#46039f\"],[0.2222222222222222,\"#7201a8\"],[0.3333333333333333,\"#9c179e\"],[0.4444444444444444,\"#bd3786\"],[0.5555555555555556,\"#d8576b\"],[0.6666666666666666,\"#ed7953\"],[0.7777777777777778,\"#fb9f3a\"],[0.8888888888888888,\"#fdca26\"],[1.0,\"#f0f921\"]],\"sequentialminus\":[[0.0,\"#0d0887\"],[0.1111111111111111,\"#46039f\"],[0.2222222222222222,\"#7201a8\"],[0.3333333333333333,\"#9c179e\"],[0.4444444444444444,\"#bd3786\"],[0.5555555555555556,\"#d8576b\"],[0.6666666666666666,\"#ed7953\"],[0.7777777777777778,\"#fb9f3a\"],[0.8888888888888888,\"#fdca26\"],[1.0,\"#f0f921\"]]},\"colorway\":[\"#636efa\",\"#EF553B\",\"#00cc96\",\"#ab63fa\",\"#FFA15A\",\"#19d3f3\",\"#FF6692\",\"#B6E880\",\"#FF97FF\",\"#FECB52\"],\"font\":{\"color\":\"#2a3f5f\"},\"geo\":{\"bgcolor\":\"white\",\"lakecolor\":\"white\",\"landcolor\":\"#E5ECF6\",\"showlakes\":true,\"showland\":true,\"subunitcolor\":\"white\"},\"hoverlabel\":{\"align\":\"left\"},\"hovermode\":\"closest\",\"mapbox\":{\"style\":\"light\"},\"paper_bgcolor\":\"white\",\"plot_bgcolor\":\"#E5ECF6\",\"polar\":{\"angularaxis\":{\"gridcolor\":\"white\",\"linecolor\":\"white\",\"ticks\":\"\"},\"bgcolor\":\"#E5ECF6\",\"radialaxis\":{\"gridcolor\":\"white\",\"linecolor\":\"white\",\"ticks\":\"\"}},\"scene\":{\"xaxis\":{\"backgroundcolor\":\"#E5ECF6\",\"gridcolor\":\"white\",\"gridwidth\":2,\"linecolor\":\"white\",\"showbackground\":true,\"ticks\":\"\",\"zerolinecolor\":\"white\"},\"yaxis\":{\"backgroundcolor\":\"#E5ECF6\",\"gridcolor\":\"white\",\"gridwidth\":2,\"linecolor\":\"white\",\"showbackground\":true,\"ticks\":\"\",\"zerolinecolor\":\"white\"},\"zaxis\":{\"backgroundcolor\":\"#E5ECF6\",\"gridcolor\":\"white\",\"gridwidth\":2,\"linecolor\":\"white\",\"showbackground\":true,\"ticks\":\"\",\"zerolinecolor\":\"white\"}},\"shapedefaults\":{\"line\":{\"color\":\"#2a3f5f\"}},\"ternary\":{\"aaxis\":{\"gridcolor\":\"white\",\"linecolor\":\"white\",\"ticks\":\"\"},\"baxis\":{\"gridcolor\":\"white\",\"linecolor\":\"white\",\"ticks\":\"\"},\"bgcolor\":\"#E5ECF6\",\"caxis\":{\"gridcolor\":\"white\",\"linecolor\":\"white\",\"ticks\":\"\"}},\"title\":{\"x\":0.05},\"xaxis\":{\"automargin\":true,\"gridcolor\":\"white\",\"linecolor\":\"white\",\"ticks\":\"\",\"title\":{\"standoff\":15},\"zerolinecolor\":\"white\",\"zerolinewidth\":2},\"yaxis\":{\"automargin\":true,\"gridcolor\":\"white\",\"linecolor\":\"white\",\"ticks\":\"\",\"title\":{\"standoff\":15},\"zerolinecolor\":\"white\",\"zerolinewidth\":2}}}},                        {\"responsive\": true}                    ).then(function(){\n",
       "                            \n",
       "var gd = document.getElementById('de003d64-03d6-4303-aa3e-40bcd574d645');\n",
       "var x = new MutationObserver(function (mutations, observer) {{\n",
       "        var display = window.getComputedStyle(gd).display;\n",
       "        if (!display || display === 'none') {{\n",
       "            console.log([gd, 'removed!']);\n",
       "            Plotly.purge(gd);\n",
       "            observer.disconnect();\n",
       "        }}\n",
       "}});\n",
       "\n",
       "// Listen for the removal of the full notebook cells\n",
       "var notebookContainer = gd.closest('#notebook-container');\n",
       "if (notebookContainer) {{\n",
       "    x.observe(notebookContainer, {childList: true});\n",
       "}}\n",
       "\n",
       "// Listen for the clearing of the current output cell\n",
       "var outputEl = gd.closest('.output');\n",
       "if (outputEl) {{\n",
       "    x.observe(outputEl, {childList: true});\n",
       "}}\n",
       "\n",
       "                        })                };                });            </script>        </div>"
      ]
     },
     "metadata": {},
     "output_type": "display_data"
    }
   ],
   "source": [
    "import plotly.figure_factory as ff\n",
    "hist_data = []\n",
    "group_labels = []\n",
    "\n",
    "for i in col:\n",
    "    hist_data.append(df[i])\n",
    "    group_labels.append(i)\n",
    "\n",
    "# Create distplot with custom bin_size\n",
    "fig = ff.create_distplot(hist_data, group_labels, bin_size=[.1, .25, .5, 1,.1, .25, .5, 1,.1, .25, .5, 1,.1, .25, .5, 1,1])\n",
    "fig.show()"
   ]
  },
  {
   "cell_type": "code",
   "execution_count": 15,
   "id": "9c6eb2b5",
   "metadata": {
    "execution": {
     "iopub.execute_input": "2022-03-30T11:32:48.329014Z",
     "iopub.status.busy": "2022-03-30T11:32:48.328165Z",
     "iopub.status.idle": "2022-03-30T11:32:48.333943Z",
     "shell.execute_reply": "2022-03-30T11:32:48.333467Z",
     "shell.execute_reply.started": "2022-03-30T11:31:17.673564Z"
    },
    "papermill": {
     "duration": 0.061152,
     "end_time": "2022-03-30T11:32:48.334074",
     "exception": false,
     "start_time": "2022-03-30T11:32:48.272922",
     "status": "completed"
    },
    "tags": []
   },
   "outputs": [
    {
     "data": {
      "text/plain": [
       "Index(['date', 'day', 'aircraft', 'helicopter', 'tank', 'APC',\n",
       "       'field artillery', 'MRL', 'military auto', 'fuel tank', 'drone',\n",
       "       'naval ship', 'anti-aircraft warfare', 'special equipment',\n",
       "       'mobile SRBM system'],\n",
       "      dtype='object')"
      ]
     },
     "execution_count": 15,
     "metadata": {},
     "output_type": "execute_result"
    }
   ],
   "source": [
    "df.columns"
   ]
  },
  {
   "cell_type": "code",
   "execution_count": 16,
   "id": "0d2af3eb",
   "metadata": {
    "execution": {
     "iopub.execute_input": "2022-03-30T11:32:48.434389Z",
     "iopub.status.busy": "2022-03-30T11:32:48.432047Z",
     "iopub.status.idle": "2022-03-30T11:32:48.438284Z",
     "shell.execute_reply": "2022-03-30T11:32:48.437727Z",
     "shell.execute_reply.started": "2022-03-30T11:31:17.685294Z"
    },
    "papermill": {
     "duration": 0.057586,
     "end_time": "2022-03-30T11:32:48.438407",
     "exception": false,
     "start_time": "2022-03-30T11:32:48.380821",
     "status": "completed"
    },
    "tags": []
   },
   "outputs": [],
   "source": [
    "col = [ 'aircraft', 'helicopter', 'tank', 'APC',\n",
    "       'field artillery', 'MRL', 'military auto', 'fuel tank', 'drone',\n",
    "       'naval ship', 'anti-aircraft warfare', 'special equipment',\n",
    "       'mobile SRBM system']"
   ]
  },
  {
   "cell_type": "code",
   "execution_count": 17,
   "id": "de3adb3e",
   "metadata": {
    "execution": {
     "iopub.execute_input": "2022-03-30T11:32:48.561372Z",
     "iopub.status.busy": "2022-03-30T11:32:48.560824Z",
     "iopub.status.idle": "2022-03-30T11:32:48.563080Z",
     "shell.execute_reply": "2022-03-30T11:32:48.563473Z",
     "shell.execute_reply.started": "2022-03-30T11:31:17.701122Z"
    },
    "papermill": {
     "duration": 0.075037,
     "end_time": "2022-03-30T11:32:48.563638",
     "exception": false,
     "start_time": "2022-03-30T11:32:48.488601",
     "status": "completed"
    },
    "tags": []
   },
   "outputs": [
    {
     "data": {
      "text/html": [
       "<div>                            <div id=\"94e201e5-8ba1-47c3-9004-2e16d5fe1cc4\" class=\"plotly-graph-div\" style=\"height:525px; width:100%;\"></div>            <script type=\"text/javascript\">                require([\"plotly\"], function(Plotly) {                    window.PLOTLYENV=window.PLOTLYENV || {};                                    if (document.getElementById(\"94e201e5-8ba1-47c3-9004-2e16d5fe1cc4\")) {                    Plotly.newPlot(                        \"94e201e5-8ba1-47c3-9004-2e16d5fe1cc4\",                        [{\"mode\":\"lines+markers\",\"name\":\"aircraft\",\"x\":[\"2022-02-25T00:00:00\",\"2022-02-26T00:00:00\",\"2022-02-27T00:00:00\",\"2022-02-28T00:00:00\",\"2022-03-01T00:00:00\",\"2022-03-02T00:00:00\",\"2022-03-03T00:00:00\",\"2022-03-04T00:00:00\",\"2022-03-05T00:00:00\",\"2022-03-06T00:00:00\",\"2022-03-07T00:00:00\",\"2022-03-08T00:00:00\",\"2022-03-09T00:00:00\",\"2022-03-10T00:00:00\",\"2022-03-11T00:00:00\",\"2022-03-12T00:00:00\",\"2022-03-13T00:00:00\",\"2022-03-14T00:00:00\",\"2022-03-15T00:00:00\",\"2022-03-16T00:00:00\",\"2022-03-17T00:00:00\",\"2022-03-18T00:00:00\",\"2022-03-19T00:00:00\",\"2022-03-20T00:00:00\",\"2022-03-21T00:00:00\",\"2022-03-22T00:00:00\",\"2022-03-23T00:00:00\",\"2022-03-24T00:00:00\",\"2022-03-25T00:00:00\",\"2022-03-26T00:00:00\",\"2022-03-27T00:00:00\",\"2022-03-28T00:00:00\",\"2022-03-29T00:00:00\",\"2022-03-30T00:00:00\"],\"y\":[10,27,27,29,29,30,30,33,39,44,46,48,49,49,57,58,74,77,81,84,86,93,95,96,97,99,101,108,115,117,121,123,127,131],\"type\":\"scatter\"},{\"mode\":\"lines+markers\",\"name\":\"helicopter\",\"x\":[\"2022-02-25T00:00:00\",\"2022-02-26T00:00:00\",\"2022-02-27T00:00:00\",\"2022-02-28T00:00:00\",\"2022-03-01T00:00:00\",\"2022-03-02T00:00:00\",\"2022-03-03T00:00:00\",\"2022-03-04T00:00:00\",\"2022-03-05T00:00:00\",\"2022-03-06T00:00:00\",\"2022-03-07T00:00:00\",\"2022-03-08T00:00:00\",\"2022-03-09T00:00:00\",\"2022-03-10T00:00:00\",\"2022-03-11T00:00:00\",\"2022-03-12T00:00:00\",\"2022-03-13T00:00:00\",\"2022-03-14T00:00:00\",\"2022-03-15T00:00:00\",\"2022-03-16T00:00:00\",\"2022-03-17T00:00:00\",\"2022-03-18T00:00:00\",\"2022-03-19T00:00:00\",\"2022-03-20T00:00:00\",\"2022-03-21T00:00:00\",\"2022-03-22T00:00:00\",\"2022-03-23T00:00:00\",\"2022-03-24T00:00:00\",\"2022-03-25T00:00:00\",\"2022-03-26T00:00:00\",\"2022-03-27T00:00:00\",\"2022-03-28T00:00:00\",\"2022-03-29T00:00:00\",\"2022-03-30T00:00:00\"],\"y\":[7,26,26,29,29,31,31,37,40,48,68,80,81,81,83,83,86,90,95,108,108,112,115,118,121,123,124,124,125,127,127,127,129,131],\"type\":\"scatter\"},{\"mode\":\"lines+markers\",\"name\":\"tank\",\"x\":[\"2022-02-25T00:00:00\",\"2022-02-26T00:00:00\",\"2022-02-27T00:00:00\",\"2022-02-28T00:00:00\",\"2022-03-01T00:00:00\",\"2022-03-02T00:00:00\",\"2022-03-03T00:00:00\",\"2022-03-04T00:00:00\",\"2022-03-05T00:00:00\",\"2022-03-06T00:00:00\",\"2022-03-07T00:00:00\",\"2022-03-08T00:00:00\",\"2022-03-09T00:00:00\",\"2022-03-10T00:00:00\",\"2022-03-11T00:00:00\",\"2022-03-12T00:00:00\",\"2022-03-13T00:00:00\",\"2022-03-14T00:00:00\",\"2022-03-15T00:00:00\",\"2022-03-16T00:00:00\",\"2022-03-17T00:00:00\",\"2022-03-18T00:00:00\",\"2022-03-19T00:00:00\",\"2022-03-20T00:00:00\",\"2022-03-21T00:00:00\",\"2022-03-22T00:00:00\",\"2022-03-23T00:00:00\",\"2022-03-24T00:00:00\",\"2022-03-25T00:00:00\",\"2022-03-26T00:00:00\",\"2022-03-27T00:00:00\",\"2022-03-28T00:00:00\",\"2022-03-29T00:00:00\",\"2022-03-30T00:00:00\"],\"y\":[80,146,150,150,198,211,217,251,269,285,290,303,317,335,353,362,374,389,404,430,444,450,466,476,498,509,517,530,561,575,582,586,597,605],\"type\":\"scatter\"},{\"mode\":\"lines+markers\",\"name\":\"APC\",\"x\":[\"2022-02-25T00:00:00\",\"2022-02-26T00:00:00\",\"2022-02-27T00:00:00\",\"2022-02-28T00:00:00\",\"2022-03-01T00:00:00\",\"2022-03-02T00:00:00\",\"2022-03-03T00:00:00\",\"2022-03-04T00:00:00\",\"2022-03-05T00:00:00\",\"2022-03-06T00:00:00\",\"2022-03-07T00:00:00\",\"2022-03-08T00:00:00\",\"2022-03-09T00:00:00\",\"2022-03-10T00:00:00\",\"2022-03-11T00:00:00\",\"2022-03-12T00:00:00\",\"2022-03-13T00:00:00\",\"2022-03-14T00:00:00\",\"2022-03-15T00:00:00\",\"2022-03-16T00:00:00\",\"2022-03-17T00:00:00\",\"2022-03-18T00:00:00\",\"2022-03-19T00:00:00\",\"2022-03-20T00:00:00\",\"2022-03-21T00:00:00\",\"2022-03-22T00:00:00\",\"2022-03-23T00:00:00\",\"2022-03-24T00:00:00\",\"2022-03-25T00:00:00\",\"2022-03-26T00:00:00\",\"2022-03-27T00:00:00\",\"2022-03-28T00:00:00\",\"2022-03-29T00:00:00\",\"2022-03-30T00:00:00\"],\"y\":[516,706,706,816,846,862,900,939,945,985,999,1036,1070,1105,1165,1205,1226,1249,1279,1375,1435,1448,1470,1487,1535,1556,1578,1597,1625,1640,1664,1694,1710,1723],\"type\":\"scatter\"},{\"mode\":\"lines+markers\",\"name\":\"field artillery\",\"x\":[\"2022-02-25T00:00:00\",\"2022-02-26T00:00:00\",\"2022-02-27T00:00:00\",\"2022-02-28T00:00:00\",\"2022-03-01T00:00:00\",\"2022-03-02T00:00:00\",\"2022-03-03T00:00:00\",\"2022-03-04T00:00:00\",\"2022-03-05T00:00:00\",\"2022-03-06T00:00:00\",\"2022-03-07T00:00:00\",\"2022-03-08T00:00:00\",\"2022-03-09T00:00:00\",\"2022-03-10T00:00:00\",\"2022-03-11T00:00:00\",\"2022-03-12T00:00:00\",\"2022-03-13T00:00:00\",\"2022-03-14T00:00:00\",\"2022-03-15T00:00:00\",\"2022-03-16T00:00:00\",\"2022-03-17T00:00:00\",\"2022-03-18T00:00:00\",\"2022-03-19T00:00:00\",\"2022-03-20T00:00:00\",\"2022-03-21T00:00:00\",\"2022-03-22T00:00:00\",\"2022-03-23T00:00:00\",\"2022-03-24T00:00:00\",\"2022-03-25T00:00:00\",\"2022-03-26T00:00:00\",\"2022-03-27T00:00:00\",\"2022-03-28T00:00:00\",\"2022-03-29T00:00:00\",\"2022-03-30T00:00:00\"],\"y\":[49,49,50,74,77,85,90,105,105,109,117,120,120,123,125,135,140,150,150,190,201,205,213,230,240,252,267,280,291,293,294,302,303,305],\"type\":\"scatter\"},{\"mode\":\"lines+markers\",\"name\":\"MRL\",\"x\":[\"2022-02-25T00:00:00\",\"2022-02-26T00:00:00\",\"2022-02-27T00:00:00\",\"2022-02-28T00:00:00\",\"2022-03-01T00:00:00\",\"2022-03-02T00:00:00\",\"2022-03-03T00:00:00\",\"2022-03-04T00:00:00\",\"2022-03-05T00:00:00\",\"2022-03-06T00:00:00\",\"2022-03-07T00:00:00\",\"2022-03-08T00:00:00\",\"2022-03-09T00:00:00\",\"2022-03-10T00:00:00\",\"2022-03-11T00:00:00\",\"2022-03-12T00:00:00\",\"2022-03-13T00:00:00\",\"2022-03-14T00:00:00\",\"2022-03-15T00:00:00\",\"2022-03-16T00:00:00\",\"2022-03-17T00:00:00\",\"2022-03-18T00:00:00\",\"2022-03-19T00:00:00\",\"2022-03-20T00:00:00\",\"2022-03-21T00:00:00\",\"2022-03-22T00:00:00\",\"2022-03-23T00:00:00\",\"2022-03-24T00:00:00\",\"2022-03-25T00:00:00\",\"2022-03-26T00:00:00\",\"2022-03-27T00:00:00\",\"2022-03-28T00:00:00\",\"2022-03-29T00:00:00\",\"2022-03-30T00:00:00\"],\"y\":[4,4,4,21,24,40,42,50,50,50,50,56,56,56,58,62,62,64,64,70,72,72,72,74,80,80,80,82,90,91,93,95,96,96],\"type\":\"scatter\"},{\"mode\":\"lines+markers\",\"name\":\"military auto\",\"x\":[\"2022-02-25T00:00:00\",\"2022-02-26T00:00:00\",\"2022-02-27T00:00:00\",\"2022-02-28T00:00:00\",\"2022-03-01T00:00:00\",\"2022-03-02T00:00:00\",\"2022-03-03T00:00:00\",\"2022-03-04T00:00:00\",\"2022-03-05T00:00:00\",\"2022-03-06T00:00:00\",\"2022-03-07T00:00:00\",\"2022-03-08T00:00:00\",\"2022-03-09T00:00:00\",\"2022-03-10T00:00:00\",\"2022-03-11T00:00:00\",\"2022-03-12T00:00:00\",\"2022-03-13T00:00:00\",\"2022-03-14T00:00:00\",\"2022-03-15T00:00:00\",\"2022-03-16T00:00:00\",\"2022-03-17T00:00:00\",\"2022-03-18T00:00:00\",\"2022-03-19T00:00:00\",\"2022-03-20T00:00:00\",\"2022-03-21T00:00:00\",\"2022-03-22T00:00:00\",\"2022-03-23T00:00:00\",\"2022-03-24T00:00:00\",\"2022-03-25T00:00:00\",\"2022-03-26T00:00:00\",\"2022-03-27T00:00:00\",\"2022-03-28T00:00:00\",\"2022-03-29T00:00:00\",\"2022-03-30T00:00:00\"],\"y\":[100,130,130,291,305,355,374,404,409,447,454,474,482,526,558,585,600,617,640,819,864,879,914,947,969,1000,1008,1033,1089,1131,1144,1150,1178,1184],\"type\":\"scatter\"},{\"mode\":\"lines+markers\",\"name\":\"fuel tank\",\"x\":[\"2022-02-25T00:00:00\",\"2022-02-26T00:00:00\",\"2022-02-27T00:00:00\",\"2022-02-28T00:00:00\",\"2022-03-01T00:00:00\",\"2022-03-02T00:00:00\",\"2022-03-03T00:00:00\",\"2022-03-04T00:00:00\",\"2022-03-05T00:00:00\",\"2022-03-06T00:00:00\",\"2022-03-07T00:00:00\",\"2022-03-08T00:00:00\",\"2022-03-09T00:00:00\",\"2022-03-10T00:00:00\",\"2022-03-11T00:00:00\",\"2022-03-12T00:00:00\",\"2022-03-13T00:00:00\",\"2022-03-14T00:00:00\",\"2022-03-15T00:00:00\",\"2022-03-16T00:00:00\",\"2022-03-17T00:00:00\",\"2022-03-18T00:00:00\",\"2022-03-19T00:00:00\",\"2022-03-20T00:00:00\",\"2022-03-21T00:00:00\",\"2022-03-22T00:00:00\",\"2022-03-23T00:00:00\",\"2022-03-24T00:00:00\",\"2022-03-25T00:00:00\",\"2022-03-26T00:00:00\",\"2022-03-27T00:00:00\",\"2022-03-28T00:00:00\",\"2022-03-29T00:00:00\",\"2022-03-30T00:00:00\"],\"y\":[60,60,60,60,60,60,60,60,60,60,60,60,60,60,60,60,60,60,60,60,60,60,60,60,60,70,70,72,72,73,73,73,73,75],\"type\":\"scatter\"},{\"mode\":\"lines+markers\",\"name\":\"drone\",\"x\":[\"2022-02-25T00:00:00\",\"2022-02-26T00:00:00\",\"2022-02-27T00:00:00\",\"2022-02-28T00:00:00\",\"2022-03-01T00:00:00\",\"2022-03-02T00:00:00\",\"2022-03-03T00:00:00\",\"2022-03-04T00:00:00\",\"2022-03-05T00:00:00\",\"2022-03-06T00:00:00\",\"2022-03-07T00:00:00\",\"2022-03-08T00:00:00\",\"2022-03-09T00:00:00\",\"2022-03-10T00:00:00\",\"2022-03-11T00:00:00\",\"2022-03-12T00:00:00\",\"2022-03-13T00:00:00\",\"2022-03-14T00:00:00\",\"2022-03-15T00:00:00\",\"2022-03-16T00:00:00\",\"2022-03-17T00:00:00\",\"2022-03-18T00:00:00\",\"2022-03-19T00:00:00\",\"2022-03-20T00:00:00\",\"2022-03-21T00:00:00\",\"2022-03-22T00:00:00\",\"2022-03-23T00:00:00\",\"2022-03-24T00:00:00\",\"2022-03-25T00:00:00\",\"2022-03-26T00:00:00\",\"2022-03-27T00:00:00\",\"2022-03-28T00:00:00\",\"2022-03-29T00:00:00\",\"2022-03-30T00:00:00\"],\"y\":[0,2,2,3,3,3,3,3,3,4,7,7,7,7,7,7,7,8,9,11,11,12,17,21,24,35,42,50,53,56,56,66,71,81],\"type\":\"scatter\"},{\"mode\":\"lines+markers\",\"name\":\"naval ship\",\"x\":[\"2022-02-25T00:00:00\",\"2022-02-26T00:00:00\",\"2022-02-27T00:00:00\",\"2022-02-28T00:00:00\",\"2022-03-01T00:00:00\",\"2022-03-02T00:00:00\",\"2022-03-03T00:00:00\",\"2022-03-04T00:00:00\",\"2022-03-05T00:00:00\",\"2022-03-06T00:00:00\",\"2022-03-07T00:00:00\",\"2022-03-08T00:00:00\",\"2022-03-09T00:00:00\",\"2022-03-10T00:00:00\",\"2022-03-11T00:00:00\",\"2022-03-12T00:00:00\",\"2022-03-13T00:00:00\",\"2022-03-14T00:00:00\",\"2022-03-15T00:00:00\",\"2022-03-16T00:00:00\",\"2022-03-17T00:00:00\",\"2022-03-18T00:00:00\",\"2022-03-19T00:00:00\",\"2022-03-20T00:00:00\",\"2022-03-21T00:00:00\",\"2022-03-22T00:00:00\",\"2022-03-23T00:00:00\",\"2022-03-24T00:00:00\",\"2022-03-25T00:00:00\",\"2022-03-26T00:00:00\",\"2022-03-27T00:00:00\",\"2022-03-28T00:00:00\",\"2022-03-29T00:00:00\",\"2022-03-30T00:00:00\"],\"y\":[2,2,2,2,2,2,2,2,2,2,3,3,3,3,3,3,3,3,3,3,3,3,3,3,3,3,4,4,5,7,7,7,7,7],\"type\":\"scatter\"},{\"mode\":\"lines+markers\",\"name\":\"anti-aircraft warfare\",\"x\":[\"2022-02-25T00:00:00\",\"2022-02-26T00:00:00\",\"2022-02-27T00:00:00\",\"2022-02-28T00:00:00\",\"2022-03-01T00:00:00\",\"2022-03-02T00:00:00\",\"2022-03-03T00:00:00\",\"2022-03-04T00:00:00\",\"2022-03-05T00:00:00\",\"2022-03-06T00:00:00\",\"2022-03-07T00:00:00\",\"2022-03-08T00:00:00\",\"2022-03-09T00:00:00\",\"2022-03-10T00:00:00\",\"2022-03-11T00:00:00\",\"2022-03-12T00:00:00\",\"2022-03-13T00:00:00\",\"2022-03-14T00:00:00\",\"2022-03-15T00:00:00\",\"2022-03-16T00:00:00\",\"2022-03-17T00:00:00\",\"2022-03-18T00:00:00\",\"2022-03-19T00:00:00\",\"2022-03-20T00:00:00\",\"2022-03-21T00:00:00\",\"2022-03-22T00:00:00\",\"2022-03-23T00:00:00\",\"2022-03-24T00:00:00\",\"2022-03-25T00:00:00\",\"2022-03-26T00:00:00\",\"2022-03-27T00:00:00\",\"2022-03-28T00:00:00\",\"2022-03-29T00:00:00\",\"2022-03-30T00:00:00\"],\"y\":[0,0,0,5,7,9,11,18,19,21,23,27,28,29,31,33,34,34,36,43,43,43,44,44,45,45,47,47,49,51,52,54,54,54],\"type\":\"scatter\"},{\"mode\":\"lines+markers\",\"name\":\"special equipment\",\"x\":[\"2022-02-25T00:00:00\",\"2022-02-26T00:00:00\",\"2022-02-27T00:00:00\",\"2022-02-28T00:00:00\",\"2022-03-01T00:00:00\",\"2022-03-02T00:00:00\",\"2022-03-03T00:00:00\",\"2022-03-04T00:00:00\",\"2022-03-05T00:00:00\",\"2022-03-06T00:00:00\",\"2022-03-07T00:00:00\",\"2022-03-08T00:00:00\",\"2022-03-09T00:00:00\",\"2022-03-10T00:00:00\",\"2022-03-11T00:00:00\",\"2022-03-12T00:00:00\",\"2022-03-13T00:00:00\",\"2022-03-14T00:00:00\",\"2022-03-15T00:00:00\",\"2022-03-16T00:00:00\",\"2022-03-17T00:00:00\",\"2022-03-18T00:00:00\",\"2022-03-19T00:00:00\",\"2022-03-20T00:00:00\",\"2022-03-21T00:00:00\",\"2022-03-22T00:00:00\",\"2022-03-23T00:00:00\",\"2022-03-24T00:00:00\",\"2022-03-25T00:00:00\",\"2022-03-26T00:00:00\",\"2022-03-27T00:00:00\",\"2022-03-28T00:00:00\",\"2022-03-29T00:00:00\",\"2022-03-30T00:00:00\"],\"y\":[0.0,0.0,0.0,0.0,0.0,0.0,0.0,0.0,0.0,0.0,0.0,0.0,0.0,0.0,0.0,0.0,0.0,0.0,0.0,10.0,10.0,11.0,11.0,12.0,13.0,15.0,15.0,16.0,18.0,19.0,21.0,21.0,21.0,21.0],\"type\":\"scatter\"},{\"mode\":\"lines+markers\",\"name\":\"mobile SRBM system\",\"x\":[\"2022-02-25T00:00:00\",\"2022-02-26T00:00:00\",\"2022-02-27T00:00:00\",\"2022-02-28T00:00:00\",\"2022-03-01T00:00:00\",\"2022-03-02T00:00:00\",\"2022-03-03T00:00:00\",\"2022-03-04T00:00:00\",\"2022-03-05T00:00:00\",\"2022-03-06T00:00:00\",\"2022-03-07T00:00:00\",\"2022-03-08T00:00:00\",\"2022-03-09T00:00:00\",\"2022-03-10T00:00:00\",\"2022-03-11T00:00:00\",\"2022-03-12T00:00:00\",\"2022-03-13T00:00:00\",\"2022-03-14T00:00:00\",\"2022-03-15T00:00:00\",\"2022-03-16T00:00:00\",\"2022-03-17T00:00:00\",\"2022-03-18T00:00:00\",\"2022-03-19T00:00:00\",\"2022-03-20T00:00:00\",\"2022-03-21T00:00:00\",\"2022-03-22T00:00:00\",\"2022-03-23T00:00:00\",\"2022-03-24T00:00:00\",\"2022-03-25T00:00:00\",\"2022-03-26T00:00:00\",\"2022-03-27T00:00:00\",\"2022-03-28T00:00:00\",\"2022-03-29T00:00:00\",\"2022-03-30T00:00:00\"],\"y\":[0.0,0.0,0.0,0.0,0.0,0.0,0.0,0.0,0.0,0.0,0.0,0.0,0.0,0.0,0.0,0.0,0.0,0.0,0.0,0.0,0.0,0.0,0.0,0.0,0.0,0.0,0.0,0.0,0.0,2.0,4.0,4.0,4.0,4.0],\"type\":\"scatter\"}],                        {\"template\":{\"data\":{\"bar\":[{\"error_x\":{\"color\":\"#2a3f5f\"},\"error_y\":{\"color\":\"#2a3f5f\"},\"marker\":{\"line\":{\"color\":\"#E5ECF6\",\"width\":0.5},\"pattern\":{\"fillmode\":\"overlay\",\"size\":10,\"solidity\":0.2}},\"type\":\"bar\"}],\"barpolar\":[{\"marker\":{\"line\":{\"color\":\"#E5ECF6\",\"width\":0.5},\"pattern\":{\"fillmode\":\"overlay\",\"size\":10,\"solidity\":0.2}},\"type\":\"barpolar\"}],\"carpet\":[{\"aaxis\":{\"endlinecolor\":\"#2a3f5f\",\"gridcolor\":\"white\",\"linecolor\":\"white\",\"minorgridcolor\":\"white\",\"startlinecolor\":\"#2a3f5f\"},\"baxis\":{\"endlinecolor\":\"#2a3f5f\",\"gridcolor\":\"white\",\"linecolor\":\"white\",\"minorgridcolor\":\"white\",\"startlinecolor\":\"#2a3f5f\"},\"type\":\"carpet\"}],\"choropleth\":[{\"colorbar\":{\"outlinewidth\":0,\"ticks\":\"\"},\"type\":\"choropleth\"}],\"contour\":[{\"colorbar\":{\"outlinewidth\":0,\"ticks\":\"\"},\"colorscale\":[[0.0,\"#0d0887\"],[0.1111111111111111,\"#46039f\"],[0.2222222222222222,\"#7201a8\"],[0.3333333333333333,\"#9c179e\"],[0.4444444444444444,\"#bd3786\"],[0.5555555555555556,\"#d8576b\"],[0.6666666666666666,\"#ed7953\"],[0.7777777777777778,\"#fb9f3a\"],[0.8888888888888888,\"#fdca26\"],[1.0,\"#f0f921\"]],\"type\":\"contour\"}],\"contourcarpet\":[{\"colorbar\":{\"outlinewidth\":0,\"ticks\":\"\"},\"type\":\"contourcarpet\"}],\"heatmap\":[{\"colorbar\":{\"outlinewidth\":0,\"ticks\":\"\"},\"colorscale\":[[0.0,\"#0d0887\"],[0.1111111111111111,\"#46039f\"],[0.2222222222222222,\"#7201a8\"],[0.3333333333333333,\"#9c179e\"],[0.4444444444444444,\"#bd3786\"],[0.5555555555555556,\"#d8576b\"],[0.6666666666666666,\"#ed7953\"],[0.7777777777777778,\"#fb9f3a\"],[0.8888888888888888,\"#fdca26\"],[1.0,\"#f0f921\"]],\"type\":\"heatmap\"}],\"heatmapgl\":[{\"colorbar\":{\"outlinewidth\":0,\"ticks\":\"\"},\"colorscale\":[[0.0,\"#0d0887\"],[0.1111111111111111,\"#46039f\"],[0.2222222222222222,\"#7201a8\"],[0.3333333333333333,\"#9c179e\"],[0.4444444444444444,\"#bd3786\"],[0.5555555555555556,\"#d8576b\"],[0.6666666666666666,\"#ed7953\"],[0.7777777777777778,\"#fb9f3a\"],[0.8888888888888888,\"#fdca26\"],[1.0,\"#f0f921\"]],\"type\":\"heatmapgl\"}],\"histogram\":[{\"marker\":{\"pattern\":{\"fillmode\":\"overlay\",\"size\":10,\"solidity\":0.2}},\"type\":\"histogram\"}],\"histogram2d\":[{\"colorbar\":{\"outlinewidth\":0,\"ticks\":\"\"},\"colorscale\":[[0.0,\"#0d0887\"],[0.1111111111111111,\"#46039f\"],[0.2222222222222222,\"#7201a8\"],[0.3333333333333333,\"#9c179e\"],[0.4444444444444444,\"#bd3786\"],[0.5555555555555556,\"#d8576b\"],[0.6666666666666666,\"#ed7953\"],[0.7777777777777778,\"#fb9f3a\"],[0.8888888888888888,\"#fdca26\"],[1.0,\"#f0f921\"]],\"type\":\"histogram2d\"}],\"histogram2dcontour\":[{\"colorbar\":{\"outlinewidth\":0,\"ticks\":\"\"},\"colorscale\":[[0.0,\"#0d0887\"],[0.1111111111111111,\"#46039f\"],[0.2222222222222222,\"#7201a8\"],[0.3333333333333333,\"#9c179e\"],[0.4444444444444444,\"#bd3786\"],[0.5555555555555556,\"#d8576b\"],[0.6666666666666666,\"#ed7953\"],[0.7777777777777778,\"#fb9f3a\"],[0.8888888888888888,\"#fdca26\"],[1.0,\"#f0f921\"]],\"type\":\"histogram2dcontour\"}],\"mesh3d\":[{\"colorbar\":{\"outlinewidth\":0,\"ticks\":\"\"},\"type\":\"mesh3d\"}],\"parcoords\":[{\"line\":{\"colorbar\":{\"outlinewidth\":0,\"ticks\":\"\"}},\"type\":\"parcoords\"}],\"pie\":[{\"automargin\":true,\"type\":\"pie\"}],\"scatter\":[{\"marker\":{\"colorbar\":{\"outlinewidth\":0,\"ticks\":\"\"}},\"type\":\"scatter\"}],\"scatter3d\":[{\"line\":{\"colorbar\":{\"outlinewidth\":0,\"ticks\":\"\"}},\"marker\":{\"colorbar\":{\"outlinewidth\":0,\"ticks\":\"\"}},\"type\":\"scatter3d\"}],\"scattercarpet\":[{\"marker\":{\"colorbar\":{\"outlinewidth\":0,\"ticks\":\"\"}},\"type\":\"scattercarpet\"}],\"scattergeo\":[{\"marker\":{\"colorbar\":{\"outlinewidth\":0,\"ticks\":\"\"}},\"type\":\"scattergeo\"}],\"scattergl\":[{\"marker\":{\"colorbar\":{\"outlinewidth\":0,\"ticks\":\"\"}},\"type\":\"scattergl\"}],\"scattermapbox\":[{\"marker\":{\"colorbar\":{\"outlinewidth\":0,\"ticks\":\"\"}},\"type\":\"scattermapbox\"}],\"scatterpolar\":[{\"marker\":{\"colorbar\":{\"outlinewidth\":0,\"ticks\":\"\"}},\"type\":\"scatterpolar\"}],\"scatterpolargl\":[{\"marker\":{\"colorbar\":{\"outlinewidth\":0,\"ticks\":\"\"}},\"type\":\"scatterpolargl\"}],\"scatterternary\":[{\"marker\":{\"colorbar\":{\"outlinewidth\":0,\"ticks\":\"\"}},\"type\":\"scatterternary\"}],\"surface\":[{\"colorbar\":{\"outlinewidth\":0,\"ticks\":\"\"},\"colorscale\":[[0.0,\"#0d0887\"],[0.1111111111111111,\"#46039f\"],[0.2222222222222222,\"#7201a8\"],[0.3333333333333333,\"#9c179e\"],[0.4444444444444444,\"#bd3786\"],[0.5555555555555556,\"#d8576b\"],[0.6666666666666666,\"#ed7953\"],[0.7777777777777778,\"#fb9f3a\"],[0.8888888888888888,\"#fdca26\"],[1.0,\"#f0f921\"]],\"type\":\"surface\"}],\"table\":[{\"cells\":{\"fill\":{\"color\":\"#EBF0F8\"},\"line\":{\"color\":\"white\"}},\"header\":{\"fill\":{\"color\":\"#C8D4E3\"},\"line\":{\"color\":\"white\"}},\"type\":\"table\"}]},\"layout\":{\"annotationdefaults\":{\"arrowcolor\":\"#2a3f5f\",\"arrowhead\":0,\"arrowwidth\":1},\"autotypenumbers\":\"strict\",\"coloraxis\":{\"colorbar\":{\"outlinewidth\":0,\"ticks\":\"\"}},\"colorscale\":{\"diverging\":[[0,\"#8e0152\"],[0.1,\"#c51b7d\"],[0.2,\"#de77ae\"],[0.3,\"#f1b6da\"],[0.4,\"#fde0ef\"],[0.5,\"#f7f7f7\"],[0.6,\"#e6f5d0\"],[0.7,\"#b8e186\"],[0.8,\"#7fbc41\"],[0.9,\"#4d9221\"],[1,\"#276419\"]],\"sequential\":[[0.0,\"#0d0887\"],[0.1111111111111111,\"#46039f\"],[0.2222222222222222,\"#7201a8\"],[0.3333333333333333,\"#9c179e\"],[0.4444444444444444,\"#bd3786\"],[0.5555555555555556,\"#d8576b\"],[0.6666666666666666,\"#ed7953\"],[0.7777777777777778,\"#fb9f3a\"],[0.8888888888888888,\"#fdca26\"],[1.0,\"#f0f921\"]],\"sequentialminus\":[[0.0,\"#0d0887\"],[0.1111111111111111,\"#46039f\"],[0.2222222222222222,\"#7201a8\"],[0.3333333333333333,\"#9c179e\"],[0.4444444444444444,\"#bd3786\"],[0.5555555555555556,\"#d8576b\"],[0.6666666666666666,\"#ed7953\"],[0.7777777777777778,\"#fb9f3a\"],[0.8888888888888888,\"#fdca26\"],[1.0,\"#f0f921\"]]},\"colorway\":[\"#636efa\",\"#EF553B\",\"#00cc96\",\"#ab63fa\",\"#FFA15A\",\"#19d3f3\",\"#FF6692\",\"#B6E880\",\"#FF97FF\",\"#FECB52\"],\"font\":{\"color\":\"#2a3f5f\"},\"geo\":{\"bgcolor\":\"white\",\"lakecolor\":\"white\",\"landcolor\":\"#E5ECF6\",\"showlakes\":true,\"showland\":true,\"subunitcolor\":\"white\"},\"hoverlabel\":{\"align\":\"left\"},\"hovermode\":\"closest\",\"mapbox\":{\"style\":\"light\"},\"paper_bgcolor\":\"white\",\"plot_bgcolor\":\"#E5ECF6\",\"polar\":{\"angularaxis\":{\"gridcolor\":\"white\",\"linecolor\":\"white\",\"ticks\":\"\"},\"bgcolor\":\"#E5ECF6\",\"radialaxis\":{\"gridcolor\":\"white\",\"linecolor\":\"white\",\"ticks\":\"\"}},\"scene\":{\"xaxis\":{\"backgroundcolor\":\"#E5ECF6\",\"gridcolor\":\"white\",\"gridwidth\":2,\"linecolor\":\"white\",\"showbackground\":true,\"ticks\":\"\",\"zerolinecolor\":\"white\"},\"yaxis\":{\"backgroundcolor\":\"#E5ECF6\",\"gridcolor\":\"white\",\"gridwidth\":2,\"linecolor\":\"white\",\"showbackground\":true,\"ticks\":\"\",\"zerolinecolor\":\"white\"},\"zaxis\":{\"backgroundcolor\":\"#E5ECF6\",\"gridcolor\":\"white\",\"gridwidth\":2,\"linecolor\":\"white\",\"showbackground\":true,\"ticks\":\"\",\"zerolinecolor\":\"white\"}},\"shapedefaults\":{\"line\":{\"color\":\"#2a3f5f\"}},\"ternary\":{\"aaxis\":{\"gridcolor\":\"white\",\"linecolor\":\"white\",\"ticks\":\"\"},\"baxis\":{\"gridcolor\":\"white\",\"linecolor\":\"white\",\"ticks\":\"\"},\"bgcolor\":\"#E5ECF6\",\"caxis\":{\"gridcolor\":\"white\",\"linecolor\":\"white\",\"ticks\":\"\"}},\"title\":{\"x\":0.05},\"xaxis\":{\"automargin\":true,\"gridcolor\":\"white\",\"linecolor\":\"white\",\"ticks\":\"\",\"title\":{\"standoff\":15},\"zerolinecolor\":\"white\",\"zerolinewidth\":2},\"yaxis\":{\"automargin\":true,\"gridcolor\":\"white\",\"linecolor\":\"white\",\"ticks\":\"\",\"title\":{\"standoff\":15},\"zerolinecolor\":\"white\",\"zerolinewidth\":2}}}},                        {\"responsive\": true}                    ).then(function(){\n",
       "                            \n",
       "var gd = document.getElementById('94e201e5-8ba1-47c3-9004-2e16d5fe1cc4');\n",
       "var x = new MutationObserver(function (mutations, observer) {{\n",
       "        var display = window.getComputedStyle(gd).display;\n",
       "        if (!display || display === 'none') {{\n",
       "            console.log([gd, 'removed!']);\n",
       "            Plotly.purge(gd);\n",
       "            observer.disconnect();\n",
       "        }}\n",
       "}});\n",
       "\n",
       "// Listen for the removal of the full notebook cells\n",
       "var notebookContainer = gd.closest('#notebook-container');\n",
       "if (notebookContainer) {{\n",
       "    x.observe(notebookContainer, {childList: true});\n",
       "}}\n",
       "\n",
       "// Listen for the clearing of the current output cell\n",
       "var outputEl = gd.closest('.output');\n",
       "if (outputEl) {{\n",
       "    x.observe(outputEl, {childList: true});\n",
       "}}\n",
       "\n",
       "                        })                };                });            </script>        </div>"
      ]
     },
     "metadata": {},
     "output_type": "display_data"
    }
   ],
   "source": [
    "import plotly.graph_objects as go\n",
    "\n",
    "# Create traces\n",
    "fig = go.Figure()\n",
    "for i in col:\n",
    "    fig.add_trace(go.Scatter(x=df['date'], y=df[i], mode='lines+markers',name=i,))\n",
    "\n",
    "fig.show()"
   ]
  },
  {
   "cell_type": "code",
   "execution_count": 18,
   "id": "3fee36cb",
   "metadata": {
    "execution": {
     "iopub.execute_input": "2022-03-30T11:32:48.669044Z",
     "iopub.status.busy": "2022-03-30T11:32:48.668451Z",
     "iopub.status.idle": "2022-03-30T11:32:48.681868Z",
     "shell.execute_reply": "2022-03-30T11:32:48.682291Z",
     "shell.execute_reply.started": "2022-03-30T11:31:17.740097Z"
    },
    "papermill": {
     "duration": 0.068645,
     "end_time": "2022-03-30T11:32:48.682453",
     "exception": false,
     "start_time": "2022-03-30T11:32:48.613808",
     "status": "completed"
    },
    "tags": []
   },
   "outputs": [
    {
     "data": {
      "text/html": [
       "<div>                            <div id=\"57297bdb-49f8-403b-8dc8-292ee6cc6bf0\" class=\"plotly-graph-div\" style=\"height:525px; width:100%;\"></div>            <script type=\"text/javascript\">                require([\"plotly\"], function(Plotly) {                    window.PLOTLYENV=window.PLOTLYENV || {};                                    if (document.getElementById(\"57297bdb-49f8-403b-8dc8-292ee6cc6bf0\")) {                    Plotly.newPlot(                        \"57297bdb-49f8-403b-8dc8-292ee6cc6bf0\",                        [{\"mode\":\"lines\",\"name\":\"aircraft\",\"x\":[2,3,4,5,6,7,8,9,10,11,12,13,14,15,16,17,18,19,20,21,22,23,24,25,26,27,28,29,30,31,32,33,34,35],\"y\":[10,27,27,29,29,30,30,33,39,44,46,48,49,49,57,58,74,77,81,84,86,93,95,96,97,99,101,108,115,117,121,123,127,131],\"type\":\"scatter\"},{\"mode\":\"lines\",\"name\":\"helicopter\",\"x\":[2,3,4,5,6,7,8,9,10,11,12,13,14,15,16,17,18,19,20,21,22,23,24,25,26,27,28,29,30,31,32,33,34,35],\"y\":[7,26,26,29,29,31,31,37,40,48,68,80,81,81,83,83,86,90,95,108,108,112,115,118,121,123,124,124,125,127,127,127,129,131],\"type\":\"scatter\"},{\"mode\":\"lines\",\"name\":\"tank\",\"x\":[2,3,4,5,6,7,8,9,10,11,12,13,14,15,16,17,18,19,20,21,22,23,24,25,26,27,28,29,30,31,32,33,34,35],\"y\":[80,146,150,150,198,211,217,251,269,285,290,303,317,335,353,362,374,389,404,430,444,450,466,476,498,509,517,530,561,575,582,586,597,605],\"type\":\"scatter\"},{\"mode\":\"lines\",\"name\":\"APC\",\"x\":[2,3,4,5,6,7,8,9,10,11,12,13,14,15,16,17,18,19,20,21,22,23,24,25,26,27,28,29,30,31,32,33,34,35],\"y\":[516,706,706,816,846,862,900,939,945,985,999,1036,1070,1105,1165,1205,1226,1249,1279,1375,1435,1448,1470,1487,1535,1556,1578,1597,1625,1640,1664,1694,1710,1723],\"type\":\"scatter\"},{\"mode\":\"lines\",\"name\":\"field artillery\",\"x\":[2,3,4,5,6,7,8,9,10,11,12,13,14,15,16,17,18,19,20,21,22,23,24,25,26,27,28,29,30,31,32,33,34,35],\"y\":[49,49,50,74,77,85,90,105,105,109,117,120,120,123,125,135,140,150,150,190,201,205,213,230,240,252,267,280,291,293,294,302,303,305],\"type\":\"scatter\"},{\"mode\":\"lines\",\"name\":\"MRL\",\"x\":[2,3,4,5,6,7,8,9,10,11,12,13,14,15,16,17,18,19,20,21,22,23,24,25,26,27,28,29,30,31,32,33,34,35],\"y\":[4,4,4,21,24,40,42,50,50,50,50,56,56,56,58,62,62,64,64,70,72,72,72,74,80,80,80,82,90,91,93,95,96,96],\"type\":\"scatter\"},{\"mode\":\"lines\",\"name\":\"military auto\",\"x\":[2,3,4,5,6,7,8,9,10,11,12,13,14,15,16,17,18,19,20,21,22,23,24,25,26,27,28,29,30,31,32,33,34,35],\"y\":[100,130,130,291,305,355,374,404,409,447,454,474,482,526,558,585,600,617,640,819,864,879,914,947,969,1000,1008,1033,1089,1131,1144,1150,1178,1184],\"type\":\"scatter\"},{\"mode\":\"lines\",\"name\":\"fuel tank\",\"x\":[2,3,4,5,6,7,8,9,10,11,12,13,14,15,16,17,18,19,20,21,22,23,24,25,26,27,28,29,30,31,32,33,34,35],\"y\":[60,60,60,60,60,60,60,60,60,60,60,60,60,60,60,60,60,60,60,60,60,60,60,60,60,70,70,72,72,73,73,73,73,75],\"type\":\"scatter\"},{\"mode\":\"lines\",\"name\":\"drone\",\"x\":[2,3,4,5,6,7,8,9,10,11,12,13,14,15,16,17,18,19,20,21,22,23,24,25,26,27,28,29,30,31,32,33,34,35],\"y\":[0,2,2,3,3,3,3,3,3,4,7,7,7,7,7,7,7,8,9,11,11,12,17,21,24,35,42,50,53,56,56,66,71,81],\"type\":\"scatter\"},{\"mode\":\"lines\",\"name\":\"naval ship\",\"x\":[2,3,4,5,6,7,8,9,10,11,12,13,14,15,16,17,18,19,20,21,22,23,24,25,26,27,28,29,30,31,32,33,34,35],\"y\":[2,2,2,2,2,2,2,2,2,2,3,3,3,3,3,3,3,3,3,3,3,3,3,3,3,3,4,4,5,7,7,7,7,7],\"type\":\"scatter\"},{\"mode\":\"lines\",\"name\":\"anti-aircraft warfare\",\"x\":[2,3,4,5,6,7,8,9,10,11,12,13,14,15,16,17,18,19,20,21,22,23,24,25,26,27,28,29,30,31,32,33,34,35],\"y\":[0,0,0,5,7,9,11,18,19,21,23,27,28,29,31,33,34,34,36,43,43,43,44,44,45,45,47,47,49,51,52,54,54,54],\"type\":\"scatter\"},{\"mode\":\"lines\",\"name\":\"special equipment\",\"x\":[2,3,4,5,6,7,8,9,10,11,12,13,14,15,16,17,18,19,20,21,22,23,24,25,26,27,28,29,30,31,32,33,34,35],\"y\":[0.0,0.0,0.0,0.0,0.0,0.0,0.0,0.0,0.0,0.0,0.0,0.0,0.0,0.0,0.0,0.0,0.0,0.0,0.0,10.0,10.0,11.0,11.0,12.0,13.0,15.0,15.0,16.0,18.0,19.0,21.0,21.0,21.0,21.0],\"type\":\"scatter\"},{\"mode\":\"lines\",\"name\":\"mobile SRBM system\",\"x\":[2,3,4,5,6,7,8,9,10,11,12,13,14,15,16,17,18,19,20,21,22,23,24,25,26,27,28,29,30,31,32,33,34,35],\"y\":[0.0,0.0,0.0,0.0,0.0,0.0,0.0,0.0,0.0,0.0,0.0,0.0,0.0,0.0,0.0,0.0,0.0,0.0,0.0,0.0,0.0,0.0,0.0,0.0,0.0,0.0,0.0,0.0,0.0,2.0,4.0,4.0,4.0,4.0],\"type\":\"scatter\"}],                        {\"template\":{\"data\":{\"bar\":[{\"error_x\":{\"color\":\"#2a3f5f\"},\"error_y\":{\"color\":\"#2a3f5f\"},\"marker\":{\"line\":{\"color\":\"#E5ECF6\",\"width\":0.5},\"pattern\":{\"fillmode\":\"overlay\",\"size\":10,\"solidity\":0.2}},\"type\":\"bar\"}],\"barpolar\":[{\"marker\":{\"line\":{\"color\":\"#E5ECF6\",\"width\":0.5},\"pattern\":{\"fillmode\":\"overlay\",\"size\":10,\"solidity\":0.2}},\"type\":\"barpolar\"}],\"carpet\":[{\"aaxis\":{\"endlinecolor\":\"#2a3f5f\",\"gridcolor\":\"white\",\"linecolor\":\"white\",\"minorgridcolor\":\"white\",\"startlinecolor\":\"#2a3f5f\"},\"baxis\":{\"endlinecolor\":\"#2a3f5f\",\"gridcolor\":\"white\",\"linecolor\":\"white\",\"minorgridcolor\":\"white\",\"startlinecolor\":\"#2a3f5f\"},\"type\":\"carpet\"}],\"choropleth\":[{\"colorbar\":{\"outlinewidth\":0,\"ticks\":\"\"},\"type\":\"choropleth\"}],\"contour\":[{\"colorbar\":{\"outlinewidth\":0,\"ticks\":\"\"},\"colorscale\":[[0.0,\"#0d0887\"],[0.1111111111111111,\"#46039f\"],[0.2222222222222222,\"#7201a8\"],[0.3333333333333333,\"#9c179e\"],[0.4444444444444444,\"#bd3786\"],[0.5555555555555556,\"#d8576b\"],[0.6666666666666666,\"#ed7953\"],[0.7777777777777778,\"#fb9f3a\"],[0.8888888888888888,\"#fdca26\"],[1.0,\"#f0f921\"]],\"type\":\"contour\"}],\"contourcarpet\":[{\"colorbar\":{\"outlinewidth\":0,\"ticks\":\"\"},\"type\":\"contourcarpet\"}],\"heatmap\":[{\"colorbar\":{\"outlinewidth\":0,\"ticks\":\"\"},\"colorscale\":[[0.0,\"#0d0887\"],[0.1111111111111111,\"#46039f\"],[0.2222222222222222,\"#7201a8\"],[0.3333333333333333,\"#9c179e\"],[0.4444444444444444,\"#bd3786\"],[0.5555555555555556,\"#d8576b\"],[0.6666666666666666,\"#ed7953\"],[0.7777777777777778,\"#fb9f3a\"],[0.8888888888888888,\"#fdca26\"],[1.0,\"#f0f921\"]],\"type\":\"heatmap\"}],\"heatmapgl\":[{\"colorbar\":{\"outlinewidth\":0,\"ticks\":\"\"},\"colorscale\":[[0.0,\"#0d0887\"],[0.1111111111111111,\"#46039f\"],[0.2222222222222222,\"#7201a8\"],[0.3333333333333333,\"#9c179e\"],[0.4444444444444444,\"#bd3786\"],[0.5555555555555556,\"#d8576b\"],[0.6666666666666666,\"#ed7953\"],[0.7777777777777778,\"#fb9f3a\"],[0.8888888888888888,\"#fdca26\"],[1.0,\"#f0f921\"]],\"type\":\"heatmapgl\"}],\"histogram\":[{\"marker\":{\"pattern\":{\"fillmode\":\"overlay\",\"size\":10,\"solidity\":0.2}},\"type\":\"histogram\"}],\"histogram2d\":[{\"colorbar\":{\"outlinewidth\":0,\"ticks\":\"\"},\"colorscale\":[[0.0,\"#0d0887\"],[0.1111111111111111,\"#46039f\"],[0.2222222222222222,\"#7201a8\"],[0.3333333333333333,\"#9c179e\"],[0.4444444444444444,\"#bd3786\"],[0.5555555555555556,\"#d8576b\"],[0.6666666666666666,\"#ed7953\"],[0.7777777777777778,\"#fb9f3a\"],[0.8888888888888888,\"#fdca26\"],[1.0,\"#f0f921\"]],\"type\":\"histogram2d\"}],\"histogram2dcontour\":[{\"colorbar\":{\"outlinewidth\":0,\"ticks\":\"\"},\"colorscale\":[[0.0,\"#0d0887\"],[0.1111111111111111,\"#46039f\"],[0.2222222222222222,\"#7201a8\"],[0.3333333333333333,\"#9c179e\"],[0.4444444444444444,\"#bd3786\"],[0.5555555555555556,\"#d8576b\"],[0.6666666666666666,\"#ed7953\"],[0.7777777777777778,\"#fb9f3a\"],[0.8888888888888888,\"#fdca26\"],[1.0,\"#f0f921\"]],\"type\":\"histogram2dcontour\"}],\"mesh3d\":[{\"colorbar\":{\"outlinewidth\":0,\"ticks\":\"\"},\"type\":\"mesh3d\"}],\"parcoords\":[{\"line\":{\"colorbar\":{\"outlinewidth\":0,\"ticks\":\"\"}},\"type\":\"parcoords\"}],\"pie\":[{\"automargin\":true,\"type\":\"pie\"}],\"scatter\":[{\"marker\":{\"colorbar\":{\"outlinewidth\":0,\"ticks\":\"\"}},\"type\":\"scatter\"}],\"scatter3d\":[{\"line\":{\"colorbar\":{\"outlinewidth\":0,\"ticks\":\"\"}},\"marker\":{\"colorbar\":{\"outlinewidth\":0,\"ticks\":\"\"}},\"type\":\"scatter3d\"}],\"scattercarpet\":[{\"marker\":{\"colorbar\":{\"outlinewidth\":0,\"ticks\":\"\"}},\"type\":\"scattercarpet\"}],\"scattergeo\":[{\"marker\":{\"colorbar\":{\"outlinewidth\":0,\"ticks\":\"\"}},\"type\":\"scattergeo\"}],\"scattergl\":[{\"marker\":{\"colorbar\":{\"outlinewidth\":0,\"ticks\":\"\"}},\"type\":\"scattergl\"}],\"scattermapbox\":[{\"marker\":{\"colorbar\":{\"outlinewidth\":0,\"ticks\":\"\"}},\"type\":\"scattermapbox\"}],\"scatterpolar\":[{\"marker\":{\"colorbar\":{\"outlinewidth\":0,\"ticks\":\"\"}},\"type\":\"scatterpolar\"}],\"scatterpolargl\":[{\"marker\":{\"colorbar\":{\"outlinewidth\":0,\"ticks\":\"\"}},\"type\":\"scatterpolargl\"}],\"scatterternary\":[{\"marker\":{\"colorbar\":{\"outlinewidth\":0,\"ticks\":\"\"}},\"type\":\"scatterternary\"}],\"surface\":[{\"colorbar\":{\"outlinewidth\":0,\"ticks\":\"\"},\"colorscale\":[[0.0,\"#0d0887\"],[0.1111111111111111,\"#46039f\"],[0.2222222222222222,\"#7201a8\"],[0.3333333333333333,\"#9c179e\"],[0.4444444444444444,\"#bd3786\"],[0.5555555555555556,\"#d8576b\"],[0.6666666666666666,\"#ed7953\"],[0.7777777777777778,\"#fb9f3a\"],[0.8888888888888888,\"#fdca26\"],[1.0,\"#f0f921\"]],\"type\":\"surface\"}],\"table\":[{\"cells\":{\"fill\":{\"color\":\"#EBF0F8\"},\"line\":{\"color\":\"white\"}},\"header\":{\"fill\":{\"color\":\"#C8D4E3\"},\"line\":{\"color\":\"white\"}},\"type\":\"table\"}]},\"layout\":{\"annotationdefaults\":{\"arrowcolor\":\"#2a3f5f\",\"arrowhead\":0,\"arrowwidth\":1},\"autotypenumbers\":\"strict\",\"coloraxis\":{\"colorbar\":{\"outlinewidth\":0,\"ticks\":\"\"}},\"colorscale\":{\"diverging\":[[0,\"#8e0152\"],[0.1,\"#c51b7d\"],[0.2,\"#de77ae\"],[0.3,\"#f1b6da\"],[0.4,\"#fde0ef\"],[0.5,\"#f7f7f7\"],[0.6,\"#e6f5d0\"],[0.7,\"#b8e186\"],[0.8,\"#7fbc41\"],[0.9,\"#4d9221\"],[1,\"#276419\"]],\"sequential\":[[0.0,\"#0d0887\"],[0.1111111111111111,\"#46039f\"],[0.2222222222222222,\"#7201a8\"],[0.3333333333333333,\"#9c179e\"],[0.4444444444444444,\"#bd3786\"],[0.5555555555555556,\"#d8576b\"],[0.6666666666666666,\"#ed7953\"],[0.7777777777777778,\"#fb9f3a\"],[0.8888888888888888,\"#fdca26\"],[1.0,\"#f0f921\"]],\"sequentialminus\":[[0.0,\"#0d0887\"],[0.1111111111111111,\"#46039f\"],[0.2222222222222222,\"#7201a8\"],[0.3333333333333333,\"#9c179e\"],[0.4444444444444444,\"#bd3786\"],[0.5555555555555556,\"#d8576b\"],[0.6666666666666666,\"#ed7953\"],[0.7777777777777778,\"#fb9f3a\"],[0.8888888888888888,\"#fdca26\"],[1.0,\"#f0f921\"]]},\"colorway\":[\"#636efa\",\"#EF553B\",\"#00cc96\",\"#ab63fa\",\"#FFA15A\",\"#19d3f3\",\"#FF6692\",\"#B6E880\",\"#FF97FF\",\"#FECB52\"],\"font\":{\"color\":\"#2a3f5f\"},\"geo\":{\"bgcolor\":\"white\",\"lakecolor\":\"white\",\"landcolor\":\"#E5ECF6\",\"showlakes\":true,\"showland\":true,\"subunitcolor\":\"white\"},\"hoverlabel\":{\"align\":\"left\"},\"hovermode\":\"closest\",\"mapbox\":{\"style\":\"light\"},\"paper_bgcolor\":\"white\",\"plot_bgcolor\":\"#E5ECF6\",\"polar\":{\"angularaxis\":{\"gridcolor\":\"white\",\"linecolor\":\"white\",\"ticks\":\"\"},\"bgcolor\":\"#E5ECF6\",\"radialaxis\":{\"gridcolor\":\"white\",\"linecolor\":\"white\",\"ticks\":\"\"}},\"scene\":{\"xaxis\":{\"backgroundcolor\":\"#E5ECF6\",\"gridcolor\":\"white\",\"gridwidth\":2,\"linecolor\":\"white\",\"showbackground\":true,\"ticks\":\"\",\"zerolinecolor\":\"white\"},\"yaxis\":{\"backgroundcolor\":\"#E5ECF6\",\"gridcolor\":\"white\",\"gridwidth\":2,\"linecolor\":\"white\",\"showbackground\":true,\"ticks\":\"\",\"zerolinecolor\":\"white\"},\"zaxis\":{\"backgroundcolor\":\"#E5ECF6\",\"gridcolor\":\"white\",\"gridwidth\":2,\"linecolor\":\"white\",\"showbackground\":true,\"ticks\":\"\",\"zerolinecolor\":\"white\"}},\"shapedefaults\":{\"line\":{\"color\":\"#2a3f5f\"}},\"ternary\":{\"aaxis\":{\"gridcolor\":\"white\",\"linecolor\":\"white\",\"ticks\":\"\"},\"baxis\":{\"gridcolor\":\"white\",\"linecolor\":\"white\",\"ticks\":\"\"},\"bgcolor\":\"#E5ECF6\",\"caxis\":{\"gridcolor\":\"white\",\"linecolor\":\"white\",\"ticks\":\"\"}},\"title\":{\"x\":0.05},\"xaxis\":{\"automargin\":true,\"gridcolor\":\"white\",\"linecolor\":\"white\",\"ticks\":\"\",\"title\":{\"standoff\":15},\"zerolinecolor\":\"white\",\"zerolinewidth\":2},\"yaxis\":{\"automargin\":true,\"gridcolor\":\"white\",\"linecolor\":\"white\",\"ticks\":\"\",\"title\":{\"standoff\":15},\"zerolinecolor\":\"white\",\"zerolinewidth\":2}}}},                        {\"responsive\": true}                    ).then(function(){\n",
       "                            \n",
       "var gd = document.getElementById('57297bdb-49f8-403b-8dc8-292ee6cc6bf0');\n",
       "var x = new MutationObserver(function (mutations, observer) {{\n",
       "        var display = window.getComputedStyle(gd).display;\n",
       "        if (!display || display === 'none') {{\n",
       "            console.log([gd, 'removed!']);\n",
       "            Plotly.purge(gd);\n",
       "            observer.disconnect();\n",
       "        }}\n",
       "}});\n",
       "\n",
       "// Listen for the removal of the full notebook cells\n",
       "var notebookContainer = gd.closest('#notebook-container');\n",
       "if (notebookContainer) {{\n",
       "    x.observe(notebookContainer, {childList: true});\n",
       "}}\n",
       "\n",
       "// Listen for the clearing of the current output cell\n",
       "var outputEl = gd.closest('.output');\n",
       "if (outputEl) {{\n",
       "    x.observe(outputEl, {childList: true});\n",
       "}}\n",
       "\n",
       "                        })                };                });            </script>        </div>"
      ]
     },
     "metadata": {},
     "output_type": "display_data"
    }
   ],
   "source": [
    "fig = go.Figure()\n",
    "for i in col:\n",
    "    fig.add_trace(go.Scatter(x=df['day'], y=df[i], mode='lines',name=i,))\n",
    "\n",
    "fig.show()"
   ]
  },
  {
   "cell_type": "code",
   "execution_count": 19,
   "id": "a7140f06",
   "metadata": {
    "execution": {
     "iopub.execute_input": "2022-03-30T11:32:48.785884Z",
     "iopub.status.busy": "2022-03-30T11:32:48.785325Z",
     "iopub.status.idle": "2022-03-30T11:32:48.804392Z",
     "shell.execute_reply": "2022-03-30T11:32:48.804886Z",
     "shell.execute_reply.started": "2022-03-30T11:31:17.759886Z"
    },
    "papermill": {
     "duration": 0.072562,
     "end_time": "2022-03-30T11:32:48.805040",
     "exception": false,
     "start_time": "2022-03-30T11:32:48.732478",
     "status": "completed"
    },
    "tags": []
   },
   "outputs": [
    {
     "data": {
      "text/html": [
       "<div>\n",
       "<style scoped>\n",
       "    .dataframe tbody tr th:only-of-type {\n",
       "        vertical-align: middle;\n",
       "    }\n",
       "\n",
       "    .dataframe tbody tr th {\n",
       "        vertical-align: top;\n",
       "    }\n",
       "\n",
       "    .dataframe thead th {\n",
       "        text-align: right;\n",
       "    }\n",
       "</style>\n",
       "<table border=\"1\" class=\"dataframe\">\n",
       "  <thead>\n",
       "    <tr style=\"text-align: right;\">\n",
       "      <th></th>\n",
       "      <th>date</th>\n",
       "      <th>day</th>\n",
       "      <th>aircraft</th>\n",
       "      <th>helicopter</th>\n",
       "      <th>tank</th>\n",
       "      <th>APC</th>\n",
       "      <th>field artillery</th>\n",
       "      <th>MRL</th>\n",
       "      <th>military auto</th>\n",
       "      <th>fuel tank</th>\n",
       "      <th>drone</th>\n",
       "      <th>naval ship</th>\n",
       "      <th>anti-aircraft warfare</th>\n",
       "      <th>special equipment</th>\n",
       "      <th>mobile SRBM system</th>\n",
       "    </tr>\n",
       "  </thead>\n",
       "  <tbody>\n",
       "    <tr>\n",
       "      <th>33</th>\n",
       "      <td>2022-03-30</td>\n",
       "      <td>35</td>\n",
       "      <td>131</td>\n",
       "      <td>131</td>\n",
       "      <td>605</td>\n",
       "      <td>1723</td>\n",
       "      <td>305</td>\n",
       "      <td>96</td>\n",
       "      <td>1184</td>\n",
       "      <td>75</td>\n",
       "      <td>81</td>\n",
       "      <td>7</td>\n",
       "      <td>54</td>\n",
       "      <td>21.0</td>\n",
       "      <td>4.0</td>\n",
       "    </tr>\n",
       "    <tr>\n",
       "      <th>32</th>\n",
       "      <td>2022-03-29</td>\n",
       "      <td>34</td>\n",
       "      <td>127</td>\n",
       "      <td>129</td>\n",
       "      <td>597</td>\n",
       "      <td>1710</td>\n",
       "      <td>303</td>\n",
       "      <td>96</td>\n",
       "      <td>1178</td>\n",
       "      <td>73</td>\n",
       "      <td>71</td>\n",
       "      <td>7</td>\n",
       "      <td>54</td>\n",
       "      <td>21.0</td>\n",
       "      <td>4.0</td>\n",
       "    </tr>\n",
       "    <tr>\n",
       "      <th>31</th>\n",
       "      <td>2022-03-28</td>\n",
       "      <td>33</td>\n",
       "      <td>123</td>\n",
       "      <td>127</td>\n",
       "      <td>586</td>\n",
       "      <td>1694</td>\n",
       "      <td>302</td>\n",
       "      <td>95</td>\n",
       "      <td>1150</td>\n",
       "      <td>73</td>\n",
       "      <td>66</td>\n",
       "      <td>7</td>\n",
       "      <td>54</td>\n",
       "      <td>21.0</td>\n",
       "      <td>4.0</td>\n",
       "    </tr>\n",
       "    <tr>\n",
       "      <th>30</th>\n",
       "      <td>2022-03-27</td>\n",
       "      <td>32</td>\n",
       "      <td>121</td>\n",
       "      <td>127</td>\n",
       "      <td>582</td>\n",
       "      <td>1664</td>\n",
       "      <td>294</td>\n",
       "      <td>93</td>\n",
       "      <td>1144</td>\n",
       "      <td>73</td>\n",
       "      <td>56</td>\n",
       "      <td>7</td>\n",
       "      <td>52</td>\n",
       "      <td>21.0</td>\n",
       "      <td>4.0</td>\n",
       "    </tr>\n",
       "    <tr>\n",
       "      <th>29</th>\n",
       "      <td>2022-03-26</td>\n",
       "      <td>31</td>\n",
       "      <td>117</td>\n",
       "      <td>127</td>\n",
       "      <td>575</td>\n",
       "      <td>1640</td>\n",
       "      <td>293</td>\n",
       "      <td>91</td>\n",
       "      <td>1131</td>\n",
       "      <td>73</td>\n",
       "      <td>56</td>\n",
       "      <td>7</td>\n",
       "      <td>51</td>\n",
       "      <td>19.0</td>\n",
       "      <td>2.0</td>\n",
       "    </tr>\n",
       "    <tr>\n",
       "      <th>28</th>\n",
       "      <td>2022-03-25</td>\n",
       "      <td>30</td>\n",
       "      <td>115</td>\n",
       "      <td>125</td>\n",
       "      <td>561</td>\n",
       "      <td>1625</td>\n",
       "      <td>291</td>\n",
       "      <td>90</td>\n",
       "      <td>1089</td>\n",
       "      <td>72</td>\n",
       "      <td>53</td>\n",
       "      <td>5</td>\n",
       "      <td>49</td>\n",
       "      <td>18.0</td>\n",
       "      <td>0.0</td>\n",
       "    </tr>\n",
       "    <tr>\n",
       "      <th>27</th>\n",
       "      <td>2022-03-24</td>\n",
       "      <td>29</td>\n",
       "      <td>108</td>\n",
       "      <td>124</td>\n",
       "      <td>530</td>\n",
       "      <td>1597</td>\n",
       "      <td>280</td>\n",
       "      <td>82</td>\n",
       "      <td>1033</td>\n",
       "      <td>72</td>\n",
       "      <td>50</td>\n",
       "      <td>4</td>\n",
       "      <td>47</td>\n",
       "      <td>16.0</td>\n",
       "      <td>0.0</td>\n",
       "    </tr>\n",
       "    <tr>\n",
       "      <th>26</th>\n",
       "      <td>2022-03-23</td>\n",
       "      <td>28</td>\n",
       "      <td>101</td>\n",
       "      <td>124</td>\n",
       "      <td>517</td>\n",
       "      <td>1578</td>\n",
       "      <td>267</td>\n",
       "      <td>80</td>\n",
       "      <td>1008</td>\n",
       "      <td>70</td>\n",
       "      <td>42</td>\n",
       "      <td>4</td>\n",
       "      <td>47</td>\n",
       "      <td>15.0</td>\n",
       "      <td>0.0</td>\n",
       "    </tr>\n",
       "    <tr>\n",
       "      <th>25</th>\n",
       "      <td>2022-03-22</td>\n",
       "      <td>27</td>\n",
       "      <td>99</td>\n",
       "      <td>123</td>\n",
       "      <td>509</td>\n",
       "      <td>1556</td>\n",
       "      <td>252</td>\n",
       "      <td>80</td>\n",
       "      <td>1000</td>\n",
       "      <td>70</td>\n",
       "      <td>35</td>\n",
       "      <td>3</td>\n",
       "      <td>45</td>\n",
       "      <td>15.0</td>\n",
       "      <td>0.0</td>\n",
       "    </tr>\n",
       "    <tr>\n",
       "      <th>24</th>\n",
       "      <td>2022-03-21</td>\n",
       "      <td>26</td>\n",
       "      <td>97</td>\n",
       "      <td>121</td>\n",
       "      <td>498</td>\n",
       "      <td>1535</td>\n",
       "      <td>240</td>\n",
       "      <td>80</td>\n",
       "      <td>969</td>\n",
       "      <td>60</td>\n",
       "      <td>24</td>\n",
       "      <td>3</td>\n",
       "      <td>45</td>\n",
       "      <td>13.0</td>\n",
       "      <td>0.0</td>\n",
       "    </tr>\n",
       "  </tbody>\n",
       "</table>\n",
       "</div>"
      ],
      "text/plain": [
       "         date  day  aircraft  helicopter  tank   APC  field artillery  MRL  \\\n",
       "33 2022-03-30   35       131         131   605  1723              305   96   \n",
       "32 2022-03-29   34       127         129   597  1710              303   96   \n",
       "31 2022-03-28   33       123         127   586  1694              302   95   \n",
       "30 2022-03-27   32       121         127   582  1664              294   93   \n",
       "29 2022-03-26   31       117         127   575  1640              293   91   \n",
       "28 2022-03-25   30       115         125   561  1625              291   90   \n",
       "27 2022-03-24   29       108         124   530  1597              280   82   \n",
       "26 2022-03-23   28       101         124   517  1578              267   80   \n",
       "25 2022-03-22   27        99         123   509  1556              252   80   \n",
       "24 2022-03-21   26        97         121   498  1535              240   80   \n",
       "\n",
       "    military auto  fuel tank  drone  naval ship  anti-aircraft warfare  \\\n",
       "33           1184         75     81           7                     54   \n",
       "32           1178         73     71           7                     54   \n",
       "31           1150         73     66           7                     54   \n",
       "30           1144         73     56           7                     52   \n",
       "29           1131         73     56           7                     51   \n",
       "28           1089         72     53           5                     49   \n",
       "27           1033         72     50           4                     47   \n",
       "26           1008         70     42           4                     47   \n",
       "25           1000         70     35           3                     45   \n",
       "24            969         60     24           3                     45   \n",
       "\n",
       "    special equipment  mobile SRBM system  \n",
       "33               21.0                 4.0  \n",
       "32               21.0                 4.0  \n",
       "31               21.0                 4.0  \n",
       "30               21.0                 4.0  \n",
       "29               19.0                 2.0  \n",
       "28               18.0                 0.0  \n",
       "27               16.0                 0.0  \n",
       "26               15.0                 0.0  \n",
       "25               15.0                 0.0  \n",
       "24               13.0                 0.0  "
      ]
     },
     "execution_count": 19,
     "metadata": {},
     "output_type": "execute_result"
    }
   ],
   "source": [
    "df.sort_values(by='aircraft',ascending=False).head(10)"
   ]
  },
  {
   "cell_type": "code",
   "execution_count": 20,
   "id": "ec4b49cf",
   "metadata": {
    "execution": {
     "iopub.execute_input": "2022-03-30T11:32:48.910638Z",
     "iopub.status.busy": "2022-03-30T11:32:48.910071Z",
     "iopub.status.idle": "2022-03-30T11:32:48.917511Z",
     "shell.execute_reply": "2022-03-30T11:32:48.918021Z",
     "shell.execute_reply.started": "2022-03-30T11:31:17.782213Z"
    },
    "papermill": {
     "duration": 0.061849,
     "end_time": "2022-03-30T11:32:48.918184",
     "exception": false,
     "start_time": "2022-03-30T11:32:48.856335",
     "status": "completed"
    },
    "tags": []
   },
   "outputs": [
    {
     "data": {
      "text/plain": [
       "96317.0"
      ]
     },
     "execution_count": 20,
     "metadata": {},
     "output_type": "execute_result"
    }
   ],
   "source": [
    "df.sum().sort_values().sum()"
   ]
  },
  {
   "cell_type": "code",
   "execution_count": 21,
   "id": "b9c43b60",
   "metadata": {
    "execution": {
     "iopub.execute_input": "2022-03-30T11:32:49.024478Z",
     "iopub.status.busy": "2022-03-30T11:32:49.023941Z",
     "iopub.status.idle": "2022-03-30T11:32:49.275372Z",
     "shell.execute_reply": "2022-03-30T11:32:49.276052Z",
     "shell.execute_reply.started": "2022-03-30T11:31:17.797772Z"
    },
    "papermill": {
     "duration": 0.304866,
     "end_time": "2022-03-30T11:32:49.276251",
     "exception": false,
     "start_time": "2022-03-30T11:32:48.971385",
     "status": "completed"
    },
    "tags": []
   },
   "outputs": [
    {
     "data": {
      "text/plain": [
       "Text(0.5, 1.0, 'Destroyed Equepments')"
      ]
     },
     "execution_count": 21,
     "metadata": {},
     "output_type": "execute_result"
    },
    {
     "data": {
      "image/png": "[encoded data removed]",
      "text/plain": [
       "<Figure size 504x504 with 1 Axes>"
      ]
     },
     "metadata": {},
     "output_type": "display_data"
    }
   ],
   "source": [
    "plt.figure(figsize=(7,7))\n",
    "df.sum().sort_values().plot(kind='pie',autopct=lambda p:'{:.2f}%\\n({:.0f})'.format(p,(p/100)*(df.sum().sort_values().sum())))\n",
    "plt.title('Destroyed Equepments')"
   ]
  },
  {
   "cell_type": "markdown",
   "id": "2278aab9",
   "metadata": {
    "papermill": {
     "duration": 0.051382,
     "end_time": "2022-03-30T11:32:49.390355",
     "exception": false,
     "start_time": "2022-03-30T11:32:49.338973",
     "status": "completed"
    },
    "tags": []
   },
   "source": [
    "# Self Function to create intrective bar and count plot\n",
    "- using this function we can add value of the bar as well as percentage of total.\n",
    "- default it will plot barplot, also we can use count plot using this, just edit the 'barplot' to 'countplot' \n",
    "- also position can be adjusted using x_pos and y_pos parameters,\n",
    "- also title can we added easy, just pass the title='your title, default it is none\n",
    "- explore it for more... or customise as you can."
   ]
  },
  {
   "cell_type": "code",
   "execution_count": 22,
   "id": "24af789a",
   "metadata": {
    "execution": {
     "iopub.execute_input": "2022-03-30T11:32:49.499670Z",
     "iopub.status.busy": "2022-03-30T11:32:49.499095Z",
     "iopub.status.idle": "2022-03-30T11:32:49.507524Z",
     "shell.execute_reply": "2022-03-30T11:32:49.508055Z",
     "shell.execute_reply.started": "2022-03-30T11:31:18.071447Z"
    },
    "papermill": {
     "duration": 0.065124,
     "end_time": "2022-03-30T11:32:49.508211",
     "exception": false,
     "start_time": "2022-03-30T11:32:49.443087",
     "status": "completed"
    },
    "tags": []
   },
   "outputs": [],
   "source": [
    "def num2MB(num):\n",
    "    '''\n",
    "        num: int, float\n",
    "        it will return values like thousands(10K), Millions(10M),Billions(1B)\n",
    "        '''\n",
    "    if num < 1000: return int(num)\n",
    "    if num >= 1000 and num < 1000000:return f'{float(\"%.1f\" %(num/1000))}K'\n",
    "    elif num>= 1000000 and num < 1000000000: return f'{float(\"%.1f\" %(num/1000000))}M'\n",
    "    else: return f'{float(\"%.1f\" %(num/1000000000))}B'\n",
    "    \n",
    "def myBarPlot(data,data2=None,title=None,x_pos=0.25,y_pos=10,val_per=None):\n",
    "    '''\n",
    "    data: data\n",
    "    data2: hue data\n",
    "    title: str- title of graph\n",
    "    x_pos: int/float - to adjust x-axis position of text\n",
    "    y_pos=10: int/float - to adjust y-axis position of text\n",
    "    val_per: default: None- nothing print\n",
    "            'value': to print actual value on top\n",
    "            'percent': to print in percent\n",
    "            'val_per': to print both value and percent\n",
    "    \n",
    "    '''\n",
    "    \n",
    "    total_data = data.shape[0] # total no of rows in data\n",
    "    \n",
    "    ax = sns.barplot(data,data2)\n",
    "    for i in ax.patches:\n",
    "        height = i.get_height() # get height of bar (value of y axis)      \n",
    "        a = height\n",
    "        x = i.get_x() # get x_axis value\n",
    "        b = 0\n",
    "        if val_per == 'value':\n",
    "            b = num2MB(a)\n",
    "        elif val_per == \"percent\":\n",
    "            b = '{:.2f}%'.format((a/total_data)*100)\n",
    "        elif val_per == 'val_per':\n",
    "            b = '{}\\n{:.2f}%'.format(num2MB(a),(a/total_data)*100)\n",
    "        else:\n",
    "            b = ''\n",
    " \n",
    "        ax.text(x=x+x_pos,y=height+y_pos,s=b,rotation=None) # shift+tab for more parameter\n",
    "    plt.title(title,fontdict={'fontsize':20,'color':'red'})\n",
    "    plt.xticks(rotation=90)"
   ]
  },
  {
   "cell_type": "code",
   "execution_count": 23,
   "id": "91796564",
   "metadata": {
    "execution": {
     "iopub.execute_input": "2022-03-30T11:32:49.616147Z",
     "iopub.status.busy": "2022-03-30T11:32:49.615641Z",
     "iopub.status.idle": "2022-03-30T11:32:49.907725Z",
     "shell.execute_reply": "2022-03-30T11:32:49.908163Z",
     "shell.execute_reply.started": "2022-03-30T11:31:18.087375Z"
    },
    "papermill": {
     "duration": 0.347088,
     "end_time": "2022-03-30T11:32:49.908323",
     "exception": false,
     "start_time": "2022-03-30T11:32:49.561235",
     "status": "completed"
    },
    "tags": []
   },
   "outputs": [
    {
     "data": {
      "image/png": "[encoded data removed]",
      "text/plain": [
       "<Figure size 1080x360 with 1 Axes>"
      ]
     },
     "metadata": {
      "needs_background": "light"
     },
     "output_type": "display_data"
    }
   ],
   "source": [
    "plt.figure(figsize=(15,5))\n",
    "myBarPlot(df.sum().sort_values().index,df.sum().sort_values().values,val_per='value', title='Destroyed Equepments')"
   ]
  },
  {
   "cell_type": "code",
   "execution_count": null,
   "id": "c6a29e35",
   "metadata": {
    "papermill": {
     "duration": 0.058879,
     "end_time": "2022-03-30T11:32:50.028199",
     "exception": false,
     "start_time": "2022-03-30T11:32:49.969320",
     "status": "completed"
    },
    "tags": []
   },
   "outputs": [],
   "source": []
  },
  {
   "cell_type": "markdown",
   "id": "63686041",
   "metadata": {
    "papermill": {
     "duration": 0.055245,
     "end_time": "2022-03-30T11:32:50.141213",
     "exception": false,
     "start_time": "2022-03-30T11:32:50.085968",
     "status": "completed"
    },
    "tags": []
   },
   "source": [
    "#  Personal Loss: Data Analysis"
   ]
  },
  {
   "cell_type": "code",
   "execution_count": 24,
   "id": "16273c34",
   "metadata": {
    "execution": {
     "iopub.execute_input": "2022-03-30T11:32:50.250380Z",
     "iopub.status.busy": "2022-03-30T11:32:50.249858Z",
     "iopub.status.idle": "2022-03-30T11:32:50.264920Z",
     "shell.execute_reply": "2022-03-30T11:32:50.265340Z",
     "shell.execute_reply.started": "2022-03-30T11:31:18.415946Z"
    },
    "papermill": {
     "duration": 0.071013,
     "end_time": "2022-03-30T11:32:50.265485",
     "exception": false,
     "start_time": "2022-03-30T11:32:50.194472",
     "status": "completed"
    },
    "tags": []
   },
   "outputs": [],
   "source": [
    "df2 = pd.read_csv('../input/2022-ukraine-russian-war/russia_losses_personnel.csv',parse_dates=['date'])"
   ]
  },
  {
   "cell_type": "code",
   "execution_count": 25,
   "id": "870fd081",
   "metadata": {
    "execution": {
     "iopub.execute_input": "2022-03-30T11:32:50.376656Z",
     "iopub.status.busy": "2022-03-30T11:32:50.376146Z",
     "iopub.status.idle": "2022-03-30T11:32:50.384297Z",
     "shell.execute_reply": "2022-03-30T11:32:50.384746Z",
     "shell.execute_reply.started": "2022-03-30T11:31:18.427038Z"
    },
    "papermill": {
     "duration": 0.06464,
     "end_time": "2022-03-30T11:32:50.384893",
     "exception": false,
     "start_time": "2022-03-30T11:32:50.320253",
     "status": "completed"
    },
    "tags": []
   },
   "outputs": [
    {
     "data": {
      "text/html": [
       "<div>\n",
       "<style scoped>\n",
       "    .dataframe tbody tr th:only-of-type {\n",
       "        vertical-align: middle;\n",
       "    }\n",
       "\n",
       "    .dataframe tbody tr th {\n",
       "        vertical-align: top;\n",
       "    }\n",
       "\n",
       "    .dataframe thead th {\n",
       "        text-align: right;\n",
       "    }\n",
       "</style>\n",
       "<table border=\"1\" class=\"dataframe\">\n",
       "  <thead>\n",
       "    <tr style=\"text-align: right;\">\n",
       "      <th></th>\n",
       "      <th>date</th>\n",
       "      <th>day</th>\n",
       "      <th>personnel</th>\n",
       "      <th>personnel*</th>\n",
       "      <th>POW</th>\n",
       "    </tr>\n",
       "  </thead>\n",
       "  <tbody>\n",
       "    <tr>\n",
       "      <th>0</th>\n",
       "      <td>2022-02-25</td>\n",
       "      <td>2</td>\n",
       "      <td>2800</td>\n",
       "      <td>about</td>\n",
       "      <td>0</td>\n",
       "    </tr>\n",
       "    <tr>\n",
       "      <th>1</th>\n",
       "      <td>2022-02-26</td>\n",
       "      <td>3</td>\n",
       "      <td>4300</td>\n",
       "      <td>about</td>\n",
       "      <td>0</td>\n",
       "    </tr>\n",
       "    <tr>\n",
       "      <th>2</th>\n",
       "      <td>2022-02-27</td>\n",
       "      <td>4</td>\n",
       "      <td>4500</td>\n",
       "      <td>about</td>\n",
       "      <td>0</td>\n",
       "    </tr>\n",
       "    <tr>\n",
       "      <th>3</th>\n",
       "      <td>2022-02-28</td>\n",
       "      <td>5</td>\n",
       "      <td>5300</td>\n",
       "      <td>about</td>\n",
       "      <td>0</td>\n",
       "    </tr>\n",
       "    <tr>\n",
       "      <th>4</th>\n",
       "      <td>2022-03-01</td>\n",
       "      <td>6</td>\n",
       "      <td>5710</td>\n",
       "      <td>about</td>\n",
       "      <td>200</td>\n",
       "    </tr>\n",
       "  </tbody>\n",
       "</table>\n",
       "</div>"
      ],
      "text/plain": [
       "        date  day  personnel personnel*  POW\n",
       "0 2022-02-25    2       2800      about    0\n",
       "1 2022-02-26    3       4300      about    0\n",
       "2 2022-02-27    4       4500      about    0\n",
       "3 2022-02-28    5       5300      about    0\n",
       "4 2022-03-01    6       5710      about  200"
      ]
     },
     "execution_count": 25,
     "metadata": {},
     "output_type": "execute_result"
    }
   ],
   "source": [
    "df2.head()"
   ]
  },
  {
   "cell_type": "code",
   "execution_count": 26,
   "id": "76d9e8ff",
   "metadata": {
    "execution": {
     "iopub.execute_input": "2022-03-30T11:32:50.498260Z",
     "iopub.status.busy": "2022-03-30T11:32:50.497693Z",
     "iopub.status.idle": "2022-03-30T11:32:50.503571Z",
     "shell.execute_reply": "2022-03-30T11:32:50.503096Z",
     "shell.execute_reply.started": "2022-03-30T11:31:18.442535Z"
    },
    "papermill": {
     "duration": 0.062934,
     "end_time": "2022-03-30T11:32:50.503731",
     "exception": false,
     "start_time": "2022-03-30T11:32:50.440797",
     "status": "completed"
    },
    "tags": []
   },
   "outputs": [
    {
     "data": {
      "text/plain": [
       "(34, 5)"
      ]
     },
     "execution_count": 26,
     "metadata": {},
     "output_type": "execute_result"
    }
   ],
   "source": [
    "df2.shape"
   ]
  },
  {
   "cell_type": "code",
   "execution_count": 27,
   "id": "7e737556",
   "metadata": {
    "execution": {
     "iopub.execute_input": "2022-03-30T11:32:50.627867Z",
     "iopub.status.busy": "2022-03-30T11:32:50.619716Z",
     "iopub.status.idle": "2022-03-30T11:32:50.634230Z",
     "shell.execute_reply": "2022-03-30T11:32:50.634659Z",
     "shell.execute_reply.started": "2022-03-30T11:31:18.453194Z"
    },
    "papermill": {
     "duration": 0.075246,
     "end_time": "2022-03-30T11:32:50.634828",
     "exception": false,
     "start_time": "2022-03-30T11:32:50.559582",
     "status": "completed"
    },
    "tags": []
   },
   "outputs": [
    {
     "name": "stdout",
     "output_type": "stream",
     "text": [
      "<class 'pandas.core.frame.DataFrame'>\n",
      "RangeIndex: 34 entries, 0 to 33\n",
      "Data columns (total 5 columns):\n",
      " #   Column      Non-Null Count  Dtype         \n",
      "---  ------      --------------  -----         \n",
      " 0   date        34 non-null     datetime64[ns]\n",
      " 1   day         34 non-null     int64         \n",
      " 2   personnel   34 non-null     int64         \n",
      " 3   personnel*  34 non-null     object        \n",
      " 4   POW         34 non-null     int64         \n",
      "dtypes: datetime64[ns](1), int64(3), object(1)\n",
      "memory usage: 1.5+ KB\n"
     ]
    }
   ],
   "source": [
    "df2.info()"
   ]
  },
  {
   "cell_type": "code",
   "execution_count": 28,
   "id": "1bc7af60",
   "metadata": {
    "execution": {
     "iopub.execute_input": "2022-03-30T11:32:50.755753Z",
     "iopub.status.busy": "2022-03-30T11:32:50.753706Z",
     "iopub.status.idle": "2022-03-30T11:32:50.762015Z",
     "shell.execute_reply": "2022-03-30T11:32:50.762423Z",
     "shell.execute_reply.started": "2022-03-30T11:31:18.473601Z"
    },
    "papermill": {
     "duration": 0.069713,
     "end_time": "2022-03-30T11:32:50.762574",
     "exception": false,
     "start_time": "2022-03-30T11:32:50.692861",
     "status": "completed"
    },
    "tags": []
   },
   "outputs": [
    {
     "data": {
      "text/plain": [
       "date          0\n",
       "day           0\n",
       "personnel     0\n",
       "personnel*    0\n",
       "POW           0\n",
       "dtype: int64"
      ]
     },
     "execution_count": 28,
     "metadata": {},
     "output_type": "execute_result"
    }
   ],
   "source": [
    "df2.isnull().sum()"
   ]
  },
  {
   "cell_type": "code",
   "execution_count": 29,
   "id": "cd778a61",
   "metadata": {
    "execution": {
     "iopub.execute_input": "2022-03-30T11:32:50.875100Z",
     "iopub.status.busy": "2022-03-30T11:32:50.874595Z",
     "iopub.status.idle": "2022-03-30T11:32:50.881059Z",
     "shell.execute_reply": "2022-03-30T11:32:50.881500Z",
     "shell.execute_reply.started": "2022-03-30T11:31:18.486624Z"
    },
    "papermill": {
     "duration": 0.063988,
     "end_time": "2022-03-30T11:32:50.881651",
     "exception": false,
     "start_time": "2022-03-30T11:32:50.817663",
     "status": "completed"
    },
    "tags": []
   },
   "outputs": [
    {
     "data": {
      "text/plain": [
       "0"
      ]
     },
     "execution_count": 29,
     "metadata": {},
     "output_type": "execute_result"
    }
   ],
   "source": [
    "df2.duplicated().sum()"
   ]
  },
  {
   "cell_type": "code",
   "execution_count": 30,
   "id": "4844cc56",
   "metadata": {
    "execution": {
     "iopub.execute_input": "2022-03-30T11:32:50.992365Z",
     "iopub.status.busy": "2022-03-30T11:32:50.991846Z",
     "iopub.status.idle": "2022-03-30T11:32:51.172360Z",
     "shell.execute_reply": "2022-03-30T11:32:51.171712Z",
     "shell.execute_reply.started": "2022-03-30T11:31:18.498273Z"
    },
    "papermill": {
     "duration": 0.237073,
     "end_time": "2022-03-30T11:32:51.172485",
     "exception": false,
     "start_time": "2022-03-30T11:32:50.935412",
     "status": "completed"
    },
    "tags": []
   },
   "outputs": [
    {
     "data": {
      "text/plain": [
       "<AxesSubplot:xlabel='personnel', ylabel='Density'>"
      ]
     },
     "execution_count": 30,
     "metadata": {},
     "output_type": "execute_result"
    },
    {
     "data": {
      "image/png": "[encoded data removed]",
      "text/plain": [
       "<Figure size 432x288 with 1 Axes>"
      ]
     },
     "metadata": {
      "needs_background": "light"
     },
     "output_type": "display_data"
    }
   ],
   "source": [
    "sns.distplot(df2['personnel'])"
   ]
  },
  {
   "cell_type": "code",
   "execution_count": 31,
   "id": "f857c7bb",
   "metadata": {
    "execution": {
     "iopub.execute_input": "2022-03-30T11:32:51.295722Z",
     "iopub.status.busy": "2022-03-30T11:32:51.294775Z",
     "iopub.status.idle": "2022-03-30T11:32:51.299258Z",
     "shell.execute_reply": "2022-03-30T11:32:51.298708Z",
     "shell.execute_reply.started": "2022-03-30T11:31:18.748538Z"
    },
    "papermill": {
     "duration": 0.069084,
     "end_time": "2022-03-30T11:32:51.299382",
     "exception": false,
     "start_time": "2022-03-30T11:32:51.230298",
     "status": "completed"
    },
    "tags": []
   },
   "outputs": [
    {
     "data": {
      "text/plain": [
       "about    28\n",
       "more      6\n",
       "Name: personnel*, dtype: int64"
      ]
     },
     "execution_count": 31,
     "metadata": {},
     "output_type": "execute_result"
    }
   ],
   "source": [
    "df2['personnel*'].value_counts()"
   ]
  },
  {
   "cell_type": "code",
   "execution_count": 32,
   "id": "7141da07",
   "metadata": {
    "execution": {
     "iopub.execute_input": "2022-03-30T11:32:51.421408Z",
     "iopub.status.busy": "2022-03-30T11:32:51.420712Z",
     "iopub.status.idle": "2022-03-30T11:32:51.426741Z",
     "shell.execute_reply": "2022-03-30T11:32:51.426152Z",
     "shell.execute_reply.started": "2022-03-30T11:31:18.756648Z"
    },
    "papermill": {
     "duration": 0.071041,
     "end_time": "2022-03-30T11:32:51.426866",
     "exception": false,
     "start_time": "2022-03-30T11:32:51.355825",
     "status": "completed"
    },
    "tags": []
   },
   "outputs": [
    {
     "data": {
      "text/plain": [
       "389    6\n",
       "405    5\n",
       "0      4\n",
       "200    4\n",
       "412    4\n",
       "421    2\n",
       "430    2\n",
       "216    1\n",
       "232    1\n",
       "259    1\n",
       "284    1\n",
       "360    1\n",
       "371    1\n",
       "411    1\n",
       "Name: POW, dtype: int64"
      ]
     },
     "execution_count": 32,
     "metadata": {},
     "output_type": "execute_result"
    }
   ],
   "source": [
    "df2['POW'].value_counts()"
   ]
  },
  {
   "cell_type": "markdown",
   "id": "a6c4699d",
   "metadata": {
    "papermill": {
     "duration": 0.060848,
     "end_time": "2022-03-30T11:32:51.547649",
     "exception": false,
     "start_time": "2022-03-30T11:32:51.486801",
     "status": "completed"
    },
    "tags": []
   },
   "source": [
    "# Personal Losses"
   ]
  },
  {
   "cell_type": "code",
   "execution_count": 33,
   "id": "ae52c37f",
   "metadata": {
    "execution": {
     "iopub.execute_input": "2022-03-30T11:32:51.672765Z",
     "iopub.status.busy": "2022-03-30T11:32:51.672193Z",
     "iopub.status.idle": "2022-03-30T11:32:51.676721Z",
     "shell.execute_reply": "2022-03-30T11:32:51.676016Z",
     "shell.execute_reply.started": "2022-03-30T11:31:18.772077Z"
    },
    "papermill": {
     "duration": 0.069955,
     "end_time": "2022-03-30T11:32:51.676876",
     "exception": false,
     "start_time": "2022-03-30T11:32:51.606921",
     "status": "completed"
    },
    "tags": []
   },
   "outputs": [
    {
     "data": {
      "text/html": [
       "<div>                            <div id=\"d13a187b-6540-4936-ac1c-c3f9b70647f7\" class=\"plotly-graph-div\" style=\"height:525px; width:100%;\"></div>            <script type=\"text/javascript\">                require([\"plotly\"], function(Plotly) {                    window.PLOTLYENV=window.PLOTLYENV || {};                                    if (document.getElementById(\"d13a187b-6540-4936-ac1c-c3f9b70647f7\")) {                    Plotly.newPlot(                        \"d13a187b-6540-4936-ac1c-c3f9b70647f7\",                        [{\"mode\":\"lines+markers\",\"name\":\"mobile SRBM system\",\"x\":[\"2022-02-25T00:00:00\",\"2022-02-26T00:00:00\",\"2022-02-27T00:00:00\",\"2022-02-28T00:00:00\",\"2022-03-01T00:00:00\",\"2022-03-02T00:00:00\",\"2022-03-03T00:00:00\",\"2022-03-04T00:00:00\",\"2022-03-05T00:00:00\",\"2022-03-06T00:00:00\",\"2022-03-07T00:00:00\",\"2022-03-08T00:00:00\",\"2022-03-09T00:00:00\",\"2022-03-10T00:00:00\",\"2022-03-11T00:00:00\",\"2022-03-12T00:00:00\",\"2022-03-13T00:00:00\",\"2022-03-14T00:00:00\",\"2022-03-15T00:00:00\",\"2022-03-16T00:00:00\",\"2022-03-17T00:00:00\",\"2022-03-18T00:00:00\",\"2022-03-19T00:00:00\",\"2022-03-20T00:00:00\",\"2022-03-21T00:00:00\",\"2022-03-22T00:00:00\",\"2022-03-23T00:00:00\",\"2022-03-24T00:00:00\",\"2022-03-25T00:00:00\",\"2022-03-26T00:00:00\",\"2022-03-27T00:00:00\",\"2022-03-28T00:00:00\",\"2022-03-29T00:00:00\",\"2022-03-30T00:00:00\"],\"y\":[2800,4300,4500,5300,5710,5840,9000,9166,10000,11000,11000,12000,12000,12000,12000,12000,12000,12000,13500,13800,14000,14200,14400,14700,15000,15300,15600,15800,16100,16400,16600,17000,17200,17300],\"type\":\"scatter\"}],                        {\"template\":{\"data\":{\"bar\":[{\"error_x\":{\"color\":\"#2a3f5f\"},\"error_y\":{\"color\":\"#2a3f5f\"},\"marker\":{\"line\":{\"color\":\"#E5ECF6\",\"width\":0.5},\"pattern\":{\"fillmode\":\"overlay\",\"size\":10,\"solidity\":0.2}},\"type\":\"bar\"}],\"barpolar\":[{\"marker\":{\"line\":{\"color\":\"#E5ECF6\",\"width\":0.5},\"pattern\":{\"fillmode\":\"overlay\",\"size\":10,\"solidity\":0.2}},\"type\":\"barpolar\"}],\"carpet\":[{\"aaxis\":{\"endlinecolor\":\"#2a3f5f\",\"gridcolor\":\"white\",\"linecolor\":\"white\",\"minorgridcolor\":\"white\",\"startlinecolor\":\"#2a3f5f\"},\"baxis\":{\"endlinecolor\":\"#2a3f5f\",\"gridcolor\":\"white\",\"linecolor\":\"white\",\"minorgridcolor\":\"white\",\"startlinecolor\":\"#2a3f5f\"},\"type\":\"carpet\"}],\"choropleth\":[{\"colorbar\":{\"outlinewidth\":0,\"ticks\":\"\"},\"type\":\"choropleth\"}],\"contour\":[{\"colorbar\":{\"outlinewidth\":0,\"ticks\":\"\"},\"colorscale\":[[0.0,\"#0d0887\"],[0.1111111111111111,\"#46039f\"],[0.2222222222222222,\"#7201a8\"],[0.3333333333333333,\"#9c179e\"],[0.4444444444444444,\"#bd3786\"],[0.5555555555555556,\"#d8576b\"],[0.6666666666666666,\"#ed7953\"],[0.7777777777777778,\"#fb9f3a\"],[0.8888888888888888,\"#fdca26\"],[1.0,\"#f0f921\"]],\"type\":\"contour\"}],\"contourcarpet\":[{\"colorbar\":{\"outlinewidth\":0,\"ticks\":\"\"},\"type\":\"contourcarpet\"}],\"heatmap\":[{\"colorbar\":{\"outlinewidth\":0,\"ticks\":\"\"},\"colorscale\":[[0.0,\"#0d0887\"],[0.1111111111111111,\"#46039f\"],[0.2222222222222222,\"#7201a8\"],[0.3333333333333333,\"#9c179e\"],[0.4444444444444444,\"#bd3786\"],[0.5555555555555556,\"#d8576b\"],[0.6666666666666666,\"#ed7953\"],[0.7777777777777778,\"#fb9f3a\"],[0.8888888888888888,\"#fdca26\"],[1.0,\"#f0f921\"]],\"type\":\"heatmap\"}],\"heatmapgl\":[{\"colorbar\":{\"outlinewidth\":0,\"ticks\":\"\"},\"colorscale\":[[0.0,\"#0d0887\"],[0.1111111111111111,\"#46039f\"],[0.2222222222222222,\"#7201a8\"],[0.3333333333333333,\"#9c179e\"],[0.4444444444444444,\"#bd3786\"],[0.5555555555555556,\"#d8576b\"],[0.6666666666666666,\"#ed7953\"],[0.7777777777777778,\"#fb9f3a\"],[0.8888888888888888,\"#fdca26\"],[1.0,\"#f0f921\"]],\"type\":\"heatmapgl\"}],\"histogram\":[{\"marker\":{\"pattern\":{\"fillmode\":\"overlay\",\"size\":10,\"solidity\":0.2}},\"type\":\"histogram\"}],\"histogram2d\":[{\"colorbar\":{\"outlinewidth\":0,\"ticks\":\"\"},\"colorscale\":[[0.0,\"#0d0887\"],[0.1111111111111111,\"#46039f\"],[0.2222222222222222,\"#7201a8\"],[0.3333333333333333,\"#9c179e\"],[0.4444444444444444,\"#bd3786\"],[0.5555555555555556,\"#d8576b\"],[0.6666666666666666,\"#ed7953\"],[0.7777777777777778,\"#fb9f3a\"],[0.8888888888888888,\"#fdca26\"],[1.0,\"#f0f921\"]],\"type\":\"histogram2d\"}],\"histogram2dcontour\":[{\"colorbar\":{\"outlinewidth\":0,\"ticks\":\"\"},\"colorscale\":[[0.0,\"#0d0887\"],[0.1111111111111111,\"#46039f\"],[0.2222222222222222,\"#7201a8\"],[0.3333333333333333,\"#9c179e\"],[0.4444444444444444,\"#bd3786\"],[0.5555555555555556,\"#d8576b\"],[0.6666666666666666,\"#ed7953\"],[0.7777777777777778,\"#fb9f3a\"],[0.8888888888888888,\"#fdca26\"],[1.0,\"#f0f921\"]],\"type\":\"histogram2dcontour\"}],\"mesh3d\":[{\"colorbar\":{\"outlinewidth\":0,\"ticks\":\"\"},\"type\":\"mesh3d\"}],\"parcoords\":[{\"line\":{\"colorbar\":{\"outlinewidth\":0,\"ticks\":\"\"}},\"type\":\"parcoords\"}],\"pie\":[{\"automargin\":true,\"type\":\"pie\"}],\"scatter\":[{\"marker\":{\"colorbar\":{\"outlinewidth\":0,\"ticks\":\"\"}},\"type\":\"scatter\"}],\"scatter3d\":[{\"line\":{\"colorbar\":{\"outlinewidth\":0,\"ticks\":\"\"}},\"marker\":{\"colorbar\":{\"outlinewidth\":0,\"ticks\":\"\"}},\"type\":\"scatter3d\"}],\"scattercarpet\":[{\"marker\":{\"colorbar\":{\"outlinewidth\":0,\"ticks\":\"\"}},\"type\":\"scattercarpet\"}],\"scattergeo\":[{\"marker\":{\"colorbar\":{\"outlinewidth\":0,\"ticks\":\"\"}},\"type\":\"scattergeo\"}],\"scattergl\":[{\"marker\":{\"colorbar\":{\"outlinewidth\":0,\"ticks\":\"\"}},\"type\":\"scattergl\"}],\"scattermapbox\":[{\"marker\":{\"colorbar\":{\"outlinewidth\":0,\"ticks\":\"\"}},\"type\":\"scattermapbox\"}],\"scatterpolar\":[{\"marker\":{\"colorbar\":{\"outlinewidth\":0,\"ticks\":\"\"}},\"type\":\"scatterpolar\"}],\"scatterpolargl\":[{\"marker\":{\"colorbar\":{\"outlinewidth\":0,\"ticks\":\"\"}},\"type\":\"scatterpolargl\"}],\"scatterternary\":[{\"marker\":{\"colorbar\":{\"outlinewidth\":0,\"ticks\":\"\"}},\"type\":\"scatterternary\"}],\"surface\":[{\"colorbar\":{\"outlinewidth\":0,\"ticks\":\"\"},\"colorscale\":[[0.0,\"#0d0887\"],[0.1111111111111111,\"#46039f\"],[0.2222222222222222,\"#7201a8\"],[0.3333333333333333,\"#9c179e\"],[0.4444444444444444,\"#bd3786\"],[0.5555555555555556,\"#d8576b\"],[0.6666666666666666,\"#ed7953\"],[0.7777777777777778,\"#fb9f3a\"],[0.8888888888888888,\"#fdca26\"],[1.0,\"#f0f921\"]],\"type\":\"surface\"}],\"table\":[{\"cells\":{\"fill\":{\"color\":\"#EBF0F8\"},\"line\":{\"color\":\"white\"}},\"header\":{\"fill\":{\"color\":\"#C8D4E3\"},\"line\":{\"color\":\"white\"}},\"type\":\"table\"}]},\"layout\":{\"annotationdefaults\":{\"arrowcolor\":\"#2a3f5f\",\"arrowhead\":0,\"arrowwidth\":1},\"autotypenumbers\":\"strict\",\"coloraxis\":{\"colorbar\":{\"outlinewidth\":0,\"ticks\":\"\"}},\"colorscale\":{\"diverging\":[[0,\"#8e0152\"],[0.1,\"#c51b7d\"],[0.2,\"#de77ae\"],[0.3,\"#f1b6da\"],[0.4,\"#fde0ef\"],[0.5,\"#f7f7f7\"],[0.6,\"#e6f5d0\"],[0.7,\"#b8e186\"],[0.8,\"#7fbc41\"],[0.9,\"#4d9221\"],[1,\"#276419\"]],\"sequential\":[[0.0,\"#0d0887\"],[0.1111111111111111,\"#46039f\"],[0.2222222222222222,\"#7201a8\"],[0.3333333333333333,\"#9c179e\"],[0.4444444444444444,\"#bd3786\"],[0.5555555555555556,\"#d8576b\"],[0.6666666666666666,\"#ed7953\"],[0.7777777777777778,\"#fb9f3a\"],[0.8888888888888888,\"#fdca26\"],[1.0,\"#f0f921\"]],\"sequentialminus\":[[0.0,\"#0d0887\"],[0.1111111111111111,\"#46039f\"],[0.2222222222222222,\"#7201a8\"],[0.3333333333333333,\"#9c179e\"],[0.4444444444444444,\"#bd3786\"],[0.5555555555555556,\"#d8576b\"],[0.6666666666666666,\"#ed7953\"],[0.7777777777777778,\"#fb9f3a\"],[0.8888888888888888,\"#fdca26\"],[1.0,\"#f0f921\"]]},\"colorway\":[\"#636efa\",\"#EF553B\",\"#00cc96\",\"#ab63fa\",\"#FFA15A\",\"#19d3f3\",\"#FF6692\",\"#B6E880\",\"#FF97FF\",\"#FECB52\"],\"font\":{\"color\":\"#2a3f5f\"},\"geo\":{\"bgcolor\":\"white\",\"lakecolor\":\"white\",\"landcolor\":\"#E5ECF6\",\"showlakes\":true,\"showland\":true,\"subunitcolor\":\"white\"},\"hoverlabel\":{\"align\":\"left\"},\"hovermode\":\"closest\",\"mapbox\":{\"style\":\"light\"},\"paper_bgcolor\":\"white\",\"plot_bgcolor\":\"#E5ECF6\",\"polar\":{\"angularaxis\":{\"gridcolor\":\"white\",\"linecolor\":\"white\",\"ticks\":\"\"},\"bgcolor\":\"#E5ECF6\",\"radialaxis\":{\"gridcolor\":\"white\",\"linecolor\":\"white\",\"ticks\":\"\"}},\"scene\":{\"xaxis\":{\"backgroundcolor\":\"#E5ECF6\",\"gridcolor\":\"white\",\"gridwidth\":2,\"linecolor\":\"white\",\"showbackground\":true,\"ticks\":\"\",\"zerolinecolor\":\"white\"},\"yaxis\":{\"backgroundcolor\":\"#E5ECF6\",\"gridcolor\":\"white\",\"gridwidth\":2,\"linecolor\":\"white\",\"showbackground\":true,\"ticks\":\"\",\"zerolinecolor\":\"white\"},\"zaxis\":{\"backgroundcolor\":\"#E5ECF6\",\"gridcolor\":\"white\",\"gridwidth\":2,\"linecolor\":\"white\",\"showbackground\":true,\"ticks\":\"\",\"zerolinecolor\":\"white\"}},\"shapedefaults\":{\"line\":{\"color\":\"#2a3f5f\"}},\"ternary\":{\"aaxis\":{\"gridcolor\":\"white\",\"linecolor\":\"white\",\"ticks\":\"\"},\"baxis\":{\"gridcolor\":\"white\",\"linecolor\":\"white\",\"ticks\":\"\"},\"bgcolor\":\"#E5ECF6\",\"caxis\":{\"gridcolor\":\"white\",\"linecolor\":\"white\",\"ticks\":\"\"}},\"title\":{\"x\":0.05},\"xaxis\":{\"automargin\":true,\"gridcolor\":\"white\",\"linecolor\":\"white\",\"ticks\":\"\",\"title\":{\"standoff\":15},\"zerolinecolor\":\"white\",\"zerolinewidth\":2},\"yaxis\":{\"automargin\":true,\"gridcolor\":\"white\",\"linecolor\":\"white\",\"ticks\":\"\",\"title\":{\"standoff\":15},\"zerolinecolor\":\"white\",\"zerolinewidth\":2}}}},                        {\"responsive\": true}                    ).then(function(){\n",
       "                            \n",
       "var gd = document.getElementById('d13a187b-6540-4936-ac1c-c3f9b70647f7');\n",
       "var x = new MutationObserver(function (mutations, observer) {{\n",
       "        var display = window.getComputedStyle(gd).display;\n",
       "        if (!display || display === 'none') {{\n",
       "            console.log([gd, 'removed!']);\n",
       "            Plotly.purge(gd);\n",
       "            observer.disconnect();\n",
       "        }}\n",
       "}});\n",
       "\n",
       "// Listen for the removal of the full notebook cells\n",
       "var notebookContainer = gd.closest('#notebook-container');\n",
       "if (notebookContainer) {{\n",
       "    x.observe(notebookContainer, {childList: true});\n",
       "}}\n",
       "\n",
       "// Listen for the clearing of the current output cell\n",
       "var outputEl = gd.closest('.output');\n",
       "if (outputEl) {{\n",
       "    x.observe(outputEl, {childList: true});\n",
       "}}\n",
       "\n",
       "                        })                };                });            </script>        </div>"
      ]
     },
     "metadata": {},
     "output_type": "display_data"
    }
   ],
   "source": [
    "fig = go.Figure()\n",
    "\n",
    "fig.add_trace(go.Scatter(x=df2['date'], y=df2['personnel'], mode='lines+markers',name=i,))\n",
    "\n",
    "fig.show()"
   ]
  },
  {
   "cell_type": "code",
   "execution_count": 34,
   "id": "6ac56460",
   "metadata": {
    "execution": {
     "iopub.execute_input": "2022-03-30T11:32:51.869266Z",
     "iopub.status.busy": "2022-03-30T11:32:51.868285Z",
     "iopub.status.idle": "2022-03-30T11:32:53.232408Z",
     "shell.execute_reply": "2022-03-30T11:32:53.232802Z",
     "shell.execute_reply.started": "2022-03-30T11:31:18.795501Z"
    },
    "papermill": {
     "duration": 1.467199,
     "end_time": "2022-03-30T11:32:53.232947",
     "exception": false,
     "start_time": "2022-03-30T11:32:51.765748",
     "status": "completed"
    },
    "tags": []
   },
   "outputs": [
    {
     "data": {
      "text/html": [
       "<div>                            <div id=\"a0e60856-3d9c-4347-b474-4db9c7389238\" class=\"plotly-graph-div\" style=\"height:525px; width:100%;\"></div>            <script type=\"text/javascript\">                require([\"plotly\"], function(Plotly) {                    window.PLOTLYENV=window.PLOTLYENV || {};                                    if (document.getElementById(\"a0e60856-3d9c-4347-b474-4db9c7389238\")) {                    Plotly.newPlot(                        \"a0e60856-3d9c-4347-b474-4db9c7389238\",                        [{\"hovertemplate\":\"POW=%{y}<br>date=%{x}<extra></extra>\",\"legendgroup\":\"0\",\"line\":{\"color\":\"#636efa\",\"dash\":\"solid\"},\"marker\":{\"symbol\":\"circle\"},\"mode\":\"markers+lines\",\"name\":\"0\",\"orientation\":\"v\",\"showlegend\":true,\"x\":[\"2022-02-25T00:00:00\",\"2022-02-26T00:00:00\",\"2022-02-27T00:00:00\",\"2022-02-28T00:00:00\"],\"xaxis\":\"x\",\"y\":[0,0,0,0],\"yaxis\":\"y\",\"type\":\"scatter\"},{\"hovertemplate\":\"POW=%{y}<br>date=%{x}<extra></extra>\",\"legendgroup\":\"200\",\"line\":{\"color\":\"#EF553B\",\"dash\":\"solid\"},\"marker\":{\"symbol\":\"diamond\"},\"mode\":\"markers+lines\",\"name\":\"200\",\"orientation\":\"v\",\"showlegend\":true,\"x\":[\"2022-03-01T00:00:00\",\"2022-03-02T00:00:00\",\"2022-03-03T00:00:00\",\"2022-03-04T00:00:00\"],\"xaxis\":\"x\",\"y\":[200,200,200,200],\"yaxis\":\"y\",\"type\":\"scatter\"},{\"hovertemplate\":\"POW=%{y}<br>date=%{x}<extra></extra>\",\"legendgroup\":\"216\",\"line\":{\"color\":\"#00cc96\",\"dash\":\"solid\"},\"marker\":{\"symbol\":\"square\"},\"mode\":\"markers+lines\",\"name\":\"216\",\"orientation\":\"v\",\"showlegend\":true,\"x\":[\"2022-03-05T00:00:00\"],\"xaxis\":\"x\",\"y\":[216],\"yaxis\":\"y\",\"type\":\"scatter\"},{\"hovertemplate\":\"POW=%{y}<br>date=%{x}<extra></extra>\",\"legendgroup\":\"232\",\"line\":{\"color\":\"#ab63fa\",\"dash\":\"solid\"},\"marker\":{\"symbol\":\"x\"},\"mode\":\"markers+lines\",\"name\":\"232\",\"orientation\":\"v\",\"showlegend\":true,\"x\":[\"2022-03-06T00:00:00\"],\"xaxis\":\"x\",\"y\":[232],\"yaxis\":\"y\",\"type\":\"scatter\"},{\"hovertemplate\":\"POW=%{y}<br>date=%{x}<extra></extra>\",\"legendgroup\":\"259\",\"line\":{\"color\":\"#FFA15A\",\"dash\":\"solid\"},\"marker\":{\"symbol\":\"cross\"},\"mode\":\"markers+lines\",\"name\":\"259\",\"orientation\":\"v\",\"showlegend\":true,\"x\":[\"2022-03-07T00:00:00\"],\"xaxis\":\"x\",\"y\":[259],\"yaxis\":\"y\",\"type\":\"scatter\"},{\"hovertemplate\":\"POW=%{y}<br>date=%{x}<extra></extra>\",\"legendgroup\":\"284\",\"line\":{\"color\":\"#19d3f3\",\"dash\":\"solid\"},\"marker\":{\"symbol\":\"circle\"},\"mode\":\"markers+lines\",\"name\":\"284\",\"orientation\":\"v\",\"showlegend\":true,\"x\":[\"2022-03-08T00:00:00\"],\"xaxis\":\"x\",\"y\":[284],\"yaxis\":\"y\",\"type\":\"scatter\"},{\"hovertemplate\":\"POW=%{y}<br>date=%{x}<extra></extra>\",\"legendgroup\":\"360\",\"line\":{\"color\":\"#FF6692\",\"dash\":\"solid\"},\"marker\":{\"symbol\":\"diamond\"},\"mode\":\"markers+lines\",\"name\":\"360\",\"orientation\":\"v\",\"showlegend\":true,\"x\":[\"2022-03-09T00:00:00\"],\"xaxis\":\"x\",\"y\":[360],\"yaxis\":\"y\",\"type\":\"scatter\"},{\"hovertemplate\":\"POW=%{y}<br>date=%{x}<extra></extra>\",\"legendgroup\":\"371\",\"line\":{\"color\":\"#B6E880\",\"dash\":\"solid\"},\"marker\":{\"symbol\":\"square\"},\"mode\":\"markers+lines\",\"name\":\"371\",\"orientation\":\"v\",\"showlegend\":true,\"x\":[\"2022-03-10T00:00:00\"],\"xaxis\":\"x\",\"y\":[371],\"yaxis\":\"y\",\"type\":\"scatter\"},{\"hovertemplate\":\"POW=%{y}<br>date=%{x}<extra></extra>\",\"legendgroup\":\"389\",\"line\":{\"color\":\"#FF97FF\",\"dash\":\"solid\"},\"marker\":{\"symbol\":\"x\"},\"mode\":\"markers+lines\",\"name\":\"389\",\"orientation\":\"v\",\"showlegend\":true,\"x\":[\"2022-03-11T00:00:00\",\"2022-03-12T00:00:00\",\"2022-03-13T00:00:00\",\"2022-03-14T00:00:00\",\"2022-03-15T00:00:00\",\"2022-03-16T00:00:00\"],\"xaxis\":\"x\",\"y\":[389,389,389,389,389,389],\"yaxis\":\"y\",\"type\":\"scatter\"},{\"hovertemplate\":\"POW=%{y}<br>date=%{x}<extra></extra>\",\"legendgroup\":\"405\",\"line\":{\"color\":\"#FECB52\",\"dash\":\"solid\"},\"marker\":{\"symbol\":\"cross\"},\"mode\":\"markers+lines\",\"name\":\"405\",\"orientation\":\"v\",\"showlegend\":true,\"x\":[\"2022-03-17T00:00:00\",\"2022-03-18T00:00:00\",\"2022-03-19T00:00:00\",\"2022-03-20T00:00:00\",\"2022-03-21T00:00:00\"],\"xaxis\":\"x\",\"y\":[405,405,405,405,405],\"yaxis\":\"y\",\"type\":\"scatter\"},{\"hovertemplate\":\"POW=%{y}<br>date=%{x}<extra></extra>\",\"legendgroup\":\"411\",\"line\":{\"color\":\"#636efa\",\"dash\":\"solid\"},\"marker\":{\"symbol\":\"circle\"},\"mode\":\"markers+lines\",\"name\":\"411\",\"orientation\":\"v\",\"showlegend\":true,\"x\":[\"2022-03-22T00:00:00\"],\"xaxis\":\"x\",\"y\":[411],\"yaxis\":\"y\",\"type\":\"scatter\"},{\"hovertemplate\":\"POW=%{y}<br>date=%{x}<extra></extra>\",\"legendgroup\":\"412\",\"line\":{\"color\":\"#EF553B\",\"dash\":\"solid\"},\"marker\":{\"symbol\":\"diamond\"},\"mode\":\"markers+lines\",\"name\":\"412\",\"orientation\":\"v\",\"showlegend\":true,\"x\":[\"2022-03-23T00:00:00\",\"2022-03-24T00:00:00\",\"2022-03-25T00:00:00\",\"2022-03-26T00:00:00\"],\"xaxis\":\"x\",\"y\":[412,412,412,412],\"yaxis\":\"y\",\"type\":\"scatter\"},{\"hovertemplate\":\"POW=%{y}<br>date=%{x}<extra></extra>\",\"legendgroup\":\"421\",\"line\":{\"color\":\"#00cc96\",\"dash\":\"solid\"},\"marker\":{\"symbol\":\"square\"},\"mode\":\"markers+lines\",\"name\":\"421\",\"orientation\":\"v\",\"showlegend\":true,\"x\":[\"2022-03-27T00:00:00\",\"2022-03-28T00:00:00\"],\"xaxis\":\"x\",\"y\":[421,421],\"yaxis\":\"y\",\"type\":\"scatter\"},{\"hovertemplate\":\"POW=%{y}<br>date=%{x}<extra></extra>\",\"legendgroup\":\"430\",\"line\":{\"color\":\"#ab63fa\",\"dash\":\"solid\"},\"marker\":{\"symbol\":\"x\"},\"mode\":\"markers+lines\",\"name\":\"430\",\"orientation\":\"v\",\"showlegend\":true,\"x\":[\"2022-03-29T00:00:00\",\"2022-03-30T00:00:00\"],\"xaxis\":\"x\",\"y\":[430,430],\"yaxis\":\"y\",\"type\":\"scatter\"}],                        {\"template\":{\"data\":{\"bar\":[{\"error_x\":{\"color\":\"#2a3f5f\"},\"error_y\":{\"color\":\"#2a3f5f\"},\"marker\":{\"line\":{\"color\":\"#E5ECF6\",\"width\":0.5},\"pattern\":{\"fillmode\":\"overlay\",\"size\":10,\"solidity\":0.2}},\"type\":\"bar\"}],\"barpolar\":[{\"marker\":{\"line\":{\"color\":\"#E5ECF6\",\"width\":0.5},\"pattern\":{\"fillmode\":\"overlay\",\"size\":10,\"solidity\":0.2}},\"type\":\"barpolar\"}],\"carpet\":[{\"aaxis\":{\"endlinecolor\":\"#2a3f5f\",\"gridcolor\":\"white\",\"linecolor\":\"white\",\"minorgridcolor\":\"white\",\"startlinecolor\":\"#2a3f5f\"},\"baxis\":{\"endlinecolor\":\"#2a3f5f\",\"gridcolor\":\"white\",\"linecolor\":\"white\",\"minorgridcolor\":\"white\",\"startlinecolor\":\"#2a3f5f\"},\"type\":\"carpet\"}],\"choropleth\":[{\"colorbar\":{\"outlinewidth\":0,\"ticks\":\"\"},\"type\":\"choropleth\"}],\"contour\":[{\"colorbar\":{\"outlinewidth\":0,\"ticks\":\"\"},\"colorscale\":[[0.0,\"#0d0887\"],[0.1111111111111111,\"#46039f\"],[0.2222222222222222,\"#7201a8\"],[0.3333333333333333,\"#9c179e\"],[0.4444444444444444,\"#bd3786\"],[0.5555555555555556,\"#d8576b\"],[0.6666666666666666,\"#ed7953\"],[0.7777777777777778,\"#fb9f3a\"],[0.8888888888888888,\"#fdca26\"],[1.0,\"#f0f921\"]],\"type\":\"contour\"}],\"contourcarpet\":[{\"colorbar\":{\"outlinewidth\":0,\"ticks\":\"\"},\"type\":\"contourcarpet\"}],\"heatmap\":[{\"colorbar\":{\"outlinewidth\":0,\"ticks\":\"\"},\"colorscale\":[[0.0,\"#0d0887\"],[0.1111111111111111,\"#46039f\"],[0.2222222222222222,\"#7201a8\"],[0.3333333333333333,\"#9c179e\"],[0.4444444444444444,\"#bd3786\"],[0.5555555555555556,\"#d8576b\"],[0.6666666666666666,\"#ed7953\"],[0.7777777777777778,\"#fb9f3a\"],[0.8888888888888888,\"#fdca26\"],[1.0,\"#f0f921\"]],\"type\":\"heatmap\"}],\"heatmapgl\":[{\"colorbar\":{\"outlinewidth\":0,\"ticks\":\"\"},\"colorscale\":[[0.0,\"#0d0887\"],[0.1111111111111111,\"#46039f\"],[0.2222222222222222,\"#7201a8\"],[0.3333333333333333,\"#9c179e\"],[0.4444444444444444,\"#bd3786\"],[0.5555555555555556,\"#d8576b\"],[0.6666666666666666,\"#ed7953\"],[0.7777777777777778,\"#fb9f3a\"],[0.8888888888888888,\"#fdca26\"],[1.0,\"#f0f921\"]],\"type\":\"heatmapgl\"}],\"histogram\":[{\"marker\":{\"pattern\":{\"fillmode\":\"overlay\",\"size\":10,\"solidity\":0.2}},\"type\":\"histogram\"}],\"histogram2d\":[{\"colorbar\":{\"outlinewidth\":0,\"ticks\":\"\"},\"colorscale\":[[0.0,\"#0d0887\"],[0.1111111111111111,\"#46039f\"],[0.2222222222222222,\"#7201a8\"],[0.3333333333333333,\"#9c179e\"],[0.4444444444444444,\"#bd3786\"],[0.5555555555555556,\"#d8576b\"],[0.6666666666666666,\"#ed7953\"],[0.7777777777777778,\"#fb9f3a\"],[0.8888888888888888,\"#fdca26\"],[1.0,\"#f0f921\"]],\"type\":\"histogram2d\"}],\"histogram2dcontour\":[{\"colorbar\":{\"outlinewidth\":0,\"ticks\":\"\"},\"colorscale\":[[0.0,\"#0d0887\"],[0.1111111111111111,\"#46039f\"],[0.2222222222222222,\"#7201a8\"],[0.3333333333333333,\"#9c179e\"],[0.4444444444444444,\"#bd3786\"],[0.5555555555555556,\"#d8576b\"],[0.6666666666666666,\"#ed7953\"],[0.7777777777777778,\"#fb9f3a\"],[0.8888888888888888,\"#fdca26\"],[1.0,\"#f0f921\"]],\"type\":\"histogram2dcontour\"}],\"mesh3d\":[{\"colorbar\":{\"outlinewidth\":0,\"ticks\":\"\"},\"type\":\"mesh3d\"}],\"parcoords\":[{\"line\":{\"colorbar\":{\"outlinewidth\":0,\"ticks\":\"\"}},\"type\":\"parcoords\"}],\"pie\":[{\"automargin\":true,\"type\":\"pie\"}],\"scatter\":[{\"marker\":{\"colorbar\":{\"outlinewidth\":0,\"ticks\":\"\"}},\"type\":\"scatter\"}],\"scatter3d\":[{\"line\":{\"colorbar\":{\"outlinewidth\":0,\"ticks\":\"\"}},\"marker\":{\"colorbar\":{\"outlinewidth\":0,\"ticks\":\"\"}},\"type\":\"scatter3d\"}],\"scattercarpet\":[{\"marker\":{\"colorbar\":{\"outlinewidth\":0,\"ticks\":\"\"}},\"type\":\"scattercarpet\"}],\"scattergeo\":[{\"marker\":{\"colorbar\":{\"outlinewidth\":0,\"ticks\":\"\"}},\"type\":\"scattergeo\"}],\"scattergl\":[{\"marker\":{\"colorbar\":{\"outlinewidth\":0,\"ticks\":\"\"}},\"type\":\"scattergl\"}],\"scattermapbox\":[{\"marker\":{\"colorbar\":{\"outlinewidth\":0,\"ticks\":\"\"}},\"type\":\"scattermapbox\"}],\"scatterpolar\":[{\"marker\":{\"colorbar\":{\"outlinewidth\":0,\"ticks\":\"\"}},\"type\":\"scatterpolar\"}],\"scatterpolargl\":[{\"marker\":{\"colorbar\":{\"outlinewidth\":0,\"ticks\":\"\"}},\"type\":\"scatterpolargl\"}],\"scatterternary\":[{\"marker\":{\"colorbar\":{\"outlinewidth\":0,\"ticks\":\"\"}},\"type\":\"scatterternary\"}],\"surface\":[{\"colorbar\":{\"outlinewidth\":0,\"ticks\":\"\"},\"colorscale\":[[0.0,\"#0d0887\"],[0.1111111111111111,\"#46039f\"],[0.2222222222222222,\"#7201a8\"],[0.3333333333333333,\"#9c179e\"],[0.4444444444444444,\"#bd3786\"],[0.5555555555555556,\"#d8576b\"],[0.6666666666666666,\"#ed7953\"],[0.7777777777777778,\"#fb9f3a\"],[0.8888888888888888,\"#fdca26\"],[1.0,\"#f0f921\"]],\"type\":\"surface\"}],\"table\":[{\"cells\":{\"fill\":{\"color\":\"#EBF0F8\"},\"line\":{\"color\":\"white\"}},\"header\":{\"fill\":{\"color\":\"#C8D4E3\"},\"line\":{\"color\":\"white\"}},\"type\":\"table\"}]},\"layout\":{\"annotationdefaults\":{\"arrowcolor\":\"#2a3f5f\",\"arrowhead\":0,\"arrowwidth\":1},\"autotypenumbers\":\"strict\",\"coloraxis\":{\"colorbar\":{\"outlinewidth\":0,\"ticks\":\"\"}},\"colorscale\":{\"diverging\":[[0,\"#8e0152\"],[0.1,\"#c51b7d\"],[0.2,\"#de77ae\"],[0.3,\"#f1b6da\"],[0.4,\"#fde0ef\"],[0.5,\"#f7f7f7\"],[0.6,\"#e6f5d0\"],[0.7,\"#b8e186\"],[0.8,\"#7fbc41\"],[0.9,\"#4d9221\"],[1,\"#276419\"]],\"sequential\":[[0.0,\"#0d0887\"],[0.1111111111111111,\"#46039f\"],[0.2222222222222222,\"#7201a8\"],[0.3333333333333333,\"#9c179e\"],[0.4444444444444444,\"#bd3786\"],[0.5555555555555556,\"#d8576b\"],[0.6666666666666666,\"#ed7953\"],[0.7777777777777778,\"#fb9f3a\"],[0.8888888888888888,\"#fdca26\"],[1.0,\"#f0f921\"]],\"sequentialminus\":[[0.0,\"#0d0887\"],[0.1111111111111111,\"#46039f\"],[0.2222222222222222,\"#7201a8\"],[0.3333333333333333,\"#9c179e\"],[0.4444444444444444,\"#bd3786\"],[0.5555555555555556,\"#d8576b\"],[0.6666666666666666,\"#ed7953\"],[0.7777777777777778,\"#fb9f3a\"],[0.8888888888888888,\"#fdca26\"],[1.0,\"#f0f921\"]]},\"colorway\":[\"#636efa\",\"#EF553B\",\"#00cc96\",\"#ab63fa\",\"#FFA15A\",\"#19d3f3\",\"#FF6692\",\"#B6E880\",\"#FF97FF\",\"#FECB52\"],\"font\":{\"color\":\"#2a3f5f\"},\"geo\":{\"bgcolor\":\"white\",\"lakecolor\":\"white\",\"landcolor\":\"#E5ECF6\",\"showlakes\":true,\"showland\":true,\"subunitcolor\":\"white\"},\"hoverlabel\":{\"align\":\"left\"},\"hovermode\":\"closest\",\"mapbox\":{\"style\":\"light\"},\"paper_bgcolor\":\"white\",\"plot_bgcolor\":\"#E5ECF6\",\"polar\":{\"angularaxis\":{\"gridcolor\":\"white\",\"linecolor\":\"white\",\"ticks\":\"\"},\"bgcolor\":\"#E5ECF6\",\"radialaxis\":{\"gridcolor\":\"white\",\"linecolor\":\"white\",\"ticks\":\"\"}},\"scene\":{\"xaxis\":{\"backgroundcolor\":\"#E5ECF6\",\"gridcolor\":\"white\",\"gridwidth\":2,\"linecolor\":\"white\",\"showbackground\":true,\"ticks\":\"\",\"zerolinecolor\":\"white\"},\"yaxis\":{\"backgroundcolor\":\"#E5ECF6\",\"gridcolor\":\"white\",\"gridwidth\":2,\"linecolor\":\"white\",\"showbackground\":true,\"ticks\":\"\",\"zerolinecolor\":\"white\"},\"zaxis\":{\"backgroundcolor\":\"#E5ECF6\",\"gridcolor\":\"white\",\"gridwidth\":2,\"linecolor\":\"white\",\"showbackground\":true,\"ticks\":\"\",\"zerolinecolor\":\"white\"}},\"shapedefaults\":{\"line\":{\"color\":\"#2a3f5f\"}},\"ternary\":{\"aaxis\":{\"gridcolor\":\"white\",\"linecolor\":\"white\",\"ticks\":\"\"},\"baxis\":{\"gridcolor\":\"white\",\"linecolor\":\"white\",\"ticks\":\"\"},\"bgcolor\":\"#E5ECF6\",\"caxis\":{\"gridcolor\":\"white\",\"linecolor\":\"white\",\"ticks\":\"\"}},\"title\":{\"x\":0.05},\"xaxis\":{\"automargin\":true,\"gridcolor\":\"white\",\"linecolor\":\"white\",\"ticks\":\"\",\"title\":{\"standoff\":15},\"zerolinecolor\":\"white\",\"zerolinewidth\":2},\"yaxis\":{\"automargin\":true,\"gridcolor\":\"white\",\"linecolor\":\"white\",\"ticks\":\"\",\"title\":{\"standoff\":15},\"zerolinecolor\":\"white\",\"zerolinewidth\":2}}},\"xaxis\":{\"anchor\":\"y\",\"domain\":[0.0,1.0],\"title\":{\"text\":\"date\"}},\"yaxis\":{\"anchor\":\"x\",\"domain\":[0.0,1.0],\"title\":{\"text\":\"POW\"},\"categoryorder\":\"array\",\"categoryarray\":[430,421,412,411,405,389,371,360,284,259,232,216,200,0]},\"legend\":{\"title\":{\"text\":\"POW\"},\"tracegroupgap\":0},\"margin\":{\"t\":60}},                        {\"responsive\": true}                    ).then(function(){\n",
       "                            \n",
       "var gd = document.getElementById('a0e60856-3d9c-4347-b474-4db9c7389238');\n",
       "var x = new MutationObserver(function (mutations, observer) {{\n",
       "        var display = window.getComputedStyle(gd).display;\n",
       "        if (!display || display === 'none') {{\n",
       "            console.log([gd, 'removed!']);\n",
       "            Plotly.purge(gd);\n",
       "            observer.disconnect();\n",
       "        }}\n",
       "}});\n",
       "\n",
       "// Listen for the removal of the full notebook cells\n",
       "var notebookContainer = gd.closest('#notebook-container');\n",
       "if (notebookContainer) {{\n",
       "    x.observe(notebookContainer, {childList: true});\n",
       "}}\n",
       "\n",
       "// Listen for the clearing of the current output cell\n",
       "var outputEl = gd.closest('.output');\n",
       "if (outputEl) {{\n",
       "    x.observe(outputEl, {childList: true});\n",
       "}}\n",
       "\n",
       "                        })                };                });            </script>        </div>"
      ]
     },
     "metadata": {},
     "output_type": "display_data"
    }
   ],
   "source": [
    "import plotly.express as px\n",
    "fig = px.line(df2, x='date', y='personnel', color='personnel*', symbol=\"personnel*\")\n",
    "fig = px.line(df2, x='date', y='POW', color='POW', symbol=\"POW\")\n",
    "\n",
    "fig.show()"
   ]
  },
  {
   "cell_type": "code",
   "execution_count": 35,
   "id": "5fbb1ad1",
   "metadata": {
    "execution": {
     "iopub.execute_input": "2022-03-30T11:32:53.366518Z",
     "iopub.status.busy": "2022-03-30T11:32:53.365238Z",
     "iopub.status.idle": "2022-03-30T11:32:53.485743Z",
     "shell.execute_reply": "2022-03-30T11:32:53.486154Z",
     "shell.execute_reply.started": "2022-03-30T11:31:18.997376Z"
    },
    "papermill": {
     "duration": 0.192962,
     "end_time": "2022-03-30T11:32:53.486308",
     "exception": false,
     "start_time": "2022-03-30T11:32:53.293346",
     "status": "completed"
    },
    "tags": []
   },
   "outputs": [
    {
     "data": {
      "text/html": [
       "<div>                            <div id=\"555dfe13-d834-4394-aa47-3e1696dcb1c9\" class=\"plotly-graph-div\" style=\"height:525px; width:100%;\"></div>            <script type=\"text/javascript\">                require([\"plotly\"], function(Plotly) {                    window.PLOTLYENV=window.PLOTLYENV || {};                                    if (document.getElementById(\"555dfe13-d834-4394-aa47-3e1696dcb1c9\")) {                    Plotly.newPlot(                        \"555dfe13-d834-4394-aa47-3e1696dcb1c9\",                        [{\"hovertemplate\":\"POW=%{y}<br>date=%{x}<extra></extra>\",\"legendgroup\":\"0\",\"line\":{\"color\":\"#636efa\",\"dash\":\"solid\"},\"marker\":{\"symbol\":\"circle\"},\"mode\":\"markers+lines\",\"name\":\"0\",\"orientation\":\"v\",\"showlegend\":true,\"x\":[\"2022-02-25T00:00:00\",\"2022-02-26T00:00:00\",\"2022-02-27T00:00:00\",\"2022-02-28T00:00:00\"],\"xaxis\":\"x\",\"y\":[0,0,0,0],\"yaxis\":\"y\",\"type\":\"scatter\"},{\"hovertemplate\":\"POW=%{y}<br>date=%{x}<extra></extra>\",\"legendgroup\":\"200\",\"line\":{\"color\":\"#EF553B\",\"dash\":\"solid\"},\"marker\":{\"symbol\":\"diamond\"},\"mode\":\"markers+lines\",\"name\":\"200\",\"orientation\":\"v\",\"showlegend\":true,\"x\":[\"2022-03-01T00:00:00\",\"2022-03-02T00:00:00\",\"2022-03-03T00:00:00\",\"2022-03-04T00:00:00\"],\"xaxis\":\"x\",\"y\":[200,200,200,200],\"yaxis\":\"y\",\"type\":\"scatter\"},{\"hovertemplate\":\"POW=%{y}<br>date=%{x}<extra></extra>\",\"legendgroup\":\"216\",\"line\":{\"color\":\"#00cc96\",\"dash\":\"solid\"},\"marker\":{\"symbol\":\"square\"},\"mode\":\"markers+lines\",\"name\":\"216\",\"orientation\":\"v\",\"showlegend\":true,\"x\":[\"2022-03-05T00:00:00\"],\"xaxis\":\"x\",\"y\":[216],\"yaxis\":\"y\",\"type\":\"scatter\"},{\"hovertemplate\":\"POW=%{y}<br>date=%{x}<extra></extra>\",\"legendgroup\":\"232\",\"line\":{\"color\":\"#ab63fa\",\"dash\":\"solid\"},\"marker\":{\"symbol\":\"x\"},\"mode\":\"markers+lines\",\"name\":\"232\",\"orientation\":\"v\",\"showlegend\":true,\"x\":[\"2022-03-06T00:00:00\"],\"xaxis\":\"x\",\"y\":[232],\"yaxis\":\"y\",\"type\":\"scatter\"},{\"hovertemplate\":\"POW=%{y}<br>date=%{x}<extra></extra>\",\"legendgroup\":\"259\",\"line\":{\"color\":\"#FFA15A\",\"dash\":\"solid\"},\"marker\":{\"symbol\":\"cross\"},\"mode\":\"markers+lines\",\"name\":\"259\",\"orientation\":\"v\",\"showlegend\":true,\"x\":[\"2022-03-07T00:00:00\"],\"xaxis\":\"x\",\"y\":[259],\"yaxis\":\"y\",\"type\":\"scatter\"},{\"hovertemplate\":\"POW=%{y}<br>date=%{x}<extra></extra>\",\"legendgroup\":\"284\",\"line\":{\"color\":\"#19d3f3\",\"dash\":\"solid\"},\"marker\":{\"symbol\":\"circle\"},\"mode\":\"markers+lines\",\"name\":\"284\",\"orientation\":\"v\",\"showlegend\":true,\"x\":[\"2022-03-08T00:00:00\"],\"xaxis\":\"x\",\"y\":[284],\"yaxis\":\"y\",\"type\":\"scatter\"},{\"hovertemplate\":\"POW=%{y}<br>date=%{x}<extra></extra>\",\"legendgroup\":\"360\",\"line\":{\"color\":\"#FF6692\",\"dash\":\"solid\"},\"marker\":{\"symbol\":\"diamond\"},\"mode\":\"markers+lines\",\"name\":\"360\",\"orientation\":\"v\",\"showlegend\":true,\"x\":[\"2022-03-09T00:00:00\"],\"xaxis\":\"x\",\"y\":[360],\"yaxis\":\"y\",\"type\":\"scatter\"},{\"hovertemplate\":\"POW=%{y}<br>date=%{x}<extra></extra>\",\"legendgroup\":\"371\",\"line\":{\"color\":\"#B6E880\",\"dash\":\"solid\"},\"marker\":{\"symbol\":\"square\"},\"mode\":\"markers+lines\",\"name\":\"371\",\"orientation\":\"v\",\"showlegend\":true,\"x\":[\"2022-03-10T00:00:00\"],\"xaxis\":\"x\",\"y\":[371],\"yaxis\":\"y\",\"type\":\"scatter\"},{\"hovertemplate\":\"POW=%{y}<br>date=%{x}<extra></extra>\",\"legendgroup\":\"389\",\"line\":{\"color\":\"#FF97FF\",\"dash\":\"solid\"},\"marker\":{\"symbol\":\"x\"},\"mode\":\"markers+lines\",\"name\":\"389\",\"orientation\":\"v\",\"showlegend\":true,\"x\":[\"2022-03-11T00:00:00\",\"2022-03-12T00:00:00\",\"2022-03-13T00:00:00\",\"2022-03-14T00:00:00\",\"2022-03-15T00:00:00\",\"2022-03-16T00:00:00\"],\"xaxis\":\"x\",\"y\":[389,389,389,389,389,389],\"yaxis\":\"y\",\"type\":\"scatter\"},{\"hovertemplate\":\"POW=%{y}<br>date=%{x}<extra></extra>\",\"legendgroup\":\"405\",\"line\":{\"color\":\"#FECB52\",\"dash\":\"solid\"},\"marker\":{\"symbol\":\"cross\"},\"mode\":\"markers+lines\",\"name\":\"405\",\"orientation\":\"v\",\"showlegend\":true,\"x\":[\"2022-03-17T00:00:00\",\"2022-03-18T00:00:00\",\"2022-03-19T00:00:00\",\"2022-03-20T00:00:00\",\"2022-03-21T00:00:00\"],\"xaxis\":\"x\",\"y\":[405,405,405,405,405],\"yaxis\":\"y\",\"type\":\"scatter\"},{\"hovertemplate\":\"POW=%{y}<br>date=%{x}<extra></extra>\",\"legendgroup\":\"411\",\"line\":{\"color\":\"#636efa\",\"dash\":\"solid\"},\"marker\":{\"symbol\":\"circle\"},\"mode\":\"markers+lines\",\"name\":\"411\",\"orientation\":\"v\",\"showlegend\":true,\"x\":[\"2022-03-22T00:00:00\"],\"xaxis\":\"x\",\"y\":[411],\"yaxis\":\"y\",\"type\":\"scatter\"},{\"hovertemplate\":\"POW=%{y}<br>date=%{x}<extra></extra>\",\"legendgroup\":\"412\",\"line\":{\"color\":\"#EF553B\",\"dash\":\"solid\"},\"marker\":{\"symbol\":\"diamond\"},\"mode\":\"markers+lines\",\"name\":\"412\",\"orientation\":\"v\",\"showlegend\":true,\"x\":[\"2022-03-23T00:00:00\",\"2022-03-24T00:00:00\",\"2022-03-25T00:00:00\",\"2022-03-26T00:00:00\"],\"xaxis\":\"x\",\"y\":[412,412,412,412],\"yaxis\":\"y\",\"type\":\"scatter\"},{\"hovertemplate\":\"POW=%{y}<br>date=%{x}<extra></extra>\",\"legendgroup\":\"421\",\"line\":{\"color\":\"#00cc96\",\"dash\":\"solid\"},\"marker\":{\"symbol\":\"square\"},\"mode\":\"markers+lines\",\"name\":\"421\",\"orientation\":\"v\",\"showlegend\":true,\"x\":[\"2022-03-27T00:00:00\",\"2022-03-28T00:00:00\"],\"xaxis\":\"x\",\"y\":[421,421],\"yaxis\":\"y\",\"type\":\"scatter\"},{\"hovertemplate\":\"POW=%{y}<br>date=%{x}<extra></extra>\",\"legendgroup\":\"430\",\"line\":{\"color\":\"#ab63fa\",\"dash\":\"solid\"},\"marker\":{\"symbol\":\"x\"},\"mode\":\"markers+lines\",\"name\":\"430\",\"orientation\":\"v\",\"showlegend\":true,\"x\":[\"2022-03-29T00:00:00\",\"2022-03-30T00:00:00\"],\"xaxis\":\"x\",\"y\":[430,430],\"yaxis\":\"y\",\"type\":\"scatter\"}],                        {\"template\":{\"data\":{\"bar\":[{\"error_x\":{\"color\":\"#2a3f5f\"},\"error_y\":{\"color\":\"#2a3f5f\"},\"marker\":{\"line\":{\"color\":\"#E5ECF6\",\"width\":0.5},\"pattern\":{\"fillmode\":\"overlay\",\"size\":10,\"solidity\":0.2}},\"type\":\"bar\"}],\"barpolar\":[{\"marker\":{\"line\":{\"color\":\"#E5ECF6\",\"width\":0.5},\"pattern\":{\"fillmode\":\"overlay\",\"size\":10,\"solidity\":0.2}},\"type\":\"barpolar\"}],\"carpet\":[{\"aaxis\":{\"endlinecolor\":\"#2a3f5f\",\"gridcolor\":\"white\",\"linecolor\":\"white\",\"minorgridcolor\":\"white\",\"startlinecolor\":\"#2a3f5f\"},\"baxis\":{\"endlinecolor\":\"#2a3f5f\",\"gridcolor\":\"white\",\"linecolor\":\"white\",\"minorgridcolor\":\"white\",\"startlinecolor\":\"#2a3f5f\"},\"type\":\"carpet\"}],\"choropleth\":[{\"colorbar\":{\"outlinewidth\":0,\"ticks\":\"\"},\"type\":\"choropleth\"}],\"contour\":[{\"colorbar\":{\"outlinewidth\":0,\"ticks\":\"\"},\"colorscale\":[[0.0,\"#0d0887\"],[0.1111111111111111,\"#46039f\"],[0.2222222222222222,\"#7201a8\"],[0.3333333333333333,\"#9c179e\"],[0.4444444444444444,\"#bd3786\"],[0.5555555555555556,\"#d8576b\"],[0.6666666666666666,\"#ed7953\"],[0.7777777777777778,\"#fb9f3a\"],[0.8888888888888888,\"#fdca26\"],[1.0,\"#f0f921\"]],\"type\":\"contour\"}],\"contourcarpet\":[{\"colorbar\":{\"outlinewidth\":0,\"ticks\":\"\"},\"type\":\"contourcarpet\"}],\"heatmap\":[{\"colorbar\":{\"outlinewidth\":0,\"ticks\":\"\"},\"colorscale\":[[0.0,\"#0d0887\"],[0.1111111111111111,\"#46039f\"],[0.2222222222222222,\"#7201a8\"],[0.3333333333333333,\"#9c179e\"],[0.4444444444444444,\"#bd3786\"],[0.5555555555555556,\"#d8576b\"],[0.6666666666666666,\"#ed7953\"],[0.7777777777777778,\"#fb9f3a\"],[0.8888888888888888,\"#fdca26\"],[1.0,\"#f0f921\"]],\"type\":\"heatmap\"}],\"heatmapgl\":[{\"colorbar\":{\"outlinewidth\":0,\"ticks\":\"\"},\"colorscale\":[[0.0,\"#0d0887\"],[0.1111111111111111,\"#46039f\"],[0.2222222222222222,\"#7201a8\"],[0.3333333333333333,\"#9c179e\"],[0.4444444444444444,\"#bd3786\"],[0.5555555555555556,\"#d8576b\"],[0.6666666666666666,\"#ed7953\"],[0.7777777777777778,\"#fb9f3a\"],[0.8888888888888888,\"#fdca26\"],[1.0,\"#f0f921\"]],\"type\":\"heatmapgl\"}],\"histogram\":[{\"marker\":{\"pattern\":{\"fillmode\":\"overlay\",\"size\":10,\"solidity\":0.2}},\"type\":\"histogram\"}],\"histogram2d\":[{\"colorbar\":{\"outlinewidth\":0,\"ticks\":\"\"},\"colorscale\":[[0.0,\"#0d0887\"],[0.1111111111111111,\"#46039f\"],[0.2222222222222222,\"#7201a8\"],[0.3333333333333333,\"#9c179e\"],[0.4444444444444444,\"#bd3786\"],[0.5555555555555556,\"#d8576b\"],[0.6666666666666666,\"#ed7953\"],[0.7777777777777778,\"#fb9f3a\"],[0.8888888888888888,\"#fdca26\"],[1.0,\"#f0f921\"]],\"type\":\"histogram2d\"}],\"histogram2dcontour\":[{\"colorbar\":{\"outlinewidth\":0,\"ticks\":\"\"},\"colorscale\":[[0.0,\"#0d0887\"],[0.1111111111111111,\"#46039f\"],[0.2222222222222222,\"#7201a8\"],[0.3333333333333333,\"#9c179e\"],[0.4444444444444444,\"#bd3786\"],[0.5555555555555556,\"#d8576b\"],[0.6666666666666666,\"#ed7953\"],[0.7777777777777778,\"#fb9f3a\"],[0.8888888888888888,\"#fdca26\"],[1.0,\"#f0f921\"]],\"type\":\"histogram2dcontour\"}],\"mesh3d\":[{\"colorbar\":{\"outlinewidth\":0,\"ticks\":\"\"},\"type\":\"mesh3d\"}],\"parcoords\":[{\"line\":{\"colorbar\":{\"outlinewidth\":0,\"ticks\":\"\"}},\"type\":\"parcoords\"}],\"pie\":[{\"automargin\":true,\"type\":\"pie\"}],\"scatter\":[{\"marker\":{\"colorbar\":{\"outlinewidth\":0,\"ticks\":\"\"}},\"type\":\"scatter\"}],\"scatter3d\":[{\"line\":{\"colorbar\":{\"outlinewidth\":0,\"ticks\":\"\"}},\"marker\":{\"colorbar\":{\"outlinewidth\":0,\"ticks\":\"\"}},\"type\":\"scatter3d\"}],\"scattercarpet\":[{\"marker\":{\"colorbar\":{\"outlinewidth\":0,\"ticks\":\"\"}},\"type\":\"scattercarpet\"}],\"scattergeo\":[{\"marker\":{\"colorbar\":{\"outlinewidth\":0,\"ticks\":\"\"}},\"type\":\"scattergeo\"}],\"scattergl\":[{\"marker\":{\"colorbar\":{\"outlinewidth\":0,\"ticks\":\"\"}},\"type\":\"scattergl\"}],\"scattermapbox\":[{\"marker\":{\"colorbar\":{\"outlinewidth\":0,\"ticks\":\"\"}},\"type\":\"scattermapbox\"}],\"scatterpolar\":[{\"marker\":{\"colorbar\":{\"outlinewidth\":0,\"ticks\":\"\"}},\"type\":\"scatterpolar\"}],\"scatterpolargl\":[{\"marker\":{\"colorbar\":{\"outlinewidth\":0,\"ticks\":\"\"}},\"type\":\"scatterpolargl\"}],\"scatterternary\":[{\"marker\":{\"colorbar\":{\"outlinewidth\":0,\"ticks\":\"\"}},\"type\":\"scatterternary\"}],\"surface\":[{\"colorbar\":{\"outlinewidth\":0,\"ticks\":\"\"},\"colorscale\":[[0.0,\"#0d0887\"],[0.1111111111111111,\"#46039f\"],[0.2222222222222222,\"#7201a8\"],[0.3333333333333333,\"#9c179e\"],[0.4444444444444444,\"#bd3786\"],[0.5555555555555556,\"#d8576b\"],[0.6666666666666666,\"#ed7953\"],[0.7777777777777778,\"#fb9f3a\"],[0.8888888888888888,\"#fdca26\"],[1.0,\"#f0f921\"]],\"type\":\"surface\"}],\"table\":[{\"cells\":{\"fill\":{\"color\":\"#EBF0F8\"},\"line\":{\"color\":\"white\"}},\"header\":{\"fill\":{\"color\":\"#C8D4E3\"},\"line\":{\"color\":\"white\"}},\"type\":\"table\"}]},\"layout\":{\"annotationdefaults\":{\"arrowcolor\":\"#2a3f5f\",\"arrowhead\":0,\"arrowwidth\":1},\"autotypenumbers\":\"strict\",\"coloraxis\":{\"colorbar\":{\"outlinewidth\":0,\"ticks\":\"\"}},\"colorscale\":{\"diverging\":[[0,\"#8e0152\"],[0.1,\"#c51b7d\"],[0.2,\"#de77ae\"],[0.3,\"#f1b6da\"],[0.4,\"#fde0ef\"],[0.5,\"#f7f7f7\"],[0.6,\"#e6f5d0\"],[0.7,\"#b8e186\"],[0.8,\"#7fbc41\"],[0.9,\"#4d9221\"],[1,\"#276419\"]],\"sequential\":[[0.0,\"#0d0887\"],[0.1111111111111111,\"#46039f\"],[0.2222222222222222,\"#7201a8\"],[0.3333333333333333,\"#9c179e\"],[0.4444444444444444,\"#bd3786\"],[0.5555555555555556,\"#d8576b\"],[0.6666666666666666,\"#ed7953\"],[0.7777777777777778,\"#fb9f3a\"],[0.8888888888888888,\"#fdca26\"],[1.0,\"#f0f921\"]],\"sequentialminus\":[[0.0,\"#0d0887\"],[0.1111111111111111,\"#46039f\"],[0.2222222222222222,\"#7201a8\"],[0.3333333333333333,\"#9c179e\"],[0.4444444444444444,\"#bd3786\"],[0.5555555555555556,\"#d8576b\"],[0.6666666666666666,\"#ed7953\"],[0.7777777777777778,\"#fb9f3a\"],[0.8888888888888888,\"#fdca26\"],[1.0,\"#f0f921\"]]},\"colorway\":[\"#636efa\",\"#EF553B\",\"#00cc96\",\"#ab63fa\",\"#FFA15A\",\"#19d3f3\",\"#FF6692\",\"#B6E880\",\"#FF97FF\",\"#FECB52\"],\"font\":{\"color\":\"#2a3f5f\"},\"geo\":{\"bgcolor\":\"white\",\"lakecolor\":\"white\",\"landcolor\":\"#E5ECF6\",\"showlakes\":true,\"showland\":true,\"subunitcolor\":\"white\"},\"hoverlabel\":{\"align\":\"left\"},\"hovermode\":\"closest\",\"mapbox\":{\"style\":\"light\"},\"paper_bgcolor\":\"white\",\"plot_bgcolor\":\"#E5ECF6\",\"polar\":{\"angularaxis\":{\"gridcolor\":\"white\",\"linecolor\":\"white\",\"ticks\":\"\"},\"bgcolor\":\"#E5ECF6\",\"radialaxis\":{\"gridcolor\":\"white\",\"linecolor\":\"white\",\"ticks\":\"\"}},\"scene\":{\"xaxis\":{\"backgroundcolor\":\"#E5ECF6\",\"gridcolor\":\"white\",\"gridwidth\":2,\"linecolor\":\"white\",\"showbackground\":true,\"ticks\":\"\",\"zerolinecolor\":\"white\"},\"yaxis\":{\"backgroundcolor\":\"#E5ECF6\",\"gridcolor\":\"white\",\"gridwidth\":2,\"linecolor\":\"white\",\"showbackground\":true,\"ticks\":\"\",\"zerolinecolor\":\"white\"},\"zaxis\":{\"backgroundcolor\":\"#E5ECF6\",\"gridcolor\":\"white\",\"gridwidth\":2,\"linecolor\":\"white\",\"showbackground\":true,\"ticks\":\"\",\"zerolinecolor\":\"white\"}},\"shapedefaults\":{\"line\":{\"color\":\"#2a3f5f\"}},\"ternary\":{\"aaxis\":{\"gridcolor\":\"white\",\"linecolor\":\"white\",\"ticks\":\"\"},\"baxis\":{\"gridcolor\":\"white\",\"linecolor\":\"white\",\"ticks\":\"\"},\"bgcolor\":\"#E5ECF6\",\"caxis\":{\"gridcolor\":\"white\",\"linecolor\":\"white\",\"ticks\":\"\"}},\"title\":{\"x\":0.05},\"xaxis\":{\"automargin\":true,\"gridcolor\":\"white\",\"linecolor\":\"white\",\"ticks\":\"\",\"title\":{\"standoff\":15},\"zerolinecolor\":\"white\",\"zerolinewidth\":2},\"yaxis\":{\"automargin\":true,\"gridcolor\":\"white\",\"linecolor\":\"white\",\"ticks\":\"\",\"title\":{\"standoff\":15},\"zerolinecolor\":\"white\",\"zerolinewidth\":2}}},\"xaxis\":{\"anchor\":\"y\",\"domain\":[0.0,1.0],\"title\":{\"text\":\"date\"}},\"yaxis\":{\"anchor\":\"x\",\"domain\":[0.0,1.0],\"title\":{\"text\":\"POW\"},\"categoryorder\":\"array\",\"categoryarray\":[430,421,412,411,405,389,371,360,284,259,232,216,200,0]},\"legend\":{\"title\":{\"text\":\"POW\"},\"tracegroupgap\":0},\"margin\":{\"t\":60}},                        {\"responsive\": true}                    ).then(function(){\n",
       "                            \n",
       "var gd = document.getElementById('555dfe13-d834-4394-aa47-3e1696dcb1c9');\n",
       "var x = new MutationObserver(function (mutations, observer) {{\n",
       "        var display = window.getComputedStyle(gd).display;\n",
       "        if (!display || display === 'none') {{\n",
       "            console.log([gd, 'removed!']);\n",
       "            Plotly.purge(gd);\n",
       "            observer.disconnect();\n",
       "        }}\n",
       "}});\n",
       "\n",
       "// Listen for the removal of the full notebook cells\n",
       "var notebookContainer = gd.closest('#notebook-container');\n",
       "if (notebookContainer) {{\n",
       "    x.observe(notebookContainer, {childList: true});\n",
       "}}\n",
       "\n",
       "// Listen for the clearing of the current output cell\n",
       "var outputEl = gd.closest('.output');\n",
       "if (outputEl) {{\n",
       "    x.observe(outputEl, {childList: true});\n",
       "}}\n",
       "\n",
       "                        })                };                });            </script>        </div>"
      ]
     },
     "metadata": {},
     "output_type": "display_data"
    }
   ],
   "source": [
    "fig = px.line(df2, x='date', y='POW', color='POW', symbol=\"POW\")\n",
    "\n",
    "fig.show()"
   ]
  },
  {
   "cell_type": "code",
   "execution_count": 36,
   "id": "8fa03e2a",
   "metadata": {
    "execution": {
     "iopub.execute_input": "2022-03-30T11:32:53.616643Z",
     "iopub.status.busy": "2022-03-30T11:32:53.615939Z",
     "iopub.status.idle": "2022-03-30T11:32:53.627079Z",
     "shell.execute_reply": "2022-03-30T11:32:53.627490Z",
     "shell.execute_reply.started": "2022-03-30T11:31:19.132278Z"
    },
    "papermill": {
     "duration": 0.078079,
     "end_time": "2022-03-30T11:32:53.627669",
     "exception": false,
     "start_time": "2022-03-30T11:32:53.549590",
     "status": "completed"
    },
    "tags": []
   },
   "outputs": [
    {
     "data": {
      "text/html": [
       "<div>\n",
       "<style scoped>\n",
       "    .dataframe tbody tr th:only-of-type {\n",
       "        vertical-align: middle;\n",
       "    }\n",
       "\n",
       "    .dataframe tbody tr th {\n",
       "        vertical-align: top;\n",
       "    }\n",
       "\n",
       "    .dataframe thead th {\n",
       "        text-align: right;\n",
       "    }\n",
       "</style>\n",
       "<table border=\"1\" class=\"dataframe\">\n",
       "  <thead>\n",
       "    <tr style=\"text-align: right;\">\n",
       "      <th></th>\n",
       "      <th>date</th>\n",
       "      <th>day</th>\n",
       "      <th>personnel</th>\n",
       "      <th>personnel*</th>\n",
       "      <th>POW</th>\n",
       "    </tr>\n",
       "  </thead>\n",
       "  <tbody>\n",
       "    <tr>\n",
       "      <th>33</th>\n",
       "      <td>2022-03-30</td>\n",
       "      <td>35</td>\n",
       "      <td>17300</td>\n",
       "      <td>about</td>\n",
       "      <td>430</td>\n",
       "    </tr>\n",
       "    <tr>\n",
       "      <th>32</th>\n",
       "      <td>2022-03-29</td>\n",
       "      <td>34</td>\n",
       "      <td>17200</td>\n",
       "      <td>about</td>\n",
       "      <td>430</td>\n",
       "    </tr>\n",
       "    <tr>\n",
       "      <th>31</th>\n",
       "      <td>2022-03-28</td>\n",
       "      <td>33</td>\n",
       "      <td>17000</td>\n",
       "      <td>about</td>\n",
       "      <td>421</td>\n",
       "    </tr>\n",
       "    <tr>\n",
       "      <th>30</th>\n",
       "      <td>2022-03-27</td>\n",
       "      <td>32</td>\n",
       "      <td>16600</td>\n",
       "      <td>about</td>\n",
       "      <td>421</td>\n",
       "    </tr>\n",
       "    <tr>\n",
       "      <th>29</th>\n",
       "      <td>2022-03-26</td>\n",
       "      <td>31</td>\n",
       "      <td>16400</td>\n",
       "      <td>about</td>\n",
       "      <td>412</td>\n",
       "    </tr>\n",
       "    <tr>\n",
       "      <th>28</th>\n",
       "      <td>2022-03-25</td>\n",
       "      <td>30</td>\n",
       "      <td>16100</td>\n",
       "      <td>about</td>\n",
       "      <td>412</td>\n",
       "    </tr>\n",
       "    <tr>\n",
       "      <th>27</th>\n",
       "      <td>2022-03-24</td>\n",
       "      <td>29</td>\n",
       "      <td>15800</td>\n",
       "      <td>about</td>\n",
       "      <td>412</td>\n",
       "    </tr>\n",
       "    <tr>\n",
       "      <th>26</th>\n",
       "      <td>2022-03-23</td>\n",
       "      <td>28</td>\n",
       "      <td>15600</td>\n",
       "      <td>about</td>\n",
       "      <td>412</td>\n",
       "    </tr>\n",
       "    <tr>\n",
       "      <th>25</th>\n",
       "      <td>2022-03-22</td>\n",
       "      <td>27</td>\n",
       "      <td>15300</td>\n",
       "      <td>about</td>\n",
       "      <td>411</td>\n",
       "    </tr>\n",
       "    <tr>\n",
       "      <th>24</th>\n",
       "      <td>2022-03-21</td>\n",
       "      <td>26</td>\n",
       "      <td>15000</td>\n",
       "      <td>about</td>\n",
       "      <td>405</td>\n",
       "    </tr>\n",
       "  </tbody>\n",
       "</table>\n",
       "</div>"
      ],
      "text/plain": [
       "         date  day  personnel personnel*  POW\n",
       "33 2022-03-30   35      17300      about  430\n",
       "32 2022-03-29   34      17200      about  430\n",
       "31 2022-03-28   33      17000      about  421\n",
       "30 2022-03-27   32      16600      about  421\n",
       "29 2022-03-26   31      16400      about  412\n",
       "28 2022-03-25   30      16100      about  412\n",
       "27 2022-03-24   29      15800      about  412\n",
       "26 2022-03-23   28      15600      about  412\n",
       "25 2022-03-22   27      15300      about  411\n",
       "24 2022-03-21   26      15000      about  405"
      ]
     },
     "execution_count": 36,
     "metadata": {},
     "output_type": "execute_result"
    }
   ],
   "source": [
    "df2.sort_values(by='personnel',ascending=False).head(10)"
   ]
  },
  {
   "cell_type": "code",
   "execution_count": 37,
   "id": "da6df9ba",
   "metadata": {
    "execution": {
     "iopub.execute_input": "2022-03-30T11:32:53.763729Z",
     "iopub.status.busy": "2022-03-30T11:32:53.763116Z",
     "iopub.status.idle": "2022-03-30T11:32:53.765469Z",
     "shell.execute_reply": "2022-03-30T11:32:53.765890Z",
     "shell.execute_reply.started": "2022-03-30T11:31:19.149571Z"
    },
    "papermill": {
     "duration": 0.075184,
     "end_time": "2022-03-30T11:32:53.766045",
     "exception": false,
     "start_time": "2022-03-30T11:32:53.690861",
     "status": "completed"
    },
    "tags": []
   },
   "outputs": [
    {
     "data": {
      "text/html": [
       "<div>\n",
       "<style scoped>\n",
       "    .dataframe tbody tr th:only-of-type {\n",
       "        vertical-align: middle;\n",
       "    }\n",
       "\n",
       "    .dataframe tbody tr th {\n",
       "        vertical-align: top;\n",
       "    }\n",
       "\n",
       "    .dataframe thead th {\n",
       "        text-align: right;\n",
       "    }\n",
       "</style>\n",
       "<table border=\"1\" class=\"dataframe\">\n",
       "  <thead>\n",
       "    <tr style=\"text-align: right;\">\n",
       "      <th></th>\n",
       "      <th>date</th>\n",
       "      <th>day</th>\n",
       "      <th>personnel</th>\n",
       "      <th>personnel*</th>\n",
       "      <th>POW</th>\n",
       "    </tr>\n",
       "  </thead>\n",
       "  <tbody>\n",
       "    <tr>\n",
       "      <th>0</th>\n",
       "      <td>2022-02-25</td>\n",
       "      <td>2</td>\n",
       "      <td>2800</td>\n",
       "      <td>about</td>\n",
       "      <td>0</td>\n",
       "    </tr>\n",
       "    <tr>\n",
       "      <th>1</th>\n",
       "      <td>2022-02-26</td>\n",
       "      <td>3</td>\n",
       "      <td>4300</td>\n",
       "      <td>about</td>\n",
       "      <td>0</td>\n",
       "    </tr>\n",
       "    <tr>\n",
       "      <th>2</th>\n",
       "      <td>2022-02-27</td>\n",
       "      <td>4</td>\n",
       "      <td>4500</td>\n",
       "      <td>about</td>\n",
       "      <td>0</td>\n",
       "    </tr>\n",
       "    <tr>\n",
       "      <th>3</th>\n",
       "      <td>2022-02-28</td>\n",
       "      <td>5</td>\n",
       "      <td>5300</td>\n",
       "      <td>about</td>\n",
       "      <td>0</td>\n",
       "    </tr>\n",
       "    <tr>\n",
       "      <th>4</th>\n",
       "      <td>2022-03-01</td>\n",
       "      <td>6</td>\n",
       "      <td>5710</td>\n",
       "      <td>about</td>\n",
       "      <td>200</td>\n",
       "    </tr>\n",
       "    <tr>\n",
       "      <th>5</th>\n",
       "      <td>2022-03-02</td>\n",
       "      <td>7</td>\n",
       "      <td>5840</td>\n",
       "      <td>about</td>\n",
       "      <td>200</td>\n",
       "    </tr>\n",
       "    <tr>\n",
       "      <th>6</th>\n",
       "      <td>2022-03-03</td>\n",
       "      <td>8</td>\n",
       "      <td>9000</td>\n",
       "      <td>about</td>\n",
       "      <td>200</td>\n",
       "    </tr>\n",
       "    <tr>\n",
       "      <th>7</th>\n",
       "      <td>2022-03-04</td>\n",
       "      <td>9</td>\n",
       "      <td>9166</td>\n",
       "      <td>about</td>\n",
       "      <td>200</td>\n",
       "    </tr>\n",
       "    <tr>\n",
       "      <th>8</th>\n",
       "      <td>2022-03-05</td>\n",
       "      <td>10</td>\n",
       "      <td>10000</td>\n",
       "      <td>about</td>\n",
       "      <td>216</td>\n",
       "    </tr>\n",
       "    <tr>\n",
       "      <th>9</th>\n",
       "      <td>2022-03-06</td>\n",
       "      <td>11</td>\n",
       "      <td>11000</td>\n",
       "      <td>about</td>\n",
       "      <td>232</td>\n",
       "    </tr>\n",
       "  </tbody>\n",
       "</table>\n",
       "</div>"
      ],
      "text/plain": [
       "        date  day  personnel personnel*  POW\n",
       "0 2022-02-25    2       2800      about    0\n",
       "1 2022-02-26    3       4300      about    0\n",
       "2 2022-02-27    4       4500      about    0\n",
       "3 2022-02-28    5       5300      about    0\n",
       "4 2022-03-01    6       5710      about  200\n",
       "5 2022-03-02    7       5840      about  200\n",
       "6 2022-03-03    8       9000      about  200\n",
       "7 2022-03-04    9       9166      about  200\n",
       "8 2022-03-05   10      10000      about  216\n",
       "9 2022-03-06   11      11000      about  232"
      ]
     },
     "execution_count": 37,
     "metadata": {},
     "output_type": "execute_result"
    }
   ],
   "source": [
    "df2.sort_values(by='personnel').head(10)"
   ]
  },
  {
   "cell_type": "code",
   "execution_count": 38,
   "id": "78f2ba33",
   "metadata": {
    "execution": {
     "iopub.execute_input": "2022-03-30T11:32:53.905891Z",
     "iopub.status.busy": "2022-03-30T11:32:53.903873Z",
     "iopub.status.idle": "2022-03-30T11:32:54.493132Z",
     "shell.execute_reply": "2022-03-30T11:32:54.493639Z",
     "shell.execute_reply.started": "2022-03-30T11:31:19.171665Z"
    },
    "papermill": {
     "duration": 0.661758,
     "end_time": "2022-03-30T11:32:54.493855",
     "exception": false,
     "start_time": "2022-03-30T11:32:53.832097",
     "status": "completed"
    },
    "tags": []
   },
   "outputs": [
    {
     "data": {
      "image/png": "[encoded data removed]",
      "text/plain": [
       "<Figure size 1080x936 with 2 Axes>"
      ]
     },
     "metadata": {
      "needs_background": "light"
     },
     "output_type": "display_data"
    }
   ],
   "source": [
    "plt.figure(figsize=(15,13))\n",
    "plt.subplot(211)\n",
    "myBarPlot(df2.sort_values(by='personnel',ascending=False).head(10)['day'],df2.sort_values(by='personnel',ascending=False).head(10)['personnel'],val_per='value',x_pos=0.2,y_pos=100,title='Maximum Loss day wise')\n",
    "\n",
    "\n",
    "plt.subplot(212)\n",
    "myBarPlot(df2.sort_values(by='personnel').head(10)['day'],df2.sort_values(by='personnel').head(10)['personnel'],val_per='value',x_pos=0.2,y_pos=100,title='Minimum Loss day wise')\n"
   ]
  },
  {
   "cell_type": "code",
   "execution_count": 39,
   "id": "c52cc7db",
   "metadata": {
    "execution": {
     "iopub.execute_input": "2022-03-30T11:32:54.653947Z",
     "iopub.status.busy": "2022-03-30T11:32:54.653341Z",
     "iopub.status.idle": "2022-03-30T11:32:54.666889Z",
     "shell.execute_reply": "2022-03-30T11:32:54.666146Z",
     "shell.execute_reply.started": "2022-03-30T11:31:19.793677Z"
    },
    "papermill": {
     "duration": 0.102411,
     "end_time": "2022-03-30T11:32:54.667066",
     "exception": false,
     "start_time": "2022-03-30T11:32:54.564655",
     "status": "completed"
    },
    "tags": []
   },
   "outputs": [
    {
     "data": {
      "text/html": [
       "<div>\n",
       "<style scoped>\n",
       "    .dataframe tbody tr th:only-of-type {\n",
       "        vertical-align: middle;\n",
       "    }\n",
       "\n",
       "    .dataframe tbody tr th {\n",
       "        vertical-align: top;\n",
       "    }\n",
       "\n",
       "    .dataframe thead th {\n",
       "        text-align: right;\n",
       "    }\n",
       "</style>\n",
       "<table border=\"1\" class=\"dataframe\">\n",
       "  <thead>\n",
       "    <tr style=\"text-align: right;\">\n",
       "      <th></th>\n",
       "      <th>date</th>\n",
       "      <th>day</th>\n",
       "      <th>personnel</th>\n",
       "      <th>personnel*</th>\n",
       "      <th>POW</th>\n",
       "    </tr>\n",
       "  </thead>\n",
       "  <tbody>\n",
       "    <tr>\n",
       "      <th>33</th>\n",
       "      <td>2022-03-30</td>\n",
       "      <td>35</td>\n",
       "      <td>17300</td>\n",
       "      <td>about</td>\n",
       "      <td>430</td>\n",
       "    </tr>\n",
       "    <tr>\n",
       "      <th>32</th>\n",
       "      <td>2022-03-29</td>\n",
       "      <td>34</td>\n",
       "      <td>17200</td>\n",
       "      <td>about</td>\n",
       "      <td>430</td>\n",
       "    </tr>\n",
       "    <tr>\n",
       "      <th>31</th>\n",
       "      <td>2022-03-28</td>\n",
       "      <td>33</td>\n",
       "      <td>17000</td>\n",
       "      <td>about</td>\n",
       "      <td>421</td>\n",
       "    </tr>\n",
       "    <tr>\n",
       "      <th>30</th>\n",
       "      <td>2022-03-27</td>\n",
       "      <td>32</td>\n",
       "      <td>16600</td>\n",
       "      <td>about</td>\n",
       "      <td>421</td>\n",
       "    </tr>\n",
       "    <tr>\n",
       "      <th>29</th>\n",
       "      <td>2022-03-26</td>\n",
       "      <td>31</td>\n",
       "      <td>16400</td>\n",
       "      <td>about</td>\n",
       "      <td>412</td>\n",
       "    </tr>\n",
       "    <tr>\n",
       "      <th>28</th>\n",
       "      <td>2022-03-25</td>\n",
       "      <td>30</td>\n",
       "      <td>16100</td>\n",
       "      <td>about</td>\n",
       "      <td>412</td>\n",
       "    </tr>\n",
       "    <tr>\n",
       "      <th>27</th>\n",
       "      <td>2022-03-24</td>\n",
       "      <td>29</td>\n",
       "      <td>15800</td>\n",
       "      <td>about</td>\n",
       "      <td>412</td>\n",
       "    </tr>\n",
       "    <tr>\n",
       "      <th>26</th>\n",
       "      <td>2022-03-23</td>\n",
       "      <td>28</td>\n",
       "      <td>15600</td>\n",
       "      <td>about</td>\n",
       "      <td>412</td>\n",
       "    </tr>\n",
       "    <tr>\n",
       "      <th>25</th>\n",
       "      <td>2022-03-22</td>\n",
       "      <td>27</td>\n",
       "      <td>15300</td>\n",
       "      <td>about</td>\n",
       "      <td>411</td>\n",
       "    </tr>\n",
       "    <tr>\n",
       "      <th>24</th>\n",
       "      <td>2022-03-21</td>\n",
       "      <td>26</td>\n",
       "      <td>15000</td>\n",
       "      <td>about</td>\n",
       "      <td>405</td>\n",
       "    </tr>\n",
       "  </tbody>\n",
       "</table>\n",
       "</div>"
      ],
      "text/plain": [
       "         date  day  personnel personnel*  POW\n",
       "33 2022-03-30   35      17300      about  430\n",
       "32 2022-03-29   34      17200      about  430\n",
       "31 2022-03-28   33      17000      about  421\n",
       "30 2022-03-27   32      16600      about  421\n",
       "29 2022-03-26   31      16400      about  412\n",
       "28 2022-03-25   30      16100      about  412\n",
       "27 2022-03-24   29      15800      about  412\n",
       "26 2022-03-23   28      15600      about  412\n",
       "25 2022-03-22   27      15300      about  411\n",
       "24 2022-03-21   26      15000      about  405"
      ]
     },
     "execution_count": 39,
     "metadata": {},
     "output_type": "execute_result"
    }
   ],
   "source": [
    "df2.sort_values(by='personnel',ascending=False).head(10)"
   ]
  },
  {
   "cell_type": "markdown",
   "id": "94dd33c5",
   "metadata": {
    "papermill": {
     "duration": 0.108383,
     "end_time": "2022-03-30T11:32:54.877532",
     "exception": false,
     "start_time": "2022-03-30T11:32:54.769149",
     "status": "completed"
    },
    "tags": []
   },
   "source": [
    "# Conclusion: \n",
    "- we can clearly see there is linear short of relation between day and euipments as well as day personal losses.\n",
    "- After 35 day there there is only high peak on losses wheather is personal or finencail."
   ]
  },
  {
   "cell_type": "code",
   "execution_count": null,
   "id": "371d1fc4",
   "metadata": {
    "papermill": {
     "duration": 0.092589,
     "end_time": "2022-03-30T11:32:55.068127",
     "exception": false,
     "start_time": "2022-03-30T11:32:54.975538",
     "status": "completed"
    },
    "tags": []
   },
   "outputs": [],
   "source": []
  },
  {
   "cell_type": "code",
   "execution_count": null,
   "id": "5533a8d2",
   "metadata": {
    "papermill": {
     "duration": 0.097163,
     "end_time": "2022-03-30T11:32:55.265061",
     "exception": false,
     "start_time": "2022-03-30T11:32:55.167898",
     "status": "completed"
    },
    "tags": []
   },
   "outputs": [],
   "source": []
  },
  {
   "cell_type": "markdown",
   "id": "d8c43733",
   "metadata": {
    "papermill": {
     "duration": 0.101514,
     "end_time": "2022-03-30T11:32:55.466143",
     "exception": false,
     "start_time": "2022-03-30T11:32:55.364629",
     "status": "completed"
    },
    "tags": []
   },
   "source": []
  }
 ],
 "metadata": {
  "kernelspec": {
   "display_name": "Python 3",
   "language": "python",
   "name": "python3"
  },
  "language_info": {
   "codemirror_mode": {
    "name": "ipython",
    "version": 3
   },
   "file_extension": ".py",
   "mimetype": "text/x-python",
   "name": "python",
   "nbconvert_exporter": "python",
   "pygments_lexer": "ipython3",
   "version": "3.7.12"
  },
  "papermill": {
   "default_parameters": {},
   "duration": 25.0496,
   "end_time": "2022-03-30T11:32:56.788029",
   "environment_variables": {},
   "exception": null,
   "input_path": "__notebook__.ipynb",
   "output_path": "__notebook__.ipynb",
   "parameters": {},
   "start_time": "2022-03-30T11:32:31.738429",
   "version": "2.3.3"
  }
 },
 "nbformat": 4,
 "nbformat_minor": 5
}
